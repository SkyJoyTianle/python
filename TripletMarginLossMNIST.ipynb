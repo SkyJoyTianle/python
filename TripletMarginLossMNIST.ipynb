{
  "nbformat": 4,
  "nbformat_minor": 0,
  "metadata": {
    "colab": {
      "name": "TripletMarginLossMNIST.ipynb",
      "provenance": [],
      "collapsed_sections": [],
      "include_colab_link": true
    },
    "kernelspec": {
      "name": "python3",
      "display_name": "Python 3"
    },
    "accelerator": "GPU"
  },
  "cells": [
    {
      "cell_type": "markdown",
      "metadata": {
        "id": "view-in-github",
        "colab_type": "text"
      },
      "source": [
        "<a href=\"https://colab.research.google.com/github/SkyJoyTianle/xiaoxixi/blob/master/TripletMarginLossMNIST.ipynb\" target=\"_parent\"><img src=\"https://colab.research.google.com/assets/colab-badge.svg\" alt=\"Open In Colab\"/></a>"
      ]
    },
    {
      "cell_type": "code",
      "metadata": {
        "id": "lMde13VLDjiH",
        "colab": {
          "base_uri": "https://localhost:8080/"
        },
        "outputId": "87b1529d-d90f-403b-dab0-30e6fdb67e29"
      },
      "source": [
        "!pip install pytorch-metric-learning\n",
        "!pip install faiss-gpu\n",
        "!pip install pydot\n",
        "!pip install tensorwatch"
      ],
      "execution_count": 39,
      "outputs": [
        {
          "output_type": "stream",
          "text": [
            "Requirement already satisfied: pytorch-metric-learning in /usr/local/lib/python3.6/dist-packages (0.9.94)\n",
            "Requirement already satisfied: torchvision in /usr/local/lib/python3.6/dist-packages (from pytorch-metric-learning) (0.8.1+cu101)\n",
            "Requirement already satisfied: tqdm in /usr/local/lib/python3.6/dist-packages (from pytorch-metric-learning) (4.41.1)\n",
            "Requirement already satisfied: numpy in /usr/local/lib/python3.6/dist-packages (from pytorch-metric-learning) (1.18.5)\n",
            "Requirement already satisfied: torch>=1.6.0 in /usr/local/lib/python3.6/dist-packages (from pytorch-metric-learning) (1.7.0+cu101)\n",
            "Requirement already satisfied: scikit-learn in /usr/local/lib/python3.6/dist-packages (from pytorch-metric-learning) (0.22.2.post1)\n",
            "Requirement already satisfied: pillow>=4.1.1 in /usr/local/lib/python3.6/dist-packages (from torchvision->pytorch-metric-learning) (7.0.0)\n",
            "Requirement already satisfied: dataclasses in /usr/local/lib/python3.6/dist-packages (from torch>=1.6.0->pytorch-metric-learning) (0.8)\n",
            "Requirement already satisfied: typing-extensions in /usr/local/lib/python3.6/dist-packages (from torch>=1.6.0->pytorch-metric-learning) (3.7.4.3)\n",
            "Requirement already satisfied: future in /usr/local/lib/python3.6/dist-packages (from torch>=1.6.0->pytorch-metric-learning) (0.16.0)\n",
            "Requirement already satisfied: scipy>=0.17.0 in /usr/local/lib/python3.6/dist-packages (from scikit-learn->pytorch-metric-learning) (1.4.1)\n",
            "Requirement already satisfied: joblib>=0.11 in /usr/local/lib/python3.6/dist-packages (from scikit-learn->pytorch-metric-learning) (0.17.0)\n",
            "Requirement already satisfied: faiss-gpu in /usr/local/lib/python3.6/dist-packages (1.6.5)\n",
            "Requirement already satisfied: pydot in /usr/local/lib/python3.6/dist-packages (1.3.0)\n",
            "Requirement already satisfied: pyparsing>=2.1.4 in /usr/local/lib/python3.6/dist-packages (from pydot) (2.4.7)\n",
            "Requirement already satisfied: tensorwatch in /usr/local/lib/python3.6/dist-packages (0.9.1)\n",
            "Requirement already satisfied: pyzmq in /usr/local/lib/python3.6/dist-packages (from tensorwatch) (20.0.0)\n",
            "Requirement already satisfied: matplotlib in /usr/local/lib/python3.6/dist-packages (from tensorwatch) (3.2.2)\n",
            "Requirement already satisfied: numpy in /usr/local/lib/python3.6/dist-packages (from tensorwatch) (1.18.5)\n",
            "Requirement already satisfied: graphviz in /usr/local/lib/python3.6/dist-packages (from tensorwatch) (0.10.1)\n",
            "Requirement already satisfied: plotly in /usr/local/lib/python3.6/dist-packages (from tensorwatch) (4.4.1)\n",
            "Requirement already satisfied: pydotz in /usr/local/lib/python3.6/dist-packages (from tensorwatch) (1.5.1)\n",
            "Requirement already satisfied: scikit-image in /usr/local/lib/python3.6/dist-packages (from tensorwatch) (0.16.2)\n",
            "Requirement already satisfied: nbformat in /usr/local/lib/python3.6/dist-packages (from tensorwatch) (5.0.8)\n",
            "Requirement already satisfied: pyyaml in /usr/local/lib/python3.6/dist-packages (from tensorwatch) (3.13)\n",
            "Requirement already satisfied: ipywidgets in /usr/local/lib/python3.6/dist-packages (from tensorwatch) (7.5.1)\n",
            "Requirement already satisfied: python-dateutil>=2.1 in /usr/local/lib/python3.6/dist-packages (from matplotlib->tensorwatch) (2.8.1)\n",
            "Requirement already satisfied: kiwisolver>=1.0.1 in /usr/local/lib/python3.6/dist-packages (from matplotlib->tensorwatch) (1.3.1)\n",
            "Requirement already satisfied: cycler>=0.10 in /usr/local/lib/python3.6/dist-packages (from matplotlib->tensorwatch) (0.10.0)\n",
            "Requirement already satisfied: pyparsing!=2.0.4,!=2.1.2,!=2.1.6,>=2.0.1 in /usr/local/lib/python3.6/dist-packages (from matplotlib->tensorwatch) (2.4.7)\n",
            "Requirement already satisfied: six in /usr/local/lib/python3.6/dist-packages (from plotly->tensorwatch) (1.15.0)\n",
            "Requirement already satisfied: retrying>=1.3.3 in /usr/local/lib/python3.6/dist-packages (from plotly->tensorwatch) (1.3.3)\n",
            "Requirement already satisfied: scipy>=0.19.0 in /usr/local/lib/python3.6/dist-packages (from scikit-image->tensorwatch) (1.4.1)\n",
            "Requirement already satisfied: pillow>=4.3.0 in /usr/local/lib/python3.6/dist-packages (from scikit-image->tensorwatch) (7.0.0)\n",
            "Requirement already satisfied: PyWavelets>=0.4.0 in /usr/local/lib/python3.6/dist-packages (from scikit-image->tensorwatch) (1.1.1)\n",
            "Requirement already satisfied: networkx>=2.0 in /usr/local/lib/python3.6/dist-packages (from scikit-image->tensorwatch) (2.5)\n",
            "Requirement already satisfied: imageio>=2.3.0 in /usr/local/lib/python3.6/dist-packages (from scikit-image->tensorwatch) (2.4.1)\n",
            "Requirement already satisfied: jupyter-core in /usr/local/lib/python3.6/dist-packages (from nbformat->tensorwatch) (4.7.0)\n",
            "Requirement already satisfied: traitlets>=4.1 in /usr/local/lib/python3.6/dist-packages (from nbformat->tensorwatch) (4.3.3)\n",
            "Requirement already satisfied: jsonschema!=2.5.0,>=2.4 in /usr/local/lib/python3.6/dist-packages (from nbformat->tensorwatch) (2.6.0)\n",
            "Requirement already satisfied: ipython-genutils in /usr/local/lib/python3.6/dist-packages (from nbformat->tensorwatch) (0.2.0)\n",
            "Requirement already satisfied: widgetsnbextension~=3.5.0 in /usr/local/lib/python3.6/dist-packages (from ipywidgets->tensorwatch) (3.5.1)\n",
            "Requirement already satisfied: ipython>=4.0.0; python_version >= \"3.3\" in /usr/local/lib/python3.6/dist-packages (from ipywidgets->tensorwatch) (5.5.0)\n",
            "Requirement already satisfied: ipykernel>=4.5.1 in /usr/local/lib/python3.6/dist-packages (from ipywidgets->tensorwatch) (4.10.1)\n",
            "Requirement already satisfied: decorator>=4.3.0 in /usr/local/lib/python3.6/dist-packages (from networkx>=2.0->scikit-image->tensorwatch) (4.4.2)\n",
            "Requirement already satisfied: notebook>=4.4.1 in /usr/local/lib/python3.6/dist-packages (from widgetsnbextension~=3.5.0->ipywidgets->tensorwatch) (5.3.1)\n",
            "Requirement already satisfied: prompt-toolkit<2.0.0,>=1.0.4 in /usr/local/lib/python3.6/dist-packages (from ipython>=4.0.0; python_version >= \"3.3\"->ipywidgets->tensorwatch) (1.0.18)\n",
            "Requirement already satisfied: pygments in /usr/local/lib/python3.6/dist-packages (from ipython>=4.0.0; python_version >= \"3.3\"->ipywidgets->tensorwatch) (2.6.1)\n",
            "Requirement already satisfied: setuptools>=18.5 in /usr/local/lib/python3.6/dist-packages (from ipython>=4.0.0; python_version >= \"3.3\"->ipywidgets->tensorwatch) (50.3.2)\n",
            "Requirement already satisfied: pickleshare in /usr/local/lib/python3.6/dist-packages (from ipython>=4.0.0; python_version >= \"3.3\"->ipywidgets->tensorwatch) (0.7.5)\n",
            "Requirement already satisfied: simplegeneric>0.8 in /usr/local/lib/python3.6/dist-packages (from ipython>=4.0.0; python_version >= \"3.3\"->ipywidgets->tensorwatch) (0.8.1)\n",
            "Requirement already satisfied: pexpect; sys_platform != \"win32\" in /usr/local/lib/python3.6/dist-packages (from ipython>=4.0.0; python_version >= \"3.3\"->ipywidgets->tensorwatch) (4.8.0)\n",
            "Requirement already satisfied: tornado>=4.0 in /usr/local/lib/python3.6/dist-packages (from ipykernel>=4.5.1->ipywidgets->tensorwatch) (5.1.1)\n",
            "Requirement already satisfied: jupyter-client in /usr/local/lib/python3.6/dist-packages (from ipykernel>=4.5.1->ipywidgets->tensorwatch) (5.3.5)\n",
            "Requirement already satisfied: jinja2 in /usr/local/lib/python3.6/dist-packages (from notebook>=4.4.1->widgetsnbextension~=3.5.0->ipywidgets->tensorwatch) (2.11.2)\n",
            "Requirement already satisfied: nbconvert in /usr/local/lib/python3.6/dist-packages (from notebook>=4.4.1->widgetsnbextension~=3.5.0->ipywidgets->tensorwatch) (5.6.1)\n",
            "Requirement already satisfied: Send2Trash in /usr/local/lib/python3.6/dist-packages (from notebook>=4.4.1->widgetsnbextension~=3.5.0->ipywidgets->tensorwatch) (1.5.0)\n",
            "Requirement already satisfied: terminado>=0.8.1 in /usr/local/lib/python3.6/dist-packages (from notebook>=4.4.1->widgetsnbextension~=3.5.0->ipywidgets->tensorwatch) (0.9.1)\n",
            "Requirement already satisfied: wcwidth in /usr/local/lib/python3.6/dist-packages (from prompt-toolkit<2.0.0,>=1.0.4->ipython>=4.0.0; python_version >= \"3.3\"->ipywidgets->tensorwatch) (0.2.5)\n",
            "Requirement already satisfied: ptyprocess>=0.5 in /usr/local/lib/python3.6/dist-packages (from pexpect; sys_platform != \"win32\"->ipython>=4.0.0; python_version >= \"3.3\"->ipywidgets->tensorwatch) (0.6.0)\n",
            "Requirement already satisfied: MarkupSafe>=0.23 in /usr/local/lib/python3.6/dist-packages (from jinja2->notebook>=4.4.1->widgetsnbextension~=3.5.0->ipywidgets->tensorwatch) (1.1.1)\n",
            "Requirement already satisfied: testpath in /usr/local/lib/python3.6/dist-packages (from nbconvert->notebook>=4.4.1->widgetsnbextension~=3.5.0->ipywidgets->tensorwatch) (0.4.4)\n",
            "Requirement already satisfied: entrypoints>=0.2.2 in /usr/local/lib/python3.6/dist-packages (from nbconvert->notebook>=4.4.1->widgetsnbextension~=3.5.0->ipywidgets->tensorwatch) (0.3)\n",
            "Requirement already satisfied: bleach in /usr/local/lib/python3.6/dist-packages (from nbconvert->notebook>=4.4.1->widgetsnbextension~=3.5.0->ipywidgets->tensorwatch) (3.2.1)\n",
            "Requirement already satisfied: pandocfilters>=1.4.1 in /usr/local/lib/python3.6/dist-packages (from nbconvert->notebook>=4.4.1->widgetsnbextension~=3.5.0->ipywidgets->tensorwatch) (1.4.3)\n",
            "Requirement already satisfied: mistune<2,>=0.8.1 in /usr/local/lib/python3.6/dist-packages (from nbconvert->notebook>=4.4.1->widgetsnbextension~=3.5.0->ipywidgets->tensorwatch) (0.8.4)\n",
            "Requirement already satisfied: defusedxml in /usr/local/lib/python3.6/dist-packages (from nbconvert->notebook>=4.4.1->widgetsnbextension~=3.5.0->ipywidgets->tensorwatch) (0.6.0)\n",
            "Requirement already satisfied: packaging in /usr/local/lib/python3.6/dist-packages (from bleach->nbconvert->notebook>=4.4.1->widgetsnbextension~=3.5.0->ipywidgets->tensorwatch) (20.4)\n",
            "Requirement already satisfied: webencodings in /usr/local/lib/python3.6/dist-packages (from bleach->nbconvert->notebook>=4.4.1->widgetsnbextension~=3.5.0->ipywidgets->tensorwatch) (0.5.1)\n"
          ],
          "name": "stdout"
        }
      ]
    },
    {
      "cell_type": "code",
      "metadata": {
        "colab": {
          "base_uri": "https://localhost:8080/"
        },
        "id": "Xd5ylJfM7X0C",
        "outputId": "352e9bf2-7576-45e7-b92c-61216eba95e8"
      },
      "source": [
        "import os\n",
        "from google.colab import drive\n",
        "drive.mount('/content/drive')\n",
        "\n",
        "path = \"/content/drive/My Drive\"\n",
        "\n",
        "os.chdir(path)\n",
        "os.listdir(path)"
      ],
      "execution_count": 40,
      "outputs": [
        {
          "output_type": "stream",
          "text": [
            "Drive already mounted at /content/drive; to attempt to forcibly remount, call drive.mount(\"/content/drive\", force_remount=True).\n"
          ],
          "name": "stdout"
        },
        {
          "output_type": "execute_result",
          "data": {
            "text/plain": [
              "['Anyfile Notepad Files',\n",
              " 'Colab Notebooks',\n",
              " 'cs231n',\n",
              " 'GoodNotes',\n",
              " 'OneDrive_1_2020-11-17',\n",
              " 'MNIST',\n",
              " '1121',\n",
              " 'TripletMarginLossMNIST.ipynb']"
            ]
          },
          "metadata": {
            "tags": []
          },
          "execution_count": 40
        }
      ]
    },
    {
      "cell_type": "code",
      "metadata": {
        "id": "GJ_L0TrTDnEA",
        "colab": {
          "base_uri": "https://localhost:8080/"
        },
        "outputId": "f988905a-5ec1-4265-f87a-c536fa7fc48e"
      },
      "source": [
        "from pytorch_metric_learning import losses, miners, distances, reducers, testers\n",
        "from pytorch_metric_learning.utils.accuracy_calculator import AccuracyCalculator\n",
        "### MNIST code originally from https://github.com/pytorch/examples/blob/master/mnist/main.py ### \n",
        "from torchvision import datasets\n",
        "import torch\n",
        "import torch.nn as nn\n",
        "import torch.nn.functional as F\n",
        "import torch.optim as optim\n",
        "from torchvision import datasets, transforms\n",
        "import numpy as np\n",
        "### MNIST code originally from https://github.com/pytorch/examples/blob/master/mnist/main.py ### \n",
        "class Net(nn.Module):\n",
        "    def __init__(self):\n",
        "        super(Net, self).__init__()\n",
        "        self.conv1 = nn.Conv2d(1, 32, 3, 1)\n",
        "        self.conv2 = nn.Conv2d(32, 64, 3, 1)\n",
        "        self.dropout1 = nn.Dropout2d(0.25)\n",
        "        self.dropout2 = nn.Dropout2d(0.5)\n",
        "        self.fc1 = nn.Linear(9216, 128)\n",
        "\n",
        "    def forward(self, x):\n",
        "        x = self.conv1(x)\n",
        "        x = F.relu(x)\n",
        "        x = self.conv2(x)\n",
        "        x = F.relu(x)\n",
        "        x = F.max_pool2d(x, 2)\n",
        "        x = self.dropout1(x)\n",
        "        x = torch.flatten(x, 1)\n",
        "        x = self.fc1(x)\n",
        "        return x\n",
        "\n",
        "### MNIST code originally from https://github.com/pytorch/examples/blob/master/mnist/main.py ### \n",
        "def train(model, loss_func, mining_func, device, train_loader, optimizer, epoch):\n",
        "    model.train()\n",
        "    for batch_idx, (data, labels) in enumerate(train_loader):\n",
        "        data, labels = data.to(device), labels.to(device)\n",
        "        optimizer.zero_grad()\n",
        "        embeddings = model(data)\n",
        "        indices_tuple = mining_func(embeddings, labels)\n",
        "        loss = loss_func(embeddings, labels, indices_tuple)\n",
        "        loss.backward()\n",
        "        optimizer.step()\n",
        "        if batch_idx % 20 == 0:\n",
        "            print(\"Epoch {} Iteration {}: Loss = {}, Number of mined triplets = {}\".format(epoch, batch_idx, loss, mining_func.num_triplets))\n",
        "\n",
        "### convenient function from pytorch-metric-learning ###\n",
        "def get_all_embeddings(dataset, model):\n",
        "    tester = testers.BaseTester()\n",
        "    return tester.get_all_embeddings(dataset, model)\n",
        "\n",
        "### compute accuracy using AccuracyCalculator from pytorch-metric-learning ###\n",
        "def test(dataset, model, accuracy_calculator):\n",
        "    embeddings, labels = get_all_embeddings(dataset, model)\n",
        "    print(\"Computing accuracy\")\n",
        "    accuracies = accuracy_calculator.get_accuracy(embeddings, \n",
        "                                                embeddings,\n",
        "                                                np.squeeze(labels),\n",
        "                                                np.squeeze(labels),\n",
        "                                                True)\n",
        "    print(\"Test set accuracy (MAP@10) = {}\".format(accuracies[\"mean_average_precision_at_r\"]))\n",
        "net = Net()\n",
        "print(net)"
      ],
      "execution_count": 41,
      "outputs": [
        {
          "output_type": "stream",
          "text": [
            "Net(\n",
            "  (conv1): Conv2d(1, 32, kernel_size=(3, 3), stride=(1, 1))\n",
            "  (conv2): Conv2d(32, 64, kernel_size=(3, 3), stride=(1, 1))\n",
            "  (dropout1): Dropout2d(p=0.25, inplace=False)\n",
            "  (dropout2): Dropout2d(p=0.5, inplace=False)\n",
            "  (fc1): Linear(in_features=9216, out_features=128, bias=True)\n",
            "  (fc2): Linear(in_features=128, out_features=2, bias=True)\n",
            ")\n"
          ],
          "name": "stdout"
        }
      ]
    },
    {
      "cell_type": "code",
      "metadata": {
        "colab": {
          "base_uri": "https://localhost:8080/"
        },
        "id": "_nDAuToRhraq",
        "outputId": "09ec8365-57c3-4f92-f1b0-31796c178ab5"
      },
      "source": [
        "device = torch.device(\"cuda\")\n",
        "\n",
        "transform = transforms.Compose([\n",
        "        transforms.ToTensor(),\n",
        "        transforms.Normalize((0.1307,), (0.3081,))\n",
        "    ])\n",
        "\n",
        "batch_size = 256\n",
        "\n",
        "dataset1 = datasets.MNIST('.', train=True, download=True, transform=transform)\n",
        "dataset2 = datasets.MNIST('.', train=False, transform=transform)\n",
        "train_loader = torch.utils.data.DataLoader(dataset1, batch_size=256, shuffle=True)\n",
        "test_loader = torch.utils.data.DataLoader(dataset2, batch_size=256)\n",
        "model = Net().to(device)\n",
        "optimizer = optim.Adam(model.parameters(), lr=0.01)\n",
        "num_epochs = 1\n",
        "\n",
        "\n",
        "### pytorch-metric-learning stuff ###\n",
        "distance = distances.CosineSimilarity()\n",
        "reducer = reducers.ThresholdReducer(low = 0)\n",
        "loss_func = losses.TripletMarginLoss(margin = 0.2, distance = distance, reducer = reducer)\n",
        "mining_func = miners.TripletMarginMiner(margin = 0.2, distance = distance, type_of_triplets = \"semihard\")\n",
        "accuracy_calculator = AccuracyCalculator(include = (\"mean_average_precision_at_r\",), k = 10)\n",
        "### pytorch-metric-learning stuff ###\n",
        "\n",
        "\n",
        "for epoch in range(1, num_epochs+1):\n",
        "    train(model, loss_func, mining_func, device, train_loader, optimizer, epoch)\n",
        "    test(dataset2, model, accuracy_calculator)\n",
        "print(\"num_epochs:\",num_epochs)"
      ],
      "execution_count": 42,
      "outputs": [
        {
          "output_type": "stream",
          "text": [
            "Epoch 1 Iteration 0: Loss = 0.12698741257190704, Number of mined triplets = 512409\n",
            "Epoch 1 Iteration 20: Loss = 0.11831216514110565, Number of mined triplets = 340289\n",
            "Epoch 1 Iteration 40: Loss = 0.12606947124004364, Number of mined triplets = 282871\n",
            "Epoch 1 Iteration 60: Loss = 0.11583507806062698, Number of mined triplets = 216484\n",
            "Epoch 1 Iteration 80: Loss = 0.1117485910654068, Number of mined triplets = 181058\n",
            "Epoch 1 Iteration 100: Loss = 0.11327099800109863, Number of mined triplets = 150081\n",
            "Epoch 1 Iteration 120: Loss = 0.1114821806550026, Number of mined triplets = 154243\n",
            "Epoch 1 Iteration 140: Loss = 0.11029930412769318, Number of mined triplets = 144124\n",
            "Epoch 1 Iteration 160: Loss = 0.11137939244508743, Number of mined triplets = 146932\n",
            "Epoch 1 Iteration 180: Loss = 0.10521911084651947, Number of mined triplets = 150019\n",
            "Epoch 1 Iteration 200: Loss = 0.11337874084711075, Number of mined triplets = 171238\n",
            "Epoch 1 Iteration 220: Loss = 0.1057862639427185, Number of mined triplets = 148283\n"
          ],
          "name": "stdout"
        },
        {
          "output_type": "stream",
          "text": [
            "100%|██████████| 313/313 [00:03<00:00, 78.64it/s] \n"
          ],
          "name": "stderr"
        },
        {
          "output_type": "stream",
          "text": [
            "Computing accuracy\n",
            "Test set accuracy (MAP@10) = 0.4503055317460317\n",
            "num_epochs: 1\n"
          ],
          "name": "stdout"
        }
      ]
    },
    {
      "cell_type": "code",
      "metadata": {
        "id": "q2Nhzclshp93",
        "colab": {
          "base_uri": "https://localhost:8080/",
          "height": 266
        },
        "outputId": "6948343c-3850-4172-a30e-eef44cff87a3"
      },
      "source": [
        "# self data\n",
        "from torchvision import transforms\n",
        "from torchvision.datasets import ImageFolder\n",
        "from torch.utils.data import DataLoader\n",
        "import matplotlib.pyplot as plt\n",
        "from sklearn.manifold import TSNE\n",
        "from sklearn.decomposition import PCA\n",
        "from mpl_toolkits.mplot3d import axes3d\n",
        "#%matplotlib notebook\n",
        "from PIL import ImageFile\n",
        "ImageFile.LOAD_TRUNCATED_IMAGES = True\n",
        "\n",
        "def show_2D_tSNE(latent_vecs, target, title='t-SNE viz'):\n",
        "    latent_vecs = latent_vecs\n",
        "    latent_vecs_reduced = TSNE(n_components=2, random_state=0).fit_transform(latent_vecs)\n",
        "    plt.scatter(latent_vecs_reduced[:, 0], latent_vecs_reduced[:, 1],\n",
        "                c=target, cmap='jet')\n",
        "    plt.colorbar()\n",
        "    plt.show()\n",
        "\n",
        "\n",
        "def show_3D_tSNE(latent_vecs, target, title='3D t-SNE viz'):\n",
        "    latent_vecs = latent_vecs\n",
        "    tsne = TSNE(n_components=3, random_state=0).fit_transform(latent_vecs)\n",
        "    fig = plt.figure(figsize=(13,10))\n",
        "    ax = fig.add_subplot(111, projection='3d')\n",
        "    scatter = ax.scatter3D(tsne[:, 0], tsne[:, 1], tsne[:, 2], c=target, cmap='jet')\n",
        "    ax.set_title(title)\n",
        "    plt.colorbar(scatter)\n",
        "    plt.show()\n",
        "\n",
        "\n",
        "def show_as_PCA(latent_vecs, target, title='PCA viz'):\n",
        "    latent_vecs = latent_vecs\n",
        "    #latent_vecs_reduced = TSNE(n_components=2, random_state=0).fit_transform(latent_vecs)\n",
        "    latent_vecs_reduced = PCA(n_components=2).fit_transform(latent_vecs)\n",
        "    plt.scatter(latent_vecs_reduced[:, 0], latent_vecs_reduced[:, 1],\n",
        "                c=target, cmap='jet')\n",
        "    plt.colorbar()\n",
        "    plt.show()\n",
        "\n",
        "ROOT_TRAIN = r'/content/drive/MyDrive/OneDrive_1_2020-11-17/dataset1'\n",
        "ROOT_TEST = r'/content/drive/MyDrive/OneDrive_1_2020-11-17/dataset2'\n",
        "ROOT = r'/content/drive/MyDrive/1121'\n",
        "# 将图像RGB三个通道的像素值分别减去0.5再除以0.5，从而将所有像素值\n",
        "# 固定到[-1.0, 1.0]范围内\n",
        "normalize = transforms.Normalize([0.5, 0.5, 0.5], [0.5, 0.5, 0.5])\n",
        "train_transform = transforms.Compose([\n",
        "    transforms.Resize((28, 28)), # 裁剪为64 * 64\n",
        "    transforms.RandomVerticalFlip(), # 随机垂直翻转\n",
        "    transforms.ToTensor(), # 将0-255范围的像素转为0-1.0范围的tensor\n",
        "    normalize])\n",
        "test_transform = transforms.Compose([\n",
        "    transforms.Resize((28, 28)),\n",
        "    transforms.ToTensor(),\n",
        "    normalize])\n",
        "dataset = ImageFolder(ROOT, transform=train_transform)\n",
        "train_dataset = ImageFolder(ROOT_TRAIN, transform=train_transform)\n",
        "test_dataset = ImageFolder(ROOT_TEST, transform=test_transform)\n",
        "print(len(train_dataset),len(test_dataset))\n",
        "data = torch.utils.data.DataLoader(train_dataset, batch_size=89,shuffle=True)\n",
        "data2 = torch.utils.data.DataLoader(test_dataset, batch_size=89,shuffle=True)\n",
        "data3 = torch.utils.data.DataLoader(dataset, batch_size=611,shuffle=True)\n",
        "print(train_dataset.class_to_idx)\n",
        "print(len(dataset))\n",
        "print(dataset.class_to_idx)"
      ],
      "execution_count": 50,
      "outputs": [
        {
          "output_type": "stream",
          "text": [
            "89 89\n",
            "{'NG': 0, 'OK': 1}\n",
            "611\n",
            "{'NG': 0, 'OK': 1}\n"
          ],
          "name": "stdout"
        },
        {
          "output_type": "error",
          "ename": "AttributeError",
          "evalue": "ignored",
          "traceback": [
            "\u001b[0;31m---------------------------------------------------------------------------\u001b[0m",
            "\u001b[0;31mAttributeError\u001b[0m                            Traceback (most recent call last)",
            "\u001b[0;32m<ipython-input-50-2cbb0a37621d>\u001b[0m in \u001b[0;36m<module>\u001b[0;34m()\u001b[0m\n\u001b[1;32m     65\u001b[0m \u001b[0mprint\u001b[0m\u001b[0;34m(\u001b[0m\u001b[0mlen\u001b[0m\u001b[0;34m(\u001b[0m\u001b[0mdataset\u001b[0m\u001b[0;34m)\u001b[0m\u001b[0;34m)\u001b[0m\u001b[0;34m\u001b[0m\u001b[0;34m\u001b[0m\u001b[0m\n\u001b[1;32m     66\u001b[0m \u001b[0mprint\u001b[0m\u001b[0;34m(\u001b[0m\u001b[0mdataset\u001b[0m\u001b[0;34m.\u001b[0m\u001b[0mclass_to_idx\u001b[0m\u001b[0;34m)\u001b[0m\u001b[0;34m\u001b[0m\u001b[0;34m\u001b[0m\u001b[0m\n\u001b[0;32m---> 67\u001b[0;31m \u001b[0mprint\u001b[0m\u001b[0;34m(\u001b[0m\u001b[0mdata\u001b[0m\u001b[0;34m.\u001b[0m\u001b[0mdata\u001b[0m\u001b[0;34m)\u001b[0m\u001b[0;34m\u001b[0m\u001b[0;34m\u001b[0m\u001b[0m\n\u001b[0m",
            "\u001b[0;31mAttributeError\u001b[0m: 'DataLoader' object has no attribute 'data'"
          ]
        }
      ]
    },
    {
      "cell_type": "code",
      "metadata": {
        "colab": {
          "base_uri": "https://localhost:8080/"
        },
        "id": "WgkNSASx4Jk0",
        "outputId": "61b4cdbe-5273-45b9-8545-1b375726bd03"
      },
      "source": [
        "#  可视化训练数据集的一个batch的样本来查看图像内容\n",
        "for step, (b_x, b_y) in enumerate(data3):  \n",
        "    if step > 0:\n",
        "        break\n",
        "\n",
        "## 输出训练图像的尺寸和标签的尺寸，都是torch格式的数据\n",
        "print(b_x.shape)\n",
        "print(b_y.shape)\n",
        "## 可视化前将数据集转化为numpy中的数组形式\n",
        "batch_x = b_x.data.numpy()\n",
        "batch_y = b_y.data.numpy()\n",
        "print(batch_x.shape)\n",
        "print(batch_y.shape)\n",
        "# # 可视化50张图像的内容\n",
        "# plt.figure(figsize=(15,8))\n",
        "# for ii in np.arange(len(batch_y)):\n",
        "#     plt.subplot(9,10,ii+1)\n",
        "#     plt.imshow(batch_x[ii,0,:,:],cmap=plt.cm.gray)\n",
        "#     plt.title(batch_y[ii])\n",
        "#     plt.axis(\"off\")\n",
        "# plt.subplots_adjust(hspace = 0.3)"
      ],
      "execution_count": 44,
      "outputs": [
        {
          "output_type": "stream",
          "text": [
            "torch.Size([611, 3, 28, 28])\n",
            "torch.Size([611])\n",
            "(611, 3, 28, 28)\n",
            "(611,)\n"
          ],
          "name": "stdout"
        }
      ]
    },
    {
      "cell_type": "code",
      "metadata": {
        "colab": {
          "base_uri": "https://localhost:8080/",
          "height": 269
        },
        "id": "OySmiVm6E4F3",
        "outputId": "8abc0b7a-6c7c-4d41-8187-5b569b43e392"
      },
      "source": [
        "# raw_x = np.array([a.data.numpy() for a in data.valid_ds.x])\n",
        "# raw_y = np.array([int(y.obj) for y in data.valid_ds.y])\n",
        "batch_x = batch_x.reshape((len(batch_x), -1))\n",
        "\n",
        "if False: # for saving time\n",
        "    LIMIT = 1000\n",
        "    chosen_idxes = np.random.choice(list(range(len(batch_x))), LIMIT)\n",
        "    batch_x = batch_x[chosen_idxes]\n",
        "    batch_y = batch_y[chosen_idxes]\n",
        "\n",
        "show_2D_tSNE(batch_x, batch_y, 'Raw sample distributions (t-SNE)')"
      ],
      "execution_count": 45,
      "outputs": [
        {
          "output_type": "display_data",
          "data": {
            "image/png": "[encoded data removed]",
            "text/plain": [
              "<Figure size 432x288 with 2 Axes>"
            ]
          },
          "metadata": {
            "tags": [],
            "needs_background": "light"
          }
        }
      ]
    },
    {
      "cell_type": "code",
      "metadata": {
        "colab": {
          "base_uri": "https://localhost:8080/"
        },
        "id": "nN5Jst6q99Fp",
        "outputId": "f57989be-6c3d-4160-9830-49b0b2305b8c"
      },
      "source": [
        "from pytorch_metric_learning import losses, miners, distances, reducers, testers\n",
        "from pytorch_metric_learning.utils.accuracy_calculator import AccuracyCalculator\n",
        "### MNIST code originally from https://github.com/pytorch/examples/blob/master/mnist/main.py ### \n",
        "from torchvision import datasets\n",
        "import torch\n",
        "import torch.nn as nn\n",
        "import torch.nn.functional as F\n",
        "import torch.optim as optim\n",
        "from torchvision import datasets, transforms\n",
        "import numpy as np\n",
        "import faiss\n",
        "res = faiss.StandardGpuResources()\n",
        "res.setTempMemory(512 * 1024 * 1024)\n",
        "from sklearn.model_selection import KFold, cross_val_score, train_test_split\n",
        "\n",
        "### MNIST code originally from https://github.com/pytorch/examples/blob/master/mnist/main.py ### \n",
        "class Net(nn.Module):\n",
        "    def __init__(self):\n",
        "        super(Net, self).__init__()\n",
        "        self.conv1 = nn.Conv2d(3, 32, 3, 1)\n",
        "        self.conv2 = nn.Conv2d(32, 64, 3, 1)\n",
        "        self.dropout1 = nn.Dropout2d(0.25)\n",
        "        self.dropout2 = nn.Dropout2d(0.5)\n",
        "        self.fc1 = nn.Linear(9216, 128)\n",
        "        # self.fc2 = nn.Linear(128, 2)\n",
        "\n",
        "    def forward(self, x):\n",
        "        x = self.conv1(x)\n",
        "        x = F.relu(x)\n",
        "        x = self.conv2(x)\n",
        "        print(x.shape)\n",
        "        x = F.relu(x)\n",
        "        x = F.max_pool2d(x, 2)\n",
        "        x = self.dropout1(x)\n",
        "        x = torch.flatten(x, 1)\n",
        "        x = self.fc1(x)\n",
        "        # x = self.fc2(x)\n",
        "        return x\n",
        "\n",
        "### MNIST code originally from https://github.com/pytorch/examples/blob/master/mnist/main.py ### \n",
        "def train(model, loss_func, mining_func, device, train_loader, optimizer, epoch):\n",
        "    model.train()\n",
        "    for batch_idx, (data, labels) in enumerate(train_loader):\n",
        "        data, labels = data.to(device), labels.to(device)\n",
        "        optimizer.zero_grad()\n",
        "        embeddings = model(data)\n",
        "        indices_tuple = mining_func(embeddings, labels)\n",
        "        loss = loss_func(embeddings, labels, indices_tuple)\n",
        "        loss.backward()\n",
        "        optimizer.step()\n",
        "        if batch_idx % 20 == 0:\n",
        "            print(\"Epoch {} Iteration {}: Loss = {}, Number of mined triplets = {}\".format(epoch, batch_idx, loss, mining_func.num_triplets))\n",
        "\n",
        "### convenient function from pytorch-metric-learning ###\n",
        "def get_all_embeddings(dataset, model):\n",
        "    tester = testers.BaseTester()\n",
        "    return tester.get_all_embeddings(dataset, model)\n",
        "\n",
        "### compute accuracy using AccuracyCalculator from pytorch-metric-learning ###\n",
        "def test(dataset, model, accuracy_calculator):\n",
        "    embeddings, labels = get_all_embeddings(dataset, model)\n",
        "    print(\"Computing accuracy\")\n",
        "    accuracies = accuracy_calculator.get_accuracy(embeddings, \n",
        "                                                embeddings,\n",
        "                                                np.squeeze(labels),\n",
        "                                                np.squeeze(labels),\n",
        "                                                True)\n",
        "    print(\"Test set accuracy (MAP@2) = {}\".format(accuracies[\"mean_average_precision_at_r\"]))\n",
        "net2 = Net()\n",
        "print(net2)\n",
        "device = torch.device(\"cuda\")\n",
        "\n",
        "transform = transforms.Compose([\n",
        "        transforms.ToTensor(),\n",
        "        transforms.Normalize((0.1307,), (0.3081,))\n",
        "    ])\n",
        "\n",
        "batch_size = 128\n",
        "\n",
        "# #k-fold cross-validation\n",
        "# kf = KFold(n_splits=5) # Define the split - into 2 folds \n",
        "# kf.get_n_splits(batch_x) # returns the number of splitting iterations in the cross-validator\n",
        "# print(kf) \n",
        "# # print(batch_x)\n",
        "# for train_index, test_index in kf.split(batch_x):\n",
        "#   print(“TRAIN:”, train_index, “TEST:”, test_index)\n",
        "# X_train, X_test = batch_x[train_index], batch_x[test_index]\n",
        "# y_train, y_test = batch_y[train_index], batch_y[test_index]\n",
        "# train_X,test_X,train_y,test_y = train_test_split(batch_x,batch_y,test_size=1/5,random_state=3)\n",
        "fold = KFold(n_splits=5, shuffle=True, random_state=0)"
      ],
      "execution_count": 52,
      "outputs": [
        {
          "output_type": "stream",
          "text": [
            "Net(\n",
            "  (conv1): Conv2d(3, 32, kernel_size=(3, 3), stride=(1, 1))\n",
            "  (conv2): Conv2d(32, 64, kernel_size=(3, 3), stride=(1, 1))\n",
            "  (dropout1): Dropout2d(p=0.25, inplace=False)\n",
            "  (dropout2): Dropout2d(p=0.5, inplace=False)\n",
            "  (fc1): Linear(in_features=9216, out_features=128, bias=True)\n",
            ")\n"
          ],
          "name": "stdout"
        }
      ]
    },
    {
      "cell_type": "code",
      "metadata": {
        "colab": {
          "base_uri": "https://localhost:8080/"
        },
        "id": "JWfxgLDbii0-",
        "outputId": "22bcc35c-faaf-4f87-8bad-367280446a54"
      },
      "source": [
        "for fold_idx, (train_idx, valid_idx) in enumerate(fold.split(b_x, b_y)):\n",
        "\n",
        "  print('fold {}'.format(fold_idx))\n",
        "\n",
        "  train_loader = torch.utils.data.DataLoader(torch.utils.data.Subset(dataset, train_idx), batch_size=batch_size, shuffle=True)\n",
        "  test_loader = torch.utils.data.DataLoader(torch.utils.data.Subset(dataset, valid_idx), batch_size=batch_size, shuffle=False)\n",
        "  model = Net().to(device)\n",
        "  optimizer = optim.Adam(model.parameters(), lr=0.01)\n",
        "  num_epochs = 50\n",
        "\n",
        "\n",
        "  ### pytorch-metric-learning stuff ###\n",
        "  distance = distances.CosineSimilarity()\n",
        "  reducer = reducers.ThresholdReducer(low = 0)\n",
        "  loss_func = losses.TripletMarginLoss(margin = 0.2, distance = distance, reducer = reducer)\n",
        "  mining_func = miners.TripletMarginMiner(margin = 0.2, distance = distance, type_of_triplets = \"semihard\")\n",
        "  accuracy_calculator = AccuracyCalculator(include = (\"mean_average_precision_at_r\",), k = 2)\n",
        "  ### pytorch-metric-learning stuff ###\n",
        "\n",
        "  for epoch in range(1, num_epochs):\n",
        "    print(\"epoch:\",epoch)\n",
        "    train(model, loss_func, mining_func, device, train_loader, optimizer, epoch)\n",
        "    test(torch.utils.data.Subset(dataset, valid_idx), model, accuracy_calculator)"
      ],
      "execution_count": null,
      "outputs": [
        {
          "output_type": "stream",
          "text": [
            "fold 0\n",
            "epoch: 1\n",
            "torch.Size([128, 64, 24, 24])\n",
            "Epoch 1 Iteration 0: Loss = 0.11249858886003494, Number of mined triplets = 205254\n",
            "torch.Size([128, 64, 24, 24])\n",
            "torch.Size([128, 64, 24, 24])\n"
          ],
          "name": "stdout"
        },
        {
          "output_type": "stream",
          "text": [
            "\r  0%|          | 0/4 [00:00<?, ?it/s]"
          ],
          "name": "stderr"
        },
        {
          "output_type": "stream",
          "text": [
            "torch.Size([104, 64, 24, 24])\n"
          ],
          "name": "stdout"
        },
        {
          "output_type": "stream",
          "text": [
            "\r 25%|██▌       | 1/4 [00:03<00:11,  3.75s/it]"
          ],
          "name": "stderr"
        },
        {
          "output_type": "stream",
          "text": [
            "torch.Size([32, 64, 24, 24])\n",
            "torch.Size([32, 64, 24, 24])\n",
            "torch.Size([32, 64, 24, 24])\n",
            "torch.Size([27, 64, 24, 24])\n"
          ],
          "name": "stdout"
        },
        {
          "output_type": "stream",
          "text": [
            "\r100%|██████████| 4/4 [00:04<00:00,  1.12s/it]\n"
          ],
          "name": "stderr"
        },
        {
          "output_type": "stream",
          "text": [
            "Computing accuracy\n",
            "Test set accuracy (MAP@2) = 0.4715447154471545\n",
            "epoch: 2\n",
            "torch.Size([128, 64, 24, 24])\n",
            "Epoch 2 Iteration 0: Loss = 0.11316102743148804, Number of mined triplets = 88298\n",
            "torch.Size([128, 64, 24, 24])\n",
            "torch.Size([128, 64, 24, 24])\n"
          ],
          "name": "stdout"
        },
        {
          "output_type": "stream",
          "text": [
            "\r  0%|          | 0/4 [00:00<?, ?it/s]"
          ],
          "name": "stderr"
        },
        {
          "output_type": "stream",
          "text": [
            "torch.Size([104, 64, 24, 24])\n"
          ],
          "name": "stdout"
        },
        {
          "output_type": "stream",
          "text": [
            "\r 25%|██▌       | 1/4 [00:03<00:11,  3.87s/it]"
          ],
          "name": "stderr"
        },
        {
          "output_type": "stream",
          "text": [
            "torch.Size([32, 64, 24, 24])\n",
            "torch.Size([32, 64, 24, 24])\n",
            "torch.Size([32, 64, 24, 24])\n",
            "torch.Size([27, 64, 24, 24])\n"
          ],
          "name": "stdout"
        },
        {
          "output_type": "stream",
          "text": [
            "\r100%|██████████| 4/4 [00:04<00:00,  1.16s/it]\n"
          ],
          "name": "stderr"
        },
        {
          "output_type": "stream",
          "text": [
            "Computing accuracy\n",
            "Test set accuracy (MAP@2) = 0.4247967479674797\n",
            "epoch: 3\n",
            "torch.Size([128, 64, 24, 24])\n",
            "Epoch 3 Iteration 0: Loss = 0.1114615797996521, Number of mined triplets = 58218\n",
            "torch.Size([128, 64, 24, 24])\n",
            "torch.Size([128, 64, 24, 24])\n"
          ],
          "name": "stdout"
        },
        {
          "output_type": "stream",
          "text": [
            "\r  0%|          | 0/4 [00:00<?, ?it/s]"
          ],
          "name": "stderr"
        },
        {
          "output_type": "stream",
          "text": [
            "torch.Size([104, 64, 24, 24])\n"
          ],
          "name": "stdout"
        },
        {
          "output_type": "stream",
          "text": [
            " 50%|█████     | 2/4 [00:03<00:05,  2.59s/it]"
          ],
          "name": "stderr"
        },
        {
          "output_type": "stream",
          "text": [
            "torch.Size([32, 64, 24, 24])\n",
            "torch.Size([32, 64, 24, 24])\n",
            "torch.Size([32, 64, 24, 24])\n",
            "torch.Size([27, 64, 24, 24])\n"
          ],
          "name": "stdout"
        },
        {
          "output_type": "stream",
          "text": [
            "\r100%|██████████| 4/4 [00:04<00:00,  1.14s/it]\n"
          ],
          "name": "stderr"
        },
        {
          "output_type": "stream",
          "text": [
            "Computing accuracy\n",
            "Test set accuracy (MAP@2) = 0.47764227642276424\n",
            "epoch: 4\n",
            "torch.Size([128, 64, 24, 24])\n",
            "Epoch 4 Iteration 0: Loss = 0.11007210612297058, Number of mined triplets = 50962\n",
            "torch.Size([128, 64, 24, 24])\n",
            "torch.Size([128, 64, 24, 24])\n"
          ],
          "name": "stdout"
        },
        {
          "output_type": "stream",
          "text": [
            "\r  0%|          | 0/4 [00:00<?, ?it/s]"
          ],
          "name": "stderr"
        },
        {
          "output_type": "stream",
          "text": [
            "torch.Size([104, 64, 24, 24])\n"
          ],
          "name": "stdout"
        },
        {
          "output_type": "stream",
          "text": [
            "\r 25%|██▌       | 1/4 [00:03<00:11,  3.84s/it]"
          ],
          "name": "stderr"
        },
        {
          "output_type": "stream",
          "text": [
            "torch.Size([32, 64, 24, 24])\n",
            "torch.Size([32, 64, 24, 24])\n",
            "torch.Size([32, 64, 24, 24])\n",
            "torch.Size([27, 64, 24, 24])\n"
          ],
          "name": "stdout"
        },
        {
          "output_type": "stream",
          "text": [
            "\r100%|██████████| 4/4 [00:04<00:00,  1.14s/it]\n"
          ],
          "name": "stderr"
        },
        {
          "output_type": "stream",
          "text": [
            "Computing accuracy\n",
            "Test set accuracy (MAP@2) = 0.4817073170731707\n",
            "epoch: 5\n",
            "torch.Size([128, 64, 24, 24])\n",
            "Epoch 5 Iteration 0: Loss = 0.10937650501728058, Number of mined triplets = 54394\n",
            "torch.Size([128, 64, 24, 24])\n",
            "torch.Size([128, 64, 24, 24])\n"
          ],
          "name": "stdout"
        },
        {
          "output_type": "stream",
          "text": [
            "\r  0%|          | 0/4 [00:00<?, ?it/s]"
          ],
          "name": "stderr"
        },
        {
          "output_type": "stream",
          "text": [
            "torch.Size([104, 64, 24, 24])\n"
          ],
          "name": "stdout"
        },
        {
          "output_type": "stream",
          "text": [
            " 50%|█████     | 2/4 [00:03<00:05,  2.68s/it]"
          ],
          "name": "stderr"
        },
        {
          "output_type": "stream",
          "text": [
            "torch.Size([32, 64, 24, 24])\n",
            "torch.Size([32, 64, 24, 24])\n",
            "torch.Size([32, 64, 24, 24])\n",
            "torch.Size([27, 64, 24, 24])\n"
          ],
          "name": "stdout"
        },
        {
          "output_type": "stream",
          "text": [
            "\r100%|██████████| 4/4 [00:04<00:00,  1.17s/it]\n"
          ],
          "name": "stderr"
        },
        {
          "output_type": "stream",
          "text": [
            "Computing accuracy\n",
            "Test set accuracy (MAP@2) = 0.45528455284552843\n",
            "epoch: 6\n",
            "torch.Size([128, 64, 24, 24])\n",
            "Epoch 6 Iteration 0: Loss = 0.10855887830257416, Number of mined triplets = 52432\n",
            "torch.Size([128, 64, 24, 24])\n",
            "torch.Size([128, 64, 24, 24])\n"
          ],
          "name": "stdout"
        },
        {
          "output_type": "stream",
          "text": [
            "\r  0%|          | 0/4 [00:00<?, ?it/s]"
          ],
          "name": "stderr"
        },
        {
          "output_type": "stream",
          "text": [
            "torch.Size([104, 64, 24, 24])\n"
          ],
          "name": "stdout"
        },
        {
          "output_type": "stream",
          "text": [
            "\r 25%|██▌       | 1/4 [00:03<00:11,  3.82s/it]"
          ],
          "name": "stderr"
        },
        {
          "output_type": "stream",
          "text": [
            "torch.Size([32, 64, 24, 24])\n",
            "torch.Size([32, 64, 24, 24])\n",
            "torch.Size([32, 64, 24, 24])\n",
            "torch.Size([27, 64, 24, 24])\n"
          ],
          "name": "stdout"
        },
        {
          "output_type": "stream",
          "text": [
            "\r100%|██████████| 4/4 [00:04<00:00,  1.15s/it]\n"
          ],
          "name": "stderr"
        },
        {
          "output_type": "stream",
          "text": [
            "Computing accuracy\n",
            "Test set accuracy (MAP@2) = 0.4268292682926829\n",
            "epoch: 7\n",
            "torch.Size([128, 64, 24, 24])\n",
            "Epoch 7 Iteration 0: Loss = 0.10706494748592377, Number of mined triplets = 52086\n",
            "torch.Size([128, 64, 24, 24])\n",
            "torch.Size([128, 64, 24, 24])\n"
          ],
          "name": "stdout"
        },
        {
          "output_type": "stream",
          "text": [
            "\r  0%|          | 0/4 [00:00<?, ?it/s]"
          ],
          "name": "stderr"
        },
        {
          "output_type": "stream",
          "text": [
            "torch.Size([104, 64, 24, 24])\n"
          ],
          "name": "stdout"
        },
        {
          "output_type": "stream",
          "text": [
            "\r 25%|██▌       | 1/4 [00:03<00:11,  3.72s/it]"
          ],
          "name": "stderr"
        },
        {
          "output_type": "stream",
          "text": [
            "torch.Size([32, 64, 24, 24])\n",
            "torch.Size([32, 64, 24, 24])\n",
            "torch.Size([32, 64, 24, 24])\n",
            "torch.Size([27, 64, 24, 24])\n"
          ],
          "name": "stdout"
        },
        {
          "output_type": "stream",
          "text": [
            "\r100%|██████████| 4/4 [00:04<00:00,  1.12s/it]\n"
          ],
          "name": "stderr"
        },
        {
          "output_type": "stream",
          "text": [
            "Computing accuracy\n",
            "Test set accuracy (MAP@2) = 0.42886178861788615\n",
            "epoch: 8\n",
            "torch.Size([128, 64, 24, 24])\n",
            "Epoch 8 Iteration 0: Loss = 0.10747454315423965, Number of mined triplets = 53421\n",
            "torch.Size([128, 64, 24, 24])\n",
            "torch.Size([128, 64, 24, 24])\n"
          ],
          "name": "stdout"
        },
        {
          "output_type": "stream",
          "text": [
            "\r  0%|          | 0/4 [00:00<?, ?it/s]"
          ],
          "name": "stderr"
        },
        {
          "output_type": "stream",
          "text": [
            "torch.Size([104, 64, 24, 24])\n"
          ],
          "name": "stdout"
        },
        {
          "output_type": "stream",
          "text": [
            "\r 25%|██▌       | 1/4 [00:03<00:11,  3.79s/it]"
          ],
          "name": "stderr"
        },
        {
          "output_type": "stream",
          "text": [
            "torch.Size([32, 64, 24, 24])\n",
            "torch.Size([32, 64, 24, 24])\n",
            "torch.Size([32, 64, 24, 24])\n",
            "torch.Size([27, 64, 24, 24])\n"
          ],
          "name": "stdout"
        },
        {
          "output_type": "stream",
          "text": [
            "\r100%|██████████| 4/4 [00:04<00:00,  1.14s/it]\n"
          ],
          "name": "stderr"
        },
        {
          "output_type": "stream",
          "text": [
            "Computing accuracy\n",
            "Test set accuracy (MAP@2) = 0.3983739837398374\n",
            "epoch: 9\n",
            "torch.Size([128, 64, 24, 24])\n",
            "Epoch 9 Iteration 0: Loss = 0.10683982074260712, Number of mined triplets = 52518\n",
            "torch.Size([128, 64, 24, 24])\n",
            "torch.Size([128, 64, 24, 24])\n"
          ],
          "name": "stdout"
        },
        {
          "output_type": "stream",
          "text": [
            "\r  0%|          | 0/4 [00:00<?, ?it/s]"
          ],
          "name": "stderr"
        },
        {
          "output_type": "stream",
          "text": [
            "torch.Size([104, 64, 24, 24])\n"
          ],
          "name": "stdout"
        },
        {
          "output_type": "stream",
          "text": [
            "\r 25%|██▌       | 1/4 [00:03<00:11,  3.69s/it]"
          ],
          "name": "stderr"
        },
        {
          "output_type": "stream",
          "text": [
            "torch.Size([32, 64, 24, 24])\n",
            "torch.Size([32, 64, 24, 24])\n",
            "torch.Size([32, 64, 24, 24])\n",
            "torch.Size([27, 64, 24, 24])\n"
          ],
          "name": "stdout"
        },
        {
          "output_type": "stream",
          "text": [
            "\r100%|██████████| 4/4 [00:04<00:00,  1.10s/it]\n"
          ],
          "name": "stderr"
        },
        {
          "output_type": "stream",
          "text": [
            "Computing accuracy\n",
            "Test set accuracy (MAP@2) = 0.4024390243902439\n",
            "epoch: 10\n",
            "torch.Size([128, 64, 24, 24])\n",
            "Epoch 10 Iteration 0: Loss = 0.10566357523202896, Number of mined triplets = 50325\n",
            "torch.Size([128, 64, 24, 24])\n",
            "torch.Size([128, 64, 24, 24])\n"
          ],
          "name": "stdout"
        },
        {
          "output_type": "stream",
          "text": [
            "\r  0%|          | 0/4 [00:00<?, ?it/s]"
          ],
          "name": "stderr"
        },
        {
          "output_type": "stream",
          "text": [
            "torch.Size([104, 64, 24, 24])\n"
          ],
          "name": "stdout"
        },
        {
          "output_type": "stream",
          "text": [
            "\r 25%|██▌       | 1/4 [00:03<00:11,  3.79s/it]"
          ],
          "name": "stderr"
        },
        {
          "output_type": "stream",
          "text": [
            "torch.Size([32, 64, 24, 24])\n",
            "torch.Size([32, 64, 24, 24])\n",
            "torch.Size([32, 64, 24, 24])\n",
            "torch.Size([27, 64, 24, 24])\n"
          ],
          "name": "stdout"
        },
        {
          "output_type": "stream",
          "text": [
            "\r100%|██████████| 4/4 [00:04<00:00,  1.12s/it]\n"
          ],
          "name": "stderr"
        },
        {
          "output_type": "stream",
          "text": [
            "Computing accuracy\n",
            "Test set accuracy (MAP@2) = 0.48577235772357724\n",
            "epoch: 11\n",
            "torch.Size([128, 64, 24, 24])\n",
            "Epoch 11 Iteration 0: Loss = 0.10791879892349243, Number of mined triplets = 50702\n",
            "torch.Size([128, 64, 24, 24])\n",
            "torch.Size([128, 64, 24, 24])\n"
          ],
          "name": "stdout"
        },
        {
          "output_type": "stream",
          "text": [
            "\r  0%|          | 0/4 [00:00<?, ?it/s]"
          ],
          "name": "stderr"
        },
        {
          "output_type": "stream",
          "text": [
            "torch.Size([104, 64, 24, 24])\n"
          ],
          "name": "stdout"
        },
        {
          "output_type": "stream",
          "text": [
            "\r 25%|██▌       | 1/4 [00:03<00:11,  3.79s/it]"
          ],
          "name": "stderr"
        },
        {
          "output_type": "stream",
          "text": [
            "torch.Size([32, 64, 24, 24])\n",
            "torch.Size([32, 64, 24, 24])\n",
            "torch.Size([32, 64, 24, 24])\n",
            "torch.Size([27, 64, 24, 24])\n"
          ],
          "name": "stdout"
        },
        {
          "output_type": "stream",
          "text": [
            "\r100%|██████████| 4/4 [00:04<00:00,  1.14s/it]\n"
          ],
          "name": "stderr"
        },
        {
          "output_type": "stream",
          "text": [
            "Computing accuracy\n",
            "Test set accuracy (MAP@2) = 0.4654471544715447\n",
            "epoch: 12\n",
            "torch.Size([128, 64, 24, 24])\n",
            "Epoch 12 Iteration 0: Loss = 0.10579416155815125, Number of mined triplets = 51690\n",
            "torch.Size([128, 64, 24, 24])\n",
            "torch.Size([128, 64, 24, 24])\n"
          ],
          "name": "stdout"
        },
        {
          "output_type": "stream",
          "text": [
            "\r  0%|          | 0/4 [00:00<?, ?it/s]"
          ],
          "name": "stderr"
        },
        {
          "output_type": "stream",
          "text": [
            "torch.Size([104, 64, 24, 24])\n"
          ],
          "name": "stdout"
        },
        {
          "output_type": "stream",
          "text": [
            "\r 25%|██▌       | 1/4 [00:03<00:11,  3.84s/it]"
          ],
          "name": "stderr"
        },
        {
          "output_type": "stream",
          "text": [
            "torch.Size([32, 64, 24, 24])\n",
            "torch.Size([32, 64, 24, 24])\n",
            "torch.Size([32, 64, 24, 24])\n",
            "torch.Size([27, 64, 24, 24])\n"
          ],
          "name": "stdout"
        },
        {
          "output_type": "stream",
          "text": [
            "\r100%|██████████| 4/4 [00:04<00:00,  1.14s/it]\n"
          ],
          "name": "stderr"
        },
        {
          "output_type": "stream",
          "text": [
            "Computing accuracy\n",
            "Test set accuracy (MAP@2) = 0.4349593495934959\n",
            "epoch: 13\n",
            "torch.Size([128, 64, 24, 24])\n",
            "Epoch 13 Iteration 0: Loss = 0.10580017417669296, Number of mined triplets = 51401\n",
            "torch.Size([128, 64, 24, 24])\n",
            "torch.Size([128, 64, 24, 24])\n"
          ],
          "name": "stdout"
        },
        {
          "output_type": "stream",
          "text": [
            "\r  0%|          | 0/4 [00:00<?, ?it/s]"
          ],
          "name": "stderr"
        },
        {
          "output_type": "stream",
          "text": [
            "torch.Size([104, 64, 24, 24])\n"
          ],
          "name": "stdout"
        },
        {
          "output_type": "stream",
          "text": [
            "\r 25%|██▌       | 1/4 [00:03<00:11,  3.80s/it]"
          ],
          "name": "stderr"
        },
        {
          "output_type": "stream",
          "text": [
            "torch.Size([32, 64, 24, 24])\n",
            "torch.Size([32, 64, 24, 24])\n",
            "torch.Size([32, 64, 24, 24])\n",
            "torch.Size([27, 64, 24, 24])\n"
          ],
          "name": "stdout"
        },
        {
          "output_type": "stream",
          "text": [
            "\r100%|██████████| 4/4 [00:04<00:00,  1.12s/it]\n"
          ],
          "name": "stderr"
        },
        {
          "output_type": "stream",
          "text": [
            "Computing accuracy\n",
            "Test set accuracy (MAP@2) = 0.45121951219512196\n",
            "epoch: 14\n",
            "torch.Size([128, 64, 24, 24])\n",
            "Epoch 14 Iteration 0: Loss = 0.10522513836622238, Number of mined triplets = 50910\n",
            "torch.Size([128, 64, 24, 24])\n",
            "torch.Size([128, 64, 24, 24])\n"
          ],
          "name": "stdout"
        },
        {
          "output_type": "stream",
          "text": [
            "\r  0%|          | 0/4 [00:00<?, ?it/s]"
          ],
          "name": "stderr"
        },
        {
          "output_type": "stream",
          "text": [
            "torch.Size([104, 64, 24, 24])\n"
          ],
          "name": "stdout"
        },
        {
          "output_type": "stream",
          "text": [
            "\r 25%|██▌       | 1/4 [00:03<00:11,  3.71s/it]"
          ],
          "name": "stderr"
        },
        {
          "output_type": "stream",
          "text": [
            "torch.Size([32, 64, 24, 24])\n",
            "torch.Size([32, 64, 24, 24])\n",
            "torch.Size([32, 64, 24, 24])\n",
            "torch.Size([27, 64, 24, 24])\n"
          ],
          "name": "stdout"
        },
        {
          "output_type": "stream",
          "text": [
            "\r100%|██████████| 4/4 [00:04<00:00,  1.11s/it]\n"
          ],
          "name": "stderr"
        },
        {
          "output_type": "stream",
          "text": [
            "Computing accuracy\n",
            "Test set accuracy (MAP@2) = 0.4532520325203252\n",
            "epoch: 15\n",
            "torch.Size([128, 64, 24, 24])\n",
            "Epoch 15 Iteration 0: Loss = 0.10632583498954773, Number of mined triplets = 51811\n",
            "torch.Size([128, 64, 24, 24])\n",
            "torch.Size([128, 64, 24, 24])\n"
          ],
          "name": "stdout"
        },
        {
          "output_type": "stream",
          "text": [
            "\r  0%|          | 0/4 [00:00<?, ?it/s]"
          ],
          "name": "stderr"
        },
        {
          "output_type": "stream",
          "text": [
            "torch.Size([104, 64, 24, 24])\n"
          ],
          "name": "stdout"
        },
        {
          "output_type": "stream",
          "text": [
            "\r 25%|██▌       | 1/4 [00:03<00:11,  3.77s/it]"
          ],
          "name": "stderr"
        },
        {
          "output_type": "stream",
          "text": [
            "torch.Size([32, 64, 24, 24])\n",
            "torch.Size([32, 64, 24, 24])\n",
            "torch.Size([32, 64, 24, 24])\n",
            "torch.Size([27, 64, 24, 24])\n"
          ],
          "name": "stdout"
        },
        {
          "output_type": "stream",
          "text": [
            "\r100%|██████████| 4/4 [00:04<00:00,  1.12s/it]\n"
          ],
          "name": "stderr"
        },
        {
          "output_type": "stream",
          "text": [
            "Computing accuracy\n",
            "Test set accuracy (MAP@2) = 0.46747967479674796\n",
            "epoch: 16\n",
            "torch.Size([128, 64, 24, 24])\n",
            "Epoch 16 Iteration 0: Loss = 0.10550511628389359, Number of mined triplets = 50833\n",
            "torch.Size([128, 64, 24, 24])\n",
            "torch.Size([128, 64, 24, 24])\n"
          ],
          "name": "stdout"
        },
        {
          "output_type": "stream",
          "text": [
            "\r  0%|          | 0/4 [00:00<?, ?it/s]"
          ],
          "name": "stderr"
        },
        {
          "output_type": "stream",
          "text": [
            "torch.Size([104, 64, 24, 24])\n"
          ],
          "name": "stdout"
        },
        {
          "output_type": "stream",
          "text": [
            "\r 25%|██▌       | 1/4 [00:03<00:11,  3.82s/it]"
          ],
          "name": "stderr"
        },
        {
          "output_type": "stream",
          "text": [
            "torch.Size([32, 64, 24, 24])\n",
            "torch.Size([32, 64, 24, 24])\n",
            "torch.Size([32, 64, 24, 24])\n",
            "torch.Size([27, 64, 24, 24])\n"
          ],
          "name": "stdout"
        },
        {
          "output_type": "stream",
          "text": [
            "\r100%|██████████| 4/4 [00:04<00:00,  1.13s/it]\n"
          ],
          "name": "stderr"
        },
        {
          "output_type": "stream",
          "text": [
            "Computing accuracy\n",
            "Test set accuracy (MAP@2) = 0.5365853658536586\n",
            "epoch: 17\n",
            "torch.Size([128, 64, 24, 24])\n",
            "Epoch 17 Iteration 0: Loss = 0.10455929487943649, Number of mined triplets = 48936\n",
            "torch.Size([128, 64, 24, 24])\n",
            "torch.Size([128, 64, 24, 24])\n"
          ],
          "name": "stdout"
        },
        {
          "output_type": "stream",
          "text": [
            "\r  0%|          | 0/4 [00:00<?, ?it/s]"
          ],
          "name": "stderr"
        },
        {
          "output_type": "stream",
          "text": [
            "torch.Size([104, 64, 24, 24])\n"
          ],
          "name": "stdout"
        },
        {
          "output_type": "stream",
          "text": [
            " 50%|█████     | 2/4 [00:03<00:05,  2.57s/it]"
          ],
          "name": "stderr"
        },
        {
          "output_type": "stream",
          "text": [
            "torch.Size([32, 64, 24, 24])\n",
            "torch.Size([32, 64, 24, 24])\n",
            "torch.Size([32, 64, 24, 24])\n",
            "torch.Size([27, 64, 24, 24])\n"
          ],
          "name": "stdout"
        },
        {
          "output_type": "stream",
          "text": [
            "\r100%|██████████| 4/4 [00:04<00:00,  1.11s/it]\n"
          ],
          "name": "stderr"
        },
        {
          "output_type": "stream",
          "text": [
            "Computing accuracy\n",
            "Test set accuracy (MAP@2) = 0.4898373983739837\n",
            "epoch: 18\n",
            "torch.Size([128, 64, 24, 24])\n",
            "Epoch 18 Iteration 0: Loss = 0.10589197278022766, Number of mined triplets = 52265\n",
            "torch.Size([128, 64, 24, 24])\n",
            "torch.Size([128, 64, 24, 24])\n"
          ],
          "name": "stdout"
        },
        {
          "output_type": "stream",
          "text": [
            "\r  0%|          | 0/4 [00:00<?, ?it/s]"
          ],
          "name": "stderr"
        },
        {
          "output_type": "stream",
          "text": [
            "torch.Size([104, 64, 24, 24])\n"
          ],
          "name": "stdout"
        },
        {
          "output_type": "stream",
          "text": [
            " 50%|█████     | 2/4 [00:03<00:05,  2.56s/it]"
          ],
          "name": "stderr"
        },
        {
          "output_type": "stream",
          "text": [
            "torch.Size([32, 64, 24, 24])\n",
            "torch.Size([32, 64, 24, 24])\n",
            "torch.Size([32, 64, 24, 24])\n",
            "torch.Size([27, 64, 24, 24])\n"
          ],
          "name": "stdout"
        },
        {
          "output_type": "stream",
          "text": [
            "\r100%|██████████| 4/4 [00:04<00:00,  1.11s/it]\n"
          ],
          "name": "stderr"
        },
        {
          "output_type": "stream",
          "text": [
            "Computing accuracy\n",
            "Test set accuracy (MAP@2) = 0.4715447154471545\n",
            "epoch: 19\n",
            "torch.Size([128, 64, 24, 24])\n",
            "Epoch 19 Iteration 0: Loss = 0.10511482506990433, Number of mined triplets = 51297\n",
            "torch.Size([128, 64, 24, 24])\n",
            "torch.Size([128, 64, 24, 24])\n"
          ],
          "name": "stdout"
        },
        {
          "output_type": "stream",
          "text": [
            "\r  0%|          | 0/4 [00:00<?, ?it/s]"
          ],
          "name": "stderr"
        },
        {
          "output_type": "stream",
          "text": [
            "torch.Size([104, 64, 24, 24])\n"
          ],
          "name": "stdout"
        },
        {
          "output_type": "stream",
          "text": [
            "\r 25%|██▌       | 1/4 [00:03<00:11,  3.74s/it]"
          ],
          "name": "stderr"
        },
        {
          "output_type": "stream",
          "text": [
            "torch.Size([32, 64, 24, 24])\n",
            "torch.Size([32, 64, 24, 24])\n",
            "torch.Size([32, 64, 24, 24])\n",
            "torch.Size([27, 64, 24, 24])\n"
          ],
          "name": "stdout"
        },
        {
          "output_type": "stream",
          "text": [
            "\r100%|██████████| 4/4 [00:04<00:00,  1.10s/it]\n"
          ],
          "name": "stderr"
        },
        {
          "output_type": "stream",
          "text": [
            "Computing accuracy\n",
            "Test set accuracy (MAP@2) = 0.4735772357723577\n",
            "epoch: 20\n",
            "torch.Size([128, 64, 24, 24])\n",
            "Epoch 20 Iteration 0: Loss = 0.1034843847155571, Number of mined triplets = 49549\n",
            "torch.Size([128, 64, 24, 24])\n",
            "torch.Size([128, 64, 24, 24])\n"
          ],
          "name": "stdout"
        },
        {
          "output_type": "stream",
          "text": [
            "\r  0%|          | 0/4 [00:00<?, ?it/s]"
          ],
          "name": "stderr"
        },
        {
          "output_type": "stream",
          "text": [
            "torch.Size([104, 64, 24, 24])\n"
          ],
          "name": "stdout"
        },
        {
          "output_type": "stream",
          "text": [
            "\r 25%|██▌       | 1/4 [00:03<00:11,  3.77s/it]"
          ],
          "name": "stderr"
        },
        {
          "output_type": "stream",
          "text": [
            "torch.Size([32, 64, 24, 24])\n",
            "torch.Size([32, 64, 24, 24])\n",
            "torch.Size([32, 64, 24, 24])\n",
            "torch.Size([27, 64, 24, 24])\n"
          ],
          "name": "stdout"
        },
        {
          "output_type": "stream",
          "text": [
            "\r100%|██████████| 4/4 [00:04<00:00,  1.12s/it]\n"
          ],
          "name": "stderr"
        },
        {
          "output_type": "stream",
          "text": [
            "Computing accuracy\n",
            "Test set accuracy (MAP@2) = 0.4735772357723577\n",
            "epoch: 21\n",
            "torch.Size([128, 64, 24, 24])\n",
            "Epoch 21 Iteration 0: Loss = 0.10484741628170013, Number of mined triplets = 49660\n",
            "torch.Size([128, 64, 24, 24])\n",
            "torch.Size([128, 64, 24, 24])\n"
          ],
          "name": "stdout"
        },
        {
          "output_type": "stream",
          "text": [
            "\r  0%|          | 0/4 [00:00<?, ?it/s]"
          ],
          "name": "stderr"
        },
        {
          "output_type": "stream",
          "text": [
            "torch.Size([104, 64, 24, 24])\n"
          ],
          "name": "stdout"
        },
        {
          "output_type": "stream",
          "text": [
            "\r 25%|██▌       | 1/4 [00:03<00:11,  3.70s/it]"
          ],
          "name": "stderr"
        },
        {
          "output_type": "stream",
          "text": [
            "torch.Size([32, 64, 24, 24])\n",
            "torch.Size([32, 64, 24, 24])\n",
            "torch.Size([32, 64, 24, 24])\n",
            "torch.Size([27, 64, 24, 24])\n"
          ],
          "name": "stdout"
        },
        {
          "output_type": "stream",
          "text": [
            "\r100%|██████████| 4/4 [00:04<00:00,  1.10s/it]\n"
          ],
          "name": "stderr"
        },
        {
          "output_type": "stream",
          "text": [
            "Computing accuracy\n",
            "Test set accuracy (MAP@2) = 0.5426829268292683\n",
            "epoch: 22\n",
            "torch.Size([128, 64, 24, 24])\n",
            "Epoch 22 Iteration 0: Loss = 0.10437701642513275, Number of mined triplets = 51072\n",
            "torch.Size([128, 64, 24, 24])\n",
            "torch.Size([128, 64, 24, 24])\n"
          ],
          "name": "stdout"
        },
        {
          "output_type": "stream",
          "text": [
            "\r  0%|          | 0/4 [00:00<?, ?it/s]"
          ],
          "name": "stderr"
        },
        {
          "output_type": "stream",
          "text": [
            "torch.Size([104, 64, 24, 24])\n"
          ],
          "name": "stdout"
        },
        {
          "output_type": "stream",
          "text": [
            " 50%|█████     | 2/4 [00:03<00:05,  2.52s/it]"
          ],
          "name": "stderr"
        },
        {
          "output_type": "stream",
          "text": [
            "torch.Size([32, 64, 24, 24])\n",
            "torch.Size([32, 64, 24, 24])\n",
            "torch.Size([32, 64, 24, 24])\n",
            "torch.Size([27, 64, 24, 24])\n"
          ],
          "name": "stdout"
        },
        {
          "output_type": "stream",
          "text": [
            "\r100%|██████████| 4/4 [00:04<00:00,  1.09s/it]\n"
          ],
          "name": "stderr"
        },
        {
          "output_type": "stream",
          "text": [
            "Computing accuracy\n",
            "Test set accuracy (MAP@2) = 0.4817073170731707\n",
            "epoch: 23\n",
            "torch.Size([128, 64, 24, 24])\n",
            "Epoch 23 Iteration 0: Loss = 0.10310611128807068, Number of mined triplets = 50892\n",
            "torch.Size([128, 64, 24, 24])\n",
            "torch.Size([128, 64, 24, 24])\n"
          ],
          "name": "stdout"
        },
        {
          "output_type": "stream",
          "text": [
            "\r  0%|          | 0/4 [00:00<?, ?it/s]"
          ],
          "name": "stderr"
        },
        {
          "output_type": "stream",
          "text": [
            "torch.Size([104, 64, 24, 24])\n"
          ],
          "name": "stdout"
        },
        {
          "output_type": "stream",
          "text": [
            "\r 25%|██▌       | 1/4 [00:03<00:11,  3.69s/it]"
          ],
          "name": "stderr"
        },
        {
          "output_type": "stream",
          "text": [
            "torch.Size([32, 64, 24, 24])\n",
            "torch.Size([32, 64, 24, 24])\n",
            "torch.Size([32, 64, 24, 24])\n",
            "torch.Size([27, 64, 24, 24])\n"
          ],
          "name": "stdout"
        },
        {
          "output_type": "stream",
          "text": [
            "\r100%|██████████| 4/4 [00:04<00:00,  1.09s/it]\n"
          ],
          "name": "stderr"
        },
        {
          "output_type": "stream",
          "text": [
            "Computing accuracy\n",
            "Test set accuracy (MAP@2) = 0.5\n",
            "epoch: 24\n",
            "torch.Size([128, 64, 24, 24])\n",
            "Epoch 24 Iteration 0: Loss = 0.10326210409402847, Number of mined triplets = 49655\n",
            "torch.Size([128, 64, 24, 24])\n",
            "torch.Size([128, 64, 24, 24])\n"
          ],
          "name": "stdout"
        },
        {
          "output_type": "stream",
          "text": [
            "\r  0%|          | 0/4 [00:00<?, ?it/s]"
          ],
          "name": "stderr"
        },
        {
          "output_type": "stream",
          "text": [
            "torch.Size([104, 64, 24, 24])\n"
          ],
          "name": "stdout"
        },
        {
          "output_type": "stream",
          "text": [
            "\r 25%|██▌       | 1/4 [00:03<00:11,  3.75s/it]"
          ],
          "name": "stderr"
        },
        {
          "output_type": "stream",
          "text": [
            "torch.Size([32, 64, 24, 24])\n",
            "torch.Size([32, 64, 24, 24])\n",
            "torch.Size([32, 64, 24, 24])\n",
            "torch.Size([27, 64, 24, 24])\n"
          ],
          "name": "stdout"
        },
        {
          "output_type": "stream",
          "text": [
            "\r100%|██████████| 4/4 [00:04<00:00,  1.11s/it]\n"
          ],
          "name": "stderr"
        },
        {
          "output_type": "stream",
          "text": [
            "Computing accuracy\n",
            "Test set accuracy (MAP@2) = 0.4878048780487805\n",
            "epoch: 25\n",
            "torch.Size([128, 64, 24, 24])\n",
            "Epoch 25 Iteration 0: Loss = 0.10263800621032715, Number of mined triplets = 50306\n",
            "torch.Size([128, 64, 24, 24])\n",
            "torch.Size([128, 64, 24, 24])\n"
          ],
          "name": "stdout"
        },
        {
          "output_type": "stream",
          "text": [
            "\r  0%|          | 0/4 [00:00<?, ?it/s]"
          ],
          "name": "stderr"
        },
        {
          "output_type": "stream",
          "text": [
            "torch.Size([104, 64, 24, 24])\n"
          ],
          "name": "stdout"
        },
        {
          "output_type": "stream",
          "text": [
            "\r 25%|██▌       | 1/4 [00:03<00:11,  3.71s/it]"
          ],
          "name": "stderr"
        },
        {
          "output_type": "stream",
          "text": [
            "torch.Size([32, 64, 24, 24])\n",
            "torch.Size([32, 64, 24, 24])\n",
            "torch.Size([32, 64, 24, 24])\n",
            "torch.Size([27, 64, 24, 24])\n"
          ],
          "name": "stdout"
        },
        {
          "output_type": "stream",
          "text": [
            "\r100%|██████████| 4/4 [00:04<00:00,  1.10s/it]\n"
          ],
          "name": "stderr"
        },
        {
          "output_type": "stream",
          "text": [
            "Computing accuracy\n",
            "Test set accuracy (MAP@2) = 0.4451219512195122\n",
            "epoch: 26\n",
            "torch.Size([128, 64, 24, 24])\n",
            "Epoch 26 Iteration 0: Loss = 0.10312840342521667, Number of mined triplets = 50124\n",
            "torch.Size([128, 64, 24, 24])\n",
            "torch.Size([128, 64, 24, 24])\n"
          ],
          "name": "stdout"
        },
        {
          "output_type": "stream",
          "text": [
            "\r  0%|          | 0/4 [00:00<?, ?it/s]"
          ],
          "name": "stderr"
        },
        {
          "output_type": "stream",
          "text": [
            "torch.Size([104, 64, 24, 24])\n"
          ],
          "name": "stdout"
        },
        {
          "output_type": "stream",
          "text": [
            " 75%|███████▌  | 3/4 [00:03<00:02,  2.57s/it]"
          ],
          "name": "stderr"
        },
        {
          "output_type": "stream",
          "text": [
            "torch.Size([32, 64, 24, 24])\n",
            "torch.Size([32, 64, 24, 24])\n",
            "torch.Size([32, 64, 24, 24])\n",
            "torch.Size([27, 64, 24, 24])\n"
          ],
          "name": "stdout"
        },
        {
          "output_type": "stream",
          "text": [
            "\r100%|██████████| 4/4 [00:04<00:00,  1.11s/it]\n"
          ],
          "name": "stderr"
        },
        {
          "output_type": "stream",
          "text": [
            "Computing accuracy\n",
            "Test set accuracy (MAP@2) = 0.47764227642276424\n",
            "epoch: 27\n",
            "torch.Size([128, 64, 24, 24])\n",
            "Epoch 27 Iteration 0: Loss = 0.10374947637319565, Number of mined triplets = 50792\n",
            "torch.Size([128, 64, 24, 24])\n",
            "torch.Size([128, 64, 24, 24])\n"
          ],
          "name": "stdout"
        },
        {
          "output_type": "stream",
          "text": [
            "\r  0%|          | 0/4 [00:00<?, ?it/s]"
          ],
          "name": "stderr"
        },
        {
          "output_type": "stream",
          "text": [
            "torch.Size([104, 64, 24, 24])\n"
          ],
          "name": "stdout"
        },
        {
          "output_type": "stream",
          "text": [
            " 50%|█████     | 2/4 [00:03<00:05,  2.50s/it]"
          ],
          "name": "stderr"
        },
        {
          "output_type": "stream",
          "text": [
            "torch.Size([32, 64, 24, 24])\n",
            "torch.Size([32, 64, 24, 24])\n",
            "torch.Size([32, 64, 24, 24])\n",
            "torch.Size([27, 64, 24, 24])\n"
          ],
          "name": "stdout"
        },
        {
          "output_type": "stream",
          "text": [
            "\r100%|██████████| 4/4 [00:04<00:00,  1.13s/it]\n"
          ],
          "name": "stderr"
        },
        {
          "output_type": "stream",
          "text": [
            "Computing accuracy\n",
            "Test set accuracy (MAP@2) = 0.4329268292682927\n",
            "epoch: 28\n",
            "torch.Size([128, 64, 24, 24])\n",
            "Epoch 28 Iteration 0: Loss = 0.10315952450037003, Number of mined triplets = 49876\n",
            "torch.Size([128, 64, 24, 24])\n",
            "torch.Size([128, 64, 24, 24])\n"
          ],
          "name": "stdout"
        },
        {
          "output_type": "stream",
          "text": [
            "\r  0%|          | 0/4 [00:00<?, ?it/s]"
          ],
          "name": "stderr"
        },
        {
          "output_type": "stream",
          "text": [
            "torch.Size([104, 64, 24, 24])\n"
          ],
          "name": "stdout"
        },
        {
          "output_type": "stream",
          "text": [
            "\r 25%|██▌       | 1/4 [00:03<00:11,  3.76s/it]"
          ],
          "name": "stderr"
        },
        {
          "output_type": "stream",
          "text": [
            "torch.Size([32, 64, 24, 24])\n",
            "torch.Size([32, 64, 24, 24])\n",
            "torch.Size([32, 64, 24, 24])\n",
            "torch.Size([27, 64, 24, 24])\n"
          ],
          "name": "stdout"
        },
        {
          "output_type": "stream",
          "text": [
            "\r100%|██████████| 4/4 [00:04<00:00,  1.13s/it]\n"
          ],
          "name": "stderr"
        },
        {
          "output_type": "stream",
          "text": [
            "Computing accuracy\n",
            "Test set accuracy (MAP@2) = 0.5121951219512195\n",
            "epoch: 29\n",
            "torch.Size([128, 64, 24, 24])\n",
            "Epoch 29 Iteration 0: Loss = 0.10490492731332779, Number of mined triplets = 54246\n",
            "torch.Size([128, 64, 24, 24])\n",
            "torch.Size([128, 64, 24, 24])\n"
          ],
          "name": "stdout"
        },
        {
          "output_type": "stream",
          "text": [
            "\r  0%|          | 0/4 [00:00<?, ?it/s]"
          ],
          "name": "stderr"
        },
        {
          "output_type": "stream",
          "text": [
            "torch.Size([104, 64, 24, 24])\n"
          ],
          "name": "stdout"
        },
        {
          "output_type": "stream",
          "text": [
            "\r 25%|██▌       | 1/4 [00:03<00:11,  3.77s/it]"
          ],
          "name": "stderr"
        },
        {
          "output_type": "stream",
          "text": [
            "torch.Size([32, 64, 24, 24])\n",
            "torch.Size([32, 64, 24, 24])\n",
            "torch.Size([32, 64, 24, 24])\n",
            "torch.Size([27, 64, 24, 24])\n"
          ],
          "name": "stdout"
        },
        {
          "output_type": "stream",
          "text": [
            "\r100%|██████████| 4/4 [00:04<00:00,  1.11s/it]\n"
          ],
          "name": "stderr"
        },
        {
          "output_type": "stream",
          "text": [
            "Computing accuracy\n",
            "Test set accuracy (MAP@2) = 0.483739837398374\n",
            "epoch: 30\n",
            "torch.Size([128, 64, 24, 24])\n",
            "Epoch 30 Iteration 0: Loss = 0.10258810222148895, Number of mined triplets = 48411\n",
            "torch.Size([128, 64, 24, 24])\n",
            "torch.Size([128, 64, 24, 24])\n"
          ],
          "name": "stdout"
        },
        {
          "output_type": "stream",
          "text": [
            "\r  0%|          | 0/4 [00:00<?, ?it/s]"
          ],
          "name": "stderr"
        },
        {
          "output_type": "stream",
          "text": [
            "torch.Size([104, 64, 24, 24])\n"
          ],
          "name": "stdout"
        },
        {
          "output_type": "stream",
          "text": [
            "\r 25%|██▌       | 1/4 [00:03<00:11,  3.67s/it]"
          ],
          "name": "stderr"
        },
        {
          "output_type": "stream",
          "text": [
            "torch.Size([32, 64, 24, 24])\n",
            "torch.Size([32, 64, 24, 24])\n",
            "torch.Size([32, 64, 24, 24])\n",
            "torch.Size([27, 64, 24, 24])\n"
          ],
          "name": "stdout"
        },
        {
          "output_type": "stream",
          "text": [
            "\r100%|██████████| 4/4 [00:04<00:00,  1.10s/it]\n"
          ],
          "name": "stderr"
        },
        {
          "output_type": "stream",
          "text": [
            "Computing accuracy\n",
            "Test set accuracy (MAP@2) = 0.5386178861788617\n",
            "epoch: 31\n",
            "torch.Size([128, 64, 24, 24])\n",
            "Epoch 31 Iteration 0: Loss = 0.10238131880760193, Number of mined triplets = 49866\n",
            "torch.Size([128, 64, 24, 24])\n",
            "torch.Size([128, 64, 24, 24])\n"
          ],
          "name": "stdout"
        },
        {
          "output_type": "stream",
          "text": [
            "\r  0%|          | 0/4 [00:00<?, ?it/s]"
          ],
          "name": "stderr"
        },
        {
          "output_type": "stream",
          "text": [
            "torch.Size([104, 64, 24, 24])\n"
          ],
          "name": "stdout"
        },
        {
          "output_type": "stream",
          "text": [
            "\r 25%|██▌       | 1/4 [00:03<00:10,  3.66s/it]"
          ],
          "name": "stderr"
        },
        {
          "output_type": "stream",
          "text": [
            "torch.Size([32, 64, 24, 24])\n",
            "torch.Size([32, 64, 24, 24])\n",
            "torch.Size([32, 64, 24, 24])\n",
            "torch.Size([27, 64, 24, 24])\n"
          ],
          "name": "stdout"
        },
        {
          "output_type": "stream",
          "text": [
            "\r100%|██████████| 4/4 [00:04<00:00,  1.11s/it]\n"
          ],
          "name": "stderr"
        },
        {
          "output_type": "stream",
          "text": [
            "Computing accuracy\n",
            "Test set accuracy (MAP@2) = 0.508130081300813\n",
            "epoch: 32\n",
            "torch.Size([128, 64, 24, 24])\n",
            "Epoch 32 Iteration 0: Loss = 0.10251902043819427, Number of mined triplets = 51010\n",
            "torch.Size([128, 64, 24, 24])\n",
            "torch.Size([128, 64, 24, 24])\n"
          ],
          "name": "stdout"
        },
        {
          "output_type": "stream",
          "text": [
            "\r  0%|          | 0/4 [00:00<?, ?it/s]"
          ],
          "name": "stderr"
        },
        {
          "output_type": "stream",
          "text": [
            "torch.Size([104, 64, 24, 24])\n"
          ],
          "name": "stdout"
        },
        {
          "output_type": "stream",
          "text": [
            "\r 25%|██▌       | 1/4 [00:03<00:10,  3.65s/it]"
          ],
          "name": "stderr"
        },
        {
          "output_type": "stream",
          "text": [
            "torch.Size([32, 64, 24, 24])\n",
            "torch.Size([32, 64, 24, 24])\n",
            "torch.Size([32, 64, 24, 24])\n",
            "torch.Size([27, 64, 24, 24])\n"
          ],
          "name": "stdout"
        },
        {
          "output_type": "stream",
          "text": [
            "\r100%|██████████| 4/4 [00:04<00:00,  1.10s/it]\n"
          ],
          "name": "stderr"
        },
        {
          "output_type": "stream",
          "text": [
            "Computing accuracy\n",
            "Test set accuracy (MAP@2) = 0.5426829268292683\n",
            "epoch: 33\n",
            "torch.Size([128, 64, 24, 24])\n",
            "Epoch 33 Iteration 0: Loss = 0.10242445021867752, Number of mined triplets = 50068\n",
            "torch.Size([128, 64, 24, 24])\n",
            "torch.Size([128, 64, 24, 24])\n"
          ],
          "name": "stdout"
        },
        {
          "output_type": "stream",
          "text": [
            "\r  0%|          | 0/4 [00:00<?, ?it/s]"
          ],
          "name": "stderr"
        },
        {
          "output_type": "stream",
          "text": [
            "torch.Size([104, 64, 24, 24])\n"
          ],
          "name": "stdout"
        },
        {
          "output_type": "stream",
          "text": [
            "\r 25%|██▌       | 1/4 [00:03<00:11,  3.71s/it]"
          ],
          "name": "stderr"
        },
        {
          "output_type": "stream",
          "text": [
            "torch.Size([32, 64, 24, 24])\n",
            "torch.Size([32, 64, 24, 24])\n",
            "torch.Size([32, 64, 24, 24])\n",
            "torch.Size([27, 64, 24, 24])\n"
          ],
          "name": "stdout"
        },
        {
          "output_type": "stream",
          "text": [
            "\r100%|██████████| 4/4 [00:04<00:00,  1.10s/it]\n"
          ],
          "name": "stderr"
        },
        {
          "output_type": "stream",
          "text": [
            "Computing accuracy\n",
            "Test set accuracy (MAP@2) = 0.4369918699186992\n",
            "epoch: 34\n",
            "torch.Size([128, 64, 24, 24])\n",
            "Epoch 34 Iteration 0: Loss = 0.10358651727437973, Number of mined triplets = 49622\n",
            "torch.Size([128, 64, 24, 24])\n",
            "torch.Size([128, 64, 24, 24])\n"
          ],
          "name": "stdout"
        },
        {
          "output_type": "stream",
          "text": [
            "\r  0%|          | 0/4 [00:00<?, ?it/s]"
          ],
          "name": "stderr"
        },
        {
          "output_type": "stream",
          "text": [
            "torch.Size([104, 64, 24, 24])\n"
          ],
          "name": "stdout"
        },
        {
          "output_type": "stream",
          "text": [
            "\r 25%|██▌       | 1/4 [00:03<00:11,  3.73s/it]"
          ],
          "name": "stderr"
        },
        {
          "output_type": "stream",
          "text": [
            "torch.Size([32, 64, 24, 24])\n",
            "torch.Size([32, 64, 24, 24])\n",
            "torch.Size([32, 64, 24, 24])\n",
            "torch.Size([27, 64, 24, 24])\n"
          ],
          "name": "stdout"
        },
        {
          "output_type": "stream",
          "text": [
            "\r100%|██████████| 4/4 [00:04<00:00,  1.11s/it]\n"
          ],
          "name": "stderr"
        },
        {
          "output_type": "stream",
          "text": [
            "Computing accuracy\n",
            "Test set accuracy (MAP@2) = 0.4491869918699187\n",
            "epoch: 35\n",
            "torch.Size([128, 64, 24, 24])\n",
            "Epoch 35 Iteration 0: Loss = 0.10267036408185959, Number of mined triplets = 50758\n",
            "torch.Size([128, 64, 24, 24])\n",
            "torch.Size([128, 64, 24, 24])\n"
          ],
          "name": "stdout"
        },
        {
          "output_type": "stream",
          "text": [
            "\r  0%|          | 0/4 [00:00<?, ?it/s]"
          ],
          "name": "stderr"
        },
        {
          "output_type": "stream",
          "text": [
            "torch.Size([104, 64, 24, 24])\n"
          ],
          "name": "stdout"
        },
        {
          "output_type": "stream",
          "text": [
            "\r 25%|██▌       | 1/4 [00:03<00:11,  3.72s/it]"
          ],
          "name": "stderr"
        },
        {
          "output_type": "stream",
          "text": [
            "torch.Size([32, 64, 24, 24])\n",
            "torch.Size([32, 64, 24, 24])\n",
            "torch.Size([32, 64, 24, 24])\n",
            "torch.Size([27, 64, 24, 24])\n"
          ],
          "name": "stdout"
        },
        {
          "output_type": "stream",
          "text": [
            "\r100%|██████████| 4/4 [00:04<00:00,  1.11s/it]\n"
          ],
          "name": "stderr"
        },
        {
          "output_type": "stream",
          "text": [
            "Computing accuracy\n",
            "Test set accuracy (MAP@2) = 0.5609756097560976\n",
            "epoch: 36\n",
            "torch.Size([128, 64, 24, 24])\n",
            "Epoch 36 Iteration 0: Loss = 0.10426003485918045, Number of mined triplets = 51503\n",
            "torch.Size([128, 64, 24, 24])\n",
            "torch.Size([128, 64, 24, 24])\n"
          ],
          "name": "stdout"
        },
        {
          "output_type": "stream",
          "text": [
            "\r  0%|          | 0/4 [00:00<?, ?it/s]"
          ],
          "name": "stderr"
        },
        {
          "output_type": "stream",
          "text": [
            "torch.Size([104, 64, 24, 24])\n"
          ],
          "name": "stdout"
        },
        {
          "output_type": "stream",
          "text": [
            "\r 25%|██▌       | 1/4 [00:03<00:10,  3.55s/it]"
          ],
          "name": "stderr"
        },
        {
          "output_type": "stream",
          "text": [
            "torch.Size([32, 64, 24, 24])\n",
            "torch.Size([32, 64, 24, 24])\n"
          ],
          "name": "stdout"
        },
        {
          "output_type": "stream",
          "text": [
            "\r 75%|███████▌  | 3/4 [00:03<00:02,  2.51s/it]"
          ],
          "name": "stderr"
        },
        {
          "output_type": "stream",
          "text": [
            "torch.Size([32, 64, 24, 24])\n",
            "torch.Size([27, 64, 24, 24])\n"
          ],
          "name": "stdout"
        },
        {
          "output_type": "stream",
          "text": [
            "\r100%|██████████| 4/4 [00:04<00:00,  1.12s/it]\n"
          ],
          "name": "stderr"
        },
        {
          "output_type": "stream",
          "text": [
            "Computing accuracy\n",
            "Test set accuracy (MAP@2) = 0.5101626016260162\n",
            "epoch: 37\n",
            "torch.Size([128, 64, 24, 24])\n",
            "Epoch 37 Iteration 0: Loss = 0.10442206263542175, Number of mined triplets = 50956\n",
            "torch.Size([128, 64, 24, 24])\n",
            "torch.Size([128, 64, 24, 24])\n"
          ],
          "name": "stdout"
        },
        {
          "output_type": "stream",
          "text": [
            "\r  0%|          | 0/4 [00:00<?, ?it/s]"
          ],
          "name": "stderr"
        },
        {
          "output_type": "stream",
          "text": [
            "torch.Size([104, 64, 24, 24])\n"
          ],
          "name": "stdout"
        },
        {
          "output_type": "stream",
          "text": [
            " 75%|███████▌  | 3/4 [00:03<00:02,  2.57s/it]"
          ],
          "name": "stderr"
        },
        {
          "output_type": "stream",
          "text": [
            "torch.Size([32, 64, 24, 24])\n",
            "torch.Size([32, 64, 24, 24])\n",
            "torch.Size([32, 64, 24, 24])\n",
            "torch.Size([27, 64, 24, 24])\n"
          ],
          "name": "stdout"
        },
        {
          "output_type": "stream",
          "text": [
            "\r100%|██████████| 4/4 [00:04<00:00,  1.11s/it]\n"
          ],
          "name": "stderr"
        },
        {
          "output_type": "stream",
          "text": [
            "Computing accuracy\n",
            "Test set accuracy (MAP@2) = 0.4735772357723577\n",
            "epoch: 38\n",
            "torch.Size([128, 64, 24, 24])\n",
            "Epoch 38 Iteration 0: Loss = 0.10348665714263916, Number of mined triplets = 49724\n",
            "torch.Size([128, 64, 24, 24])\n",
            "torch.Size([128, 64, 24, 24])\n"
          ],
          "name": "stdout"
        },
        {
          "output_type": "stream",
          "text": [
            "\r  0%|          | 0/4 [00:00<?, ?it/s]"
          ],
          "name": "stderr"
        },
        {
          "output_type": "stream",
          "text": [
            "torch.Size([104, 64, 24, 24])\n"
          ],
          "name": "stdout"
        },
        {
          "output_type": "stream",
          "text": [
            " 75%|███████▌  | 3/4 [00:03<00:02,  2.55s/it]"
          ],
          "name": "stderr"
        },
        {
          "output_type": "stream",
          "text": [
            "torch.Size([32, 64, 24, 24])\n",
            "torch.Size([32, 64, 24, 24])\n",
            "torch.Size([32, 64, 24, 24])\n",
            "torch.Size([27, 64, 24, 24])\n"
          ],
          "name": "stdout"
        },
        {
          "output_type": "stream",
          "text": [
            "\r100%|██████████| 4/4 [00:04<00:00,  1.11s/it]\n"
          ],
          "name": "stderr"
        },
        {
          "output_type": "stream",
          "text": [
            "Computing accuracy\n",
            "Test set accuracy (MAP@2) = 0.5548780487804879\n",
            "epoch: 39\n",
            "torch.Size([128, 64, 24, 24])\n",
            "Epoch 39 Iteration 0: Loss = 0.10225217044353485, Number of mined triplets = 48176\n",
            "torch.Size([128, 64, 24, 24])\n",
            "torch.Size([128, 64, 24, 24])\n"
          ],
          "name": "stdout"
        },
        {
          "output_type": "stream",
          "text": [
            "\r  0%|          | 0/4 [00:00<?, ?it/s]"
          ],
          "name": "stderr"
        },
        {
          "output_type": "stream",
          "text": [
            "torch.Size([104, 64, 24, 24])\n"
          ],
          "name": "stdout"
        },
        {
          "output_type": "stream",
          "text": [
            "\r 25%|██▌       | 1/4 [00:03<00:11,  3.70s/it]"
          ],
          "name": "stderr"
        },
        {
          "output_type": "stream",
          "text": [
            "torch.Size([32, 64, 24, 24])\n",
            "torch.Size([32, 64, 24, 24])\n",
            "torch.Size([32, 64, 24, 24])\n",
            "torch.Size([27, 64, 24, 24])\n"
          ],
          "name": "stdout"
        },
        {
          "output_type": "stream",
          "text": [
            "\r100%|██████████| 4/4 [00:04<00:00,  1.10s/it]\n"
          ],
          "name": "stderr"
        },
        {
          "output_type": "stream",
          "text": [
            "Computing accuracy\n",
            "Test set accuracy (MAP@2) = 0.5060975609756098\n",
            "epoch: 40\n",
            "torch.Size([128, 64, 24, 24])\n",
            "Epoch 40 Iteration 0: Loss = 0.10478056222200394, Number of mined triplets = 53752\n",
            "torch.Size([128, 64, 24, 24])\n",
            "torch.Size([128, 64, 24, 24])\n"
          ],
          "name": "stdout"
        },
        {
          "output_type": "stream",
          "text": [
            "\r  0%|          | 0/4 [00:00<?, ?it/s]"
          ],
          "name": "stderr"
        },
        {
          "output_type": "stream",
          "text": [
            "torch.Size([104, 64, 24, 24])\n"
          ],
          "name": "stdout"
        },
        {
          "output_type": "stream",
          "text": [
            "\r 25%|██▌       | 1/4 [00:03<00:11,  3.71s/it]"
          ],
          "name": "stderr"
        },
        {
          "output_type": "stream",
          "text": [
            "torch.Size([32, 64, 24, 24])\n",
            "torch.Size([32, 64, 24, 24])\n",
            "torch.Size([32, 64, 24, 24])\n",
            "torch.Size([27, 64, 24, 24])\n"
          ],
          "name": "stdout"
        },
        {
          "output_type": "stream",
          "text": [
            "\r100%|██████████| 4/4 [00:04<00:00,  1.10s/it]\n"
          ],
          "name": "stderr"
        },
        {
          "output_type": "stream",
          "text": [
            "Computing accuracy\n",
            "Test set accuracy (MAP@2) = 0.4735772357723577\n",
            "epoch: 41\n",
            "torch.Size([128, 64, 24, 24])\n",
            "Epoch 41 Iteration 0: Loss = 0.10735878348350525, Number of mined triplets = 61817\n",
            "torch.Size([128, 64, 24, 24])\n",
            "torch.Size([128, 64, 24, 24])\n"
          ],
          "name": "stdout"
        },
        {
          "output_type": "stream",
          "text": [
            "\r  0%|          | 0/4 [00:00<?, ?it/s]"
          ],
          "name": "stderr"
        },
        {
          "output_type": "stream",
          "text": [
            "torch.Size([104, 64, 24, 24])\n"
          ],
          "name": "stdout"
        },
        {
          "output_type": "stream",
          "text": [
            "\r 25%|██▌       | 1/4 [00:03<00:11,  3.71s/it]"
          ],
          "name": "stderr"
        },
        {
          "output_type": "stream",
          "text": [
            "torch.Size([32, 64, 24, 24])\n",
            "torch.Size([32, 64, 24, 24])\n",
            "torch.Size([32, 64, 24, 24])\n",
            "torch.Size([27, 64, 24, 24])\n"
          ],
          "name": "stdout"
        },
        {
          "output_type": "stream",
          "text": [
            "\r100%|██████████| 4/4 [00:04<00:00,  1.10s/it]\n"
          ],
          "name": "stderr"
        },
        {
          "output_type": "stream",
          "text": [
            "Computing accuracy\n",
            "Test set accuracy (MAP@2) = 0.556910569105691\n",
            "epoch: 42\n",
            "torch.Size([128, 64, 24, 24])\n",
            "Epoch 42 Iteration 0: Loss = 0.10568192601203918, Number of mined triplets = 53419\n",
            "torch.Size([128, 64, 24, 24])\n",
            "torch.Size([128, 64, 24, 24])\n"
          ],
          "name": "stdout"
        },
        {
          "output_type": "stream",
          "text": [
            "\r  0%|          | 0/4 [00:00<?, ?it/s]"
          ],
          "name": "stderr"
        },
        {
          "output_type": "stream",
          "text": [
            "torch.Size([104, 64, 24, 24])\n"
          ],
          "name": "stdout"
        },
        {
          "output_type": "stream",
          "text": [
            "\r 25%|██▌       | 1/4 [00:03<00:11,  3.78s/it]"
          ],
          "name": "stderr"
        },
        {
          "output_type": "stream",
          "text": [
            "torch.Size([32, 64, 24, 24])\n",
            "torch.Size([32, 64, 24, 24])\n",
            "torch.Size([32, 64, 24, 24])\n",
            "torch.Size([27, 64, 24, 24])\n"
          ],
          "name": "stdout"
        },
        {
          "output_type": "stream",
          "text": [
            "\r100%|██████████| 4/4 [00:04<00:00,  1.12s/it]\n"
          ],
          "name": "stderr"
        },
        {
          "output_type": "stream",
          "text": [
            "Computing accuracy\n",
            "Test set accuracy (MAP@2) = 0.5304878048780488\n",
            "epoch: 43\n",
            "torch.Size([128, 64, 24, 24])\n",
            "Epoch 43 Iteration 0: Loss = 0.10472860187292099, Number of mined triplets = 55766\n",
            "torch.Size([128, 64, 24, 24])\n",
            "torch.Size([128, 64, 24, 24])\n"
          ],
          "name": "stdout"
        },
        {
          "output_type": "stream",
          "text": [
            "\r  0%|          | 0/4 [00:00<?, ?it/s]"
          ],
          "name": "stderr"
        },
        {
          "output_type": "stream",
          "text": [
            "torch.Size([104, 64, 24, 24])\n"
          ],
          "name": "stdout"
        },
        {
          "output_type": "stream",
          "text": [
            "\r 25%|██▌       | 1/4 [00:03<00:11,  3.67s/it]"
          ],
          "name": "stderr"
        },
        {
          "output_type": "stream",
          "text": [
            "torch.Size([32, 64, 24, 24])\n",
            "torch.Size([32, 64, 24, 24])\n",
            "torch.Size([32, 64, 24, 24])\n",
            "torch.Size([27, 64, 24, 24])\n"
          ],
          "name": "stdout"
        },
        {
          "output_type": "stream",
          "text": [
            "\r100%|██████████| 4/4 [00:04<00:00,  1.10s/it]\n"
          ],
          "name": "stderr"
        },
        {
          "output_type": "stream",
          "text": [
            "Computing accuracy\n",
            "Test set accuracy (MAP@2) = 0.524390243902439\n",
            "epoch: 44\n",
            "torch.Size([128, 64, 24, 24])\n",
            "Epoch 44 Iteration 0: Loss = 0.1025579422712326, Number of mined triplets = 51273\n",
            "torch.Size([128, 64, 24, 24])\n",
            "torch.Size([128, 64, 24, 24])\n"
          ],
          "name": "stdout"
        },
        {
          "output_type": "stream",
          "text": [
            "\r  0%|          | 0/4 [00:00<?, ?it/s]"
          ],
          "name": "stderr"
        },
        {
          "output_type": "stream",
          "text": [
            "torch.Size([104, 64, 24, 24])\n"
          ],
          "name": "stdout"
        },
        {
          "output_type": "stream",
          "text": [
            "\r 25%|██▌       | 1/4 [00:03<00:10,  3.57s/it]"
          ],
          "name": "stderr"
        },
        {
          "output_type": "stream",
          "text": [
            "torch.Size([32, 64, 24, 24])\n"
          ],
          "name": "stdout"
        },
        {
          "output_type": "stream",
          "text": [
            "\r 50%|█████     | 2/4 [00:03<00:05,  2.56s/it]"
          ],
          "name": "stderr"
        },
        {
          "output_type": "stream",
          "text": [
            "torch.Size([32, 64, 24, 24])\n",
            "torch.Size([32, 64, 24, 24])\n",
            "torch.Size([27, 64, 24, 24])\n"
          ],
          "name": "stdout"
        },
        {
          "output_type": "stream",
          "text": [
            "\r100%|██████████| 4/4 [00:04<00:00,  1.13s/it]\n"
          ],
          "name": "stderr"
        },
        {
          "output_type": "stream",
          "text": [
            "Computing accuracy\n",
            "Test set accuracy (MAP@2) = 0.483739837398374\n",
            "epoch: 45\n",
            "torch.Size([128, 64, 24, 24])\n",
            "Epoch 45 Iteration 0: Loss = 0.10350510478019714, Number of mined triplets = 49799\n",
            "torch.Size([128, 64, 24, 24])\n",
            "torch.Size([128, 64, 24, 24])\n"
          ],
          "name": "stdout"
        },
        {
          "output_type": "stream",
          "text": [
            "\r  0%|          | 0/4 [00:00<?, ?it/s]"
          ],
          "name": "stderr"
        },
        {
          "output_type": "stream",
          "text": [
            "torch.Size([104, 64, 24, 24])\n"
          ],
          "name": "stdout"
        },
        {
          "output_type": "stream",
          "text": [
            "\r 25%|██▌       | 1/4 [00:03<00:11,  3.81s/it]"
          ],
          "name": "stderr"
        },
        {
          "output_type": "stream",
          "text": [
            "torch.Size([32, 64, 24, 24])\n",
            "torch.Size([32, 64, 24, 24])\n",
            "torch.Size([32, 64, 24, 24])\n",
            "torch.Size([27, 64, 24, 24])\n"
          ],
          "name": "stdout"
        },
        {
          "output_type": "stream",
          "text": [
            "\r100%|██████████| 4/4 [00:04<00:00,  1.14s/it]\n"
          ],
          "name": "stderr"
        },
        {
          "output_type": "stream",
          "text": [
            "Computing accuracy\n",
            "Test set accuracy (MAP@2) = 0.483739837398374\n",
            "epoch: 46\n",
            "torch.Size([128, 64, 24, 24])\n",
            "Epoch 46 Iteration 0: Loss = 0.10289417207241058, Number of mined triplets = 49605\n",
            "torch.Size([128, 64, 24, 24])\n",
            "torch.Size([128, 64, 24, 24])\n"
          ],
          "name": "stdout"
        },
        {
          "output_type": "stream",
          "text": [
            "\r  0%|          | 0/4 [00:00<?, ?it/s]"
          ],
          "name": "stderr"
        },
        {
          "output_type": "stream",
          "text": [
            "torch.Size([104, 64, 24, 24])\n"
          ],
          "name": "stdout"
        },
        {
          "output_type": "stream",
          "text": [
            "\r 25%|██▌       | 1/4 [00:03<00:10,  3.55s/it]"
          ],
          "name": "stderr"
        },
        {
          "output_type": "stream",
          "text": [
            "torch.Size([32, 64, 24, 24])\n"
          ],
          "name": "stdout"
        },
        {
          "output_type": "stream",
          "text": [
            "\r 50%|█████     | 2/4 [00:03<00:05,  2.56s/it]"
          ],
          "name": "stderr"
        },
        {
          "output_type": "stream",
          "text": [
            "torch.Size([32, 64, 24, 24])\n",
            "torch.Size([32, 64, 24, 24])\n",
            "torch.Size([27, 64, 24, 24])\n"
          ],
          "name": "stdout"
        },
        {
          "output_type": "stream",
          "text": [
            "\r100%|██████████| 4/4 [00:04<00:00,  1.13s/it]\n"
          ],
          "name": "stderr"
        },
        {
          "output_type": "stream",
          "text": [
            "Computing accuracy\n",
            "Test set accuracy (MAP@2) = 0.491869918699187\n",
            "epoch: 47\n",
            "torch.Size([128, 64, 24, 24])\n",
            "Epoch 47 Iteration 0: Loss = 0.10273775458335876, Number of mined triplets = 47375\n",
            "torch.Size([128, 64, 24, 24])\n",
            "torch.Size([128, 64, 24, 24])\n"
          ],
          "name": "stdout"
        },
        {
          "output_type": "stream",
          "text": [
            "\r  0%|          | 0/4 [00:00<?, ?it/s]"
          ],
          "name": "stderr"
        },
        {
          "output_type": "stream",
          "text": [
            "torch.Size([104, 64, 24, 24])\n"
          ],
          "name": "stdout"
        },
        {
          "output_type": "stream",
          "text": [
            "\r 25%|██▌       | 1/4 [00:03<00:11,  3.67s/it]"
          ],
          "name": "stderr"
        },
        {
          "output_type": "stream",
          "text": [
            "torch.Size([32, 64, 24, 24])\n",
            "torch.Size([32, 64, 24, 24])\n"
          ],
          "name": "stdout"
        },
        {
          "output_type": "stream",
          "text": [
            "\r 50%|█████     | 2/4 [00:03<00:05,  2.63s/it]"
          ],
          "name": "stderr"
        },
        {
          "output_type": "stream",
          "text": [
            "torch.Size([32, 64, 24, 24])\n",
            "torch.Size([27, 64, 24, 24])\n"
          ],
          "name": "stdout"
        },
        {
          "output_type": "stream",
          "text": [
            "\r100%|██████████| 4/4 [00:04<00:00,  1.15s/it]\n"
          ],
          "name": "stderr"
        },
        {
          "output_type": "stream",
          "text": [
            "Computing accuracy\n",
            "Test set accuracy (MAP@2) = 0.4735772357723577\n",
            "epoch: 48\n",
            "torch.Size([128, 64, 24, 24])\n",
            "Epoch 48 Iteration 0: Loss = 0.10101824998855591, Number of mined triplets = 49416\n",
            "torch.Size([128, 64, 24, 24])\n",
            "torch.Size([128, 64, 24, 24])\n"
          ],
          "name": "stdout"
        },
        {
          "output_type": "stream",
          "text": [
            "\r  0%|          | 0/4 [00:00<?, ?it/s]"
          ],
          "name": "stderr"
        },
        {
          "output_type": "stream",
          "text": [
            "torch.Size([104, 64, 24, 24])\n"
          ],
          "name": "stdout"
        },
        {
          "output_type": "stream",
          "text": [
            "\r 25%|██▌       | 1/4 [00:03<00:11,  3.76s/it]"
          ],
          "name": "stderr"
        },
        {
          "output_type": "stream",
          "text": [
            "torch.Size([32, 64, 24, 24])\n",
            "torch.Size([32, 64, 24, 24])\n",
            "torch.Size([32, 64, 24, 24])\n",
            "torch.Size([27, 64, 24, 24])\n"
          ],
          "name": "stdout"
        },
        {
          "output_type": "stream",
          "text": [
            "\r100%|██████████| 4/4 [00:04<00:00,  1.11s/it]\n"
          ],
          "name": "stderr"
        },
        {
          "output_type": "stream",
          "text": [
            "Computing accuracy\n",
            "Test set accuracy (MAP@2) = 0.4878048780487805\n",
            "epoch: 49\n",
            "torch.Size([128, 64, 24, 24])\n",
            "Epoch 49 Iteration 0: Loss = 0.10469673573970795, Number of mined triplets = 51897\n",
            "torch.Size([128, 64, 24, 24])\n",
            "torch.Size([128, 64, 24, 24])\n"
          ],
          "name": "stdout"
        },
        {
          "output_type": "stream",
          "text": [
            "\r  0%|          | 0/4 [00:00<?, ?it/s]"
          ],
          "name": "stderr"
        },
        {
          "output_type": "stream",
          "text": [
            "torch.Size([104, 64, 24, 24])\n"
          ],
          "name": "stdout"
        },
        {
          "output_type": "stream",
          "text": [
            "\r 25%|██▌       | 1/4 [00:03<00:11,  3.85s/it]"
          ],
          "name": "stderr"
        },
        {
          "output_type": "stream",
          "text": [
            "torch.Size([32, 64, 24, 24])\n",
            "torch.Size([32, 64, 24, 24])\n",
            "torch.Size([32, 64, 24, 24])\n",
            "torch.Size([27, 64, 24, 24])\n"
          ],
          "name": "stdout"
        },
        {
          "output_type": "stream",
          "text": [
            "\r100%|██████████| 4/4 [00:04<00:00,  1.14s/it]\n"
          ],
          "name": "stderr"
        },
        {
          "output_type": "stream",
          "text": [
            "Computing accuracy\n",
            "Test set accuracy (MAP@2) = 0.4878048780487805\n",
            "fold 1\n",
            "epoch: 1\n",
            "torch.Size([128, 64, 24, 24])\n",
            "Epoch 1 Iteration 0: Loss = 0.11233088374137878, Number of mined triplets = 195615\n",
            "torch.Size([128, 64, 24, 24])\n",
            "torch.Size([128, 64, 24, 24])\n"
          ],
          "name": "stdout"
        },
        {
          "output_type": "stream",
          "text": [
            "\r  0%|          | 0/4 [00:00<?, ?it/s]"
          ],
          "name": "stderr"
        },
        {
          "output_type": "stream",
          "text": [
            "torch.Size([105, 64, 24, 24])\n"
          ],
          "name": "stdout"
        },
        {
          "output_type": "stream",
          "text": [
            " 75%|███████▌  | 3/4 [00:03<00:02,  2.52s/it]"
          ],
          "name": "stderr"
        },
        {
          "output_type": "stream",
          "text": [
            "torch.Size([32, 64, 24, 24])\n",
            "torch.Size([32, 64, 24, 24])\n",
            "torch.Size([32, 64, 24, 24])\n",
            "torch.Size([26, 64, 24, 24])\n"
          ],
          "name": "stdout"
        },
        {
          "output_type": "stream",
          "text": [
            "\r100%|██████████| 4/4 [00:04<00:00,  1.09s/it]\n"
          ],
          "name": "stderr"
        },
        {
          "output_type": "stream",
          "text": [
            "Computing accuracy\n",
            "Test set accuracy (MAP@2) = 0.4692622950819672\n",
            "epoch: 2\n",
            "torch.Size([128, 64, 24, 24])\n",
            "Epoch 2 Iteration 0: Loss = 0.11142440885305405, Number of mined triplets = 76435\n",
            "torch.Size([128, 64, 24, 24])\n",
            "torch.Size([128, 64, 24, 24])\n"
          ],
          "name": "stdout"
        },
        {
          "output_type": "stream",
          "text": [
            "\r  0%|          | 0/4 [00:00<?, ?it/s]"
          ],
          "name": "stderr"
        },
        {
          "output_type": "stream",
          "text": [
            "torch.Size([105, 64, 24, 24])\n"
          ],
          "name": "stdout"
        },
        {
          "output_type": "stream",
          "text": [
            " 50%|█████     | 2/4 [00:03<00:04,  2.49s/it]"
          ],
          "name": "stderr"
        },
        {
          "output_type": "stream",
          "text": [
            "torch.Size([32, 64, 24, 24])\n",
            "torch.Size([32, 64, 24, 24])\n",
            "torch.Size([32, 64, 24, 24])\n",
            "torch.Size([26, 64, 24, 24])\n"
          ],
          "name": "stdout"
        },
        {
          "output_type": "stream",
          "text": [
            "\r100%|██████████| 4/4 [00:04<00:00,  1.09s/it]\n"
          ],
          "name": "stderr"
        },
        {
          "output_type": "stream",
          "text": [
            "Computing accuracy\n",
            "Test set accuracy (MAP@2) = 0.45286885245901637\n",
            "epoch: 3\n",
            "torch.Size([128, 64, 24, 24])\n",
            "Epoch 3 Iteration 0: Loss = 0.11560473591089249, Number of mined triplets = 54560\n",
            "torch.Size([128, 64, 24, 24])\n",
            "torch.Size([128, 64, 24, 24])\n"
          ],
          "name": "stdout"
        },
        {
          "output_type": "stream",
          "text": [
            "\r  0%|          | 0/4 [00:00<?, ?it/s]"
          ],
          "name": "stderr"
        },
        {
          "output_type": "stream",
          "text": [
            "torch.Size([105, 64, 24, 24])\n"
          ],
          "name": "stdout"
        },
        {
          "output_type": "stream",
          "text": [
            "\r 25%|██▌       | 1/4 [00:03<00:11,  3.71s/it]"
          ],
          "name": "stderr"
        },
        {
          "output_type": "stream",
          "text": [
            "torch.Size([32, 64, 24, 24])\n",
            "torch.Size([32, 64, 24, 24])\n",
            "torch.Size([32, 64, 24, 24])\n",
            "torch.Size([26, 64, 24, 24])\n"
          ],
          "name": "stdout"
        },
        {
          "output_type": "stream",
          "text": [
            "\r100%|██████████| 4/4 [00:04<00:00,  1.10s/it]\n"
          ],
          "name": "stderr"
        },
        {
          "output_type": "stream",
          "text": [
            "Computing accuracy\n",
            "Test set accuracy (MAP@2) = 0.42827868852459017\n",
            "epoch: 4\n",
            "torch.Size([128, 64, 24, 24])\n",
            "Epoch 4 Iteration 0: Loss = 0.11273223161697388, Number of mined triplets = 52582\n",
            "torch.Size([128, 64, 24, 24])\n",
            "torch.Size([128, 64, 24, 24])\n"
          ],
          "name": "stdout"
        },
        {
          "output_type": "stream",
          "text": [
            "\r  0%|          | 0/4 [00:00<?, ?it/s]"
          ],
          "name": "stderr"
        },
        {
          "output_type": "stream",
          "text": [
            "torch.Size([105, 64, 24, 24])\n"
          ],
          "name": "stdout"
        },
        {
          "output_type": "stream",
          "text": [
            "\r 25%|██▌       | 1/4 [00:03<00:11,  3.72s/it]"
          ],
          "name": "stderr"
        },
        {
          "output_type": "stream",
          "text": [
            "torch.Size([32, 64, 24, 24])\n",
            "torch.Size([32, 64, 24, 24])\n",
            "torch.Size([32, 64, 24, 24])\n",
            "torch.Size([26, 64, 24, 24])\n"
          ],
          "name": "stdout"
        },
        {
          "output_type": "stream",
          "text": [
            "\r100%|██████████| 4/4 [00:04<00:00,  1.10s/it]\n"
          ],
          "name": "stderr"
        },
        {
          "output_type": "stream",
          "text": [
            "Computing accuracy\n",
            "Test set accuracy (MAP@2) = 0.48155737704918034\n",
            "epoch: 5\n",
            "torch.Size([128, 64, 24, 24])\n",
            "Epoch 5 Iteration 0: Loss = 0.10722951591014862, Number of mined triplets = 51833\n",
            "torch.Size([128, 64, 24, 24])\n",
            "torch.Size([128, 64, 24, 24])\n"
          ],
          "name": "stdout"
        },
        {
          "output_type": "stream",
          "text": [
            "\r  0%|          | 0/4 [00:00<?, ?it/s]"
          ],
          "name": "stderr"
        },
        {
          "output_type": "stream",
          "text": [
            "torch.Size([105, 64, 24, 24])\n"
          ],
          "name": "stdout"
        },
        {
          "output_type": "stream",
          "text": [
            "\r 25%|██▌       | 1/4 [00:03<00:11,  3.69s/it]"
          ],
          "name": "stderr"
        },
        {
          "output_type": "stream",
          "text": [
            "torch.Size([32, 64, 24, 24])\n",
            "torch.Size([32, 64, 24, 24])\n",
            "torch.Size([32, 64, 24, 24])\n",
            "torch.Size([26, 64, 24, 24])\n"
          ],
          "name": "stdout"
        },
        {
          "output_type": "stream",
          "text": [
            "\r100%|██████████| 4/4 [00:04<00:00,  1.10s/it]\n"
          ],
          "name": "stderr"
        },
        {
          "output_type": "stream",
          "text": [
            "Computing accuracy\n",
            "Test set accuracy (MAP@2) = 0.4610655737704918\n",
            "epoch: 6\n",
            "torch.Size([128, 64, 24, 24])\n",
            "Epoch 6 Iteration 0: Loss = 0.10819045454263687, Number of mined triplets = 50728\n",
            "torch.Size([128, 64, 24, 24])\n",
            "torch.Size([128, 64, 24, 24])\n"
          ],
          "name": "stdout"
        },
        {
          "output_type": "stream",
          "text": [
            "\r  0%|          | 0/4 [00:00<?, ?it/s]"
          ],
          "name": "stderr"
        },
        {
          "output_type": "stream",
          "text": [
            "torch.Size([105, 64, 24, 24])\n"
          ],
          "name": "stdout"
        },
        {
          "output_type": "stream",
          "text": [
            "\r 25%|██▌       | 1/4 [00:03<00:10,  3.65s/it]"
          ],
          "name": "stderr"
        },
        {
          "output_type": "stream",
          "text": [
            "torch.Size([32, 64, 24, 24])\n",
            "torch.Size([32, 64, 24, 24])\n",
            "torch.Size([32, 64, 24, 24])\n",
            "torch.Size([26, 64, 24, 24])\n"
          ],
          "name": "stdout"
        },
        {
          "output_type": "stream",
          "text": [
            "\r100%|██████████| 4/4 [00:04<00:00,  1.10s/it]\n"
          ],
          "name": "stderr"
        },
        {
          "output_type": "stream",
          "text": [
            "Computing accuracy\n",
            "Test set accuracy (MAP@2) = 0.45081967213114754\n",
            "epoch: 7\n",
            "torch.Size([128, 64, 24, 24])\n",
            "Epoch 7 Iteration 0: Loss = 0.1087828055024147, Number of mined triplets = 52886\n",
            "torch.Size([128, 64, 24, 24])\n",
            "torch.Size([128, 64, 24, 24])\n"
          ],
          "name": "stdout"
        },
        {
          "output_type": "stream",
          "text": [
            "\r  0%|          | 0/4 [00:00<?, ?it/s]"
          ],
          "name": "stderr"
        },
        {
          "output_type": "stream",
          "text": [
            "torch.Size([105, 64, 24, 24])\n"
          ],
          "name": "stdout"
        },
        {
          "output_type": "stream",
          "text": [
            " 50%|█████     | 2/4 [00:03<00:05,  2.52s/it]"
          ],
          "name": "stderr"
        },
        {
          "output_type": "stream",
          "text": [
            "torch.Size([32, 64, 24, 24])\n",
            "torch.Size([32, 64, 24, 24])\n",
            "torch.Size([32, 64, 24, 24])\n",
            "torch.Size([26, 64, 24, 24])\n"
          ],
          "name": "stdout"
        },
        {
          "output_type": "stream",
          "text": [
            "\r100%|██████████| 4/4 [00:04<00:00,  1.09s/it]\n"
          ],
          "name": "stderr"
        },
        {
          "output_type": "stream",
          "text": [
            "Computing accuracy\n",
            "Test set accuracy (MAP@2) = 0.42213114754098363\n",
            "epoch: 8\n",
            "torch.Size([128, 64, 24, 24])\n",
            "Epoch 8 Iteration 0: Loss = 0.11007793247699738, Number of mined triplets = 49959\n",
            "torch.Size([128, 64, 24, 24])\n",
            "torch.Size([128, 64, 24, 24])\n"
          ],
          "name": "stdout"
        },
        {
          "output_type": "stream",
          "text": [
            "\r  0%|          | 0/4 [00:00<?, ?it/s]"
          ],
          "name": "stderr"
        },
        {
          "output_type": "stream",
          "text": [
            "torch.Size([105, 64, 24, 24])\n"
          ],
          "name": "stdout"
        },
        {
          "output_type": "stream",
          "text": [
            " 75%|███████▌  | 3/4 [00:03<00:02,  2.55s/it]"
          ],
          "name": "stderr"
        },
        {
          "output_type": "stream",
          "text": [
            "torch.Size([32, 64, 24, 24])\n",
            "torch.Size([32, 64, 24, 24])\n",
            "torch.Size([32, 64, 24, 24])\n",
            "torch.Size([26, 64, 24, 24])\n"
          ],
          "name": "stdout"
        },
        {
          "output_type": "stream",
          "text": [
            "\r100%|██████████| 4/4 [00:04<00:00,  1.10s/it]\n"
          ],
          "name": "stderr"
        },
        {
          "output_type": "stream",
          "text": [
            "Computing accuracy\n",
            "Test set accuracy (MAP@2) = 0.45286885245901637\n",
            "epoch: 9\n",
            "torch.Size([128, 64, 24, 24])\n",
            "Epoch 9 Iteration 0: Loss = 0.10883735865354538, Number of mined triplets = 50481\n",
            "torch.Size([128, 64, 24, 24])\n",
            "torch.Size([128, 64, 24, 24])\n"
          ],
          "name": "stdout"
        },
        {
          "output_type": "stream",
          "text": [
            "\r  0%|          | 0/4 [00:00<?, ?it/s]"
          ],
          "name": "stderr"
        },
        {
          "output_type": "stream",
          "text": [
            "torch.Size([105, 64, 24, 24])\n"
          ],
          "name": "stdout"
        },
        {
          "output_type": "stream",
          "text": [
            "\r 25%|██▌       | 1/4 [00:03<00:10,  3.66s/it]"
          ],
          "name": "stderr"
        },
        {
          "output_type": "stream",
          "text": [
            "torch.Size([32, 64, 24, 24])\n",
            "torch.Size([32, 64, 24, 24])\n",
            "torch.Size([32, 64, 24, 24])\n",
            "torch.Size([26, 64, 24, 24])\n"
          ],
          "name": "stdout"
        },
        {
          "output_type": "stream",
          "text": [
            "\r100%|██████████| 4/4 [00:04<00:00,  1.09s/it]\n"
          ],
          "name": "stderr"
        },
        {
          "output_type": "stream",
          "text": [
            "Computing accuracy\n",
            "Test set accuracy (MAP@2) = 0.4651639344262295\n",
            "epoch: 10\n",
            "torch.Size([128, 64, 24, 24])\n",
            "Epoch 10 Iteration 0: Loss = 0.10719010978937149, Number of mined triplets = 53673\n",
            "torch.Size([128, 64, 24, 24])\n",
            "torch.Size([128, 64, 24, 24])\n"
          ],
          "name": "stdout"
        },
        {
          "output_type": "stream",
          "text": [
            "\r  0%|          | 0/4 [00:00<?, ?it/s]"
          ],
          "name": "stderr"
        },
        {
          "output_type": "stream",
          "text": [
            "torch.Size([105, 64, 24, 24])\n"
          ],
          "name": "stdout"
        },
        {
          "output_type": "stream",
          "text": [
            "\r 25%|██▌       | 1/4 [00:03<00:11,  3.71s/it]"
          ],
          "name": "stderr"
        },
        {
          "output_type": "stream",
          "text": [
            "torch.Size([32, 64, 24, 24])\n",
            "torch.Size([32, 64, 24, 24])\n",
            "torch.Size([32, 64, 24, 24])\n",
            "torch.Size([26, 64, 24, 24])\n"
          ],
          "name": "stdout"
        },
        {
          "output_type": "stream",
          "text": [
            "\r100%|██████████| 4/4 [00:04<00:00,  1.10s/it]\n"
          ],
          "name": "stderr"
        },
        {
          "output_type": "stream",
          "text": [
            "Computing accuracy\n",
            "Test set accuracy (MAP@2) = 0.46311475409836067\n",
            "epoch: 11\n",
            "torch.Size([128, 64, 24, 24])\n",
            "Epoch 11 Iteration 0: Loss = 0.10709081590175629, Number of mined triplets = 51239\n",
            "torch.Size([128, 64, 24, 24])\n",
            "torch.Size([128, 64, 24, 24])\n"
          ],
          "name": "stdout"
        },
        {
          "output_type": "stream",
          "text": [
            "\r  0%|          | 0/4 [00:00<?, ?it/s]"
          ],
          "name": "stderr"
        },
        {
          "output_type": "stream",
          "text": [
            "torch.Size([105, 64, 24, 24])\n"
          ],
          "name": "stdout"
        },
        {
          "output_type": "stream",
          "text": [
            "\r 25%|██▌       | 1/4 [00:03<00:11,  3.75s/it]"
          ],
          "name": "stderr"
        },
        {
          "output_type": "stream",
          "text": [
            "torch.Size([32, 64, 24, 24])\n",
            "torch.Size([32, 64, 24, 24])\n",
            "torch.Size([32, 64, 24, 24])\n",
            "torch.Size([26, 64, 24, 24])\n"
          ],
          "name": "stdout"
        },
        {
          "output_type": "stream",
          "text": [
            "\r100%|██████████| 4/4 [00:04<00:00,  1.11s/it]\n"
          ],
          "name": "stderr"
        },
        {
          "output_type": "stream",
          "text": [
            "Computing accuracy\n",
            "Test set accuracy (MAP@2) = 0.42213114754098363\n",
            "epoch: 12\n",
            "torch.Size([128, 64, 24, 24])\n",
            "Epoch 12 Iteration 0: Loss = 0.10667357593774796, Number of mined triplets = 52436\n",
            "torch.Size([128, 64, 24, 24])\n",
            "torch.Size([128, 64, 24, 24])\n"
          ],
          "name": "stdout"
        },
        {
          "output_type": "stream",
          "text": [
            "\r  0%|          | 0/4 [00:00<?, ?it/s]"
          ],
          "name": "stderr"
        },
        {
          "output_type": "stream",
          "text": [
            "torch.Size([105, 64, 24, 24])\n"
          ],
          "name": "stdout"
        },
        {
          "output_type": "stream",
          "text": [
            " 75%|███████▌  | 3/4 [00:03<00:02,  2.52s/it]"
          ],
          "name": "stderr"
        },
        {
          "output_type": "stream",
          "text": [
            "torch.Size([32, 64, 24, 24])\n",
            "torch.Size([32, 64, 24, 24])\n",
            "torch.Size([32, 64, 24, 24])\n",
            "torch.Size([26, 64, 24, 24])\n"
          ],
          "name": "stdout"
        },
        {
          "output_type": "stream",
          "text": [
            "\r100%|██████████| 4/4 [00:04<00:00,  1.10s/it]\n"
          ],
          "name": "stderr"
        },
        {
          "output_type": "stream",
          "text": [
            "Computing accuracy\n",
            "Test set accuracy (MAP@2) = 0.4487704918032787\n",
            "epoch: 13\n",
            "torch.Size([128, 64, 24, 24])\n",
            "Epoch 13 Iteration 0: Loss = 0.10554175078868866, Number of mined triplets = 51444\n",
            "torch.Size([128, 64, 24, 24])\n",
            "torch.Size([128, 64, 24, 24])\n"
          ],
          "name": "stdout"
        },
        {
          "output_type": "stream",
          "text": [
            "\r  0%|          | 0/4 [00:00<?, ?it/s]"
          ],
          "name": "stderr"
        },
        {
          "output_type": "stream",
          "text": [
            "torch.Size([105, 64, 24, 24])\n"
          ],
          "name": "stdout"
        },
        {
          "output_type": "stream",
          "text": [
            "\r 25%|██▌       | 1/4 [00:03<00:10,  3.65s/it]"
          ],
          "name": "stderr"
        },
        {
          "output_type": "stream",
          "text": [
            "torch.Size([32, 64, 24, 24])\n",
            "torch.Size([32, 64, 24, 24])\n",
            "torch.Size([32, 64, 24, 24])\n",
            "torch.Size([26, 64, 24, 24])\n"
          ],
          "name": "stdout"
        },
        {
          "output_type": "stream",
          "text": [
            "\r100%|██████████| 4/4 [00:04<00:00,  1.09s/it]\n"
          ],
          "name": "stderr"
        },
        {
          "output_type": "stream",
          "text": [
            "Computing accuracy\n",
            "Test set accuracy (MAP@2) = 0.42213114754098363\n",
            "epoch: 14\n",
            "torch.Size([128, 64, 24, 24])\n",
            "Epoch 14 Iteration 0: Loss = 0.10588481277227402, Number of mined triplets = 51234\n",
            "torch.Size([128, 64, 24, 24])\n",
            "torch.Size([128, 64, 24, 24])\n"
          ],
          "name": "stdout"
        },
        {
          "output_type": "stream",
          "text": [
            "\r  0%|          | 0/4 [00:00<?, ?it/s]"
          ],
          "name": "stderr"
        },
        {
          "output_type": "stream",
          "text": [
            "torch.Size([105, 64, 24, 24])\n"
          ],
          "name": "stdout"
        },
        {
          "output_type": "stream",
          "text": [
            "\r 25%|██▌       | 1/4 [00:03<00:11,  3.72s/it]"
          ],
          "name": "stderr"
        },
        {
          "output_type": "stream",
          "text": [
            "torch.Size([32, 64, 24, 24])\n",
            "torch.Size([32, 64, 24, 24])\n",
            "torch.Size([32, 64, 24, 24])\n",
            "torch.Size([26, 64, 24, 24])\n"
          ],
          "name": "stdout"
        },
        {
          "output_type": "stream",
          "text": [
            "\r100%|██████████| 4/4 [00:04<00:00,  1.11s/it]\n"
          ],
          "name": "stderr"
        },
        {
          "output_type": "stream",
          "text": [
            "Computing accuracy\n",
            "Test set accuracy (MAP@2) = 0.4487704918032787\n",
            "epoch: 15\n",
            "torch.Size([128, 64, 24, 24])\n",
            "Epoch 15 Iteration 0: Loss = 0.10639242082834244, Number of mined triplets = 50001\n",
            "torch.Size([128, 64, 24, 24])\n",
            "torch.Size([128, 64, 24, 24])\n"
          ],
          "name": "stdout"
        },
        {
          "output_type": "stream",
          "text": [
            "\r  0%|          | 0/4 [00:00<?, ?it/s]"
          ],
          "name": "stderr"
        },
        {
          "output_type": "stream",
          "text": [
            "torch.Size([105, 64, 24, 24])\n"
          ],
          "name": "stdout"
        },
        {
          "output_type": "stream",
          "text": [
            " 50%|█████     | 2/4 [00:03<00:05,  2.51s/it]"
          ],
          "name": "stderr"
        },
        {
          "output_type": "stream",
          "text": [
            "torch.Size([32, 64, 24, 24])\n",
            "torch.Size([32, 64, 24, 24])\n",
            "torch.Size([32, 64, 24, 24])\n",
            "torch.Size([26, 64, 24, 24])\n"
          ],
          "name": "stdout"
        },
        {
          "output_type": "stream",
          "text": [
            "\r100%|██████████| 4/4 [00:04<00:00,  1.09s/it]\n"
          ],
          "name": "stderr"
        },
        {
          "output_type": "stream",
          "text": [
            "Computing accuracy\n",
            "Test set accuracy (MAP@2) = 0.42008196721311475\n",
            "epoch: 16\n",
            "torch.Size([128, 64, 24, 24])\n",
            "Epoch 16 Iteration 0: Loss = 0.10473361611366272, Number of mined triplets = 49784\n",
            "torch.Size([128, 64, 24, 24])\n",
            "torch.Size([128, 64, 24, 24])\n"
          ],
          "name": "stdout"
        },
        {
          "output_type": "stream",
          "text": [
            "\r  0%|          | 0/4 [00:00<?, ?it/s]"
          ],
          "name": "stderr"
        },
        {
          "output_type": "stream",
          "text": [
            "torch.Size([105, 64, 24, 24])\n"
          ],
          "name": "stdout"
        },
        {
          "output_type": "stream",
          "text": [
            " 50%|█████     | 2/4 [00:03<00:05,  2.50s/it]"
          ],
          "name": "stderr"
        },
        {
          "output_type": "stream",
          "text": [
            "torch.Size([32, 64, 24, 24])\n",
            "torch.Size([32, 64, 24, 24])\n",
            "torch.Size([32, 64, 24, 24])\n",
            "torch.Size([26, 64, 24, 24])\n"
          ],
          "name": "stdout"
        },
        {
          "output_type": "stream",
          "text": [
            "\r100%|██████████| 4/4 [00:04<00:00,  1.09s/it]\n"
          ],
          "name": "stderr"
        },
        {
          "output_type": "stream",
          "text": [
            "Computing accuracy\n",
            "Test set accuracy (MAP@2) = 0.4364754098360656\n",
            "epoch: 17\n",
            "torch.Size([128, 64, 24, 24])\n",
            "Epoch 17 Iteration 0: Loss = 0.10480514168739319, Number of mined triplets = 50630\n",
            "torch.Size([128, 64, 24, 24])\n",
            "torch.Size([128, 64, 24, 24])\n"
          ],
          "name": "stdout"
        },
        {
          "output_type": "stream",
          "text": [
            "\r  0%|          | 0/4 [00:00<?, ?it/s]"
          ],
          "name": "stderr"
        },
        {
          "output_type": "stream",
          "text": [
            "torch.Size([105, 64, 24, 24])\n"
          ],
          "name": "stdout"
        },
        {
          "output_type": "stream",
          "text": [
            "\r 25%|██▌       | 1/4 [00:03<00:10,  3.62s/it]"
          ],
          "name": "stderr"
        },
        {
          "output_type": "stream",
          "text": [
            "torch.Size([32, 64, 24, 24])\n",
            "torch.Size([32, 64, 24, 24])\n",
            "torch.Size([32, 64, 24, 24])\n",
            "torch.Size([26, 64, 24, 24])\n"
          ],
          "name": "stdout"
        },
        {
          "output_type": "stream",
          "text": [
            "\r100%|██████████| 4/4 [00:04<00:00,  1.08s/it]\n"
          ],
          "name": "stderr"
        },
        {
          "output_type": "stream",
          "text": [
            "Computing accuracy\n",
            "Test set accuracy (MAP@2) = 0.4569672131147541\n",
            "epoch: 18\n",
            "torch.Size([128, 64, 24, 24])\n",
            "Epoch 18 Iteration 0: Loss = 0.10462561249732971, Number of mined triplets = 51072\n",
            "torch.Size([128, 64, 24, 24])\n",
            "torch.Size([128, 64, 24, 24])\n"
          ],
          "name": "stdout"
        },
        {
          "output_type": "stream",
          "text": [
            "\r  0%|          | 0/4 [00:00<?, ?it/s]"
          ],
          "name": "stderr"
        },
        {
          "output_type": "stream",
          "text": [
            "torch.Size([105, 64, 24, 24])\n"
          ],
          "name": "stdout"
        },
        {
          "output_type": "stream",
          "text": [
            "\r 25%|██▌       | 1/4 [00:03<00:10,  3.62s/it]"
          ],
          "name": "stderr"
        },
        {
          "output_type": "stream",
          "text": [
            "torch.Size([32, 64, 24, 24])\n",
            "torch.Size([32, 64, 24, 24])\n",
            "torch.Size([32, 64, 24, 24])\n",
            "torch.Size([26, 64, 24, 24])\n"
          ],
          "name": "stdout"
        },
        {
          "output_type": "stream",
          "text": [
            "\r100%|██████████| 4/4 [00:04<00:00,  1.08s/it]\n"
          ],
          "name": "stderr"
        },
        {
          "output_type": "stream",
          "text": [
            "Computing accuracy\n",
            "Test set accuracy (MAP@2) = 0.44672131147540983\n",
            "epoch: 19\n",
            "torch.Size([128, 64, 24, 24])\n",
            "Epoch 19 Iteration 0: Loss = 0.10568663477897644, Number of mined triplets = 49948\n",
            "torch.Size([128, 64, 24, 24])\n",
            "torch.Size([128, 64, 24, 24])\n"
          ],
          "name": "stdout"
        },
        {
          "output_type": "stream",
          "text": [
            "\r  0%|          | 0/4 [00:00<?, ?it/s]"
          ],
          "name": "stderr"
        },
        {
          "output_type": "stream",
          "text": [
            "torch.Size([105, 64, 24, 24])\n"
          ],
          "name": "stdout"
        },
        {
          "output_type": "stream",
          "text": [
            "\r 25%|██▌       | 1/4 [00:03<00:10,  3.62s/it]"
          ],
          "name": "stderr"
        },
        {
          "output_type": "stream",
          "text": [
            "torch.Size([32, 64, 24, 24])\n",
            "torch.Size([32, 64, 24, 24])\n",
            "torch.Size([32, 64, 24, 24])\n",
            "torch.Size([26, 64, 24, 24])\n"
          ],
          "name": "stdout"
        },
        {
          "output_type": "stream",
          "text": [
            "\r100%|██████████| 4/4 [00:04<00:00,  1.09s/it]\n"
          ],
          "name": "stderr"
        },
        {
          "output_type": "stream",
          "text": [
            "Computing accuracy\n",
            "Test set accuracy (MAP@2) = 0.4672131147540984\n",
            "epoch: 20\n",
            "torch.Size([128, 64, 24, 24])\n",
            "Epoch 20 Iteration 0: Loss = 0.10612849146127701, Number of mined triplets = 49809\n",
            "torch.Size([128, 64, 24, 24])\n",
            "torch.Size([128, 64, 24, 24])\n"
          ],
          "name": "stdout"
        },
        {
          "output_type": "stream",
          "text": [
            "\r  0%|          | 0/4 [00:00<?, ?it/s]"
          ],
          "name": "stderr"
        },
        {
          "output_type": "stream",
          "text": [
            "torch.Size([105, 64, 24, 24])\n"
          ],
          "name": "stdout"
        },
        {
          "output_type": "stream",
          "text": [
            "\r 25%|██▌       | 1/4 [00:03<00:10,  3.62s/it]"
          ],
          "name": "stderr"
        },
        {
          "output_type": "stream",
          "text": [
            "torch.Size([32, 64, 24, 24])\n",
            "torch.Size([32, 64, 24, 24])\n",
            "torch.Size([32, 64, 24, 24])\n",
            "torch.Size([26, 64, 24, 24])\n"
          ],
          "name": "stdout"
        },
        {
          "output_type": "stream",
          "text": [
            "\r100%|██████████| 4/4 [00:04<00:00,  1.07s/it]\n"
          ],
          "name": "stderr"
        },
        {
          "output_type": "stream",
          "text": [
            "Computing accuracy\n",
            "Test set accuracy (MAP@2) = 0.4098360655737705\n",
            "epoch: 21\n",
            "torch.Size([128, 64, 24, 24])\n",
            "Epoch 21 Iteration 0: Loss = 0.10497793555259705, Number of mined triplets = 49011\n",
            "torch.Size([128, 64, 24, 24])\n",
            "torch.Size([128, 64, 24, 24])\n"
          ],
          "name": "stdout"
        },
        {
          "output_type": "stream",
          "text": [
            "\r  0%|          | 0/4 [00:00<?, ?it/s]"
          ],
          "name": "stderr"
        },
        {
          "output_type": "stream",
          "text": [
            "torch.Size([105, 64, 24, 24])\n"
          ],
          "name": "stdout"
        },
        {
          "output_type": "stream",
          "text": [
            "\r 25%|██▌       | 1/4 [00:03<00:10,  3.59s/it]"
          ],
          "name": "stderr"
        },
        {
          "output_type": "stream",
          "text": [
            "torch.Size([32, 64, 24, 24])\n",
            "torch.Size([32, 64, 24, 24])\n",
            "torch.Size([32, 64, 24, 24])\n",
            "torch.Size([26, 64, 24, 24])\n"
          ],
          "name": "stdout"
        },
        {
          "output_type": "stream",
          "text": [
            "\r100%|██████████| 4/4 [00:04<00:00,  1.08s/it]\n"
          ],
          "name": "stderr"
        },
        {
          "output_type": "stream",
          "text": [
            "Computing accuracy\n",
            "Test set accuracy (MAP@2) = 0.4405737704918033\n",
            "epoch: 22\n",
            "torch.Size([128, 64, 24, 24])\n",
            "Epoch 22 Iteration 0: Loss = 0.10537970066070557, Number of mined triplets = 50296\n",
            "torch.Size([128, 64, 24, 24])\n",
            "torch.Size([128, 64, 24, 24])\n"
          ],
          "name": "stdout"
        },
        {
          "output_type": "stream",
          "text": [
            "\r  0%|          | 0/4 [00:00<?, ?it/s]"
          ],
          "name": "stderr"
        },
        {
          "output_type": "stream",
          "text": [
            "torch.Size([105, 64, 24, 24])\n"
          ],
          "name": "stdout"
        },
        {
          "output_type": "stream",
          "text": [
            "\r 25%|██▌       | 1/4 [00:03<00:10,  3.42s/it]"
          ],
          "name": "stderr"
        },
        {
          "output_type": "stream",
          "text": [
            "torch.Size([32, 64, 24, 24])\n"
          ],
          "name": "stdout"
        },
        {
          "output_type": "stream",
          "text": [
            "\r 50%|█████     | 2/4 [00:03<00:04,  2.46s/it]"
          ],
          "name": "stderr"
        },
        {
          "output_type": "stream",
          "text": [
            "torch.Size([32, 64, 24, 24])\n",
            "torch.Size([32, 64, 24, 24])\n",
            "torch.Size([26, 64, 24, 24])\n"
          ],
          "name": "stdout"
        },
        {
          "output_type": "stream",
          "text": [
            "\r100%|██████████| 4/4 [00:04<00:00,  1.10s/it]\n"
          ],
          "name": "stderr"
        },
        {
          "output_type": "stream",
          "text": [
            "Computing accuracy\n",
            "Test set accuracy (MAP@2) = 0.4344262295081967\n",
            "epoch: 23\n",
            "torch.Size([128, 64, 24, 24])\n",
            "Epoch 23 Iteration 0: Loss = 0.10598649829626083, Number of mined triplets = 51298\n",
            "torch.Size([128, 64, 24, 24])\n",
            "torch.Size([128, 64, 24, 24])\n"
          ],
          "name": "stdout"
        },
        {
          "output_type": "stream",
          "text": [
            "\r  0%|          | 0/4 [00:00<?, ?it/s]"
          ],
          "name": "stderr"
        },
        {
          "output_type": "stream",
          "text": [
            "torch.Size([105, 64, 24, 24])\n"
          ],
          "name": "stdout"
        },
        {
          "output_type": "stream",
          "text": [
            "\r 25%|██▌       | 1/4 [00:03<00:10,  3.61s/it]"
          ],
          "name": "stderr"
        },
        {
          "output_type": "stream",
          "text": [
            "torch.Size([32, 64, 24, 24])\n",
            "torch.Size([32, 64, 24, 24])\n",
            "torch.Size([32, 64, 24, 24])\n",
            "torch.Size([26, 64, 24, 24])\n"
          ],
          "name": "stdout"
        },
        {
          "output_type": "stream",
          "text": [
            "\r100%|██████████| 4/4 [00:04<00:00,  1.08s/it]\n"
          ],
          "name": "stderr"
        },
        {
          "output_type": "stream",
          "text": [
            "Computing accuracy\n",
            "Test set accuracy (MAP@2) = 0.4036885245901639\n",
            "epoch: 24\n",
            "torch.Size([128, 64, 24, 24])\n",
            "Epoch 24 Iteration 0: Loss = 0.10432583093643188, Number of mined triplets = 49017\n",
            "torch.Size([128, 64, 24, 24])\n",
            "torch.Size([128, 64, 24, 24])\n"
          ],
          "name": "stdout"
        },
        {
          "output_type": "stream",
          "text": [
            "\r  0%|          | 0/4 [00:00<?, ?it/s]"
          ],
          "name": "stderr"
        },
        {
          "output_type": "stream",
          "text": [
            "torch.Size([105, 64, 24, 24])\n"
          ],
          "name": "stdout"
        },
        {
          "output_type": "stream",
          "text": [
            "\r 25%|██▌       | 1/4 [00:03<00:10,  3.64s/it]"
          ],
          "name": "stderr"
        },
        {
          "output_type": "stream",
          "text": [
            "torch.Size([32, 64, 24, 24])\n",
            "torch.Size([32, 64, 24, 24])\n",
            "torch.Size([32, 64, 24, 24])\n",
            "torch.Size([26, 64, 24, 24])\n"
          ],
          "name": "stdout"
        },
        {
          "output_type": "stream",
          "text": [
            "\r100%|██████████| 4/4 [00:04<00:00,  1.08s/it]\n"
          ],
          "name": "stderr"
        },
        {
          "output_type": "stream",
          "text": [
            "Computing accuracy\n",
            "Test set accuracy (MAP@2) = 0.4385245901639344\n",
            "epoch: 25\n",
            "torch.Size([128, 64, 24, 24])\n",
            "Epoch 25 Iteration 0: Loss = 0.10531841963529587, Number of mined triplets = 50395\n",
            "torch.Size([128, 64, 24, 24])\n",
            "torch.Size([128, 64, 24, 24])\n"
          ],
          "name": "stdout"
        },
        {
          "output_type": "stream",
          "text": [
            "\r  0%|          | 0/4 [00:00<?, ?it/s]"
          ],
          "name": "stderr"
        },
        {
          "output_type": "stream",
          "text": [
            "torch.Size([105, 64, 24, 24])\n"
          ],
          "name": "stdout"
        },
        {
          "output_type": "stream",
          "text": [
            "\r 25%|██▌       | 1/4 [00:03<00:11,  3.71s/it]"
          ],
          "name": "stderr"
        },
        {
          "output_type": "stream",
          "text": [
            "torch.Size([32, 64, 24, 24])\n",
            "torch.Size([32, 64, 24, 24])\n",
            "torch.Size([32, 64, 24, 24])\n",
            "torch.Size([26, 64, 24, 24])\n"
          ],
          "name": "stdout"
        },
        {
          "output_type": "stream",
          "text": [
            "\r100%|██████████| 4/4 [00:04<00:00,  1.10s/it]\n"
          ],
          "name": "stderr"
        },
        {
          "output_type": "stream",
          "text": [
            "Computing accuracy\n",
            "Test set accuracy (MAP@2) = 0.39344262295081966\n",
            "epoch: 26\n",
            "torch.Size([128, 64, 24, 24])\n",
            "Epoch 26 Iteration 0: Loss = 0.10304315388202667, Number of mined triplets = 50585\n",
            "torch.Size([128, 64, 24, 24])\n",
            "torch.Size([128, 64, 24, 24])\n"
          ],
          "name": "stdout"
        },
        {
          "output_type": "stream",
          "text": [
            "\r  0%|          | 0/4 [00:00<?, ?it/s]"
          ],
          "name": "stderr"
        },
        {
          "output_type": "stream",
          "text": [
            "torch.Size([105, 64, 24, 24])\n"
          ],
          "name": "stdout"
        },
        {
          "output_type": "stream",
          "text": [
            "\r 25%|██▌       | 1/4 [00:03<00:10,  3.67s/it]"
          ],
          "name": "stderr"
        },
        {
          "output_type": "stream",
          "text": [
            "torch.Size([32, 64, 24, 24])\n",
            "torch.Size([32, 64, 24, 24])\n",
            "torch.Size([32, 64, 24, 24])\n",
            "torch.Size([26, 64, 24, 24])\n"
          ],
          "name": "stdout"
        },
        {
          "output_type": "stream",
          "text": [
            "\r100%|██████████| 4/4 [00:04<00:00,  1.10s/it]\n"
          ],
          "name": "stderr"
        },
        {
          "output_type": "stream",
          "text": [
            "Computing accuracy\n",
            "Test set accuracy (MAP@2) = 0.42418032786885246\n",
            "epoch: 27\n",
            "torch.Size([128, 64, 24, 24])\n",
            "Epoch 27 Iteration 0: Loss = 0.10268153995275497, Number of mined triplets = 50096\n",
            "torch.Size([128, 64, 24, 24])\n",
            "torch.Size([128, 64, 24, 24])\n"
          ],
          "name": "stdout"
        },
        {
          "output_type": "stream",
          "text": [
            "\r  0%|          | 0/4 [00:00<?, ?it/s]"
          ],
          "name": "stderr"
        },
        {
          "output_type": "stream",
          "text": [
            "torch.Size([105, 64, 24, 24])\n"
          ],
          "name": "stdout"
        },
        {
          "output_type": "stream",
          "text": [
            "\r 25%|██▌       | 1/4 [00:03<00:11,  3.72s/it]"
          ],
          "name": "stderr"
        },
        {
          "output_type": "stream",
          "text": [
            "torch.Size([32, 64, 24, 24])\n",
            "torch.Size([32, 64, 24, 24])\n",
            "torch.Size([32, 64, 24, 24])\n",
            "torch.Size([26, 64, 24, 24])\n"
          ],
          "name": "stdout"
        },
        {
          "output_type": "stream",
          "text": [
            "\r100%|██████████| 4/4 [00:04<00:00,  1.11s/it]\n"
          ],
          "name": "stderr"
        },
        {
          "output_type": "stream",
          "text": [
            "Computing accuracy\n",
            "Test set accuracy (MAP@2) = 0.47950819672131145\n",
            "epoch: 28\n",
            "torch.Size([128, 64, 24, 24])\n",
            "Epoch 28 Iteration 0: Loss = 0.10226579010486603, Number of mined triplets = 47586\n",
            "torch.Size([128, 64, 24, 24])\n",
            "torch.Size([128, 64, 24, 24])\n"
          ],
          "name": "stdout"
        },
        {
          "output_type": "stream",
          "text": [
            "\r  0%|          | 0/4 [00:00<?, ?it/s]"
          ],
          "name": "stderr"
        },
        {
          "output_type": "stream",
          "text": [
            "torch.Size([105, 64, 24, 24])\n"
          ],
          "name": "stdout"
        },
        {
          "output_type": "stream",
          "text": [
            "\r 25%|██▌       | 1/4 [00:03<00:11,  3.68s/it]"
          ],
          "name": "stderr"
        },
        {
          "output_type": "stream",
          "text": [
            "torch.Size([32, 64, 24, 24])\n",
            "torch.Size([32, 64, 24, 24])\n",
            "torch.Size([32, 64, 24, 24])\n",
            "torch.Size([26, 64, 24, 24])\n"
          ],
          "name": "stdout"
        },
        {
          "output_type": "stream",
          "text": [
            "\r100%|██████████| 4/4 [00:04<00:00,  1.09s/it]\n"
          ],
          "name": "stderr"
        },
        {
          "output_type": "stream",
          "text": [
            "Computing accuracy\n",
            "Test set accuracy (MAP@2) = 0.4405737704918033\n",
            "epoch: 29\n",
            "torch.Size([128, 64, 24, 24])\n",
            "Epoch 29 Iteration 0: Loss = 0.1048726737499237, Number of mined triplets = 49825\n",
            "torch.Size([128, 64, 24, 24])\n",
            "torch.Size([128, 64, 24, 24])\n"
          ],
          "name": "stdout"
        },
        {
          "output_type": "stream",
          "text": [
            "\r  0%|          | 0/4 [00:00<?, ?it/s]"
          ],
          "name": "stderr"
        },
        {
          "output_type": "stream",
          "text": [
            "torch.Size([105, 64, 24, 24])\n"
          ],
          "name": "stdout"
        },
        {
          "output_type": "stream",
          "text": [
            "\r 25%|██▌       | 1/4 [00:03<00:11,  3.67s/it]"
          ],
          "name": "stderr"
        },
        {
          "output_type": "stream",
          "text": [
            "torch.Size([32, 64, 24, 24])\n",
            "torch.Size([32, 64, 24, 24])\n",
            "torch.Size([32, 64, 24, 24])\n",
            "torch.Size([26, 64, 24, 24])\n"
          ],
          "name": "stdout"
        },
        {
          "output_type": "stream",
          "text": [
            "\r100%|██████████| 4/4 [00:04<00:00,  1.09s/it]\n"
          ],
          "name": "stderr"
        },
        {
          "output_type": "stream",
          "text": [
            "Computing accuracy\n",
            "Test set accuracy (MAP@2) = 0.4405737704918033\n",
            "epoch: 30\n",
            "torch.Size([128, 64, 24, 24])\n",
            "Epoch 30 Iteration 0: Loss = 0.10416153073310852, Number of mined triplets = 49830\n",
            "torch.Size([128, 64, 24, 24])\n",
            "torch.Size([128, 64, 24, 24])\n"
          ],
          "name": "stdout"
        },
        {
          "output_type": "stream",
          "text": [
            "\r  0%|          | 0/4 [00:00<?, ?it/s]"
          ],
          "name": "stderr"
        },
        {
          "output_type": "stream",
          "text": [
            "torch.Size([105, 64, 24, 24])\n"
          ],
          "name": "stdout"
        },
        {
          "output_type": "stream",
          "text": [
            "\r 25%|██▌       | 1/4 [00:03<00:11,  3.70s/it]"
          ],
          "name": "stderr"
        },
        {
          "output_type": "stream",
          "text": [
            "torch.Size([32, 64, 24, 24])\n",
            "torch.Size([32, 64, 24, 24])\n",
            "torch.Size([32, 64, 24, 24])\n",
            "torch.Size([26, 64, 24, 24])\n"
          ],
          "name": "stdout"
        },
        {
          "output_type": "stream",
          "text": [
            "\r100%|██████████| 4/4 [00:04<00:00,  1.10s/it]\n"
          ],
          "name": "stderr"
        },
        {
          "output_type": "stream",
          "text": [
            "Computing accuracy\n",
            "Test set accuracy (MAP@2) = 0.44672131147540983\n",
            "epoch: 31\n",
            "torch.Size([128, 64, 24, 24])\n",
            "Epoch 31 Iteration 0: Loss = 0.10385506600141525, Number of mined triplets = 49999\n",
            "torch.Size([128, 64, 24, 24])\n",
            "torch.Size([128, 64, 24, 24])\n"
          ],
          "name": "stdout"
        },
        {
          "output_type": "stream",
          "text": [
            "\r  0%|          | 0/4 [00:00<?, ?it/s]"
          ],
          "name": "stderr"
        },
        {
          "output_type": "stream",
          "text": [
            "torch.Size([105, 64, 24, 24])\n"
          ],
          "name": "stdout"
        },
        {
          "output_type": "stream",
          "text": [
            "\r 25%|██▌       | 1/4 [00:03<00:10,  3.65s/it]"
          ],
          "name": "stderr"
        },
        {
          "output_type": "stream",
          "text": [
            "torch.Size([32, 64, 24, 24])\n",
            "torch.Size([32, 64, 24, 24])\n",
            "torch.Size([32, 64, 24, 24])\n",
            "torch.Size([26, 64, 24, 24])\n"
          ],
          "name": "stdout"
        },
        {
          "output_type": "stream",
          "text": [
            "\r100%|██████████| 4/4 [00:04<00:00,  1.09s/it]\n"
          ],
          "name": "stderr"
        },
        {
          "output_type": "stream",
          "text": [
            "Computing accuracy\n",
            "Test set accuracy (MAP@2) = 0.4344262295081967\n",
            "epoch: 32\n",
            "torch.Size([128, 64, 24, 24])\n",
            "Epoch 32 Iteration 0: Loss = 0.10258056968450546, Number of mined triplets = 49507\n",
            "torch.Size([128, 64, 24, 24])\n",
            "torch.Size([128, 64, 24, 24])\n"
          ],
          "name": "stdout"
        },
        {
          "output_type": "stream",
          "text": [
            "\r  0%|          | 0/4 [00:00<?, ?it/s]"
          ],
          "name": "stderr"
        },
        {
          "output_type": "stream",
          "text": [
            "torch.Size([105, 64, 24, 24])\n"
          ],
          "name": "stdout"
        },
        {
          "output_type": "stream",
          "text": [
            "\r 25%|██▌       | 1/4 [00:03<00:11,  3.67s/it]"
          ],
          "name": "stderr"
        },
        {
          "output_type": "stream",
          "text": [
            "torch.Size([32, 64, 24, 24])\n",
            "torch.Size([32, 64, 24, 24])\n",
            "torch.Size([32, 64, 24, 24])\n",
            "torch.Size([26, 64, 24, 24])\n"
          ],
          "name": "stdout"
        },
        {
          "output_type": "stream",
          "text": [
            "\r100%|██████████| 4/4 [00:04<00:00,  1.09s/it]\n"
          ],
          "name": "stderr"
        },
        {
          "output_type": "stream",
          "text": [
            "Computing accuracy\n",
            "Test set accuracy (MAP@2) = 0.4610655737704918\n",
            "epoch: 33\n",
            "torch.Size([128, 64, 24, 24])\n",
            "Epoch 33 Iteration 0: Loss = 0.10523176193237305, Number of mined triplets = 51139\n",
            "torch.Size([128, 64, 24, 24])\n",
            "torch.Size([128, 64, 24, 24])\n"
          ],
          "name": "stdout"
        },
        {
          "output_type": "stream",
          "text": [
            "\r  0%|          | 0/4 [00:00<?, ?it/s]"
          ],
          "name": "stderr"
        },
        {
          "output_type": "stream",
          "text": [
            "torch.Size([105, 64, 24, 24])\n"
          ],
          "name": "stdout"
        },
        {
          "output_type": "stream",
          "text": [
            "\r 25%|██▌       | 1/4 [00:03<00:10,  3.57s/it]"
          ],
          "name": "stderr"
        },
        {
          "output_type": "stream",
          "text": [
            "torch.Size([32, 64, 24, 24])\n"
          ],
          "name": "stdout"
        },
        {
          "output_type": "stream",
          "text": [
            "\r 50%|█████     | 2/4 [00:03<00:05,  2.56s/it]"
          ],
          "name": "stderr"
        },
        {
          "output_type": "stream",
          "text": [
            "torch.Size([32, 64, 24, 24])\n",
            "torch.Size([32, 64, 24, 24])\n",
            "torch.Size([26, 64, 24, 24])\n"
          ],
          "name": "stdout"
        },
        {
          "output_type": "stream",
          "text": [
            "\r100%|██████████| 4/4 [00:04<00:00,  1.12s/it]\n"
          ],
          "name": "stderr"
        },
        {
          "output_type": "stream",
          "text": [
            "Computing accuracy\n",
            "Test set accuracy (MAP@2) = 0.4692622950819672\n",
            "epoch: 34\n",
            "torch.Size([128, 64, 24, 24])\n",
            "Epoch 34 Iteration 0: Loss = 0.10399216413497925, Number of mined triplets = 50329\n",
            "torch.Size([128, 64, 24, 24])\n",
            "torch.Size([128, 64, 24, 24])\n"
          ],
          "name": "stdout"
        },
        {
          "output_type": "stream",
          "text": [
            "\r  0%|          | 0/4 [00:00<?, ?it/s]"
          ],
          "name": "stderr"
        },
        {
          "output_type": "stream",
          "text": [
            "torch.Size([105, 64, 24, 24])\n"
          ],
          "name": "stdout"
        },
        {
          "output_type": "stream",
          "text": [
            "\r 25%|██▌       | 1/4 [00:03<00:10,  3.64s/it]"
          ],
          "name": "stderr"
        },
        {
          "output_type": "stream",
          "text": [
            "torch.Size([32, 64, 24, 24])\n",
            "torch.Size([32, 64, 24, 24])\n",
            "torch.Size([32, 64, 24, 24])\n",
            "torch.Size([26, 64, 24, 24])\n"
          ],
          "name": "stdout"
        },
        {
          "output_type": "stream",
          "text": [
            "\r100%|██████████| 4/4 [00:04<00:00,  1.09s/it]\n"
          ],
          "name": "stderr"
        },
        {
          "output_type": "stream",
          "text": [
            "Computing accuracy\n",
            "Test set accuracy (MAP@2) = 0.4098360655737705\n",
            "epoch: 35\n",
            "torch.Size([128, 64, 24, 24])\n",
            "Epoch 35 Iteration 0: Loss = 0.10345831513404846, Number of mined triplets = 50830\n",
            "torch.Size([128, 64, 24, 24])\n",
            "torch.Size([128, 64, 24, 24])\n"
          ],
          "name": "stdout"
        },
        {
          "output_type": "stream",
          "text": [
            "\r  0%|          | 0/4 [00:00<?, ?it/s]"
          ],
          "name": "stderr"
        },
        {
          "output_type": "stream",
          "text": [
            "torch.Size([105, 64, 24, 24])\n"
          ],
          "name": "stdout"
        },
        {
          "output_type": "stream",
          "text": [
            "\r 25%|██▌       | 1/4 [00:03<00:10,  3.64s/it]"
          ],
          "name": "stderr"
        },
        {
          "output_type": "stream",
          "text": [
            "torch.Size([32, 64, 24, 24])\n",
            "torch.Size([32, 64, 24, 24])\n",
            "torch.Size([32, 64, 24, 24])\n",
            "torch.Size([26, 64, 24, 24])\n"
          ],
          "name": "stdout"
        },
        {
          "output_type": "stream",
          "text": [
            "\r100%|██████████| 4/4 [00:04<00:00,  1.09s/it]\n"
          ],
          "name": "stderr"
        },
        {
          "output_type": "stream",
          "text": [
            "Computing accuracy\n",
            "Test set accuracy (MAP@2) = 0.41188524590163933\n",
            "epoch: 36\n",
            "torch.Size([128, 64, 24, 24])\n",
            "Epoch 36 Iteration 0: Loss = 0.10379034280776978, Number of mined triplets = 49327\n",
            "torch.Size([128, 64, 24, 24])\n",
            "torch.Size([128, 64, 24, 24])\n"
          ],
          "name": "stdout"
        },
        {
          "output_type": "stream",
          "text": [
            "\r  0%|          | 0/4 [00:00<?, ?it/s]"
          ],
          "name": "stderr"
        },
        {
          "output_type": "stream",
          "text": [
            "torch.Size([105, 64, 24, 24])\n"
          ],
          "name": "stdout"
        },
        {
          "output_type": "stream",
          "text": [
            "\r 25%|██▌       | 1/4 [00:03<00:10,  3.65s/it]"
          ],
          "name": "stderr"
        },
        {
          "output_type": "stream",
          "text": [
            "torch.Size([32, 64, 24, 24])\n",
            "torch.Size([32, 64, 24, 24])\n",
            "torch.Size([32, 64, 24, 24])\n",
            "torch.Size([26, 64, 24, 24])\n"
          ],
          "name": "stdout"
        },
        {
          "output_type": "stream",
          "text": [
            "\r100%|██████████| 4/4 [00:04<00:00,  1.10s/it]\n"
          ],
          "name": "stderr"
        },
        {
          "output_type": "stream",
          "text": [
            "Computing accuracy\n",
            "Test set accuracy (MAP@2) = 0.48770491803278687\n",
            "epoch: 37\n",
            "torch.Size([128, 64, 24, 24])\n",
            "Epoch 37 Iteration 0: Loss = 0.10309737920761108, Number of mined triplets = 49400\n",
            "torch.Size([128, 64, 24, 24])\n",
            "torch.Size([128, 64, 24, 24])\n"
          ],
          "name": "stdout"
        },
        {
          "output_type": "stream",
          "text": [
            "\r  0%|          | 0/4 [00:00<?, ?it/s]"
          ],
          "name": "stderr"
        },
        {
          "output_type": "stream",
          "text": [
            "torch.Size([105, 64, 24, 24])\n"
          ],
          "name": "stdout"
        },
        {
          "output_type": "stream",
          "text": [
            " 50%|█████     | 2/4 [00:03<00:05,  2.51s/it]"
          ],
          "name": "stderr"
        },
        {
          "output_type": "stream",
          "text": [
            "torch.Size([32, 64, 24, 24])\n",
            "torch.Size([32, 64, 24, 24])\n",
            "torch.Size([32, 64, 24, 24])\n",
            "torch.Size([26, 64, 24, 24])\n"
          ],
          "name": "stdout"
        },
        {
          "output_type": "stream",
          "text": [
            "\r100%|██████████| 4/4 [00:04<00:00,  1.10s/it]\n"
          ],
          "name": "stderr"
        },
        {
          "output_type": "stream",
          "text": [
            "Computing accuracy\n",
            "Test set accuracy (MAP@2) = 0.45491803278688525\n",
            "epoch: 38\n",
            "torch.Size([128, 64, 24, 24])\n",
            "Epoch 38 Iteration 0: Loss = 0.10271651297807693, Number of mined triplets = 50565\n",
            "torch.Size([128, 64, 24, 24])\n",
            "torch.Size([128, 64, 24, 24])\n"
          ],
          "name": "stdout"
        },
        {
          "output_type": "stream",
          "text": [
            "\r  0%|          | 0/4 [00:00<?, ?it/s]"
          ],
          "name": "stderr"
        },
        {
          "output_type": "stream",
          "text": [
            "torch.Size([105, 64, 24, 24])\n"
          ],
          "name": "stdout"
        },
        {
          "output_type": "stream",
          "text": [
            " 75%|███████▌  | 3/4 [00:03<00:02,  2.50s/it]"
          ],
          "name": "stderr"
        },
        {
          "output_type": "stream",
          "text": [
            "torch.Size([32, 64, 24, 24])\n",
            "torch.Size([32, 64, 24, 24])\n",
            "torch.Size([32, 64, 24, 24])\n",
            "torch.Size([26, 64, 24, 24])\n"
          ],
          "name": "stdout"
        },
        {
          "output_type": "stream",
          "text": [
            "\r100%|██████████| 4/4 [00:04<00:00,  1.09s/it]\n"
          ],
          "name": "stderr"
        },
        {
          "output_type": "stream",
          "text": [
            "Computing accuracy\n",
            "Test set accuracy (MAP@2) = 0.4323770491803279\n",
            "epoch: 39\n",
            "torch.Size([128, 64, 24, 24])\n",
            "Epoch 39 Iteration 0: Loss = 0.1048947349190712, Number of mined triplets = 48860\n",
            "torch.Size([128, 64, 24, 24])\n",
            "torch.Size([128, 64, 24, 24])\n"
          ],
          "name": "stdout"
        },
        {
          "output_type": "stream",
          "text": [
            "\r  0%|          | 0/4 [00:00<?, ?it/s]"
          ],
          "name": "stderr"
        },
        {
          "output_type": "stream",
          "text": [
            "torch.Size([105, 64, 24, 24])\n"
          ],
          "name": "stdout"
        },
        {
          "output_type": "stream",
          "text": [
            "\r 25%|██▌       | 1/4 [00:03<00:10,  3.61s/it]"
          ],
          "name": "stderr"
        },
        {
          "output_type": "stream",
          "text": [
            "torch.Size([32, 64, 24, 24])\n",
            "torch.Size([32, 64, 24, 24])\n",
            "torch.Size([32, 64, 24, 24])\n",
            "torch.Size([26, 64, 24, 24])\n"
          ],
          "name": "stdout"
        },
        {
          "output_type": "stream",
          "text": [
            "\r100%|██████████| 4/4 [00:04<00:00,  1.08s/it]\n"
          ],
          "name": "stderr"
        },
        {
          "output_type": "stream",
          "text": [
            "Computing accuracy\n",
            "Test set accuracy (MAP@2) = 0.4672131147540984\n",
            "epoch: 40\n",
            "torch.Size([128, 64, 24, 24])\n",
            "Epoch 40 Iteration 0: Loss = 0.10373623669147491, Number of mined triplets = 47976\n",
            "torch.Size([128, 64, 24, 24])\n",
            "torch.Size([128, 64, 24, 24])\n"
          ],
          "name": "stdout"
        },
        {
          "output_type": "stream",
          "text": [
            "\r  0%|          | 0/4 [00:00<?, ?it/s]"
          ],
          "name": "stderr"
        },
        {
          "output_type": "stream",
          "text": [
            "torch.Size([105, 64, 24, 24])\n"
          ],
          "name": "stdout"
        },
        {
          "output_type": "stream",
          "text": [
            "\r 25%|██▌       | 1/4 [00:03<00:10,  3.65s/it]"
          ],
          "name": "stderr"
        },
        {
          "output_type": "stream",
          "text": [
            "torch.Size([32, 64, 24, 24])\n",
            "torch.Size([32, 64, 24, 24])\n",
            "torch.Size([32, 64, 24, 24])\n",
            "torch.Size([26, 64, 24, 24])\n"
          ],
          "name": "stdout"
        },
        {
          "output_type": "stream",
          "text": [
            "\r100%|██████████| 4/4 [00:04<00:00,  1.08s/it]\n"
          ],
          "name": "stderr"
        },
        {
          "output_type": "stream",
          "text": [
            "Computing accuracy\n",
            "Test set accuracy (MAP@2) = 0.42827868852459017\n",
            "epoch: 41\n",
            "torch.Size([128, 64, 24, 24])\n",
            "Epoch 41 Iteration 0: Loss = 0.10226316750049591, Number of mined triplets = 50103\n",
            "torch.Size([128, 64, 24, 24])\n",
            "torch.Size([128, 64, 24, 24])\n"
          ],
          "name": "stdout"
        },
        {
          "output_type": "stream",
          "text": [
            "\r  0%|          | 0/4 [00:00<?, ?it/s]"
          ],
          "name": "stderr"
        },
        {
          "output_type": "stream",
          "text": [
            "torch.Size([105, 64, 24, 24])\n"
          ],
          "name": "stdout"
        },
        {
          "output_type": "stream",
          "text": [
            " 50%|█████     | 2/4 [00:03<00:04,  2.49s/it]"
          ],
          "name": "stderr"
        },
        {
          "output_type": "stream",
          "text": [
            "torch.Size([32, 64, 24, 24])\n",
            "torch.Size([32, 64, 24, 24])\n",
            "torch.Size([32, 64, 24, 24])\n",
            "torch.Size([26, 64, 24, 24])\n"
          ],
          "name": "stdout"
        },
        {
          "output_type": "stream",
          "text": [
            "\r100%|██████████| 4/4 [00:04<00:00,  1.09s/it]\n"
          ],
          "name": "stderr"
        },
        {
          "output_type": "stream",
          "text": [
            "Computing accuracy\n",
            "Test set accuracy (MAP@2) = 0.4672131147540984\n",
            "epoch: 42\n",
            "torch.Size([128, 64, 24, 24])\n",
            "Epoch 42 Iteration 0: Loss = 0.10270572453737259, Number of mined triplets = 50088\n",
            "torch.Size([128, 64, 24, 24])\n",
            "torch.Size([128, 64, 24, 24])\n"
          ],
          "name": "stdout"
        },
        {
          "output_type": "stream",
          "text": [
            "\r  0%|          | 0/4 [00:00<?, ?it/s]"
          ],
          "name": "stderr"
        },
        {
          "output_type": "stream",
          "text": [
            "torch.Size([105, 64, 24, 24])\n"
          ],
          "name": "stdout"
        },
        {
          "output_type": "stream",
          "text": [
            "\r 25%|██▌       | 1/4 [00:03<00:10,  3.56s/it]"
          ],
          "name": "stderr"
        },
        {
          "output_type": "stream",
          "text": [
            "torch.Size([32, 64, 24, 24])\n",
            "torch.Size([32, 64, 24, 24])\n",
            "torch.Size([32, 64, 24, 24])\n",
            "torch.Size([26, 64, 24, 24])\n"
          ],
          "name": "stdout"
        },
        {
          "output_type": "stream",
          "text": [
            "\r100%|██████████| 4/4 [00:04<00:00,  1.08s/it]\n"
          ],
          "name": "stderr"
        },
        {
          "output_type": "stream",
          "text": [
            "Computing accuracy\n",
            "Test set accuracy (MAP@2) = 0.39959016393442626\n",
            "epoch: 43\n",
            "torch.Size([128, 64, 24, 24])\n",
            "Epoch 43 Iteration 0: Loss = 0.10360703617334366, Number of mined triplets = 49922\n",
            "torch.Size([128, 64, 24, 24])\n",
            "torch.Size([128, 64, 24, 24])\n"
          ],
          "name": "stdout"
        },
        {
          "output_type": "stream",
          "text": [
            "\r  0%|          | 0/4 [00:00<?, ?it/s]"
          ],
          "name": "stderr"
        },
        {
          "output_type": "stream",
          "text": [
            "torch.Size([105, 64, 24, 24])\n"
          ],
          "name": "stdout"
        },
        {
          "output_type": "stream",
          "text": [
            "\r 25%|██▌       | 1/4 [00:03<00:10,  3.64s/it]"
          ],
          "name": "stderr"
        },
        {
          "output_type": "stream",
          "text": [
            "torch.Size([32, 64, 24, 24])\n",
            "torch.Size([32, 64, 24, 24])\n",
            "torch.Size([32, 64, 24, 24])\n",
            "torch.Size([26, 64, 24, 24])\n"
          ],
          "name": "stdout"
        },
        {
          "output_type": "stream",
          "text": [
            "\r100%|██████████| 4/4 [00:04<00:00,  1.09s/it]\n"
          ],
          "name": "stderr"
        },
        {
          "output_type": "stream",
          "text": [
            "Computing accuracy\n",
            "Test set accuracy (MAP@2) = 0.42008196721311475\n",
            "epoch: 44\n",
            "torch.Size([128, 64, 24, 24])\n",
            "Epoch 44 Iteration 0: Loss = 0.10292026400566101, Number of mined triplets = 50778\n",
            "torch.Size([128, 64, 24, 24])\n",
            "torch.Size([128, 64, 24, 24])\n"
          ],
          "name": "stdout"
        },
        {
          "output_type": "stream",
          "text": [
            "\r  0%|          | 0/4 [00:00<?, ?it/s]"
          ],
          "name": "stderr"
        },
        {
          "output_type": "stream",
          "text": [
            "torch.Size([105, 64, 24, 24])\n"
          ],
          "name": "stdout"
        },
        {
          "output_type": "stream",
          "text": [
            " 75%|███████▌  | 3/4 [00:03<00:02,  2.50s/it]"
          ],
          "name": "stderr"
        },
        {
          "output_type": "stream",
          "text": [
            "torch.Size([32, 64, 24, 24])\n",
            "torch.Size([32, 64, 24, 24])\n",
            "torch.Size([32, 64, 24, 24])\n",
            "torch.Size([26, 64, 24, 24])\n"
          ],
          "name": "stdout"
        },
        {
          "output_type": "stream",
          "text": [
            "\r100%|██████████| 4/4 [00:04<00:00,  1.09s/it]\n"
          ],
          "name": "stderr"
        },
        {
          "output_type": "stream",
          "text": [
            "Computing accuracy\n",
            "Test set accuracy (MAP@2) = 0.4610655737704918\n",
            "epoch: 45\n",
            "torch.Size([128, 64, 24, 24])\n",
            "Epoch 45 Iteration 0: Loss = 0.10392893850803375, Number of mined triplets = 50899\n",
            "torch.Size([128, 64, 24, 24])\n",
            "torch.Size([128, 64, 24, 24])\n"
          ],
          "name": "stdout"
        },
        {
          "output_type": "stream",
          "text": [
            "\r  0%|          | 0/4 [00:00<?, ?it/s]"
          ],
          "name": "stderr"
        },
        {
          "output_type": "stream",
          "text": [
            "torch.Size([105, 64, 24, 24])\n"
          ],
          "name": "stdout"
        },
        {
          "output_type": "stream",
          "text": [
            "\r 25%|██▌       | 1/4 [00:03<00:10,  3.63s/it]"
          ],
          "name": "stderr"
        },
        {
          "output_type": "stream",
          "text": [
            "torch.Size([32, 64, 24, 24])\n",
            "torch.Size([32, 64, 24, 24])\n",
            "torch.Size([32, 64, 24, 24])\n",
            "torch.Size([26, 64, 24, 24])\n"
          ],
          "name": "stdout"
        },
        {
          "output_type": "stream",
          "text": [
            "\r100%|██████████| 4/4 [00:04<00:00,  1.10s/it]\n"
          ],
          "name": "stderr"
        },
        {
          "output_type": "stream",
          "text": [
            "Computing accuracy\n",
            "Test set accuracy (MAP@2) = 0.3524590163934426\n",
            "epoch: 46\n",
            "torch.Size([128, 64, 24, 24])\n",
            "Epoch 46 Iteration 0: Loss = 0.10290554910898209, Number of mined triplets = 52141\n",
            "torch.Size([128, 64, 24, 24])\n",
            "torch.Size([128, 64, 24, 24])\n"
          ],
          "name": "stdout"
        },
        {
          "output_type": "stream",
          "text": [
            "\r  0%|          | 0/4 [00:00<?, ?it/s]"
          ],
          "name": "stderr"
        },
        {
          "output_type": "stream",
          "text": [
            "torch.Size([105, 64, 24, 24])\n"
          ],
          "name": "stdout"
        },
        {
          "output_type": "stream",
          "text": [
            "\r 25%|██▌       | 1/4 [00:03<00:10,  3.46s/it]"
          ],
          "name": "stderr"
        },
        {
          "output_type": "stream",
          "text": [
            "torch.Size([32, 64, 24, 24])\n"
          ],
          "name": "stdout"
        },
        {
          "output_type": "stream",
          "text": [
            "\r 50%|█████     | 2/4 [00:03<00:04,  2.49s/it]"
          ],
          "name": "stderr"
        },
        {
          "output_type": "stream",
          "text": [
            "torch.Size([32, 64, 24, 24])\n",
            "torch.Size([32, 64, 24, 24])\n",
            "torch.Size([26, 64, 24, 24])\n"
          ],
          "name": "stdout"
        },
        {
          "output_type": "stream",
          "text": [
            "\r100%|██████████| 4/4 [00:04<00:00,  1.10s/it]\n"
          ],
          "name": "stderr"
        },
        {
          "output_type": "stream",
          "text": [
            "Computing accuracy\n",
            "Test set accuracy (MAP@2) = 0.39549180327868855\n",
            "epoch: 47\n",
            "torch.Size([128, 64, 24, 24])\n",
            "Epoch 47 Iteration 0: Loss = 0.10277890413999557, Number of mined triplets = 52473\n",
            "torch.Size([128, 64, 24, 24])\n",
            "torch.Size([128, 64, 24, 24])\n"
          ],
          "name": "stdout"
        },
        {
          "output_type": "stream",
          "text": [
            "\r  0%|          | 0/4 [00:00<?, ?it/s]"
          ],
          "name": "stderr"
        },
        {
          "output_type": "stream",
          "text": [
            "torch.Size([105, 64, 24, 24])\n"
          ],
          "name": "stdout"
        },
        {
          "output_type": "stream",
          "text": [
            "\r 25%|██▌       | 1/4 [00:03<00:10,  3.64s/it]"
          ],
          "name": "stderr"
        },
        {
          "output_type": "stream",
          "text": [
            "torch.Size([32, 64, 24, 24])\n",
            "torch.Size([32, 64, 24, 24])\n",
            "torch.Size([32, 64, 24, 24])\n",
            "torch.Size([26, 64, 24, 24])\n"
          ],
          "name": "stdout"
        },
        {
          "output_type": "stream",
          "text": [
            "\r100%|██████████| 4/4 [00:04<00:00,  1.08s/it]\n"
          ],
          "name": "stderr"
        },
        {
          "output_type": "stream",
          "text": [
            "Computing accuracy\n",
            "Test set accuracy (MAP@2) = 0.41598360655737704\n",
            "epoch: 48\n",
            "torch.Size([128, 64, 24, 24])\n",
            "Epoch 48 Iteration 0: Loss = 0.1028233990073204, Number of mined triplets = 49970\n",
            "torch.Size([128, 64, 24, 24])\n",
            "torch.Size([128, 64, 24, 24])\n"
          ],
          "name": "stdout"
        },
        {
          "output_type": "stream",
          "text": [
            "\r  0%|          | 0/4 [00:00<?, ?it/s]"
          ],
          "name": "stderr"
        },
        {
          "output_type": "stream",
          "text": [
            "torch.Size([105, 64, 24, 24])\n"
          ],
          "name": "stdout"
        },
        {
          "output_type": "stream",
          "text": [
            "\r 25%|██▌       | 1/4 [00:03<00:10,  3.58s/it]"
          ],
          "name": "stderr"
        },
        {
          "output_type": "stream",
          "text": [
            "torch.Size([32, 64, 24, 24])\n",
            "torch.Size([32, 64, 24, 24])\n",
            "torch.Size([32, 64, 24, 24])\n",
            "torch.Size([26, 64, 24, 24])\n"
          ],
          "name": "stdout"
        },
        {
          "output_type": "stream",
          "text": [
            "\r100%|██████████| 4/4 [00:04<00:00,  1.09s/it]\n"
          ],
          "name": "stderr"
        },
        {
          "output_type": "stream",
          "text": [
            "Computing accuracy\n",
            "Test set accuracy (MAP@2) = 0.3975409836065574\n",
            "epoch: 49\n",
            "torch.Size([128, 64, 24, 24])\n",
            "Epoch 49 Iteration 0: Loss = 0.1023738756775856, Number of mined triplets = 53510\n",
            "torch.Size([128, 64, 24, 24])\n",
            "torch.Size([128, 64, 24, 24])\n"
          ],
          "name": "stdout"
        },
        {
          "output_type": "stream",
          "text": [
            "\r  0%|          | 0/4 [00:00<?, ?it/s]"
          ],
          "name": "stderr"
        },
        {
          "output_type": "stream",
          "text": [
            "torch.Size([105, 64, 24, 24])\n"
          ],
          "name": "stdout"
        },
        {
          "output_type": "stream",
          "text": [
            " 50%|█████     | 2/4 [00:03<00:04,  2.47s/it]"
          ],
          "name": "stderr"
        },
        {
          "output_type": "stream",
          "text": [
            "torch.Size([32, 64, 24, 24])\n",
            "torch.Size([32, 64, 24, 24])\n",
            "torch.Size([32, 64, 24, 24])\n",
            "torch.Size([26, 64, 24, 24])\n"
          ],
          "name": "stdout"
        },
        {
          "output_type": "stream",
          "text": [
            "\r100%|██████████| 4/4 [00:04<00:00,  1.07s/it]\n"
          ],
          "name": "stderr"
        },
        {
          "output_type": "stream",
          "text": [
            "Computing accuracy\n",
            "Test set accuracy (MAP@2) = 0.3729508196721312\n",
            "fold 2\n",
            "epoch: 1\n",
            "torch.Size([128, 64, 24, 24])\n",
            "Epoch 1 Iteration 0: Loss = 0.1094135269522667, Number of mined triplets = 177603\n",
            "torch.Size([128, 64, 24, 24])\n",
            "torch.Size([128, 64, 24, 24])\n"
          ],
          "name": "stdout"
        },
        {
          "output_type": "stream",
          "text": [
            "\r  0%|          | 0/4 [00:00<?, ?it/s]"
          ],
          "name": "stderr"
        },
        {
          "output_type": "stream",
          "text": [
            "torch.Size([105, 64, 24, 24])\n"
          ],
          "name": "stdout"
        },
        {
          "output_type": "stream",
          "text": [
            "\r 25%|██▌       | 1/4 [00:03<00:10,  3.57s/it]"
          ],
          "name": "stderr"
        },
        {
          "output_type": "stream",
          "text": [
            "torch.Size([32, 64, 24, 24])\n",
            "torch.Size([32, 64, 24, 24])\n",
            "torch.Size([32, 64, 24, 24])\n",
            "torch.Size([26, 64, 24, 24])\n"
          ],
          "name": "stdout"
        },
        {
          "output_type": "stream",
          "text": [
            "\r100%|██████████| 4/4 [00:04<00:00,  1.10s/it]\n"
          ],
          "name": "stderr"
        },
        {
          "output_type": "stream",
          "text": [
            "Computing accuracy\n",
            "Test set accuracy (MAP@2) = 0.3975409836065574\n",
            "epoch: 2\n",
            "torch.Size([128, 64, 24, 24])\n",
            "Epoch 2 Iteration 0: Loss = 0.1154773086309433, Number of mined triplets = 71794\n",
            "torch.Size([128, 64, 24, 24])\n",
            "torch.Size([128, 64, 24, 24])\n"
          ],
          "name": "stdout"
        },
        {
          "output_type": "stream",
          "text": [
            "\r  0%|          | 0/4 [00:00<?, ?it/s]"
          ],
          "name": "stderr"
        },
        {
          "output_type": "stream",
          "text": [
            "torch.Size([105, 64, 24, 24])\n"
          ],
          "name": "stdout"
        },
        {
          "output_type": "stream",
          "text": [
            "\r 25%|██▌       | 1/4 [00:03<00:11,  3.70s/it]"
          ],
          "name": "stderr"
        },
        {
          "output_type": "stream",
          "text": [
            "torch.Size([32, 64, 24, 24])\n",
            "torch.Size([32, 64, 24, 24])\n",
            "torch.Size([32, 64, 24, 24])\n",
            "torch.Size([26, 64, 24, 24])\n"
          ],
          "name": "stdout"
        },
        {
          "output_type": "stream",
          "text": [
            "\r100%|██████████| 4/4 [00:04<00:00,  1.10s/it]\n"
          ],
          "name": "stderr"
        },
        {
          "output_type": "stream",
          "text": [
            "Computing accuracy\n",
            "Test set accuracy (MAP@2) = 0.47950819672131145\n",
            "epoch: 3\n",
            "torch.Size([128, 64, 24, 24])\n",
            "Epoch 3 Iteration 0: Loss = 0.11122176796197891, Number of mined triplets = 52800\n",
            "torch.Size([128, 64, 24, 24])\n",
            "torch.Size([128, 64, 24, 24])\n"
          ],
          "name": "stdout"
        },
        {
          "output_type": "stream",
          "text": [
            "\r  0%|          | 0/4 [00:00<?, ?it/s]"
          ],
          "name": "stderr"
        },
        {
          "output_type": "stream",
          "text": [
            "torch.Size([105, 64, 24, 24])\n"
          ],
          "name": "stdout"
        },
        {
          "output_type": "stream",
          "text": [
            "\r 25%|██▌       | 1/4 [00:03<00:10,  3.62s/it]"
          ],
          "name": "stderr"
        },
        {
          "output_type": "stream",
          "text": [
            "torch.Size([32, 64, 24, 24])\n",
            "torch.Size([32, 64, 24, 24])\n",
            "torch.Size([32, 64, 24, 24])\n",
            "torch.Size([26, 64, 24, 24])\n"
          ],
          "name": "stdout"
        },
        {
          "output_type": "stream",
          "text": [
            "\r100%|██████████| 4/4 [00:04<00:00,  1.07s/it]\n"
          ],
          "name": "stderr"
        },
        {
          "output_type": "stream",
          "text": [
            "Computing accuracy\n",
            "Test set accuracy (MAP@2) = 0.48155737704918034\n",
            "epoch: 4\n",
            "torch.Size([128, 64, 24, 24])\n",
            "Epoch 4 Iteration 0: Loss = 0.1052451878786087, Number of mined triplets = 53437\n",
            "torch.Size([128, 64, 24, 24])\n",
            "torch.Size([128, 64, 24, 24])\n"
          ],
          "name": "stdout"
        },
        {
          "output_type": "stream",
          "text": [
            "\r  0%|          | 0/4 [00:00<?, ?it/s]"
          ],
          "name": "stderr"
        },
        {
          "output_type": "stream",
          "text": [
            "torch.Size([105, 64, 24, 24])\n"
          ],
          "name": "stdout"
        },
        {
          "output_type": "stream",
          "text": [
            " 75%|███████▌  | 3/4 [00:03<00:02,  2.50s/it]"
          ],
          "name": "stderr"
        },
        {
          "output_type": "stream",
          "text": [
            "torch.Size([32, 64, 24, 24])\n",
            "torch.Size([32, 64, 24, 24])\n",
            "torch.Size([32, 64, 24, 24])\n",
            "torch.Size([26, 64, 24, 24])\n"
          ],
          "name": "stdout"
        },
        {
          "output_type": "stream",
          "text": [
            "\r100%|██████████| 4/4 [00:04<00:00,  1.09s/it]\n"
          ],
          "name": "stderr"
        },
        {
          "output_type": "stream",
          "text": [
            "Computing accuracy\n",
            "Test set accuracy (MAP@2) = 0.42008196721311475\n",
            "epoch: 5\n",
            "torch.Size([128, 64, 24, 24])\n",
            "Epoch 5 Iteration 0: Loss = 0.10579916834831238, Number of mined triplets = 53994\n",
            "torch.Size([128, 64, 24, 24])\n",
            "torch.Size([128, 64, 24, 24])\n"
          ],
          "name": "stdout"
        },
        {
          "output_type": "stream",
          "text": [
            "\r  0%|          | 0/4 [00:00<?, ?it/s]"
          ],
          "name": "stderr"
        },
        {
          "output_type": "stream",
          "text": [
            "torch.Size([105, 64, 24, 24])\n"
          ],
          "name": "stdout"
        },
        {
          "output_type": "stream",
          "text": [
            "\r 25%|██▌       | 1/4 [00:03<00:10,  3.63s/it]"
          ],
          "name": "stderr"
        },
        {
          "output_type": "stream",
          "text": [
            "torch.Size([32, 64, 24, 24])\n",
            "torch.Size([32, 64, 24, 24])\n",
            "torch.Size([32, 64, 24, 24])\n",
            "torch.Size([26, 64, 24, 24])\n"
          ],
          "name": "stdout"
        },
        {
          "output_type": "stream",
          "text": [
            "\r100%|██████████| 4/4 [00:04<00:00,  1.09s/it]\n"
          ],
          "name": "stderr"
        },
        {
          "output_type": "stream",
          "text": [
            "Computing accuracy\n",
            "Test set accuracy (MAP@2) = 0.35860655737704916\n",
            "epoch: 6\n",
            "torch.Size([128, 64, 24, 24])\n",
            "Epoch 6 Iteration 0: Loss = 0.1083282083272934, Number of mined triplets = 51115\n",
            "torch.Size([128, 64, 24, 24])\n",
            "torch.Size([128, 64, 24, 24])\n"
          ],
          "name": "stdout"
        },
        {
          "output_type": "stream",
          "text": [
            "\r  0%|          | 0/4 [00:00<?, ?it/s]"
          ],
          "name": "stderr"
        },
        {
          "output_type": "stream",
          "text": [
            "torch.Size([105, 64, 24, 24])\n"
          ],
          "name": "stdout"
        },
        {
          "output_type": "stream",
          "text": [
            "\r 25%|██▌       | 1/4 [00:03<00:11,  3.67s/it]"
          ],
          "name": "stderr"
        },
        {
          "output_type": "stream",
          "text": [
            "torch.Size([32, 64, 24, 24])\n",
            "torch.Size([32, 64, 24, 24])\n",
            "torch.Size([32, 64, 24, 24])\n",
            "torch.Size([26, 64, 24, 24])\n"
          ],
          "name": "stdout"
        },
        {
          "output_type": "stream",
          "text": [
            "\r100%|██████████| 4/4 [00:04<00:00,  1.09s/it]\n"
          ],
          "name": "stderr"
        },
        {
          "output_type": "stream",
          "text": [
            "Computing accuracy\n",
            "Test set accuracy (MAP@2) = 0.5061475409836066\n",
            "epoch: 7\n",
            "torch.Size([128, 64, 24, 24])\n",
            "Epoch 7 Iteration 0: Loss = 0.10906347632408142, Number of mined triplets = 52606\n",
            "torch.Size([128, 64, 24, 24])\n",
            "torch.Size([128, 64, 24, 24])\n"
          ],
          "name": "stdout"
        },
        {
          "output_type": "stream",
          "text": [
            "\r  0%|          | 0/4 [00:00<?, ?it/s]"
          ],
          "name": "stderr"
        },
        {
          "output_type": "stream",
          "text": [
            "torch.Size([105, 64, 24, 24])\n"
          ],
          "name": "stdout"
        },
        {
          "output_type": "stream",
          "text": [
            "\r 25%|██▌       | 1/4 [00:03<00:10,  3.59s/it]"
          ],
          "name": "stderr"
        },
        {
          "output_type": "stream",
          "text": [
            "torch.Size([32, 64, 24, 24])\n",
            "torch.Size([32, 64, 24, 24])\n",
            "torch.Size([32, 64, 24, 24])\n",
            "torch.Size([26, 64, 24, 24])\n"
          ],
          "name": "stdout"
        },
        {
          "output_type": "stream",
          "text": [
            "\r100%|██████████| 4/4 [00:04<00:00,  1.07s/it]\n"
          ],
          "name": "stderr"
        },
        {
          "output_type": "stream",
          "text": [
            "Computing accuracy\n",
            "Test set accuracy (MAP@2) = 0.4405737704918033\n",
            "epoch: 8\n",
            "torch.Size([128, 64, 24, 24])\n",
            "Epoch 8 Iteration 0: Loss = 0.10625625401735306, Number of mined triplets = 50287\n",
            "torch.Size([128, 64, 24, 24])\n",
            "torch.Size([128, 64, 24, 24])\n"
          ],
          "name": "stdout"
        },
        {
          "output_type": "stream",
          "text": [
            "\r  0%|          | 0/4 [00:00<?, ?it/s]"
          ],
          "name": "stderr"
        },
        {
          "output_type": "stream",
          "text": [
            "torch.Size([105, 64, 24, 24])\n"
          ],
          "name": "stdout"
        },
        {
          "output_type": "stream",
          "text": [
            "\r 25%|██▌       | 1/4 [00:03<00:10,  3.57s/it]"
          ],
          "name": "stderr"
        },
        {
          "output_type": "stream",
          "text": [
            "torch.Size([32, 64, 24, 24])\n",
            "torch.Size([32, 64, 24, 24])\n",
            "torch.Size([32, 64, 24, 24])\n",
            "torch.Size([26, 64, 24, 24])\n"
          ],
          "name": "stdout"
        },
        {
          "output_type": "stream",
          "text": [
            "\r100%|██████████| 4/4 [00:04<00:00,  1.09s/it]\n"
          ],
          "name": "stderr"
        },
        {
          "output_type": "stream",
          "text": [
            "Computing accuracy\n",
            "Test set accuracy (MAP@2) = 0.49385245901639346\n",
            "epoch: 9\n",
            "torch.Size([128, 64, 24, 24])\n",
            "Epoch 9 Iteration 0: Loss = 0.10507580637931824, Number of mined triplets = 51587\n",
            "torch.Size([128, 64, 24, 24])\n",
            "torch.Size([128, 64, 24, 24])\n"
          ],
          "name": "stdout"
        },
        {
          "output_type": "stream",
          "text": [
            "\r  0%|          | 0/4 [00:00<?, ?it/s]"
          ],
          "name": "stderr"
        },
        {
          "output_type": "stream",
          "text": [
            "torch.Size([105, 64, 24, 24])\n"
          ],
          "name": "stdout"
        },
        {
          "output_type": "stream",
          "text": [
            "\r 25%|██▌       | 1/4 [00:03<00:11,  3.71s/it]"
          ],
          "name": "stderr"
        },
        {
          "output_type": "stream",
          "text": [
            "torch.Size([32, 64, 24, 24])\n",
            "torch.Size([32, 64, 24, 24])\n",
            "torch.Size([32, 64, 24, 24])\n",
            "torch.Size([26, 64, 24, 24])\n"
          ],
          "name": "stdout"
        },
        {
          "output_type": "stream",
          "text": [
            "\r100%|██████████| 4/4 [00:04<00:00,  1.10s/it]\n"
          ],
          "name": "stderr"
        },
        {
          "output_type": "stream",
          "text": [
            "Computing accuracy\n",
            "Test set accuracy (MAP@2) = 0.47540983606557374\n",
            "epoch: 10\n",
            "torch.Size([128, 64, 24, 24])\n",
            "Epoch 10 Iteration 0: Loss = 0.10516712069511414, Number of mined triplets = 50073\n",
            "torch.Size([128, 64, 24, 24])\n",
            "torch.Size([128, 64, 24, 24])\n"
          ],
          "name": "stdout"
        },
        {
          "output_type": "stream",
          "text": [
            "\r  0%|          | 0/4 [00:00<?, ?it/s]"
          ],
          "name": "stderr"
        },
        {
          "output_type": "stream",
          "text": [
            "torch.Size([105, 64, 24, 24])\n"
          ],
          "name": "stdout"
        },
        {
          "output_type": "stream",
          "text": [
            "\r 25%|██▌       | 1/4 [00:03<00:10,  3.59s/it]"
          ],
          "name": "stderr"
        },
        {
          "output_type": "stream",
          "text": [
            "torch.Size([32, 64, 24, 24])\n",
            "torch.Size([32, 64, 24, 24])\n",
            "torch.Size([32, 64, 24, 24])\n",
            "torch.Size([26, 64, 24, 24])\n"
          ],
          "name": "stdout"
        },
        {
          "output_type": "stream",
          "text": [
            "\r100%|██████████| 4/4 [00:04<00:00,  1.09s/it]\n"
          ],
          "name": "stderr"
        },
        {
          "output_type": "stream",
          "text": [
            "Computing accuracy\n",
            "Test set accuracy (MAP@2) = 0.36065573770491804\n",
            "epoch: 11\n",
            "torch.Size([128, 64, 24, 24])\n",
            "Epoch 11 Iteration 0: Loss = 0.1048676073551178, Number of mined triplets = 50411\n",
            "torch.Size([128, 64, 24, 24])\n",
            "torch.Size([128, 64, 24, 24])\n"
          ],
          "name": "stdout"
        },
        {
          "output_type": "stream",
          "text": [
            "\r  0%|          | 0/4 [00:00<?, ?it/s]"
          ],
          "name": "stderr"
        },
        {
          "output_type": "stream",
          "text": [
            "torch.Size([105, 64, 24, 24])\n"
          ],
          "name": "stdout"
        },
        {
          "output_type": "stream",
          "text": [
            "\r 25%|██▌       | 1/4 [00:03<00:10,  3.64s/it]"
          ],
          "name": "stderr"
        },
        {
          "output_type": "stream",
          "text": [
            "torch.Size([32, 64, 24, 24])\n",
            "torch.Size([32, 64, 24, 24])\n",
            "torch.Size([32, 64, 24, 24])\n",
            "torch.Size([26, 64, 24, 24])\n"
          ],
          "name": "stdout"
        },
        {
          "output_type": "stream",
          "text": [
            "\r100%|██████████| 4/4 [00:04<00:00,  1.09s/it]\n"
          ],
          "name": "stderr"
        },
        {
          "output_type": "stream",
          "text": [
            "Computing accuracy\n",
            "Test set accuracy (MAP@2) = 0.3668032786885246\n",
            "epoch: 12\n",
            "torch.Size([128, 64, 24, 24])\n",
            "Epoch 12 Iteration 0: Loss = 0.10699237883090973, Number of mined triplets = 48408\n",
            "torch.Size([128, 64, 24, 24])\n",
            "torch.Size([128, 64, 24, 24])\n"
          ],
          "name": "stdout"
        },
        {
          "output_type": "stream",
          "text": [
            "\r  0%|          | 0/4 [00:00<?, ?it/s]"
          ],
          "name": "stderr"
        },
        {
          "output_type": "stream",
          "text": [
            "torch.Size([105, 64, 24, 24])\n"
          ],
          "name": "stdout"
        },
        {
          "output_type": "stream",
          "text": [
            "\r 25%|██▌       | 1/4 [00:03<00:11,  3.68s/it]"
          ],
          "name": "stderr"
        },
        {
          "output_type": "stream",
          "text": [
            "torch.Size([32, 64, 24, 24])\n",
            "torch.Size([32, 64, 24, 24])\n",
            "torch.Size([32, 64, 24, 24])\n",
            "torch.Size([26, 64, 24, 24])\n"
          ],
          "name": "stdout"
        },
        {
          "output_type": "stream",
          "text": [
            "\r100%|██████████| 4/4 [00:04<00:00,  1.09s/it]\n"
          ],
          "name": "stderr"
        },
        {
          "output_type": "stream",
          "text": [
            "Computing accuracy\n",
            "Test set accuracy (MAP@2) = 0.41188524590163933\n",
            "epoch: 13\n",
            "torch.Size([128, 64, 24, 24])\n",
            "Epoch 13 Iteration 0: Loss = 0.10526420176029205, Number of mined triplets = 49134\n",
            "torch.Size([128, 64, 24, 24])\n",
            "torch.Size([128, 64, 24, 24])\n"
          ],
          "name": "stdout"
        },
        {
          "output_type": "stream",
          "text": [
            "\r  0%|          | 0/4 [00:00<?, ?it/s]"
          ],
          "name": "stderr"
        },
        {
          "output_type": "stream",
          "text": [
            "torch.Size([105, 64, 24, 24])\n"
          ],
          "name": "stdout"
        },
        {
          "output_type": "stream",
          "text": [
            "\r 25%|██▌       | 1/4 [00:03<00:11,  3.72s/it]"
          ],
          "name": "stderr"
        },
        {
          "output_type": "stream",
          "text": [
            "torch.Size([32, 64, 24, 24])\n",
            "torch.Size([32, 64, 24, 24])\n",
            "torch.Size([32, 64, 24, 24])\n",
            "torch.Size([26, 64, 24, 24])\n"
          ],
          "name": "stdout"
        },
        {
          "output_type": "stream",
          "text": [
            "\r100%|██████████| 4/4 [00:04<00:00,  1.10s/it]\n"
          ],
          "name": "stderr"
        },
        {
          "output_type": "stream",
          "text": [
            "Computing accuracy\n",
            "Test set accuracy (MAP@2) = 0.45081967213114754\n",
            "epoch: 14\n",
            "torch.Size([128, 64, 24, 24])\n",
            "Epoch 14 Iteration 0: Loss = 0.10508144646883011, Number of mined triplets = 50046\n",
            "torch.Size([128, 64, 24, 24])\n",
            "torch.Size([128, 64, 24, 24])\n"
          ],
          "name": "stdout"
        },
        {
          "output_type": "stream",
          "text": [
            "\r  0%|          | 0/4 [00:00<?, ?it/s]"
          ],
          "name": "stderr"
        },
        {
          "output_type": "stream",
          "text": [
            "torch.Size([105, 64, 24, 24])\n"
          ],
          "name": "stdout"
        },
        {
          "output_type": "stream",
          "text": [
            "\r 25%|██▌       | 1/4 [00:03<00:10,  3.65s/it]"
          ],
          "name": "stderr"
        },
        {
          "output_type": "stream",
          "text": [
            "torch.Size([32, 64, 24, 24])\n",
            "torch.Size([32, 64, 24, 24])\n",
            "torch.Size([32, 64, 24, 24])\n",
            "torch.Size([26, 64, 24, 24])\n"
          ],
          "name": "stdout"
        },
        {
          "output_type": "stream",
          "text": [
            "\r100%|██████████| 4/4 [00:04<00:00,  1.09s/it]\n"
          ],
          "name": "stderr"
        },
        {
          "output_type": "stream",
          "text": [
            "Computing accuracy\n",
            "Test set accuracy (MAP@2) = 0.38934426229508196\n",
            "epoch: 15\n",
            "torch.Size([128, 64, 24, 24])\n",
            "Epoch 15 Iteration 0: Loss = 0.10554037988185883, Number of mined triplets = 48877\n",
            "torch.Size([128, 64, 24, 24])\n",
            "torch.Size([128, 64, 24, 24])\n"
          ],
          "name": "stdout"
        },
        {
          "output_type": "stream",
          "text": [
            "\r  0%|          | 0/4 [00:00<?, ?it/s]"
          ],
          "name": "stderr"
        },
        {
          "output_type": "stream",
          "text": [
            "torch.Size([105, 64, 24, 24])\n"
          ],
          "name": "stdout"
        },
        {
          "output_type": "stream",
          "text": [
            " 75%|███████▌  | 3/4 [00:03<00:02,  2.49s/it]"
          ],
          "name": "stderr"
        },
        {
          "output_type": "stream",
          "text": [
            "torch.Size([32, 64, 24, 24])\n",
            "torch.Size([32, 64, 24, 24])\n",
            "torch.Size([32, 64, 24, 24])\n",
            "torch.Size([26, 64, 24, 24])\n"
          ],
          "name": "stdout"
        },
        {
          "output_type": "stream",
          "text": [
            "\r100%|██████████| 4/4 [00:04<00:00,  1.08s/it]\n"
          ],
          "name": "stderr"
        },
        {
          "output_type": "stream",
          "text": [
            "Computing accuracy\n",
            "Test set accuracy (MAP@2) = 0.42008196721311475\n",
            "epoch: 16\n",
            "torch.Size([128, 64, 24, 24])\n",
            "Epoch 16 Iteration 0: Loss = 0.10603218525648117, Number of mined triplets = 49210\n",
            "torch.Size([128, 64, 24, 24])\n",
            "torch.Size([128, 64, 24, 24])\n"
          ],
          "name": "stdout"
        },
        {
          "output_type": "stream",
          "text": [
            "\r  0%|          | 0/4 [00:00<?, ?it/s]"
          ],
          "name": "stderr"
        },
        {
          "output_type": "stream",
          "text": [
            "torch.Size([105, 64, 24, 24])\n"
          ],
          "name": "stdout"
        },
        {
          "output_type": "stream",
          "text": [
            "\r 25%|██▌       | 1/4 [00:03<00:10,  3.62s/it]"
          ],
          "name": "stderr"
        },
        {
          "output_type": "stream",
          "text": [
            "torch.Size([32, 64, 24, 24])\n",
            "torch.Size([32, 64, 24, 24])\n",
            "torch.Size([32, 64, 24, 24])\n",
            "torch.Size([26, 64, 24, 24])\n"
          ],
          "name": "stdout"
        },
        {
          "output_type": "stream",
          "text": [
            "\r100%|██████████| 4/4 [00:04<00:00,  1.08s/it]\n"
          ],
          "name": "stderr"
        },
        {
          "output_type": "stream",
          "text": [
            "Computing accuracy\n",
            "Test set accuracy (MAP@2) = 0.39139344262295084\n",
            "epoch: 17\n",
            "torch.Size([128, 64, 24, 24])\n",
            "Epoch 17 Iteration 0: Loss = 0.10569960623979568, Number of mined triplets = 50474\n",
            "torch.Size([128, 64, 24, 24])\n",
            "torch.Size([128, 64, 24, 24])\n"
          ],
          "name": "stdout"
        },
        {
          "output_type": "stream",
          "text": [
            "\r  0%|          | 0/4 [00:00<?, ?it/s]"
          ],
          "name": "stderr"
        },
        {
          "output_type": "stream",
          "text": [
            "torch.Size([105, 64, 24, 24])\n"
          ],
          "name": "stdout"
        },
        {
          "output_type": "stream",
          "text": [
            "\r 25%|██▌       | 1/4 [00:03<00:10,  3.59s/it]"
          ],
          "name": "stderr"
        },
        {
          "output_type": "stream",
          "text": [
            "torch.Size([32, 64, 24, 24])\n",
            "torch.Size([32, 64, 24, 24])\n",
            "torch.Size([32, 64, 24, 24])\n",
            "torch.Size([26, 64, 24, 24])\n"
          ],
          "name": "stdout"
        },
        {
          "output_type": "stream",
          "text": [
            "\r100%|██████████| 4/4 [00:04<00:00,  1.09s/it]\n"
          ],
          "name": "stderr"
        },
        {
          "output_type": "stream",
          "text": [
            "Computing accuracy\n",
            "Test set accuracy (MAP@2) = 0.39959016393442626\n",
            "epoch: 18\n",
            "torch.Size([128, 64, 24, 24])\n",
            "Epoch 18 Iteration 0: Loss = 0.10573303699493408, Number of mined triplets = 49588\n",
            "torch.Size([128, 64, 24, 24])\n",
            "torch.Size([128, 64, 24, 24])\n"
          ],
          "name": "stdout"
        },
        {
          "output_type": "stream",
          "text": [
            "\r  0%|          | 0/4 [00:00<?, ?it/s]"
          ],
          "name": "stderr"
        },
        {
          "output_type": "stream",
          "text": [
            "torch.Size([105, 64, 24, 24])\n"
          ],
          "name": "stdout"
        },
        {
          "output_type": "stream",
          "text": [
            "\r 25%|██▌       | 1/4 [00:03<00:11,  3.74s/it]"
          ],
          "name": "stderr"
        },
        {
          "output_type": "stream",
          "text": [
            "torch.Size([32, 64, 24, 24])\n",
            "torch.Size([32, 64, 24, 24])\n",
            "torch.Size([32, 64, 24, 24])\n",
            "torch.Size([26, 64, 24, 24])\n"
          ],
          "name": "stdout"
        },
        {
          "output_type": "stream",
          "text": [
            "\r100%|██████████| 4/4 [00:04<00:00,  1.10s/it]\n"
          ],
          "name": "stderr"
        },
        {
          "output_type": "stream",
          "text": [
            "Computing accuracy\n",
            "Test set accuracy (MAP@2) = 0.38934426229508196\n",
            "epoch: 19\n",
            "torch.Size([128, 64, 24, 24])\n",
            "Epoch 19 Iteration 0: Loss = 0.10371877253055573, Number of mined triplets = 49418\n",
            "torch.Size([128, 64, 24, 24])\n",
            "torch.Size([128, 64, 24, 24])\n"
          ],
          "name": "stdout"
        },
        {
          "output_type": "stream",
          "text": [
            "\r  0%|          | 0/4 [00:00<?, ?it/s]"
          ],
          "name": "stderr"
        },
        {
          "output_type": "stream",
          "text": [
            "torch.Size([105, 64, 24, 24])\n"
          ],
          "name": "stdout"
        },
        {
          "output_type": "stream",
          "text": [
            "\r 25%|██▌       | 1/4 [00:03<00:10,  3.60s/it]"
          ],
          "name": "stderr"
        },
        {
          "output_type": "stream",
          "text": [
            "torch.Size([32, 64, 24, 24])\n",
            "torch.Size([32, 64, 24, 24])\n",
            "torch.Size([32, 64, 24, 24])\n",
            "torch.Size([26, 64, 24, 24])\n"
          ],
          "name": "stdout"
        },
        {
          "output_type": "stream",
          "text": [
            "\r100%|██████████| 4/4 [00:04<00:00,  1.08s/it]\n"
          ],
          "name": "stderr"
        },
        {
          "output_type": "stream",
          "text": [
            "Computing accuracy\n",
            "Test set accuracy (MAP@2) = 0.5\n",
            "epoch: 20\n",
            "torch.Size([128, 64, 24, 24])\n",
            "Epoch 20 Iteration 0: Loss = 0.10543297976255417, Number of mined triplets = 50079\n",
            "torch.Size([128, 64, 24, 24])\n",
            "torch.Size([128, 64, 24, 24])\n"
          ],
          "name": "stdout"
        },
        {
          "output_type": "stream",
          "text": [
            "\r  0%|          | 0/4 [00:00<?, ?it/s]"
          ],
          "name": "stderr"
        },
        {
          "output_type": "stream",
          "text": [
            "torch.Size([105, 64, 24, 24])\n"
          ],
          "name": "stdout"
        },
        {
          "output_type": "stream",
          "text": [
            "\r 25%|██▌       | 1/4 [00:03<00:10,  3.62s/it]"
          ],
          "name": "stderr"
        },
        {
          "output_type": "stream",
          "text": [
            "torch.Size([32, 64, 24, 24])\n",
            "torch.Size([32, 64, 24, 24])\n",
            "torch.Size([32, 64, 24, 24])\n",
            "torch.Size([26, 64, 24, 24])\n"
          ],
          "name": "stdout"
        },
        {
          "output_type": "stream",
          "text": [
            "\r100%|██████████| 4/4 [00:04<00:00,  1.08s/it]\n"
          ],
          "name": "stderr"
        },
        {
          "output_type": "stream",
          "text": [
            "Computing accuracy\n",
            "Test set accuracy (MAP@2) = 0.41598360655737704\n",
            "epoch: 21\n",
            "torch.Size([128, 64, 24, 24])\n",
            "Epoch 21 Iteration 0: Loss = 0.10483414679765701, Number of mined triplets = 49317\n",
            "torch.Size([128, 64, 24, 24])\n",
            "torch.Size([128, 64, 24, 24])\n"
          ],
          "name": "stdout"
        },
        {
          "output_type": "stream",
          "text": [
            "\r  0%|          | 0/4 [00:00<?, ?it/s]"
          ],
          "name": "stderr"
        },
        {
          "output_type": "stream",
          "text": [
            "torch.Size([105, 64, 24, 24])\n"
          ],
          "name": "stdout"
        },
        {
          "output_type": "stream",
          "text": [
            "\r 25%|██▌       | 1/4 [00:03<00:10,  3.62s/it]"
          ],
          "name": "stderr"
        },
        {
          "output_type": "stream",
          "text": [
            "torch.Size([32, 64, 24, 24])\n",
            "torch.Size([32, 64, 24, 24])\n",
            "torch.Size([32, 64, 24, 24])\n",
            "torch.Size([26, 64, 24, 24])\n"
          ],
          "name": "stdout"
        },
        {
          "output_type": "stream",
          "text": [
            "\r100%|██████████| 4/4 [00:04<00:00,  1.08s/it]\n"
          ],
          "name": "stderr"
        },
        {
          "output_type": "stream",
          "text": [
            "Computing accuracy\n",
            "Test set accuracy (MAP@2) = 0.4016393442622951\n",
            "epoch: 22\n",
            "torch.Size([128, 64, 24, 24])\n",
            "Epoch 22 Iteration 0: Loss = 0.10543512552976608, Number of mined triplets = 49876\n",
            "torch.Size([128, 64, 24, 24])\n",
            "torch.Size([128, 64, 24, 24])\n"
          ],
          "name": "stdout"
        },
        {
          "output_type": "stream",
          "text": [
            "\r  0%|          | 0/4 [00:00<?, ?it/s]"
          ],
          "name": "stderr"
        },
        {
          "output_type": "stream",
          "text": [
            "torch.Size([105, 64, 24, 24])\n"
          ],
          "name": "stdout"
        },
        {
          "output_type": "stream",
          "text": [
            "\r 25%|██▌       | 1/4 [00:03<00:10,  3.66s/it]"
          ],
          "name": "stderr"
        },
        {
          "output_type": "stream",
          "text": [
            "torch.Size([32, 64, 24, 24])\n",
            "torch.Size([32, 64, 24, 24])\n",
            "torch.Size([32, 64, 24, 24])\n",
            "torch.Size([26, 64, 24, 24])\n"
          ],
          "name": "stdout"
        },
        {
          "output_type": "stream",
          "text": [
            "\r100%|██████████| 4/4 [00:04<00:00,  1.09s/it]\n"
          ],
          "name": "stderr"
        },
        {
          "output_type": "stream",
          "text": [
            "Computing accuracy\n",
            "Test set accuracy (MAP@2) = 0.4364754098360656\n",
            "epoch: 23\n",
            "torch.Size([128, 64, 24, 24])\n",
            "Epoch 23 Iteration 0: Loss = 0.10767284035682678, Number of mined triplets = 51395\n",
            "torch.Size([128, 64, 24, 24])\n",
            "torch.Size([128, 64, 24, 24])\n"
          ],
          "name": "stdout"
        },
        {
          "output_type": "stream",
          "text": [
            "\r  0%|          | 0/4 [00:00<?, ?it/s]"
          ],
          "name": "stderr"
        },
        {
          "output_type": "stream",
          "text": [
            "torch.Size([105, 64, 24, 24])\n"
          ],
          "name": "stdout"
        },
        {
          "output_type": "stream",
          "text": [
            "\r 25%|██▌       | 1/4 [00:03<00:10,  3.55s/it]"
          ],
          "name": "stderr"
        },
        {
          "output_type": "stream",
          "text": [
            "torch.Size([32, 64, 24, 24])\n",
            "torch.Size([32, 64, 24, 24])\n",
            "torch.Size([32, 64, 24, 24])\n",
            "torch.Size([26, 64, 24, 24])\n"
          ],
          "name": "stdout"
        },
        {
          "output_type": "stream",
          "text": [
            "\r100%|██████████| 4/4 [00:04<00:00,  1.07s/it]\n"
          ],
          "name": "stderr"
        },
        {
          "output_type": "stream",
          "text": [
            "Computing accuracy\n",
            "Test set accuracy (MAP@2) = 0.48360655737704916\n",
            "epoch: 24\n",
            "torch.Size([128, 64, 24, 24])\n",
            "Epoch 24 Iteration 0: Loss = 0.10644462704658508, Number of mined triplets = 53015\n",
            "torch.Size([128, 64, 24, 24])\n",
            "torch.Size([128, 64, 24, 24])\n"
          ],
          "name": "stdout"
        },
        {
          "output_type": "stream",
          "text": [
            "\r  0%|          | 0/4 [00:00<?, ?it/s]"
          ],
          "name": "stderr"
        },
        {
          "output_type": "stream",
          "text": [
            "torch.Size([105, 64, 24, 24])\n"
          ],
          "name": "stdout"
        },
        {
          "output_type": "stream",
          "text": [
            "\r 25%|██▌       | 1/4 [00:03<00:10,  3.63s/it]"
          ],
          "name": "stderr"
        },
        {
          "output_type": "stream",
          "text": [
            "torch.Size([32, 64, 24, 24])\n",
            "torch.Size([32, 64, 24, 24])\n",
            "torch.Size([32, 64, 24, 24])\n",
            "torch.Size([26, 64, 24, 24])\n"
          ],
          "name": "stdout"
        },
        {
          "output_type": "stream",
          "text": [
            "\r100%|██████████| 4/4 [00:04<00:00,  1.08s/it]\n"
          ],
          "name": "stderr"
        },
        {
          "output_type": "stream",
          "text": [
            "Computing accuracy\n",
            "Test set accuracy (MAP@2) = 0.38729508196721313\n",
            "epoch: 25\n",
            "torch.Size([128, 64, 24, 24])\n",
            "Epoch 25 Iteration 0: Loss = 0.10471567511558533, Number of mined triplets = 50064\n",
            "torch.Size([128, 64, 24, 24])\n",
            "torch.Size([128, 64, 24, 24])\n"
          ],
          "name": "stdout"
        },
        {
          "output_type": "stream",
          "text": [
            "\r  0%|          | 0/4 [00:00<?, ?it/s]"
          ],
          "name": "stderr"
        },
        {
          "output_type": "stream",
          "text": [
            "torch.Size([105, 64, 24, 24])\n"
          ],
          "name": "stdout"
        },
        {
          "output_type": "stream",
          "text": [
            " 50%|█████     | 2/4 [00:03<00:04,  2.49s/it]"
          ],
          "name": "stderr"
        },
        {
          "output_type": "stream",
          "text": [
            "torch.Size([32, 64, 24, 24])\n",
            "torch.Size([32, 64, 24, 24])\n",
            "torch.Size([32, 64, 24, 24])\n",
            "torch.Size([26, 64, 24, 24])\n"
          ],
          "name": "stdout"
        },
        {
          "output_type": "stream",
          "text": [
            "\r100%|██████████| 4/4 [00:04<00:00,  1.08s/it]\n"
          ],
          "name": "stderr"
        },
        {
          "output_type": "stream",
          "text": [
            "Computing accuracy\n",
            "Test set accuracy (MAP@2) = 0.36885245901639346\n",
            "epoch: 26\n",
            "torch.Size([128, 64, 24, 24])\n",
            "Epoch 26 Iteration 0: Loss = 0.10492996871471405, Number of mined triplets = 48973\n",
            "torch.Size([128, 64, 24, 24])\n",
            "torch.Size([128, 64, 24, 24])\n"
          ],
          "name": "stdout"
        },
        {
          "output_type": "stream",
          "text": [
            "\r  0%|          | 0/4 [00:00<?, ?it/s]"
          ],
          "name": "stderr"
        },
        {
          "output_type": "stream",
          "text": [
            "torch.Size([105, 64, 24, 24])\n"
          ],
          "name": "stdout"
        },
        {
          "output_type": "stream",
          "text": [
            "\r 25%|██▌       | 1/4 [00:03<00:11,  3.67s/it]"
          ],
          "name": "stderr"
        },
        {
          "output_type": "stream",
          "text": [
            "torch.Size([32, 64, 24, 24])\n",
            "torch.Size([32, 64, 24, 24])\n",
            "torch.Size([32, 64, 24, 24])\n",
            "torch.Size([26, 64, 24, 24])\n"
          ],
          "name": "stdout"
        },
        {
          "output_type": "stream",
          "text": [
            "\r100%|██████████| 4/4 [00:04<00:00,  1.09s/it]\n"
          ],
          "name": "stderr"
        },
        {
          "output_type": "stream",
          "text": [
            "Computing accuracy\n",
            "Test set accuracy (MAP@2) = 0.430327868852459\n",
            "epoch: 27\n",
            "torch.Size([128, 64, 24, 24])\n",
            "Epoch 27 Iteration 0: Loss = 0.10517650842666626, Number of mined triplets = 51866\n",
            "torch.Size([128, 64, 24, 24])\n",
            "torch.Size([128, 64, 24, 24])\n"
          ],
          "name": "stdout"
        },
        {
          "output_type": "stream",
          "text": [
            "\r  0%|          | 0/4 [00:00<?, ?it/s]"
          ],
          "name": "stderr"
        },
        {
          "output_type": "stream",
          "text": [
            "torch.Size([105, 64, 24, 24])\n"
          ],
          "name": "stdout"
        },
        {
          "output_type": "stream",
          "text": [
            "\r 25%|██▌       | 1/4 [00:03<00:10,  3.62s/it]"
          ],
          "name": "stderr"
        },
        {
          "output_type": "stream",
          "text": [
            "torch.Size([32, 64, 24, 24])\n",
            "torch.Size([32, 64, 24, 24])\n",
            "torch.Size([32, 64, 24, 24])\n",
            "torch.Size([26, 64, 24, 24])\n"
          ],
          "name": "stdout"
        },
        {
          "output_type": "stream",
          "text": [
            "\r100%|██████████| 4/4 [00:04<00:00,  1.08s/it]\n"
          ],
          "name": "stderr"
        },
        {
          "output_type": "stream",
          "text": [
            "Computing accuracy\n",
            "Test set accuracy (MAP@2) = 0.4036885245901639\n",
            "epoch: 28\n",
            "torch.Size([128, 64, 24, 24])\n",
            "Epoch 28 Iteration 0: Loss = 0.1039729118347168, Number of mined triplets = 50735\n",
            "torch.Size([128, 64, 24, 24])\n",
            "torch.Size([128, 64, 24, 24])\n"
          ],
          "name": "stdout"
        },
        {
          "output_type": "stream",
          "text": [
            "\r  0%|          | 0/4 [00:00<?, ?it/s]"
          ],
          "name": "stderr"
        },
        {
          "output_type": "stream",
          "text": [
            "torch.Size([105, 64, 24, 24])\n"
          ],
          "name": "stdout"
        },
        {
          "output_type": "stream",
          "text": [
            " 75%|███████▌  | 3/4 [00:03<00:02,  2.46s/it]"
          ],
          "name": "stderr"
        },
        {
          "output_type": "stream",
          "text": [
            "torch.Size([32, 64, 24, 24])\n",
            "torch.Size([32, 64, 24, 24])\n",
            "torch.Size([32, 64, 24, 24])\n",
            "torch.Size([26, 64, 24, 24])\n"
          ],
          "name": "stdout"
        },
        {
          "output_type": "stream",
          "text": [
            "\r100%|██████████| 4/4 [00:04<00:00,  1.07s/it]\n"
          ],
          "name": "stderr"
        },
        {
          "output_type": "stream",
          "text": [
            "Computing accuracy\n",
            "Test set accuracy (MAP@2) = 0.4057377049180328\n",
            "epoch: 29\n",
            "torch.Size([128, 64, 24, 24])\n",
            "Epoch 29 Iteration 0: Loss = 0.10585124790668488, Number of mined triplets = 49405\n",
            "torch.Size([128, 64, 24, 24])\n",
            "torch.Size([128, 64, 24, 24])\n"
          ],
          "name": "stdout"
        },
        {
          "output_type": "stream",
          "text": [
            "\r  0%|          | 0/4 [00:00<?, ?it/s]"
          ],
          "name": "stderr"
        },
        {
          "output_type": "stream",
          "text": [
            "torch.Size([105, 64, 24, 24])\n"
          ],
          "name": "stdout"
        },
        {
          "output_type": "stream",
          "text": [
            "\r 25%|██▌       | 1/4 [00:03<00:10,  3.60s/it]"
          ],
          "name": "stderr"
        },
        {
          "output_type": "stream",
          "text": [
            "torch.Size([32, 64, 24, 24])\n",
            "torch.Size([32, 64, 24, 24])\n",
            "torch.Size([32, 64, 24, 24])\n",
            "torch.Size([26, 64, 24, 24])\n"
          ],
          "name": "stdout"
        },
        {
          "output_type": "stream",
          "text": [
            "\r100%|██████████| 4/4 [00:04<00:00,  1.07s/it]\n"
          ],
          "name": "stderr"
        },
        {
          "output_type": "stream",
          "text": [
            "Computing accuracy\n",
            "Test set accuracy (MAP@2) = 0.45901639344262296\n",
            "epoch: 30\n",
            "torch.Size([128, 64, 24, 24])\n",
            "Epoch 30 Iteration 0: Loss = 0.10609655827283859, Number of mined triplets = 51363\n",
            "torch.Size([128, 64, 24, 24])\n",
            "torch.Size([128, 64, 24, 24])\n"
          ],
          "name": "stdout"
        },
        {
          "output_type": "stream",
          "text": [
            "\r  0%|          | 0/4 [00:00<?, ?it/s]"
          ],
          "name": "stderr"
        },
        {
          "output_type": "stream",
          "text": [
            "torch.Size([105, 64, 24, 24])\n"
          ],
          "name": "stdout"
        },
        {
          "output_type": "stream",
          "text": [
            " 75%|███████▌  | 3/4 [00:03<00:02,  2.51s/it]"
          ],
          "name": "stderr"
        },
        {
          "output_type": "stream",
          "text": [
            "torch.Size([32, 64, 24, 24])\n",
            "torch.Size([32, 64, 24, 24])\n",
            "torch.Size([32, 64, 24, 24])\n",
            "torch.Size([26, 64, 24, 24])\n"
          ],
          "name": "stdout"
        },
        {
          "output_type": "stream",
          "text": [
            "\r100%|██████████| 4/4 [00:04<00:00,  1.09s/it]\n"
          ],
          "name": "stderr"
        },
        {
          "output_type": "stream",
          "text": [
            "Computing accuracy\n",
            "Test set accuracy (MAP@2) = 0.4487704918032787\n",
            "epoch: 31\n",
            "torch.Size([128, 64, 24, 24])\n",
            "Epoch 31 Iteration 0: Loss = 0.10465094447135925, Number of mined triplets = 51951\n",
            "torch.Size([128, 64, 24, 24])\n",
            "torch.Size([128, 64, 24, 24])\n"
          ],
          "name": "stdout"
        },
        {
          "output_type": "stream",
          "text": [
            "\r  0%|          | 0/4 [00:00<?, ?it/s]"
          ],
          "name": "stderr"
        },
        {
          "output_type": "stream",
          "text": [
            "torch.Size([105, 64, 24, 24])\n"
          ],
          "name": "stdout"
        },
        {
          "output_type": "stream",
          "text": [
            "\r 25%|██▌       | 1/4 [00:03<00:10,  3.58s/it]"
          ],
          "name": "stderr"
        },
        {
          "output_type": "stream",
          "text": [
            "torch.Size([32, 64, 24, 24])\n",
            "torch.Size([32, 64, 24, 24])\n",
            "torch.Size([32, 64, 24, 24])\n",
            "torch.Size([26, 64, 24, 24])\n"
          ],
          "name": "stdout"
        },
        {
          "output_type": "stream",
          "text": [
            "\r100%|██████████| 4/4 [00:04<00:00,  1.07s/it]\n"
          ],
          "name": "stderr"
        },
        {
          "output_type": "stream",
          "text": [
            "Computing accuracy\n",
            "Test set accuracy (MAP@2) = 0.3831967213114754\n",
            "epoch: 32\n",
            "torch.Size([128, 64, 24, 24])\n",
            "Epoch 32 Iteration 0: Loss = 0.10442367941141129, Number of mined triplets = 49255\n",
            "torch.Size([128, 64, 24, 24])\n",
            "torch.Size([128, 64, 24, 24])\n"
          ],
          "name": "stdout"
        },
        {
          "output_type": "stream",
          "text": [
            "\r  0%|          | 0/4 [00:00<?, ?it/s]"
          ],
          "name": "stderr"
        },
        {
          "output_type": "stream",
          "text": [
            "torch.Size([105, 64, 24, 24])\n"
          ],
          "name": "stdout"
        },
        {
          "output_type": "stream",
          "text": [
            "\r 25%|██▌       | 1/4 [00:03<00:10,  3.59s/it]"
          ],
          "name": "stderr"
        },
        {
          "output_type": "stream",
          "text": [
            "torch.Size([32, 64, 24, 24])\n",
            "torch.Size([32, 64, 24, 24])\n",
            "torch.Size([32, 64, 24, 24])\n",
            "torch.Size([26, 64, 24, 24])\n"
          ],
          "name": "stdout"
        },
        {
          "output_type": "stream",
          "text": [
            "\r100%|██████████| 4/4 [00:04<00:00,  1.07s/it]\n"
          ],
          "name": "stderr"
        },
        {
          "output_type": "stream",
          "text": [
            "Computing accuracy\n",
            "Test set accuracy (MAP@2) = 0.5102459016393442\n",
            "epoch: 33\n",
            "torch.Size([128, 64, 24, 24])\n",
            "Epoch 33 Iteration 0: Loss = 0.10413049161434174, Number of mined triplets = 49629\n",
            "torch.Size([128, 64, 24, 24])\n",
            "torch.Size([128, 64, 24, 24])\n"
          ],
          "name": "stdout"
        },
        {
          "output_type": "stream",
          "text": [
            "\r  0%|          | 0/4 [00:00<?, ?it/s]"
          ],
          "name": "stderr"
        },
        {
          "output_type": "stream",
          "text": [
            "torch.Size([105, 64, 24, 24])\n"
          ],
          "name": "stdout"
        },
        {
          "output_type": "stream",
          "text": [
            "\r 25%|██▌       | 1/4 [00:03<00:10,  3.59s/it]"
          ],
          "name": "stderr"
        },
        {
          "output_type": "stream",
          "text": [
            "torch.Size([32, 64, 24, 24])\n",
            "torch.Size([32, 64, 24, 24])\n",
            "torch.Size([32, 64, 24, 24])\n",
            "torch.Size([26, 64, 24, 24])\n"
          ],
          "name": "stdout"
        },
        {
          "output_type": "stream",
          "text": [
            "\r100%|██████████| 4/4 [00:04<00:00,  1.07s/it]\n"
          ],
          "name": "stderr"
        },
        {
          "output_type": "stream",
          "text": [
            "Computing accuracy\n",
            "Test set accuracy (MAP@2) = 0.39344262295081966\n",
            "epoch: 34\n",
            "torch.Size([128, 64, 24, 24])\n",
            "Epoch 34 Iteration 0: Loss = 0.10514502227306366, Number of mined triplets = 50374\n",
            "torch.Size([128, 64, 24, 24])\n",
            "torch.Size([128, 64, 24, 24])\n"
          ],
          "name": "stdout"
        },
        {
          "output_type": "stream",
          "text": [
            "\r  0%|          | 0/4 [00:00<?, ?it/s]"
          ],
          "name": "stderr"
        },
        {
          "output_type": "stream",
          "text": [
            "torch.Size([105, 64, 24, 24])\n"
          ],
          "name": "stdout"
        },
        {
          "output_type": "stream",
          "text": [
            "\r 25%|██▌       | 1/4 [00:03<00:10,  3.62s/it]"
          ],
          "name": "stderr"
        },
        {
          "output_type": "stream",
          "text": [
            "torch.Size([32, 64, 24, 24])\n",
            "torch.Size([32, 64, 24, 24])\n",
            "torch.Size([32, 64, 24, 24])\n",
            "torch.Size([26, 64, 24, 24])\n"
          ],
          "name": "stdout"
        },
        {
          "output_type": "stream",
          "text": [
            "\r100%|██████████| 4/4 [00:04<00:00,  1.08s/it]\n"
          ],
          "name": "stderr"
        },
        {
          "output_type": "stream",
          "text": [
            "Computing accuracy\n",
            "Test set accuracy (MAP@2) = 0.44672131147540983\n",
            "epoch: 35\n",
            "torch.Size([128, 64, 24, 24])\n",
            "Epoch 35 Iteration 0: Loss = 0.10382836312055588, Number of mined triplets = 50752\n",
            "torch.Size([128, 64, 24, 24])\n",
            "torch.Size([128, 64, 24, 24])\n"
          ],
          "name": "stdout"
        },
        {
          "output_type": "stream",
          "text": [
            "\r  0%|          | 0/4 [00:00<?, ?it/s]"
          ],
          "name": "stderr"
        },
        {
          "output_type": "stream",
          "text": [
            "torch.Size([105, 64, 24, 24])\n"
          ],
          "name": "stdout"
        },
        {
          "output_type": "stream",
          "text": [
            "\r 25%|██▌       | 1/4 [00:03<00:10,  3.57s/it]"
          ],
          "name": "stderr"
        },
        {
          "output_type": "stream",
          "text": [
            "torch.Size([32, 64, 24, 24])\n",
            "torch.Size([32, 64, 24, 24])\n",
            "torch.Size([32, 64, 24, 24])\n",
            "torch.Size([26, 64, 24, 24])\n"
          ],
          "name": "stdout"
        },
        {
          "output_type": "stream",
          "text": [
            "\r100%|██████████| 4/4 [00:04<00:00,  1.08s/it]\n"
          ],
          "name": "stderr"
        },
        {
          "output_type": "stream",
          "text": [
            "Computing accuracy\n",
            "Test set accuracy (MAP@2) = 0.4057377049180328\n",
            "epoch: 36\n",
            "torch.Size([128, 64, 24, 24])\n",
            "Epoch 36 Iteration 0: Loss = 0.10330722481012344, Number of mined triplets = 51922\n",
            "torch.Size([128, 64, 24, 24])\n",
            "torch.Size([128, 64, 24, 24])\n"
          ],
          "name": "stdout"
        },
        {
          "output_type": "stream",
          "text": [
            "\r  0%|          | 0/4 [00:00<?, ?it/s]"
          ],
          "name": "stderr"
        },
        {
          "output_type": "stream",
          "text": [
            "torch.Size([105, 64, 24, 24])\n"
          ],
          "name": "stdout"
        },
        {
          "output_type": "stream",
          "text": [
            "\r 25%|██▌       | 1/4 [00:03<00:10,  3.62s/it]"
          ],
          "name": "stderr"
        },
        {
          "output_type": "stream",
          "text": [
            "torch.Size([32, 64, 24, 24])\n",
            "torch.Size([32, 64, 24, 24])\n",
            "torch.Size([32, 64, 24, 24])\n",
            "torch.Size([26, 64, 24, 24])\n"
          ],
          "name": "stdout"
        },
        {
          "output_type": "stream",
          "text": [
            "\r100%|██████████| 4/4 [00:04<00:00,  1.09s/it]\n"
          ],
          "name": "stderr"
        },
        {
          "output_type": "stream",
          "text": [
            "Computing accuracy\n",
            "Test set accuracy (MAP@2) = 0.4262295081967213\n",
            "epoch: 37\n",
            "torch.Size([128, 64, 24, 24])\n",
            "Epoch 37 Iteration 0: Loss = 0.105010487139225, Number of mined triplets = 50288\n",
            "torch.Size([128, 64, 24, 24])\n",
            "torch.Size([128, 64, 24, 24])\n"
          ],
          "name": "stdout"
        },
        {
          "output_type": "stream",
          "text": [
            "\r  0%|          | 0/4 [00:00<?, ?it/s]"
          ],
          "name": "stderr"
        },
        {
          "output_type": "stream",
          "text": [
            "torch.Size([105, 64, 24, 24])\n"
          ],
          "name": "stdout"
        },
        {
          "output_type": "stream",
          "text": [
            "\r 25%|██▌       | 1/4 [00:03<00:10,  3.61s/it]"
          ],
          "name": "stderr"
        },
        {
          "output_type": "stream",
          "text": [
            "torch.Size([32, 64, 24, 24])\n",
            "torch.Size([32, 64, 24, 24])\n",
            "torch.Size([32, 64, 24, 24])\n",
            "torch.Size([26, 64, 24, 24])\n"
          ],
          "name": "stdout"
        },
        {
          "output_type": "stream",
          "text": [
            "\r100%|██████████| 4/4 [00:04<00:00,  1.08s/it]\n"
          ],
          "name": "stderr"
        },
        {
          "output_type": "stream",
          "text": [
            "Computing accuracy\n",
            "Test set accuracy (MAP@2) = 0.4036885245901639\n",
            "epoch: 38\n",
            "torch.Size([128, 64, 24, 24])\n",
            "Epoch 38 Iteration 0: Loss = 0.104296013712883, Number of mined triplets = 50846\n",
            "torch.Size([128, 64, 24, 24])\n",
            "torch.Size([128, 64, 24, 24])\n"
          ],
          "name": "stdout"
        },
        {
          "output_type": "stream",
          "text": [
            "\r  0%|          | 0/4 [00:00<?, ?it/s]"
          ],
          "name": "stderr"
        },
        {
          "output_type": "stream",
          "text": [
            "torch.Size([105, 64, 24, 24])\n"
          ],
          "name": "stdout"
        },
        {
          "output_type": "stream",
          "text": [
            "\r 25%|██▌       | 1/4 [00:03<00:10,  3.62s/it]"
          ],
          "name": "stderr"
        },
        {
          "output_type": "stream",
          "text": [
            "torch.Size([32, 64, 24, 24])\n",
            "torch.Size([32, 64, 24, 24])\n",
            "torch.Size([32, 64, 24, 24])\n",
            "torch.Size([26, 64, 24, 24])\n"
          ],
          "name": "stdout"
        },
        {
          "output_type": "stream",
          "text": [
            "\r100%|██████████| 4/4 [00:04<00:00,  1.08s/it]\n"
          ],
          "name": "stderr"
        },
        {
          "output_type": "stream",
          "text": [
            "Computing accuracy\n",
            "Test set accuracy (MAP@2) = 0.4139344262295082\n",
            "epoch: 39\n",
            "torch.Size([128, 64, 24, 24])\n",
            "Epoch 39 Iteration 0: Loss = 0.10546030104160309, Number of mined triplets = 50775\n",
            "torch.Size([128, 64, 24, 24])\n",
            "torch.Size([128, 64, 24, 24])\n"
          ],
          "name": "stdout"
        },
        {
          "output_type": "stream",
          "text": [
            "\r  0%|          | 0/4 [00:00<?, ?it/s]"
          ],
          "name": "stderr"
        },
        {
          "output_type": "stream",
          "text": [
            "torch.Size([105, 64, 24, 24])\n"
          ],
          "name": "stdout"
        },
        {
          "output_type": "stream",
          "text": [
            "\r 25%|██▌       | 1/4 [00:03<00:10,  3.52s/it]"
          ],
          "name": "stderr"
        },
        {
          "output_type": "stream",
          "text": [
            "torch.Size([32, 64, 24, 24])\n",
            "torch.Size([32, 64, 24, 24])\n",
            "torch.Size([32, 64, 24, 24])\n",
            "torch.Size([26, 64, 24, 24])\n"
          ],
          "name": "stdout"
        },
        {
          "output_type": "stream",
          "text": [
            "\r100%|██████████| 4/4 [00:04<00:00,  1.07s/it]\n"
          ],
          "name": "stderr"
        },
        {
          "output_type": "stream",
          "text": [
            "Computing accuracy\n",
            "Test set accuracy (MAP@2) = 0.4262295081967213\n",
            "epoch: 40\n",
            "torch.Size([128, 64, 24, 24])\n",
            "Epoch 40 Iteration 0: Loss = 0.10460396856069565, Number of mined triplets = 50373\n",
            "torch.Size([128, 64, 24, 24])\n",
            "torch.Size([128, 64, 24, 24])\n"
          ],
          "name": "stdout"
        },
        {
          "output_type": "stream",
          "text": [
            "\r  0%|          | 0/4 [00:00<?, ?it/s]"
          ],
          "name": "stderr"
        },
        {
          "output_type": "stream",
          "text": [
            "torch.Size([105, 64, 24, 24])\n"
          ],
          "name": "stdout"
        },
        {
          "output_type": "stream",
          "text": [
            "\r 25%|██▌       | 1/4 [00:03<00:10,  3.62s/it]"
          ],
          "name": "stderr"
        },
        {
          "output_type": "stream",
          "text": [
            "torch.Size([32, 64, 24, 24])\n",
            "torch.Size([32, 64, 24, 24])\n",
            "torch.Size([32, 64, 24, 24])\n",
            "torch.Size([26, 64, 24, 24])\n"
          ],
          "name": "stdout"
        },
        {
          "output_type": "stream",
          "text": [
            "\r100%|██████████| 4/4 [00:04<00:00,  1.08s/it]\n"
          ],
          "name": "stderr"
        },
        {
          "output_type": "stream",
          "text": [
            "Computing accuracy\n",
            "Test set accuracy (MAP@2) = 0.48360655737704916\n",
            "epoch: 41\n",
            "torch.Size([128, 64, 24, 24])\n",
            "Epoch 41 Iteration 0: Loss = 0.10392435640096664, Number of mined triplets = 50294\n",
            "torch.Size([128, 64, 24, 24])\n",
            "torch.Size([128, 64, 24, 24])\n"
          ],
          "name": "stdout"
        },
        {
          "output_type": "stream",
          "text": [
            "\r  0%|          | 0/4 [00:00<?, ?it/s]"
          ],
          "name": "stderr"
        },
        {
          "output_type": "stream",
          "text": [
            "torch.Size([105, 64, 24, 24])\n"
          ],
          "name": "stdout"
        },
        {
          "output_type": "stream",
          "text": [
            "\r 25%|██▌       | 1/4 [00:03<00:10,  3.59s/it]"
          ],
          "name": "stderr"
        },
        {
          "output_type": "stream",
          "text": [
            "torch.Size([32, 64, 24, 24])\n",
            "torch.Size([32, 64, 24, 24])\n",
            "torch.Size([32, 64, 24, 24])\n",
            "torch.Size([26, 64, 24, 24])\n"
          ],
          "name": "stdout"
        },
        {
          "output_type": "stream",
          "text": [
            "\r100%|██████████| 4/4 [00:04<00:00,  1.07s/it]\n"
          ],
          "name": "stderr"
        },
        {
          "output_type": "stream",
          "text": [
            "Computing accuracy\n",
            "Test set accuracy (MAP@2) = 0.444672131147541\n",
            "epoch: 42\n",
            "torch.Size([128, 64, 24, 24])\n",
            "Epoch 42 Iteration 0: Loss = 0.10320890694856644, Number of mined triplets = 48918\n",
            "torch.Size([128, 64, 24, 24])\n",
            "torch.Size([128, 64, 24, 24])\n"
          ],
          "name": "stdout"
        },
        {
          "output_type": "stream",
          "text": [
            "\r  0%|          | 0/4 [00:00<?, ?it/s]"
          ],
          "name": "stderr"
        },
        {
          "output_type": "stream",
          "text": [
            "torch.Size([105, 64, 24, 24])\n"
          ],
          "name": "stdout"
        },
        {
          "output_type": "stream",
          "text": [
            "\r 25%|██▌       | 1/4 [00:03<00:10,  3.63s/it]"
          ],
          "name": "stderr"
        },
        {
          "output_type": "stream",
          "text": [
            "torch.Size([32, 64, 24, 24])\n",
            "torch.Size([32, 64, 24, 24])\n",
            "torch.Size([32, 64, 24, 24])\n",
            "torch.Size([26, 64, 24, 24])\n"
          ],
          "name": "stdout"
        },
        {
          "output_type": "stream",
          "text": [
            "\r100%|██████████| 4/4 [00:04<00:00,  1.10s/it]\n"
          ],
          "name": "stderr"
        },
        {
          "output_type": "stream",
          "text": [
            "Computing accuracy\n",
            "Test set accuracy (MAP@2) = 0.3975409836065574\n",
            "epoch: 43\n",
            "torch.Size([128, 64, 24, 24])\n",
            "Epoch 43 Iteration 0: Loss = 0.1021871343255043, Number of mined triplets = 49761\n",
            "torch.Size([128, 64, 24, 24])\n",
            "torch.Size([128, 64, 24, 24])\n"
          ],
          "name": "stdout"
        },
        {
          "output_type": "stream",
          "text": [
            "\r  0%|          | 0/4 [00:00<?, ?it/s]"
          ],
          "name": "stderr"
        },
        {
          "output_type": "stream",
          "text": [
            "torch.Size([105, 64, 24, 24])\n"
          ],
          "name": "stdout"
        },
        {
          "output_type": "stream",
          "text": [
            "\r 25%|██▌       | 1/4 [00:03<00:11,  3.72s/it]"
          ],
          "name": "stderr"
        },
        {
          "output_type": "stream",
          "text": [
            "torch.Size([32, 64, 24, 24])\n",
            "torch.Size([32, 64, 24, 24])\n",
            "torch.Size([32, 64, 24, 24])\n",
            "torch.Size([26, 64, 24, 24])\n"
          ],
          "name": "stdout"
        },
        {
          "output_type": "stream",
          "text": [
            "\r100%|██████████| 4/4 [00:04<00:00,  1.10s/it]\n"
          ],
          "name": "stderr"
        },
        {
          "output_type": "stream",
          "text": [
            "Computing accuracy\n",
            "Test set accuracy (MAP@2) = 0.4323770491803279\n",
            "epoch: 44\n",
            "torch.Size([128, 64, 24, 24])\n",
            "Epoch 44 Iteration 0: Loss = 0.10503758490085602, Number of mined triplets = 52660\n",
            "torch.Size([128, 64, 24, 24])\n",
            "torch.Size([128, 64, 24, 24])\n"
          ],
          "name": "stdout"
        },
        {
          "output_type": "stream",
          "text": [
            "\r  0%|          | 0/4 [00:00<?, ?it/s]"
          ],
          "name": "stderr"
        },
        {
          "output_type": "stream",
          "text": [
            "torch.Size([105, 64, 24, 24])\n"
          ],
          "name": "stdout"
        },
        {
          "output_type": "stream",
          "text": [
            "\r 25%|██▌       | 1/4 [00:03<00:11,  3.73s/it]"
          ],
          "name": "stderr"
        },
        {
          "output_type": "stream",
          "text": [
            "torch.Size([32, 64, 24, 24])\n",
            "torch.Size([32, 64, 24, 24])\n",
            "torch.Size([32, 64, 24, 24])\n",
            "torch.Size([26, 64, 24, 24])\n"
          ],
          "name": "stdout"
        },
        {
          "output_type": "stream",
          "text": [
            "\r100%|██████████| 4/4 [00:04<00:00,  1.11s/it]\n"
          ],
          "name": "stderr"
        },
        {
          "output_type": "stream",
          "text": [
            "Computing accuracy\n",
            "Test set accuracy (MAP@2) = 0.4057377049180328\n",
            "epoch: 45\n",
            "torch.Size([128, 64, 24, 24])\n",
            "Epoch 45 Iteration 0: Loss = 0.10621380060911179, Number of mined triplets = 50752\n",
            "torch.Size([128, 64, 24, 24])\n",
            "torch.Size([128, 64, 24, 24])\n"
          ],
          "name": "stdout"
        },
        {
          "output_type": "stream",
          "text": [
            "\r  0%|          | 0/4 [00:00<?, ?it/s]"
          ],
          "name": "stderr"
        },
        {
          "output_type": "stream",
          "text": [
            "torch.Size([105, 64, 24, 24])\n"
          ],
          "name": "stdout"
        },
        {
          "output_type": "stream",
          "text": [
            "\r 25%|██▌       | 1/4 [00:03<00:11,  3.70s/it]"
          ],
          "name": "stderr"
        },
        {
          "output_type": "stream",
          "text": [
            "torch.Size([32, 64, 24, 24])\n",
            "torch.Size([32, 64, 24, 24])\n",
            "torch.Size([32, 64, 24, 24])\n",
            "torch.Size([26, 64, 24, 24])\n"
          ],
          "name": "stdout"
        },
        {
          "output_type": "stream",
          "text": [
            "\r100%|██████████| 4/4 [00:04<00:00,  1.10s/it]\n"
          ],
          "name": "stderr"
        },
        {
          "output_type": "stream",
          "text": [
            "Computing accuracy\n",
            "Test set accuracy (MAP@2) = 0.48360655737704916\n",
            "epoch: 46\n",
            "torch.Size([128, 64, 24, 24])\n",
            "Epoch 46 Iteration 0: Loss = 0.10520455241203308, Number of mined triplets = 50876\n",
            "torch.Size([128, 64, 24, 24])\n",
            "torch.Size([128, 64, 24, 24])\n"
          ],
          "name": "stdout"
        },
        {
          "output_type": "stream",
          "text": [
            "\r  0%|          | 0/4 [00:00<?, ?it/s]"
          ],
          "name": "stderr"
        },
        {
          "output_type": "stream",
          "text": [
            "torch.Size([105, 64, 24, 24])\n"
          ],
          "name": "stdout"
        },
        {
          "output_type": "stream",
          "text": [
            "\r 25%|██▌       | 1/4 [00:03<00:10,  3.63s/it]"
          ],
          "name": "stderr"
        },
        {
          "output_type": "stream",
          "text": [
            "torch.Size([32, 64, 24, 24])\n",
            "torch.Size([32, 64, 24, 24])\n",
            "torch.Size([32, 64, 24, 24])\n",
            "torch.Size([26, 64, 24, 24])\n"
          ],
          "name": "stdout"
        },
        {
          "output_type": "stream",
          "text": [
            "\r100%|██████████| 4/4 [00:04<00:00,  1.09s/it]\n"
          ],
          "name": "stderr"
        },
        {
          "output_type": "stream",
          "text": [
            "Computing accuracy\n",
            "Test set accuracy (MAP@2) = 0.4713114754098361\n",
            "epoch: 47\n",
            "torch.Size([128, 64, 24, 24])\n",
            "Epoch 47 Iteration 0: Loss = 0.1038876324892044, Number of mined triplets = 49929\n",
            "torch.Size([128, 64, 24, 24])\n",
            "torch.Size([128, 64, 24, 24])\n"
          ],
          "name": "stdout"
        },
        {
          "output_type": "stream",
          "text": [
            "\r  0%|          | 0/4 [00:00<?, ?it/s]"
          ],
          "name": "stderr"
        },
        {
          "output_type": "stream",
          "text": [
            "torch.Size([105, 64, 24, 24])\n"
          ],
          "name": "stdout"
        },
        {
          "output_type": "stream",
          "text": [
            "\r 25%|██▌       | 1/4 [00:03<00:10,  3.65s/it]"
          ],
          "name": "stderr"
        },
        {
          "output_type": "stream",
          "text": [
            "torch.Size([32, 64, 24, 24])\n",
            "torch.Size([32, 64, 24, 24])\n",
            "torch.Size([32, 64, 24, 24])\n",
            "torch.Size([26, 64, 24, 24])\n"
          ],
          "name": "stdout"
        },
        {
          "output_type": "stream",
          "text": [
            "\r100%|██████████| 4/4 [00:04<00:00,  1.09s/it]\n"
          ],
          "name": "stderr"
        },
        {
          "output_type": "stream",
          "text": [
            "Computing accuracy\n",
            "Test set accuracy (MAP@2) = 0.4672131147540984\n",
            "epoch: 48\n",
            "torch.Size([128, 64, 24, 24])\n",
            "Epoch 48 Iteration 0: Loss = 0.10391358286142349, Number of mined triplets = 51782\n",
            "torch.Size([128, 64, 24, 24])\n",
            "torch.Size([128, 64, 24, 24])\n"
          ],
          "name": "stdout"
        },
        {
          "output_type": "stream",
          "text": [
            "\r  0%|          | 0/4 [00:00<?, ?it/s]"
          ],
          "name": "stderr"
        },
        {
          "output_type": "stream",
          "text": [
            "torch.Size([105, 64, 24, 24])\n"
          ],
          "name": "stdout"
        },
        {
          "output_type": "stream",
          "text": [
            "\r 25%|██▌       | 1/4 [00:03<00:10,  3.66s/it]"
          ],
          "name": "stderr"
        },
        {
          "output_type": "stream",
          "text": [
            "torch.Size([32, 64, 24, 24])\n",
            "torch.Size([32, 64, 24, 24])\n",
            "torch.Size([32, 64, 24, 24])\n",
            "torch.Size([26, 64, 24, 24])\n"
          ],
          "name": "stdout"
        },
        {
          "output_type": "stream",
          "text": [
            "\r100%|██████████| 4/4 [00:04<00:00,  1.08s/it]\n"
          ],
          "name": "stderr"
        },
        {
          "output_type": "stream",
          "text": [
            "Computing accuracy\n",
            "Test set accuracy (MAP@2) = 0.48155737704918034\n",
            "epoch: 49\n",
            "torch.Size([128, 64, 24, 24])\n",
            "Epoch 49 Iteration 0: Loss = 0.10367127507925034, Number of mined triplets = 50845\n",
            "torch.Size([128, 64, 24, 24])\n",
            "torch.Size([128, 64, 24, 24])\n"
          ],
          "name": "stdout"
        },
        {
          "output_type": "stream",
          "text": [
            "\r  0%|          | 0/4 [00:00<?, ?it/s]"
          ],
          "name": "stderr"
        },
        {
          "output_type": "stream",
          "text": [
            "torch.Size([105, 64, 24, 24])\n"
          ],
          "name": "stdout"
        },
        {
          "output_type": "stream",
          "text": [
            "\r 25%|██▌       | 1/4 [00:03<00:10,  3.65s/it]"
          ],
          "name": "stderr"
        },
        {
          "output_type": "stream",
          "text": [
            "torch.Size([32, 64, 24, 24])\n",
            "torch.Size([32, 64, 24, 24])\n",
            "torch.Size([32, 64, 24, 24])\n",
            "torch.Size([26, 64, 24, 24])\n"
          ],
          "name": "stdout"
        },
        {
          "output_type": "stream",
          "text": [
            "\r100%|██████████| 4/4 [00:04<00:00,  1.09s/it]\n"
          ],
          "name": "stderr"
        },
        {
          "output_type": "stream",
          "text": [
            "Computing accuracy\n",
            "Test set accuracy (MAP@2) = 0.46311475409836067\n",
            "fold 3\n",
            "epoch: 1\n",
            "torch.Size([128, 64, 24, 24])\n",
            "Epoch 1 Iteration 0: Loss = 0.11020556837320328, Number of mined triplets = 180644\n",
            "torch.Size([128, 64, 24, 24])\n",
            "torch.Size([128, 64, 24, 24])\n"
          ],
          "name": "stdout"
        },
        {
          "output_type": "stream",
          "text": [
            "\r  0%|          | 0/4 [00:00<?, ?it/s]"
          ],
          "name": "stderr"
        },
        {
          "output_type": "stream",
          "text": [
            "torch.Size([105, 64, 24, 24])\n"
          ],
          "name": "stdout"
        },
        {
          "output_type": "stream",
          "text": [
            "\r 25%|██▌       | 1/4 [00:03<00:10,  3.65s/it]"
          ],
          "name": "stderr"
        },
        {
          "output_type": "stream",
          "text": [
            "torch.Size([32, 64, 24, 24])\n",
            "torch.Size([32, 64, 24, 24])\n",
            "torch.Size([32, 64, 24, 24])\n",
            "torch.Size([26, 64, 24, 24])\n"
          ],
          "name": "stdout"
        },
        {
          "output_type": "stream",
          "text": [
            "\r100%|██████████| 4/4 [00:04<00:00,  1.09s/it]\n"
          ],
          "name": "stderr"
        },
        {
          "output_type": "stream",
          "text": [
            "Computing accuracy\n",
            "Test set accuracy (MAP@2) = 0.45491803278688525\n",
            "epoch: 2\n",
            "torch.Size([128, 64, 24, 24])\n",
            "Epoch 2 Iteration 0: Loss = 0.11362671852111816, Number of mined triplets = 68961\n",
            "torch.Size([128, 64, 24, 24])\n",
            "torch.Size([128, 64, 24, 24])\n"
          ],
          "name": "stdout"
        },
        {
          "output_type": "stream",
          "text": [
            "\r  0%|          | 0/4 [00:00<?, ?it/s]"
          ],
          "name": "stderr"
        },
        {
          "output_type": "stream",
          "text": [
            "torch.Size([105, 64, 24, 24])\n"
          ],
          "name": "stdout"
        },
        {
          "output_type": "stream",
          "text": [
            " 50%|█████     | 2/4 [00:03<00:04,  2.50s/it]"
          ],
          "name": "stderr"
        },
        {
          "output_type": "stream",
          "text": [
            "torch.Size([32, 64, 24, 24])\n",
            "torch.Size([32, 64, 24, 24])\n",
            "torch.Size([32, 64, 24, 24])\n",
            "torch.Size([26, 64, 24, 24])\n"
          ],
          "name": "stdout"
        },
        {
          "output_type": "stream",
          "text": [
            "\r100%|██████████| 4/4 [00:04<00:00,  1.08s/it]\n"
          ],
          "name": "stderr"
        },
        {
          "output_type": "stream",
          "text": [
            "Computing accuracy\n",
            "Test set accuracy (MAP@2) = 0.5163934426229508\n",
            "epoch: 3\n",
            "torch.Size([128, 64, 24, 24])\n",
            "Epoch 3 Iteration 0: Loss = 0.11406272649765015, Number of mined triplets = 56219\n",
            "torch.Size([128, 64, 24, 24])\n",
            "torch.Size([128, 64, 24, 24])\n"
          ],
          "name": "stdout"
        },
        {
          "output_type": "stream",
          "text": [
            "\r  0%|          | 0/4 [00:00<?, ?it/s]"
          ],
          "name": "stderr"
        },
        {
          "output_type": "stream",
          "text": [
            "torch.Size([105, 64, 24, 24])\n"
          ],
          "name": "stdout"
        },
        {
          "output_type": "stream",
          "text": [
            "\r 25%|██▌       | 1/4 [00:03<00:10,  3.62s/it]"
          ],
          "name": "stderr"
        },
        {
          "output_type": "stream",
          "text": [
            "torch.Size([32, 64, 24, 24])\n",
            "torch.Size([32, 64, 24, 24])\n",
            "torch.Size([32, 64, 24, 24])\n",
            "torch.Size([26, 64, 24, 24])\n"
          ],
          "name": "stdout"
        },
        {
          "output_type": "stream",
          "text": [
            "\r100%|██████████| 4/4 [00:04<00:00,  1.08s/it]\n"
          ],
          "name": "stderr"
        },
        {
          "output_type": "stream",
          "text": [
            "Computing accuracy\n",
            "Test set accuracy (MAP@2) = 0.4774590163934426\n",
            "epoch: 4\n",
            "torch.Size([128, 64, 24, 24])\n",
            "Epoch 4 Iteration 0: Loss = 0.1058664470911026, Number of mined triplets = 54353\n",
            "torch.Size([128, 64, 24, 24])\n",
            "torch.Size([128, 64, 24, 24])\n"
          ],
          "name": "stdout"
        },
        {
          "output_type": "stream",
          "text": [
            "\r  0%|          | 0/4 [00:00<?, ?it/s]"
          ],
          "name": "stderr"
        },
        {
          "output_type": "stream",
          "text": [
            "torch.Size([105, 64, 24, 24])\n"
          ],
          "name": "stdout"
        },
        {
          "output_type": "stream",
          "text": [
            "\r 25%|██▌       | 1/4 [00:03<00:10,  3.62s/it]"
          ],
          "name": "stderr"
        },
        {
          "output_type": "stream",
          "text": [
            "torch.Size([32, 64, 24, 24])\n",
            "torch.Size([32, 64, 24, 24])\n",
            "torch.Size([32, 64, 24, 24])\n",
            "torch.Size([26, 64, 24, 24])\n"
          ],
          "name": "stdout"
        },
        {
          "output_type": "stream",
          "text": [
            "\r100%|██████████| 4/4 [00:04<00:00,  1.09s/it]\n"
          ],
          "name": "stderr"
        },
        {
          "output_type": "stream",
          "text": [
            "Computing accuracy\n",
            "Test set accuracy (MAP@2) = 0.4918032786885246\n",
            "epoch: 5\n",
            "torch.Size([128, 64, 24, 24])\n",
            "Epoch 5 Iteration 0: Loss = 0.10746719688177109, Number of mined triplets = 51412\n",
            "torch.Size([128, 64, 24, 24])\n",
            "torch.Size([128, 64, 24, 24])\n"
          ],
          "name": "stdout"
        },
        {
          "output_type": "stream",
          "text": [
            "\r  0%|          | 0/4 [00:00<?, ?it/s]"
          ],
          "name": "stderr"
        },
        {
          "output_type": "stream",
          "text": [
            "torch.Size([105, 64, 24, 24])\n"
          ],
          "name": "stdout"
        },
        {
          "output_type": "stream",
          "text": [
            "\r 25%|██▌       | 1/4 [00:03<00:11,  3.68s/it]"
          ],
          "name": "stderr"
        },
        {
          "output_type": "stream",
          "text": [
            "torch.Size([32, 64, 24, 24])\n",
            "torch.Size([32, 64, 24, 24])\n",
            "torch.Size([32, 64, 24, 24])\n",
            "torch.Size([26, 64, 24, 24])\n"
          ],
          "name": "stdout"
        },
        {
          "output_type": "stream",
          "text": [
            "\r100%|██████████| 4/4 [00:04<00:00,  1.09s/it]\n"
          ],
          "name": "stderr"
        },
        {
          "output_type": "stream",
          "text": [
            "Computing accuracy\n",
            "Test set accuracy (MAP@2) = 0.3668032786885246\n",
            "epoch: 6\n",
            "torch.Size([128, 64, 24, 24])\n",
            "Epoch 6 Iteration 0: Loss = 0.1105339378118515, Number of mined triplets = 52193\n",
            "torch.Size([128, 64, 24, 24])\n",
            "torch.Size([128, 64, 24, 24])\n"
          ],
          "name": "stdout"
        },
        {
          "output_type": "stream",
          "text": [
            "\r  0%|          | 0/4 [00:00<?, ?it/s]"
          ],
          "name": "stderr"
        },
        {
          "output_type": "stream",
          "text": [
            "torch.Size([105, 64, 24, 24])\n"
          ],
          "name": "stdout"
        },
        {
          "output_type": "stream",
          "text": [
            "\r 25%|██▌       | 1/4 [00:03<00:10,  3.38s/it]"
          ],
          "name": "stderr"
        },
        {
          "output_type": "stream",
          "text": [
            "torch.Size([32, 64, 24, 24])\n"
          ],
          "name": "stdout"
        },
        {
          "output_type": "stream",
          "text": [
            "\r 50%|█████     | 2/4 [00:03<00:04,  2.45s/it]"
          ],
          "name": "stderr"
        },
        {
          "output_type": "stream",
          "text": [
            "torch.Size([32, 64, 24, 24])\n",
            "torch.Size([32, 64, 24, 24])\n",
            "torch.Size([26, 64, 24, 24])\n"
          ],
          "name": "stdout"
        },
        {
          "output_type": "stream",
          "text": [
            "\r100%|██████████| 4/4 [00:04<00:00,  1.10s/it]\n"
          ],
          "name": "stderr"
        },
        {
          "output_type": "stream",
          "text": [
            "Computing accuracy\n",
            "Test set accuracy (MAP@2) = 0.514344262295082\n",
            "epoch: 7\n",
            "torch.Size([128, 64, 24, 24])\n",
            "Epoch 7 Iteration 0: Loss = 0.10788942128419876, Number of mined triplets = 51181\n",
            "torch.Size([128, 64, 24, 24])\n",
            "torch.Size([128, 64, 24, 24])\n"
          ],
          "name": "stdout"
        },
        {
          "output_type": "stream",
          "text": [
            "\r  0%|          | 0/4 [00:00<?, ?it/s]"
          ],
          "name": "stderr"
        },
        {
          "output_type": "stream",
          "text": [
            "torch.Size([105, 64, 24, 24])\n"
          ],
          "name": "stdout"
        },
        {
          "output_type": "stream",
          "text": [
            "\r 25%|██▌       | 1/4 [00:03<00:10,  3.64s/it]"
          ],
          "name": "stderr"
        },
        {
          "output_type": "stream",
          "text": [
            "torch.Size([32, 64, 24, 24])\n",
            "torch.Size([32, 64, 24, 24])\n",
            "torch.Size([32, 64, 24, 24])\n",
            "torch.Size([26, 64, 24, 24])\n"
          ],
          "name": "stdout"
        },
        {
          "output_type": "stream",
          "text": [
            "\r100%|██████████| 4/4 [00:04<00:00,  1.09s/it]\n"
          ],
          "name": "stderr"
        },
        {
          "output_type": "stream",
          "text": [
            "Computing accuracy\n",
            "Test set accuracy (MAP@2) = 0.42827868852459017\n",
            "epoch: 8\n",
            "torch.Size([128, 64, 24, 24])\n",
            "Epoch 8 Iteration 0: Loss = 0.10597246140241623, Number of mined triplets = 51666\n",
            "torch.Size([128, 64, 24, 24])\n",
            "torch.Size([128, 64, 24, 24])\n"
          ],
          "name": "stdout"
        },
        {
          "output_type": "stream",
          "text": [
            "\r  0%|          | 0/4 [00:00<?, ?it/s]"
          ],
          "name": "stderr"
        },
        {
          "output_type": "stream",
          "text": [
            "torch.Size([105, 64, 24, 24])\n"
          ],
          "name": "stdout"
        },
        {
          "output_type": "stream",
          "text": [
            "\r 25%|██▌       | 1/4 [00:03<00:10,  3.64s/it]"
          ],
          "name": "stderr"
        },
        {
          "output_type": "stream",
          "text": [
            "torch.Size([32, 64, 24, 24])\n",
            "torch.Size([32, 64, 24, 24])\n",
            "torch.Size([32, 64, 24, 24])\n",
            "torch.Size([26, 64, 24, 24])\n"
          ],
          "name": "stdout"
        },
        {
          "output_type": "stream",
          "text": [
            "\r100%|██████████| 4/4 [00:04<00:00,  1.09s/it]\n"
          ],
          "name": "stderr"
        },
        {
          "output_type": "stream",
          "text": [
            "Computing accuracy\n",
            "Test set accuracy (MAP@2) = 0.42213114754098363\n",
            "epoch: 9\n",
            "torch.Size([128, 64, 24, 24])\n",
            "Epoch 9 Iteration 0: Loss = 0.10673058032989502, Number of mined triplets = 51842\n",
            "torch.Size([128, 64, 24, 24])\n",
            "torch.Size([128, 64, 24, 24])\n"
          ],
          "name": "stdout"
        },
        {
          "output_type": "stream",
          "text": [
            "\r  0%|          | 0/4 [00:00<?, ?it/s]"
          ],
          "name": "stderr"
        },
        {
          "output_type": "stream",
          "text": [
            "torch.Size([105, 64, 24, 24])\n"
          ],
          "name": "stdout"
        },
        {
          "output_type": "stream",
          "text": [
            "\r 25%|██▌       | 1/4 [00:03<00:11,  3.71s/it]"
          ],
          "name": "stderr"
        },
        {
          "output_type": "stream",
          "text": [
            "torch.Size([32, 64, 24, 24])\n",
            "torch.Size([32, 64, 24, 24])\n",
            "torch.Size([32, 64, 24, 24])\n",
            "torch.Size([26, 64, 24, 24])\n"
          ],
          "name": "stdout"
        },
        {
          "output_type": "stream",
          "text": [
            "\r100%|██████████| 4/4 [00:04<00:00,  1.10s/it]\n"
          ],
          "name": "stderr"
        },
        {
          "output_type": "stream",
          "text": [
            "Computing accuracy\n",
            "Test set accuracy (MAP@2) = 0.4959016393442623\n",
            "epoch: 10\n",
            "torch.Size([128, 64, 24, 24])\n",
            "Epoch 10 Iteration 0: Loss = 0.10600576549768448, Number of mined triplets = 52493\n",
            "torch.Size([128, 64, 24, 24])\n",
            "torch.Size([128, 64, 24, 24])\n"
          ],
          "name": "stdout"
        },
        {
          "output_type": "stream",
          "text": [
            "\r  0%|          | 0/4 [00:00<?, ?it/s]"
          ],
          "name": "stderr"
        },
        {
          "output_type": "stream",
          "text": [
            "torch.Size([105, 64, 24, 24])\n"
          ],
          "name": "stdout"
        },
        {
          "output_type": "stream",
          "text": [
            "\r 25%|██▌       | 1/4 [00:03<00:11,  3.70s/it]"
          ],
          "name": "stderr"
        },
        {
          "output_type": "stream",
          "text": [
            "torch.Size([32, 64, 24, 24])\n",
            "torch.Size([32, 64, 24, 24])\n",
            "torch.Size([32, 64, 24, 24])\n",
            "torch.Size([26, 64, 24, 24])\n"
          ],
          "name": "stdout"
        },
        {
          "output_type": "stream",
          "text": [
            "\r100%|██████████| 4/4 [00:04<00:00,  1.09s/it]\n"
          ],
          "name": "stderr"
        },
        {
          "output_type": "stream",
          "text": [
            "Computing accuracy\n",
            "Test set accuracy (MAP@2) = 0.5040983606557377\n",
            "epoch: 11\n",
            "torch.Size([128, 64, 24, 24])\n",
            "Epoch 11 Iteration 0: Loss = 0.10378841310739517, Number of mined triplets = 50741\n",
            "torch.Size([128, 64, 24, 24])\n",
            "torch.Size([128, 64, 24, 24])\n"
          ],
          "name": "stdout"
        },
        {
          "output_type": "stream",
          "text": [
            "\r  0%|          | 0/4 [00:00<?, ?it/s]"
          ],
          "name": "stderr"
        },
        {
          "output_type": "stream",
          "text": [
            "torch.Size([105, 64, 24, 24])\n"
          ],
          "name": "stdout"
        },
        {
          "output_type": "stream",
          "text": [
            "\r 25%|██▌       | 1/4 [00:03<00:11,  3.68s/it]"
          ],
          "name": "stderr"
        },
        {
          "output_type": "stream",
          "text": [
            "torch.Size([32, 64, 24, 24])\n",
            "torch.Size([32, 64, 24, 24])\n",
            "torch.Size([32, 64, 24, 24])\n",
            "torch.Size([26, 64, 24, 24])\n"
          ],
          "name": "stdout"
        },
        {
          "output_type": "stream",
          "text": [
            "\r100%|██████████| 4/4 [00:04<00:00,  1.09s/it]\n"
          ],
          "name": "stderr"
        },
        {
          "output_type": "stream",
          "text": [
            "Computing accuracy\n",
            "Test set accuracy (MAP@2) = 0.4016393442622951\n",
            "epoch: 12\n",
            "torch.Size([128, 64, 24, 24])\n",
            "Epoch 12 Iteration 0: Loss = 0.10752847045660019, Number of mined triplets = 51780\n",
            "torch.Size([128, 64, 24, 24])\n",
            "torch.Size([128, 64, 24, 24])\n"
          ],
          "name": "stdout"
        },
        {
          "output_type": "stream",
          "text": [
            "\r  0%|          | 0/4 [00:00<?, ?it/s]"
          ],
          "name": "stderr"
        },
        {
          "output_type": "stream",
          "text": [
            "torch.Size([105, 64, 24, 24])\n"
          ],
          "name": "stdout"
        },
        {
          "output_type": "stream",
          "text": [
            "\r 25%|██▌       | 1/4 [00:03<00:10,  3.66s/it]"
          ],
          "name": "stderr"
        },
        {
          "output_type": "stream",
          "text": [
            "torch.Size([32, 64, 24, 24])\n",
            "torch.Size([32, 64, 24, 24])\n",
            "torch.Size([32, 64, 24, 24])\n",
            "torch.Size([26, 64, 24, 24])\n"
          ],
          "name": "stdout"
        },
        {
          "output_type": "stream",
          "text": [
            "\r100%|██████████| 4/4 [00:04<00:00,  1.10s/it]\n"
          ],
          "name": "stderr"
        },
        {
          "output_type": "stream",
          "text": [
            "Computing accuracy\n",
            "Test set accuracy (MAP@2) = 0.4651639344262295\n",
            "epoch: 13\n",
            "torch.Size([128, 64, 24, 24])\n",
            "Epoch 13 Iteration 0: Loss = 0.10588021576404572, Number of mined triplets = 49682\n",
            "torch.Size([128, 64, 24, 24])\n",
            "torch.Size([128, 64, 24, 24])\n"
          ],
          "name": "stdout"
        },
        {
          "output_type": "stream",
          "text": [
            "\r  0%|          | 0/4 [00:00<?, ?it/s]"
          ],
          "name": "stderr"
        },
        {
          "output_type": "stream",
          "text": [
            "torch.Size([105, 64, 24, 24])\n"
          ],
          "name": "stdout"
        },
        {
          "output_type": "stream",
          "text": [
            "\r 25%|██▌       | 1/4 [00:03<00:10,  3.61s/it]"
          ],
          "name": "stderr"
        },
        {
          "output_type": "stream",
          "text": [
            "torch.Size([32, 64, 24, 24])\n",
            "torch.Size([32, 64, 24, 24])\n",
            "torch.Size([32, 64, 24, 24])\n",
            "torch.Size([26, 64, 24, 24])\n"
          ],
          "name": "stdout"
        },
        {
          "output_type": "stream",
          "text": [
            "\r100%|██████████| 4/4 [00:04<00:00,  1.10s/it]\n"
          ],
          "name": "stderr"
        },
        {
          "output_type": "stream",
          "text": [
            "Computing accuracy\n",
            "Test set accuracy (MAP@2) = 0.4918032786885246\n",
            "epoch: 14\n",
            "torch.Size([128, 64, 24, 24])\n",
            "Epoch 14 Iteration 0: Loss = 0.10432302951812744, Number of mined triplets = 50155\n",
            "torch.Size([128, 64, 24, 24])\n",
            "torch.Size([128, 64, 24, 24])\n"
          ],
          "name": "stdout"
        },
        {
          "output_type": "stream",
          "text": [
            "\r  0%|          | 0/4 [00:00<?, ?it/s]"
          ],
          "name": "stderr"
        },
        {
          "output_type": "stream",
          "text": [
            "torch.Size([105, 64, 24, 24])\n"
          ],
          "name": "stdout"
        },
        {
          "output_type": "stream",
          "text": [
            "\r 25%|██▌       | 1/4 [00:03<00:11,  3.71s/it]"
          ],
          "name": "stderr"
        },
        {
          "output_type": "stream",
          "text": [
            "torch.Size([32, 64, 24, 24])\n",
            "torch.Size([32, 64, 24, 24])\n",
            "torch.Size([32, 64, 24, 24])\n",
            "torch.Size([26, 64, 24, 24])\n"
          ],
          "name": "stdout"
        },
        {
          "output_type": "stream",
          "text": [
            "\r100%|██████████| 4/4 [00:04<00:00,  1.10s/it]\n"
          ],
          "name": "stderr"
        },
        {
          "output_type": "stream",
          "text": [
            "Computing accuracy\n",
            "Test set accuracy (MAP@2) = 0.45491803278688525\n",
            "epoch: 15\n",
            "torch.Size([128, 64, 24, 24])\n",
            "Epoch 15 Iteration 0: Loss = 0.10666922479867935, Number of mined triplets = 50940\n",
            "torch.Size([128, 64, 24, 24])\n",
            "torch.Size([128, 64, 24, 24])\n"
          ],
          "name": "stdout"
        },
        {
          "output_type": "stream",
          "text": [
            "\r  0%|          | 0/4 [00:00<?, ?it/s]"
          ],
          "name": "stderr"
        },
        {
          "output_type": "stream",
          "text": [
            "torch.Size([105, 64, 24, 24])\n"
          ],
          "name": "stdout"
        },
        {
          "output_type": "stream",
          "text": [
            "\r 25%|██▌       | 1/4 [00:03<00:10,  3.61s/it]"
          ],
          "name": "stderr"
        },
        {
          "output_type": "stream",
          "text": [
            "torch.Size([32, 64, 24, 24])\n",
            "torch.Size([32, 64, 24, 24])\n",
            "torch.Size([32, 64, 24, 24])\n",
            "torch.Size([26, 64, 24, 24])\n"
          ],
          "name": "stdout"
        },
        {
          "output_type": "stream",
          "text": [
            "\r100%|██████████| 4/4 [00:04<00:00,  1.09s/it]\n"
          ],
          "name": "stderr"
        },
        {
          "output_type": "stream",
          "text": [
            "Computing accuracy\n",
            "Test set accuracy (MAP@2) = 0.48155737704918034\n",
            "epoch: 16\n",
            "torch.Size([128, 64, 24, 24])\n",
            "Epoch 16 Iteration 0: Loss = 0.10747239738702774, Number of mined triplets = 50518\n",
            "torch.Size([128, 64, 24, 24])\n",
            "torch.Size([128, 64, 24, 24])\n"
          ],
          "name": "stdout"
        },
        {
          "output_type": "stream",
          "text": [
            "\r  0%|          | 0/4 [00:00<?, ?it/s]"
          ],
          "name": "stderr"
        },
        {
          "output_type": "stream",
          "text": [
            "torch.Size([105, 64, 24, 24])\n"
          ],
          "name": "stdout"
        },
        {
          "output_type": "stream",
          "text": [
            "\r 25%|██▌       | 1/4 [00:03<00:10,  3.63s/it]"
          ],
          "name": "stderr"
        },
        {
          "output_type": "stream",
          "text": [
            "torch.Size([32, 64, 24, 24])\n",
            "torch.Size([32, 64, 24, 24])\n",
            "torch.Size([32, 64, 24, 24])\n",
            "torch.Size([26, 64, 24, 24])\n"
          ],
          "name": "stdout"
        },
        {
          "output_type": "stream",
          "text": [
            "\r100%|██████████| 4/4 [00:04<00:00,  1.11s/it]\n"
          ],
          "name": "stderr"
        },
        {
          "output_type": "stream",
          "text": [
            "Computing accuracy\n",
            "Test set accuracy (MAP@2) = 0.45081967213114754\n",
            "epoch: 17\n",
            "torch.Size([128, 64, 24, 24])\n",
            "Epoch 17 Iteration 0: Loss = 0.1048014909029007, Number of mined triplets = 49733\n",
            "torch.Size([128, 64, 24, 24])\n",
            "torch.Size([128, 64, 24, 24])\n"
          ],
          "name": "stdout"
        },
        {
          "output_type": "stream",
          "text": [
            "\r  0%|          | 0/4 [00:00<?, ?it/s]"
          ],
          "name": "stderr"
        },
        {
          "output_type": "stream",
          "text": [
            "torch.Size([105, 64, 24, 24])\n"
          ],
          "name": "stdout"
        },
        {
          "output_type": "stream",
          "text": [
            "\r 25%|██▌       | 1/4 [00:03<00:11,  3.73s/it]"
          ],
          "name": "stderr"
        },
        {
          "output_type": "stream",
          "text": [
            "torch.Size([32, 64, 24, 24])\n",
            "torch.Size([32, 64, 24, 24])\n",
            "torch.Size([32, 64, 24, 24])\n",
            "torch.Size([26, 64, 24, 24])\n"
          ],
          "name": "stdout"
        },
        {
          "output_type": "stream",
          "text": [
            "\r100%|██████████| 4/4 [00:04<00:00,  1.11s/it]\n"
          ],
          "name": "stderr"
        },
        {
          "output_type": "stream",
          "text": [
            "Computing accuracy\n",
            "Test set accuracy (MAP@2) = 0.48155737704918034\n",
            "epoch: 18\n",
            "torch.Size([128, 64, 24, 24])\n",
            "Epoch 18 Iteration 0: Loss = 0.10491622239351273, Number of mined triplets = 50503\n",
            "torch.Size([128, 64, 24, 24])\n",
            "torch.Size([128, 64, 24, 24])\n"
          ],
          "name": "stdout"
        },
        {
          "output_type": "stream",
          "text": [
            "\r  0%|          | 0/4 [00:00<?, ?it/s]"
          ],
          "name": "stderr"
        },
        {
          "output_type": "stream",
          "text": [
            "torch.Size([105, 64, 24, 24])\n"
          ],
          "name": "stdout"
        },
        {
          "output_type": "stream",
          "text": [
            "\r 25%|██▌       | 1/4 [00:03<00:11,  3.85s/it]"
          ],
          "name": "stderr"
        },
        {
          "output_type": "stream",
          "text": [
            "torch.Size([32, 64, 24, 24])\n",
            "torch.Size([32, 64, 24, 24])\n",
            "torch.Size([32, 64, 24, 24])\n",
            "torch.Size([26, 64, 24, 24])\n"
          ],
          "name": "stdout"
        },
        {
          "output_type": "stream",
          "text": [
            "\r100%|██████████| 4/4 [00:04<00:00,  1.14s/it]\n"
          ],
          "name": "stderr"
        },
        {
          "output_type": "stream",
          "text": [
            "Computing accuracy\n",
            "Test set accuracy (MAP@2) = 0.46311475409836067\n",
            "epoch: 19\n",
            "torch.Size([128, 64, 24, 24])\n",
            "Epoch 19 Iteration 0: Loss = 0.10452956706285477, Number of mined triplets = 49185\n",
            "torch.Size([128, 64, 24, 24])\n",
            "torch.Size([128, 64, 24, 24])\n"
          ],
          "name": "stdout"
        },
        {
          "output_type": "stream",
          "text": [
            "\r  0%|          | 0/4 [00:00<?, ?it/s]"
          ],
          "name": "stderr"
        },
        {
          "output_type": "stream",
          "text": [
            "torch.Size([105, 64, 24, 24])\n"
          ],
          "name": "stdout"
        },
        {
          "output_type": "stream",
          "text": [
            "\r 25%|██▌       | 1/4 [00:03<00:10,  3.64s/it]"
          ],
          "name": "stderr"
        },
        {
          "output_type": "stream",
          "text": [
            "torch.Size([32, 64, 24, 24])\n",
            "torch.Size([32, 64, 24, 24])\n",
            "torch.Size([32, 64, 24, 24])\n",
            "torch.Size([26, 64, 24, 24])\n"
          ],
          "name": "stdout"
        },
        {
          "output_type": "stream",
          "text": [
            "\r100%|██████████| 4/4 [00:04<00:00,  1.08s/it]\n"
          ],
          "name": "stderr"
        },
        {
          "output_type": "stream",
          "text": [
            "Computing accuracy\n",
            "Test set accuracy (MAP@2) = 0.4692622950819672\n",
            "epoch: 20\n",
            "torch.Size([128, 64, 24, 24])\n",
            "Epoch 20 Iteration 0: Loss = 0.10572127997875214, Number of mined triplets = 54696\n",
            "torch.Size([128, 64, 24, 24])\n",
            "torch.Size([128, 64, 24, 24])\n"
          ],
          "name": "stdout"
        },
        {
          "output_type": "stream",
          "text": [
            "\r  0%|          | 0/4 [00:00<?, ?it/s]"
          ],
          "name": "stderr"
        },
        {
          "output_type": "stream",
          "text": [
            "torch.Size([105, 64, 24, 24])\n"
          ],
          "name": "stdout"
        },
        {
          "output_type": "stream",
          "text": [
            " 50%|█████     | 2/4 [00:03<00:05,  2.55s/it]"
          ],
          "name": "stderr"
        },
        {
          "output_type": "stream",
          "text": [
            "torch.Size([32, 64, 24, 24])\n",
            "torch.Size([32, 64, 24, 24])\n",
            "torch.Size([32, 64, 24, 24])\n",
            "torch.Size([26, 64, 24, 24])\n"
          ],
          "name": "stdout"
        },
        {
          "output_type": "stream",
          "text": [
            "\r100%|██████████| 4/4 [00:04<00:00,  1.10s/it]\n"
          ],
          "name": "stderr"
        },
        {
          "output_type": "stream",
          "text": [
            "Computing accuracy\n",
            "Test set accuracy (MAP@2) = 0.444672131147541\n",
            "epoch: 21\n",
            "torch.Size([128, 64, 24, 24])\n",
            "Epoch 21 Iteration 0: Loss = 0.10447970032691956, Number of mined triplets = 49008\n",
            "torch.Size([128, 64, 24, 24])\n",
            "torch.Size([128, 64, 24, 24])\n"
          ],
          "name": "stdout"
        },
        {
          "output_type": "stream",
          "text": [
            "\r  0%|          | 0/4 [00:00<?, ?it/s]"
          ],
          "name": "stderr"
        },
        {
          "output_type": "stream",
          "text": [
            "torch.Size([105, 64, 24, 24])\n"
          ],
          "name": "stdout"
        },
        {
          "output_type": "stream",
          "text": [
            "\r 25%|██▌       | 1/4 [00:03<00:11,  3.69s/it]"
          ],
          "name": "stderr"
        },
        {
          "output_type": "stream",
          "text": [
            "torch.Size([32, 64, 24, 24])\n",
            "torch.Size([32, 64, 24, 24])\n",
            "torch.Size([32, 64, 24, 24])\n",
            "torch.Size([26, 64, 24, 24])\n"
          ],
          "name": "stdout"
        },
        {
          "output_type": "stream",
          "text": [
            "\r100%|██████████| 4/4 [00:04<00:00,  1.10s/it]\n"
          ],
          "name": "stderr"
        },
        {
          "output_type": "stream",
          "text": [
            "Computing accuracy\n",
            "Test set accuracy (MAP@2) = 0.4139344262295082\n",
            "epoch: 22\n",
            "torch.Size([128, 64, 24, 24])\n",
            "Epoch 22 Iteration 0: Loss = 0.10556863993406296, Number of mined triplets = 49863\n",
            "torch.Size([128, 64, 24, 24])\n",
            "torch.Size([128, 64, 24, 24])\n"
          ],
          "name": "stdout"
        },
        {
          "output_type": "stream",
          "text": [
            "\r  0%|          | 0/4 [00:00<?, ?it/s]"
          ],
          "name": "stderr"
        },
        {
          "output_type": "stream",
          "text": [
            "torch.Size([105, 64, 24, 24])\n"
          ],
          "name": "stdout"
        },
        {
          "output_type": "stream",
          "text": [
            "\r 25%|██▌       | 1/4 [00:03<00:11,  3.71s/it]"
          ],
          "name": "stderr"
        },
        {
          "output_type": "stream",
          "text": [
            "torch.Size([32, 64, 24, 24])\n",
            "torch.Size([32, 64, 24, 24])\n",
            "torch.Size([32, 64, 24, 24])\n",
            "torch.Size([26, 64, 24, 24])\n"
          ],
          "name": "stdout"
        },
        {
          "output_type": "stream",
          "text": [
            "\r100%|██████████| 4/4 [00:04<00:00,  1.11s/it]\n"
          ],
          "name": "stderr"
        },
        {
          "output_type": "stream",
          "text": [
            "Computing accuracy\n",
            "Test set accuracy (MAP@2) = 0.4733606557377049\n",
            "epoch: 23\n",
            "torch.Size([128, 64, 24, 24])\n",
            "Epoch 23 Iteration 0: Loss = 0.10435265302658081, Number of mined triplets = 50538\n",
            "torch.Size([128, 64, 24, 24])\n",
            "torch.Size([128, 64, 24, 24])\n"
          ],
          "name": "stdout"
        },
        {
          "output_type": "stream",
          "text": [
            "\r  0%|          | 0/4 [00:00<?, ?it/s]"
          ],
          "name": "stderr"
        },
        {
          "output_type": "stream",
          "text": [
            "torch.Size([105, 64, 24, 24])\n"
          ],
          "name": "stdout"
        },
        {
          "output_type": "stream",
          "text": [
            "\r 25%|██▌       | 1/4 [00:03<00:10,  3.63s/it]"
          ],
          "name": "stderr"
        },
        {
          "output_type": "stream",
          "text": [
            "torch.Size([32, 64, 24, 24])\n",
            "torch.Size([32, 64, 24, 24])\n",
            "torch.Size([32, 64, 24, 24])\n",
            "torch.Size([26, 64, 24, 24])\n"
          ],
          "name": "stdout"
        },
        {
          "output_type": "stream",
          "text": [
            "\r100%|██████████| 4/4 [00:04<00:00,  1.09s/it]\n"
          ],
          "name": "stderr"
        },
        {
          "output_type": "stream",
          "text": [
            "Computing accuracy\n",
            "Test set accuracy (MAP@2) = 0.5225409836065574\n",
            "epoch: 24\n",
            "torch.Size([128, 64, 24, 24])\n",
            "Epoch 24 Iteration 0: Loss = 0.1039043515920639, Number of mined triplets = 50014\n",
            "torch.Size([128, 64, 24, 24])\n",
            "torch.Size([128, 64, 24, 24])\n"
          ],
          "name": "stdout"
        },
        {
          "output_type": "stream",
          "text": [
            "\r  0%|          | 0/4 [00:00<?, ?it/s]"
          ],
          "name": "stderr"
        },
        {
          "output_type": "stream",
          "text": [
            "torch.Size([105, 64, 24, 24])\n"
          ],
          "name": "stdout"
        },
        {
          "output_type": "stream",
          "text": [
            "\r 25%|██▌       | 1/4 [00:03<00:10,  3.63s/it]"
          ],
          "name": "stderr"
        },
        {
          "output_type": "stream",
          "text": [
            "torch.Size([32, 64, 24, 24])\n",
            "torch.Size([32, 64, 24, 24])\n",
            "torch.Size([32, 64, 24, 24])\n",
            "torch.Size([26, 64, 24, 24])\n"
          ],
          "name": "stdout"
        },
        {
          "output_type": "stream",
          "text": [
            "\r100%|██████████| 4/4 [00:04<00:00,  1.09s/it]\n"
          ],
          "name": "stderr"
        },
        {
          "output_type": "stream",
          "text": [
            "Computing accuracy\n",
            "Test set accuracy (MAP@2) = 0.4733606557377049\n",
            "epoch: 25\n",
            "torch.Size([128, 64, 24, 24])\n",
            "Epoch 25 Iteration 0: Loss = 0.10620296746492386, Number of mined triplets = 50198\n",
            "torch.Size([128, 64, 24, 24])\n",
            "torch.Size([128, 64, 24, 24])\n"
          ],
          "name": "stdout"
        },
        {
          "output_type": "stream",
          "text": [
            "\r  0%|          | 0/4 [00:00<?, ?it/s]"
          ],
          "name": "stderr"
        },
        {
          "output_type": "stream",
          "text": [
            "torch.Size([105, 64, 24, 24])\n"
          ],
          "name": "stdout"
        },
        {
          "output_type": "stream",
          "text": [
            "\r 25%|██▌       | 1/4 [00:03<00:11,  3.71s/it]"
          ],
          "name": "stderr"
        },
        {
          "output_type": "stream",
          "text": [
            "torch.Size([32, 64, 24, 24])\n",
            "torch.Size([32, 64, 24, 24])\n",
            "torch.Size([32, 64, 24, 24])\n",
            "torch.Size([26, 64, 24, 24])\n"
          ],
          "name": "stdout"
        },
        {
          "output_type": "stream",
          "text": [
            "\r100%|██████████| 4/4 [00:04<00:00,  1.11s/it]\n"
          ],
          "name": "stderr"
        },
        {
          "output_type": "stream",
          "text": [
            "Computing accuracy\n",
            "Test set accuracy (MAP@2) = 0.444672131147541\n",
            "epoch: 26\n",
            "torch.Size([128, 64, 24, 24])\n",
            "Epoch 26 Iteration 0: Loss = 0.10450921952724457, Number of mined triplets = 51260\n",
            "torch.Size([128, 64, 24, 24])\n",
            "torch.Size([128, 64, 24, 24])\n"
          ],
          "name": "stdout"
        },
        {
          "output_type": "stream",
          "text": [
            "\r  0%|          | 0/4 [00:00<?, ?it/s]"
          ],
          "name": "stderr"
        },
        {
          "output_type": "stream",
          "text": [
            "torch.Size([105, 64, 24, 24])\n"
          ],
          "name": "stdout"
        },
        {
          "output_type": "stream",
          "text": [
            " 75%|███████▌  | 3/4 [00:03<00:02,  2.55s/it]"
          ],
          "name": "stderr"
        },
        {
          "output_type": "stream",
          "text": [
            "torch.Size([32, 64, 24, 24])\n",
            "torch.Size([32, 64, 24, 24])\n",
            "torch.Size([32, 64, 24, 24])\n",
            "torch.Size([26, 64, 24, 24])\n"
          ],
          "name": "stdout"
        },
        {
          "output_type": "stream",
          "text": [
            "\r100%|██████████| 4/4 [00:04<00:00,  1.11s/it]\n"
          ],
          "name": "stderr"
        },
        {
          "output_type": "stream",
          "text": [
            "Computing accuracy\n",
            "Test set accuracy (MAP@2) = 0.48565573770491804\n",
            "epoch: 27\n",
            "torch.Size([128, 64, 24, 24])\n",
            "Epoch 27 Iteration 0: Loss = 0.10369318723678589, Number of mined triplets = 51856\n",
            "torch.Size([128, 64, 24, 24])\n",
            "torch.Size([128, 64, 24, 24])\n"
          ],
          "name": "stdout"
        },
        {
          "output_type": "stream",
          "text": [
            "\r  0%|          | 0/4 [00:00<?, ?it/s]"
          ],
          "name": "stderr"
        },
        {
          "output_type": "stream",
          "text": [
            "torch.Size([105, 64, 24, 24])\n"
          ],
          "name": "stdout"
        },
        {
          "output_type": "stream",
          "text": [
            "\r 25%|██▌       | 1/4 [00:03<00:10,  3.63s/it]"
          ],
          "name": "stderr"
        },
        {
          "output_type": "stream",
          "text": [
            "torch.Size([32, 64, 24, 24])\n",
            "torch.Size([32, 64, 24, 24])\n",
            "torch.Size([32, 64, 24, 24])\n",
            "torch.Size([26, 64, 24, 24])\n"
          ],
          "name": "stdout"
        },
        {
          "output_type": "stream",
          "text": [
            "\r100%|██████████| 4/4 [00:04<00:00,  1.09s/it]\n"
          ],
          "name": "stderr"
        },
        {
          "output_type": "stream",
          "text": [
            "Computing accuracy\n",
            "Test set accuracy (MAP@2) = 0.46311475409836067\n",
            "epoch: 28\n",
            "torch.Size([128, 64, 24, 24])\n",
            "Epoch 28 Iteration 0: Loss = 0.10489685833454132, Number of mined triplets = 50774\n",
            "torch.Size([128, 64, 24, 24])\n",
            "torch.Size([128, 64, 24, 24])\n"
          ],
          "name": "stdout"
        },
        {
          "output_type": "stream",
          "text": [
            "\r  0%|          | 0/4 [00:00<?, ?it/s]"
          ],
          "name": "stderr"
        },
        {
          "output_type": "stream",
          "text": [
            "torch.Size([105, 64, 24, 24])\n"
          ],
          "name": "stdout"
        },
        {
          "output_type": "stream",
          "text": [
            " 50%|█████     | 2/4 [00:03<00:05,  2.55s/it]"
          ],
          "name": "stderr"
        },
        {
          "output_type": "stream",
          "text": [
            "torch.Size([32, 64, 24, 24])\n",
            "torch.Size([32, 64, 24, 24])\n",
            "torch.Size([32, 64, 24, 24])\n",
            "torch.Size([26, 64, 24, 24])\n"
          ],
          "name": "stdout"
        },
        {
          "output_type": "stream",
          "text": [
            "\r100%|██████████| 4/4 [00:04<00:00,  1.10s/it]\n"
          ],
          "name": "stderr"
        },
        {
          "output_type": "stream",
          "text": [
            "Computing accuracy\n",
            "Test set accuracy (MAP@2) = 0.4426229508196721\n",
            "epoch: 29\n",
            "torch.Size([128, 64, 24, 24])\n",
            "Epoch 29 Iteration 0: Loss = 0.10465182363986969, Number of mined triplets = 50130\n",
            "torch.Size([128, 64, 24, 24])\n",
            "torch.Size([128, 64, 24, 24])\n"
          ],
          "name": "stdout"
        },
        {
          "output_type": "stream",
          "text": [
            "\r  0%|          | 0/4 [00:00<?, ?it/s]"
          ],
          "name": "stderr"
        },
        {
          "output_type": "stream",
          "text": [
            "torch.Size([105, 64, 24, 24])\n"
          ],
          "name": "stdout"
        },
        {
          "output_type": "stream",
          "text": [
            "\r 25%|██▌       | 1/4 [00:03<00:10,  3.66s/it]"
          ],
          "name": "stderr"
        },
        {
          "output_type": "stream",
          "text": [
            "torch.Size([32, 64, 24, 24])\n",
            "torch.Size([32, 64, 24, 24])\n",
            "torch.Size([32, 64, 24, 24])\n",
            "torch.Size([26, 64, 24, 24])\n"
          ],
          "name": "stdout"
        },
        {
          "output_type": "stream",
          "text": [
            "\r100%|██████████| 4/4 [00:04<00:00,  1.09s/it]\n"
          ],
          "name": "stderr"
        },
        {
          "output_type": "stream",
          "text": [
            "Computing accuracy\n",
            "Test set accuracy (MAP@2) = 0.4139344262295082\n",
            "epoch: 30\n",
            "torch.Size([128, 64, 24, 24])\n",
            "Epoch 30 Iteration 0: Loss = 0.10364629328250885, Number of mined triplets = 50619\n",
            "torch.Size([128, 64, 24, 24])\n",
            "torch.Size([128, 64, 24, 24])\n"
          ],
          "name": "stdout"
        },
        {
          "output_type": "stream",
          "text": [
            "\r  0%|          | 0/4 [00:00<?, ?it/s]"
          ],
          "name": "stderr"
        },
        {
          "output_type": "stream",
          "text": [
            "torch.Size([105, 64, 24, 24])\n"
          ],
          "name": "stdout"
        },
        {
          "output_type": "stream",
          "text": [
            "\r 25%|██▌       | 1/4 [00:03<00:10,  3.66s/it]"
          ],
          "name": "stderr"
        },
        {
          "output_type": "stream",
          "text": [
            "torch.Size([32, 64, 24, 24])\n",
            "torch.Size([32, 64, 24, 24])\n",
            "torch.Size([32, 64, 24, 24])\n",
            "torch.Size([26, 64, 24, 24])\n"
          ],
          "name": "stdout"
        },
        {
          "output_type": "stream",
          "text": [
            "\r100%|██████████| 4/4 [00:04<00:00,  1.09s/it]\n"
          ],
          "name": "stderr"
        },
        {
          "output_type": "stream",
          "text": [
            "Computing accuracy\n",
            "Test set accuracy (MAP@2) = 0.444672131147541\n",
            "epoch: 31\n",
            "torch.Size([128, 64, 24, 24])\n",
            "Epoch 31 Iteration 0: Loss = 0.10411177575588226, Number of mined triplets = 51135\n",
            "torch.Size([128, 64, 24, 24])\n",
            "torch.Size([128, 64, 24, 24])\n"
          ],
          "name": "stdout"
        },
        {
          "output_type": "stream",
          "text": [
            "\r  0%|          | 0/4 [00:00<?, ?it/s]"
          ],
          "name": "stderr"
        },
        {
          "output_type": "stream",
          "text": [
            "torch.Size([105, 64, 24, 24])\n"
          ],
          "name": "stdout"
        },
        {
          "output_type": "stream",
          "text": [
            " 75%|███████▌  | 3/4 [00:03<00:02,  2.49s/it]"
          ],
          "name": "stderr"
        },
        {
          "output_type": "stream",
          "text": [
            "torch.Size([32, 64, 24, 24])\n",
            "torch.Size([32, 64, 24, 24])\n",
            "torch.Size([32, 64, 24, 24])\n",
            "torch.Size([26, 64, 24, 24])\n"
          ],
          "name": "stdout"
        },
        {
          "output_type": "stream",
          "text": [
            "\r100%|██████████| 4/4 [00:04<00:00,  1.10s/it]\n"
          ],
          "name": "stderr"
        },
        {
          "output_type": "stream",
          "text": [
            "Computing accuracy\n",
            "Test set accuracy (MAP@2) = 0.45901639344262296\n",
            "epoch: 32\n",
            "torch.Size([128, 64, 24, 24])\n",
            "Epoch 32 Iteration 0: Loss = 0.10380909591913223, Number of mined triplets = 48887\n",
            "torch.Size([128, 64, 24, 24])\n",
            "torch.Size([128, 64, 24, 24])\n"
          ],
          "name": "stdout"
        },
        {
          "output_type": "stream",
          "text": [
            "\r  0%|          | 0/4 [00:00<?, ?it/s]"
          ],
          "name": "stderr"
        },
        {
          "output_type": "stream",
          "text": [
            "torch.Size([105, 64, 24, 24])\n"
          ],
          "name": "stdout"
        },
        {
          "output_type": "stream",
          "text": [
            "\r 25%|██▌       | 1/4 [00:03<00:10,  3.67s/it]"
          ],
          "name": "stderr"
        },
        {
          "output_type": "stream",
          "text": [
            "torch.Size([32, 64, 24, 24])\n",
            "torch.Size([32, 64, 24, 24])\n",
            "torch.Size([32, 64, 24, 24])\n",
            "torch.Size([26, 64, 24, 24])\n"
          ],
          "name": "stdout"
        },
        {
          "output_type": "stream",
          "text": [
            "\r100%|██████████| 4/4 [00:04<00:00,  1.09s/it]\n"
          ],
          "name": "stderr"
        },
        {
          "output_type": "stream",
          "text": [
            "Computing accuracy\n",
            "Test set accuracy (MAP@2) = 0.5122950819672131\n",
            "epoch: 33\n",
            "torch.Size([128, 64, 24, 24])\n",
            "Epoch 33 Iteration 0: Loss = 0.10520957410335541, Number of mined triplets = 51567\n",
            "torch.Size([128, 64, 24, 24])\n",
            "torch.Size([128, 64, 24, 24])\n"
          ],
          "name": "stdout"
        },
        {
          "output_type": "stream",
          "text": [
            "\r  0%|          | 0/4 [00:00<?, ?it/s]"
          ],
          "name": "stderr"
        },
        {
          "output_type": "stream",
          "text": [
            "torch.Size([105, 64, 24, 24])\n"
          ],
          "name": "stdout"
        },
        {
          "output_type": "stream",
          "text": [
            "\r 25%|██▌       | 1/4 [00:03<00:11,  3.71s/it]"
          ],
          "name": "stderr"
        },
        {
          "output_type": "stream",
          "text": [
            "torch.Size([32, 64, 24, 24])\n",
            "torch.Size([32, 64, 24, 24])\n",
            "torch.Size([32, 64, 24, 24])\n",
            "torch.Size([26, 64, 24, 24])\n"
          ],
          "name": "stdout"
        },
        {
          "output_type": "stream",
          "text": [
            "\r100%|██████████| 4/4 [00:04<00:00,  1.10s/it]\n"
          ],
          "name": "stderr"
        },
        {
          "output_type": "stream",
          "text": [
            "Computing accuracy\n",
            "Test set accuracy (MAP@2) = 0.48155737704918034\n",
            "epoch: 34\n",
            "torch.Size([128, 64, 24, 24])\n",
            "Epoch 34 Iteration 0: Loss = 0.10485212504863739, Number of mined triplets = 50317\n",
            "torch.Size([128, 64, 24, 24])\n",
            "torch.Size([128, 64, 24, 24])\n"
          ],
          "name": "stdout"
        },
        {
          "output_type": "stream",
          "text": [
            "\r  0%|          | 0/4 [00:00<?, ?it/s]"
          ],
          "name": "stderr"
        },
        {
          "output_type": "stream",
          "text": [
            "torch.Size([105, 64, 24, 24])\n"
          ],
          "name": "stdout"
        },
        {
          "output_type": "stream",
          "text": [
            "\r 25%|██▌       | 1/4 [00:03<00:11,  3.69s/it]"
          ],
          "name": "stderr"
        },
        {
          "output_type": "stream",
          "text": [
            "torch.Size([32, 64, 24, 24])\n",
            "torch.Size([32, 64, 24, 24])\n",
            "torch.Size([32, 64, 24, 24])\n",
            "torch.Size([26, 64, 24, 24])\n"
          ],
          "name": "stdout"
        },
        {
          "output_type": "stream",
          "text": [
            "\r100%|██████████| 4/4 [00:04<00:00,  1.10s/it]\n"
          ],
          "name": "stderr"
        },
        {
          "output_type": "stream",
          "text": [
            "Computing accuracy\n",
            "Test set accuracy (MAP@2) = 0.47540983606557374\n",
            "epoch: 35\n",
            "torch.Size([128, 64, 24, 24])\n",
            "Epoch 35 Iteration 0: Loss = 0.10514406859874725, Number of mined triplets = 51920\n",
            "torch.Size([128, 64, 24, 24])\n",
            "torch.Size([128, 64, 24, 24])\n"
          ],
          "name": "stdout"
        },
        {
          "output_type": "stream",
          "text": [
            "\r  0%|          | 0/4 [00:00<?, ?it/s]"
          ],
          "name": "stderr"
        },
        {
          "output_type": "stream",
          "text": [
            "torch.Size([105, 64, 24, 24])\n"
          ],
          "name": "stdout"
        },
        {
          "output_type": "stream",
          "text": [
            "\r 25%|██▌       | 1/4 [00:03<00:11,  3.68s/it]"
          ],
          "name": "stderr"
        },
        {
          "output_type": "stream",
          "text": [
            "torch.Size([32, 64, 24, 24])\n",
            "torch.Size([32, 64, 24, 24])\n",
            "torch.Size([32, 64, 24, 24])\n",
            "torch.Size([26, 64, 24, 24])\n"
          ],
          "name": "stdout"
        },
        {
          "output_type": "stream",
          "text": [
            "\r100%|██████████| 4/4 [00:04<00:00,  1.09s/it]\n"
          ],
          "name": "stderr"
        },
        {
          "output_type": "stream",
          "text": [
            "Computing accuracy\n",
            "Test set accuracy (MAP@2) = 0.4016393442622951\n",
            "epoch: 36\n",
            "torch.Size([128, 64, 24, 24])\n",
            "Epoch 36 Iteration 0: Loss = 0.10268314927816391, Number of mined triplets = 50304\n",
            "torch.Size([128, 64, 24, 24])\n",
            "torch.Size([128, 64, 24, 24])\n"
          ],
          "name": "stdout"
        },
        {
          "output_type": "stream",
          "text": [
            "\r  0%|          | 0/4 [00:00<?, ?it/s]"
          ],
          "name": "stderr"
        },
        {
          "output_type": "stream",
          "text": [
            "torch.Size([105, 64, 24, 24])\n"
          ],
          "name": "stdout"
        },
        {
          "output_type": "stream",
          "text": [
            " 75%|███████▌  | 3/4 [00:03<00:02,  2.51s/it]"
          ],
          "name": "stderr"
        },
        {
          "output_type": "stream",
          "text": [
            "torch.Size([32, 64, 24, 24])\n",
            "torch.Size([32, 64, 24, 24])\n",
            "torch.Size([32, 64, 24, 24])\n",
            "torch.Size([26, 64, 24, 24])\n"
          ],
          "name": "stdout"
        },
        {
          "output_type": "stream",
          "text": [
            "\r100%|██████████| 4/4 [00:04<00:00,  1.09s/it]\n"
          ],
          "name": "stderr"
        },
        {
          "output_type": "stream",
          "text": [
            "Computing accuracy\n",
            "Test set accuracy (MAP@2) = 0.5040983606557377\n",
            "epoch: 37\n",
            "torch.Size([128, 64, 24, 24])\n",
            "Epoch 37 Iteration 0: Loss = 0.10393398255109787, Number of mined triplets = 51044\n",
            "torch.Size([128, 64, 24, 24])\n",
            "torch.Size([128, 64, 24, 24])\n"
          ],
          "name": "stdout"
        },
        {
          "output_type": "stream",
          "text": [
            "\r  0%|          | 0/4 [00:00<?, ?it/s]"
          ],
          "name": "stderr"
        },
        {
          "output_type": "stream",
          "text": [
            "torch.Size([105, 64, 24, 24])\n"
          ],
          "name": "stdout"
        },
        {
          "output_type": "stream",
          "text": [
            "\r 25%|██▌       | 1/4 [00:03<00:10,  3.56s/it]"
          ],
          "name": "stderr"
        },
        {
          "output_type": "stream",
          "text": [
            "torch.Size([32, 64, 24, 24])\n",
            "torch.Size([32, 64, 24, 24])\n",
            "torch.Size([32, 64, 24, 24])\n",
            "torch.Size([26, 64, 24, 24])\n"
          ],
          "name": "stdout"
        },
        {
          "output_type": "stream",
          "text": [
            "\r100%|██████████| 4/4 [00:04<00:00,  1.08s/it]\n"
          ],
          "name": "stderr"
        },
        {
          "output_type": "stream",
          "text": [
            "Computing accuracy\n",
            "Test set accuracy (MAP@2) = 0.4323770491803279\n",
            "epoch: 38\n",
            "torch.Size([128, 64, 24, 24])\n",
            "Epoch 38 Iteration 0: Loss = 0.10369646549224854, Number of mined triplets = 49225\n",
            "torch.Size([128, 64, 24, 24])\n",
            "torch.Size([128, 64, 24, 24])\n"
          ],
          "name": "stdout"
        },
        {
          "output_type": "stream",
          "text": [
            "\r  0%|          | 0/4 [00:00<?, ?it/s]"
          ],
          "name": "stderr"
        },
        {
          "output_type": "stream",
          "text": [
            "torch.Size([105, 64, 24, 24])\n"
          ],
          "name": "stdout"
        },
        {
          "output_type": "stream",
          "text": [
            " 50%|█████     | 2/4 [00:03<00:05,  2.53s/it]"
          ],
          "name": "stderr"
        },
        {
          "output_type": "stream",
          "text": [
            "torch.Size([32, 64, 24, 24])\n",
            "torch.Size([32, 64, 24, 24])\n",
            "torch.Size([32, 64, 24, 24])\n",
            "torch.Size([26, 64, 24, 24])\n"
          ],
          "name": "stdout"
        },
        {
          "output_type": "stream",
          "text": [
            "\r100%|██████████| 4/4 [00:04<00:00,  1.10s/it]\n"
          ],
          "name": "stderr"
        },
        {
          "output_type": "stream",
          "text": [
            "Computing accuracy\n",
            "Test set accuracy (MAP@2) = 0.5471311475409836\n",
            "epoch: 39\n",
            "torch.Size([128, 64, 24, 24])\n",
            "Epoch 39 Iteration 0: Loss = 0.10177846252918243, Number of mined triplets = 49207\n",
            "torch.Size([128, 64, 24, 24])\n",
            "torch.Size([128, 64, 24, 24])\n"
          ],
          "name": "stdout"
        },
        {
          "output_type": "stream",
          "text": [
            "\r  0%|          | 0/4 [00:00<?, ?it/s]"
          ],
          "name": "stderr"
        },
        {
          "output_type": "stream",
          "text": [
            "torch.Size([105, 64, 24, 24])\n"
          ],
          "name": "stdout"
        },
        {
          "output_type": "stream",
          "text": [
            " 75%|███████▌  | 3/4 [00:03<00:02,  2.50s/it]"
          ],
          "name": "stderr"
        },
        {
          "output_type": "stream",
          "text": [
            "torch.Size([32, 64, 24, 24])\n",
            "torch.Size([32, 64, 24, 24])\n",
            "torch.Size([32, 64, 24, 24])\n",
            "torch.Size([26, 64, 24, 24])\n"
          ],
          "name": "stdout"
        },
        {
          "output_type": "stream",
          "text": [
            "\r100%|██████████| 4/4 [00:04<00:00,  1.09s/it]\n"
          ],
          "name": "stderr"
        },
        {
          "output_type": "stream",
          "text": [
            "Computing accuracy\n",
            "Test set accuracy (MAP@2) = 0.4323770491803279\n",
            "epoch: 40\n",
            "torch.Size([128, 64, 24, 24])\n",
            "Epoch 40 Iteration 0: Loss = 0.10223215073347092, Number of mined triplets = 49679\n",
            "torch.Size([128, 64, 24, 24])\n",
            "torch.Size([128, 64, 24, 24])\n"
          ],
          "name": "stdout"
        },
        {
          "output_type": "stream",
          "text": [
            "\r  0%|          | 0/4 [00:00<?, ?it/s]"
          ],
          "name": "stderr"
        },
        {
          "output_type": "stream",
          "text": [
            "torch.Size([105, 64, 24, 24])\n"
          ],
          "name": "stdout"
        },
        {
          "output_type": "stream",
          "text": [
            "\r 25%|██▌       | 1/4 [00:03<00:10,  3.56s/it]"
          ],
          "name": "stderr"
        },
        {
          "output_type": "stream",
          "text": [
            "torch.Size([32, 64, 24, 24])\n",
            "torch.Size([32, 64, 24, 24])\n",
            "torch.Size([32, 64, 24, 24])\n",
            "torch.Size([26, 64, 24, 24])\n"
          ],
          "name": "stdout"
        },
        {
          "output_type": "stream",
          "text": [
            "\r100%|██████████| 4/4 [00:04<00:00,  1.08s/it]\n"
          ],
          "name": "stderr"
        },
        {
          "output_type": "stream",
          "text": [
            "Computing accuracy\n",
            "Test set accuracy (MAP@2) = 0.4344262295081967\n",
            "epoch: 41\n",
            "torch.Size([128, 64, 24, 24])\n",
            "Epoch 41 Iteration 0: Loss = 0.1030975878238678, Number of mined triplets = 51200\n",
            "torch.Size([128, 64, 24, 24])\n",
            "torch.Size([128, 64, 24, 24])\n"
          ],
          "name": "stdout"
        },
        {
          "output_type": "stream",
          "text": [
            "\r  0%|          | 0/4 [00:00<?, ?it/s]"
          ],
          "name": "stderr"
        },
        {
          "output_type": "stream",
          "text": [
            "torch.Size([105, 64, 24, 24])\n"
          ],
          "name": "stdout"
        },
        {
          "output_type": "stream",
          "text": [
            " 50%|█████     | 2/4 [00:03<00:05,  2.53s/it]"
          ],
          "name": "stderr"
        },
        {
          "output_type": "stream",
          "text": [
            "torch.Size([32, 64, 24, 24])\n",
            "torch.Size([32, 64, 24, 24])\n",
            "torch.Size([32, 64, 24, 24])\n",
            "torch.Size([26, 64, 24, 24])\n"
          ],
          "name": "stdout"
        },
        {
          "output_type": "stream",
          "text": [
            "\r100%|██████████| 4/4 [00:04<00:00,  1.09s/it]\n"
          ],
          "name": "stderr"
        },
        {
          "output_type": "stream",
          "text": [
            "Computing accuracy\n",
            "Test set accuracy (MAP@2) = 0.4364754098360656\n",
            "epoch: 42\n",
            "torch.Size([128, 64, 24, 24])\n",
            "Epoch 42 Iteration 0: Loss = 0.10296840965747833, Number of mined triplets = 51714\n",
            "torch.Size([128, 64, 24, 24])\n",
            "torch.Size([128, 64, 24, 24])\n"
          ],
          "name": "stdout"
        },
        {
          "output_type": "stream",
          "text": [
            "\r  0%|          | 0/4 [00:00<?, ?it/s]"
          ],
          "name": "stderr"
        },
        {
          "output_type": "stream",
          "text": [
            "torch.Size([105, 64, 24, 24])\n"
          ],
          "name": "stdout"
        },
        {
          "output_type": "stream",
          "text": [
            "\r 25%|██▌       | 1/4 [00:03<00:10,  3.58s/it]"
          ],
          "name": "stderr"
        },
        {
          "output_type": "stream",
          "text": [
            "torch.Size([32, 64, 24, 24])\n",
            "torch.Size([32, 64, 24, 24])\n",
            "torch.Size([32, 64, 24, 24])\n",
            "torch.Size([26, 64, 24, 24])\n"
          ],
          "name": "stdout"
        },
        {
          "output_type": "stream",
          "text": [
            "\r100%|██████████| 4/4 [00:04<00:00,  1.08s/it]\n"
          ],
          "name": "stderr"
        },
        {
          "output_type": "stream",
          "text": [
            "Computing accuracy\n",
            "Test set accuracy (MAP@2) = 0.5040983606557377\n",
            "epoch: 43\n",
            "torch.Size([128, 64, 24, 24])\n",
            "Epoch 43 Iteration 0: Loss = 0.10271699726581573, Number of mined triplets = 51881\n",
            "torch.Size([128, 64, 24, 24])\n",
            "torch.Size([128, 64, 24, 24])\n"
          ],
          "name": "stdout"
        },
        {
          "output_type": "stream",
          "text": [
            "\r  0%|          | 0/4 [00:00<?, ?it/s]"
          ],
          "name": "stderr"
        },
        {
          "output_type": "stream",
          "text": [
            "torch.Size([105, 64, 24, 24])\n"
          ],
          "name": "stdout"
        },
        {
          "output_type": "stream",
          "text": [
            "\r 25%|██▌       | 1/4 [00:03<00:10,  3.56s/it]"
          ],
          "name": "stderr"
        },
        {
          "output_type": "stream",
          "text": [
            "torch.Size([32, 64, 24, 24])\n",
            "torch.Size([32, 64, 24, 24])\n",
            "torch.Size([32, 64, 24, 24])\n",
            "torch.Size([26, 64, 24, 24])\n"
          ],
          "name": "stdout"
        },
        {
          "output_type": "stream",
          "text": [
            "\r100%|██████████| 4/4 [00:04<00:00,  1.08s/it]\n"
          ],
          "name": "stderr"
        },
        {
          "output_type": "stream",
          "text": [
            "Computing accuracy\n",
            "Test set accuracy (MAP@2) = 0.4569672131147541\n",
            "epoch: 44\n",
            "torch.Size([128, 64, 24, 24])\n",
            "Epoch 44 Iteration 0: Loss = 0.1031905859708786, Number of mined triplets = 51827\n",
            "torch.Size([128, 64, 24, 24])\n",
            "torch.Size([128, 64, 24, 24])\n"
          ],
          "name": "stdout"
        },
        {
          "output_type": "stream",
          "text": [
            "\r  0%|          | 0/4 [00:00<?, ?it/s]"
          ],
          "name": "stderr"
        },
        {
          "output_type": "stream",
          "text": [
            "torch.Size([105, 64, 24, 24])\n"
          ],
          "name": "stdout"
        },
        {
          "output_type": "stream",
          "text": [
            "\r 25%|██▌       | 1/4 [00:03<00:10,  3.59s/it]"
          ],
          "name": "stderr"
        },
        {
          "output_type": "stream",
          "text": [
            "torch.Size([32, 64, 24, 24])\n",
            "torch.Size([32, 64, 24, 24])\n",
            "torch.Size([32, 64, 24, 24])\n",
            "torch.Size([26, 64, 24, 24])\n"
          ],
          "name": "stdout"
        },
        {
          "output_type": "stream",
          "text": [
            "\r100%|██████████| 4/4 [00:04<00:00,  1.08s/it]\n"
          ],
          "name": "stderr"
        },
        {
          "output_type": "stream",
          "text": [
            "Computing accuracy\n",
            "Test set accuracy (MAP@2) = 0.48770491803278687\n",
            "epoch: 45\n",
            "torch.Size([128, 64, 24, 24])\n",
            "Epoch 45 Iteration 0: Loss = 0.10477213561534882, Number of mined triplets = 52356\n",
            "torch.Size([128, 64, 24, 24])\n",
            "torch.Size([128, 64, 24, 24])\n"
          ],
          "name": "stdout"
        },
        {
          "output_type": "stream",
          "text": [
            "\r  0%|          | 0/4 [00:00<?, ?it/s]"
          ],
          "name": "stderr"
        },
        {
          "output_type": "stream",
          "text": [
            "torch.Size([105, 64, 24, 24])\n"
          ],
          "name": "stdout"
        },
        {
          "output_type": "stream",
          "text": [
            " 50%|█████     | 2/4 [00:03<00:04,  2.49s/it]"
          ],
          "name": "stderr"
        },
        {
          "output_type": "stream",
          "text": [
            "torch.Size([32, 64, 24, 24])\n",
            "torch.Size([32, 64, 24, 24])\n",
            "torch.Size([32, 64, 24, 24])\n",
            "torch.Size([26, 64, 24, 24])\n"
          ],
          "name": "stdout"
        },
        {
          "output_type": "stream",
          "text": [
            "\r100%|██████████| 4/4 [00:04<00:00,  1.09s/it]\n"
          ],
          "name": "stderr"
        },
        {
          "output_type": "stream",
          "text": [
            "Computing accuracy\n",
            "Test set accuracy (MAP@2) = 0.4487704918032787\n",
            "epoch: 46\n",
            "torch.Size([128, 64, 24, 24])\n",
            "Epoch 46 Iteration 0: Loss = 0.10225863754749298, Number of mined triplets = 51948\n",
            "torch.Size([128, 64, 24, 24])\n",
            "torch.Size([128, 64, 24, 24])\n"
          ],
          "name": "stdout"
        },
        {
          "output_type": "stream",
          "text": [
            "\r  0%|          | 0/4 [00:00<?, ?it/s]"
          ],
          "name": "stderr"
        },
        {
          "output_type": "stream",
          "text": [
            "torch.Size([105, 64, 24, 24])\n"
          ],
          "name": "stdout"
        },
        {
          "output_type": "stream",
          "text": [
            "\r 25%|██▌       | 1/4 [00:03<00:10,  3.58s/it]"
          ],
          "name": "stderr"
        },
        {
          "output_type": "stream",
          "text": [
            "torch.Size([32, 64, 24, 24])\n",
            "torch.Size([32, 64, 24, 24])\n",
            "torch.Size([32, 64, 24, 24])\n",
            "torch.Size([26, 64, 24, 24])\n"
          ],
          "name": "stdout"
        },
        {
          "output_type": "stream",
          "text": [
            "\r100%|██████████| 4/4 [00:04<00:00,  1.08s/it]\n"
          ],
          "name": "stderr"
        },
        {
          "output_type": "stream",
          "text": [
            "Computing accuracy\n",
            "Test set accuracy (MAP@2) = 0.4733606557377049\n",
            "epoch: 47\n",
            "torch.Size([128, 64, 24, 24])\n",
            "Epoch 47 Iteration 0: Loss = 0.10271205753087997, Number of mined triplets = 49144\n",
            "torch.Size([128, 64, 24, 24])\n",
            "torch.Size([128, 64, 24, 24])\n"
          ],
          "name": "stdout"
        },
        {
          "output_type": "stream",
          "text": [
            "\r  0%|          | 0/4 [00:00<?, ?it/s]"
          ],
          "name": "stderr"
        },
        {
          "output_type": "stream",
          "text": [
            "torch.Size([105, 64, 24, 24])\n"
          ],
          "name": "stdout"
        },
        {
          "output_type": "stream",
          "text": [
            " 50%|█████     | 2/4 [00:03<00:05,  2.52s/it]"
          ],
          "name": "stderr"
        },
        {
          "output_type": "stream",
          "text": [
            "torch.Size([32, 64, 24, 24])\n",
            "torch.Size([32, 64, 24, 24])\n",
            "torch.Size([32, 64, 24, 24])\n",
            "torch.Size([26, 64, 24, 24])\n"
          ],
          "name": "stdout"
        },
        {
          "output_type": "stream",
          "text": [
            "\r100%|██████████| 4/4 [00:04<00:00,  1.10s/it]\n"
          ],
          "name": "stderr"
        },
        {
          "output_type": "stream",
          "text": [
            "Computing accuracy\n",
            "Test set accuracy (MAP@2) = 0.5512295081967213\n",
            "epoch: 48\n",
            "torch.Size([128, 64, 24, 24])\n",
            "Epoch 48 Iteration 0: Loss = 0.1027468740940094, Number of mined triplets = 50464\n",
            "torch.Size([128, 64, 24, 24])\n",
            "torch.Size([128, 64, 24, 24])\n"
          ],
          "name": "stdout"
        },
        {
          "output_type": "stream",
          "text": [
            "\r  0%|          | 0/4 [00:00<?, ?it/s]"
          ],
          "name": "stderr"
        },
        {
          "output_type": "stream",
          "text": [
            "torch.Size([105, 64, 24, 24])\n"
          ],
          "name": "stdout"
        },
        {
          "output_type": "stream",
          "text": [
            " 50%|█████     | 2/4 [00:03<00:04,  2.50s/it]"
          ],
          "name": "stderr"
        },
        {
          "output_type": "stream",
          "text": [
            "torch.Size([32, 64, 24, 24])\n",
            "torch.Size([32, 64, 24, 24])\n",
            "torch.Size([32, 64, 24, 24])\n",
            "torch.Size([26, 64, 24, 24])\n"
          ],
          "name": "stdout"
        },
        {
          "output_type": "stream",
          "text": [
            "\r100%|██████████| 4/4 [00:04<00:00,  1.08s/it]\n"
          ],
          "name": "stderr"
        },
        {
          "output_type": "stream",
          "text": [
            "Computing accuracy\n",
            "Test set accuracy (MAP@2) = 0.5102459016393442\n",
            "epoch: 49\n",
            "torch.Size([128, 64, 24, 24])\n",
            "Epoch 49 Iteration 0: Loss = 0.10226622968912125, Number of mined triplets = 50461\n",
            "torch.Size([128, 64, 24, 24])\n",
            "torch.Size([128, 64, 24, 24])\n"
          ],
          "name": "stdout"
        },
        {
          "output_type": "stream",
          "text": [
            "\r  0%|          | 0/4 [00:00<?, ?it/s]"
          ],
          "name": "stderr"
        },
        {
          "output_type": "stream",
          "text": [
            "torch.Size([105, 64, 24, 24])\n"
          ],
          "name": "stdout"
        },
        {
          "output_type": "stream",
          "text": [
            "\r 25%|██▌       | 1/4 [00:03<00:10,  3.60s/it]"
          ],
          "name": "stderr"
        },
        {
          "output_type": "stream",
          "text": [
            "torch.Size([32, 64, 24, 24])\n",
            "torch.Size([32, 64, 24, 24])\n",
            "torch.Size([32, 64, 24, 24])\n",
            "torch.Size([26, 64, 24, 24])\n"
          ],
          "name": "stdout"
        },
        {
          "output_type": "stream",
          "text": [
            "\r100%|██████████| 4/4 [00:04<00:00,  1.09s/it]\n"
          ],
          "name": "stderr"
        },
        {
          "output_type": "stream",
          "text": [
            "Computing accuracy\n",
            "Test set accuracy (MAP@2) = 0.4036885245901639\n",
            "fold 4\n",
            "epoch: 1\n",
            "torch.Size([128, 64, 24, 24])\n",
            "Epoch 1 Iteration 0: Loss = 0.11076676845550537, Number of mined triplets = 185372\n",
            "torch.Size([128, 64, 24, 24])\n",
            "torch.Size([128, 64, 24, 24])\n"
          ],
          "name": "stdout"
        },
        {
          "output_type": "stream",
          "text": [
            "\r  0%|          | 0/4 [00:00<?, ?it/s]"
          ],
          "name": "stderr"
        },
        {
          "output_type": "stream",
          "text": [
            "torch.Size([105, 64, 24, 24])\n"
          ],
          "name": "stdout"
        },
        {
          "output_type": "stream",
          "text": [
            "\r 25%|██▌       | 1/4 [00:03<00:11,  3.93s/it]"
          ],
          "name": "stderr"
        },
        {
          "output_type": "stream",
          "text": [
            "torch.Size([32, 64, 24, 24])\n",
            "torch.Size([32, 64, 24, 24])\n",
            "torch.Size([32, 64, 24, 24])\n",
            "torch.Size([26, 64, 24, 24])\n"
          ],
          "name": "stdout"
        },
        {
          "output_type": "stream",
          "text": [
            "\r100%|██████████| 4/4 [00:04<00:00,  1.19s/it]\n"
          ],
          "name": "stderr"
        },
        {
          "output_type": "stream",
          "text": [
            "Computing accuracy\n",
            "Test set accuracy (MAP@2) = 0.5307377049180327\n",
            "epoch: 2\n",
            "torch.Size([128, 64, 24, 24])\n",
            "Epoch 2 Iteration 0: Loss = 0.11101802438497543, Number of mined triplets = 64856\n",
            "torch.Size([128, 64, 24, 24])\n",
            "torch.Size([128, 64, 24, 24])\n"
          ],
          "name": "stdout"
        },
        {
          "output_type": "stream",
          "text": [
            "\r  0%|          | 0/4 [00:00<?, ?it/s]"
          ],
          "name": "stderr"
        },
        {
          "output_type": "stream",
          "text": [
            "torch.Size([105, 64, 24, 24])\n"
          ],
          "name": "stdout"
        },
        {
          "output_type": "stream",
          "text": [
            " 75%|███████▌  | 3/4 [00:03<00:02,  2.54s/it]"
          ],
          "name": "stderr"
        },
        {
          "output_type": "stream",
          "text": [
            "torch.Size([32, 64, 24, 24])\n",
            "torch.Size([32, 64, 24, 24])\n",
            "torch.Size([32, 64, 24, 24])\n",
            "torch.Size([26, 64, 24, 24])\n"
          ],
          "name": "stdout"
        },
        {
          "output_type": "stream",
          "text": [
            "\r100%|██████████| 4/4 [00:04<00:00,  1.11s/it]\n"
          ],
          "name": "stderr"
        },
        {
          "output_type": "stream",
          "text": [
            "Computing accuracy\n",
            "Test set accuracy (MAP@2) = 0.4692622950819672\n",
            "epoch: 3\n",
            "torch.Size([128, 64, 24, 24])\n",
            "Epoch 3 Iteration 0: Loss = 0.1080661192536354, Number of mined triplets = 54548\n",
            "torch.Size([128, 64, 24, 24])\n",
            "torch.Size([128, 64, 24, 24])\n"
          ],
          "name": "stdout"
        },
        {
          "output_type": "stream",
          "text": [
            "\r  0%|          | 0/4 [00:00<?, ?it/s]"
          ],
          "name": "stderr"
        },
        {
          "output_type": "stream",
          "text": [
            "torch.Size([105, 64, 24, 24])\n"
          ],
          "name": "stdout"
        },
        {
          "output_type": "stream",
          "text": [
            "\r 25%|██▌       | 1/4 [00:03<00:11,  3.68s/it]"
          ],
          "name": "stderr"
        },
        {
          "output_type": "stream",
          "text": [
            "torch.Size([32, 64, 24, 24])\n",
            "torch.Size([32, 64, 24, 24])\n",
            "torch.Size([32, 64, 24, 24])\n",
            "torch.Size([26, 64, 24, 24])\n"
          ],
          "name": "stdout"
        },
        {
          "output_type": "stream",
          "text": [
            "\r100%|██████████| 4/4 [00:04<00:00,  1.09s/it]\n"
          ],
          "name": "stderr"
        },
        {
          "output_type": "stream",
          "text": [
            "Computing accuracy\n",
            "Test set accuracy (MAP@2) = 0.3975409836065574\n",
            "epoch: 4\n",
            "torch.Size([128, 64, 24, 24])\n",
            "Epoch 4 Iteration 0: Loss = 0.10869237780570984, Number of mined triplets = 54087\n",
            "torch.Size([128, 64, 24, 24])\n",
            "torch.Size([128, 64, 24, 24])\n"
          ],
          "name": "stdout"
        },
        {
          "output_type": "stream",
          "text": [
            "\r  0%|          | 0/4 [00:00<?, ?it/s]"
          ],
          "name": "stderr"
        },
        {
          "output_type": "stream",
          "text": [
            "torch.Size([105, 64, 24, 24])\n"
          ],
          "name": "stdout"
        },
        {
          "output_type": "stream",
          "text": [
            "\r 25%|██▌       | 1/4 [00:03<00:10,  3.56s/it]"
          ],
          "name": "stderr"
        },
        {
          "output_type": "stream",
          "text": [
            "torch.Size([32, 64, 24, 24])\n",
            "torch.Size([32, 64, 24, 24])\n",
            "torch.Size([32, 64, 24, 24])\n",
            "torch.Size([26, 64, 24, 24])\n"
          ],
          "name": "stdout"
        },
        {
          "output_type": "stream",
          "text": [
            "\r100%|██████████| 4/4 [00:04<00:00,  1.08s/it]\n"
          ],
          "name": "stderr"
        },
        {
          "output_type": "stream",
          "text": [
            "Computing accuracy\n",
            "Test set accuracy (MAP@2) = 0.4426229508196721\n",
            "epoch: 5\n",
            "torch.Size([128, 64, 24, 24])\n",
            "Epoch 5 Iteration 0: Loss = 0.11042167246341705, Number of mined triplets = 55232\n",
            "torch.Size([128, 64, 24, 24])\n",
            "torch.Size([128, 64, 24, 24])\n"
          ],
          "name": "stdout"
        },
        {
          "output_type": "stream",
          "text": [
            "\r  0%|          | 0/4 [00:00<?, ?it/s]"
          ],
          "name": "stderr"
        },
        {
          "output_type": "stream",
          "text": [
            "torch.Size([105, 64, 24, 24])\n"
          ],
          "name": "stdout"
        },
        {
          "output_type": "stream",
          "text": [
            "\r 25%|██▌       | 1/4 [00:03<00:11,  3.68s/it]"
          ],
          "name": "stderr"
        },
        {
          "output_type": "stream",
          "text": [
            "torch.Size([32, 64, 24, 24])\n",
            "torch.Size([32, 64, 24, 24])\n",
            "torch.Size([32, 64, 24, 24])\n",
            "torch.Size([26, 64, 24, 24])\n"
          ],
          "name": "stdout"
        },
        {
          "output_type": "stream",
          "text": [
            "\r100%|██████████| 4/4 [00:04<00:00,  1.09s/it]\n"
          ],
          "name": "stderr"
        },
        {
          "output_type": "stream",
          "text": [
            "Computing accuracy\n",
            "Test set accuracy (MAP@2) = 0.45901639344262296\n",
            "epoch: 6\n",
            "torch.Size([128, 64, 24, 24])\n",
            "Epoch 6 Iteration 0: Loss = 0.10908975452184677, Number of mined triplets = 52251\n",
            "torch.Size([128, 64, 24, 24])\n",
            "torch.Size([128, 64, 24, 24])\n"
          ],
          "name": "stdout"
        },
        {
          "output_type": "stream",
          "text": [
            "\r  0%|          | 0/4 [00:00<?, ?it/s]"
          ],
          "name": "stderr"
        },
        {
          "output_type": "stream",
          "text": [
            "torch.Size([105, 64, 24, 24])\n"
          ],
          "name": "stdout"
        },
        {
          "output_type": "stream",
          "text": [
            "\r 25%|██▌       | 1/4 [00:03<00:10,  3.63s/it]"
          ],
          "name": "stderr"
        },
        {
          "output_type": "stream",
          "text": [
            "torch.Size([32, 64, 24, 24])\n",
            "torch.Size([32, 64, 24, 24])\n",
            "torch.Size([32, 64, 24, 24])\n",
            "torch.Size([26, 64, 24, 24])\n"
          ],
          "name": "stdout"
        },
        {
          "output_type": "stream",
          "text": [
            "\r100%|██████████| 4/4 [00:04<00:00,  1.10s/it]\n"
          ],
          "name": "stderr"
        },
        {
          "output_type": "stream",
          "text": [
            "Computing accuracy\n",
            "Test set accuracy (MAP@2) = 0.42827868852459017\n",
            "epoch: 7\n",
            "torch.Size([128, 64, 24, 24])\n",
            "Epoch 7 Iteration 0: Loss = 0.10736498981714249, Number of mined triplets = 50615\n",
            "torch.Size([128, 64, 24, 24])\n",
            "torch.Size([128, 64, 24, 24])\n"
          ],
          "name": "stdout"
        },
        {
          "output_type": "stream",
          "text": [
            "\r  0%|          | 0/4 [00:00<?, ?it/s]"
          ],
          "name": "stderr"
        },
        {
          "output_type": "stream",
          "text": [
            "torch.Size([105, 64, 24, 24])\n"
          ],
          "name": "stdout"
        },
        {
          "output_type": "stream",
          "text": [
            "\r 25%|██▌       | 1/4 [00:03<00:11,  3.69s/it]"
          ],
          "name": "stderr"
        },
        {
          "output_type": "stream",
          "text": [
            "torch.Size([32, 64, 24, 24])\n",
            "torch.Size([32, 64, 24, 24])\n",
            "torch.Size([32, 64, 24, 24])\n",
            "torch.Size([26, 64, 24, 24])\n"
          ],
          "name": "stdout"
        },
        {
          "output_type": "stream",
          "text": [
            "\r100%|██████████| 4/4 [00:04<00:00,  1.09s/it]\n"
          ],
          "name": "stderr"
        },
        {
          "output_type": "stream",
          "text": [
            "Computing accuracy\n",
            "Test set accuracy (MAP@2) = 0.44672131147540983\n",
            "epoch: 8\n",
            "torch.Size([128, 64, 24, 24])\n",
            "Epoch 8 Iteration 0: Loss = 0.10946635156869888, Number of mined triplets = 52082\n",
            "torch.Size([128, 64, 24, 24])\n",
            "torch.Size([128, 64, 24, 24])\n"
          ],
          "name": "stdout"
        },
        {
          "output_type": "stream",
          "text": [
            "\r  0%|          | 0/4 [00:00<?, ?it/s]"
          ],
          "name": "stderr"
        },
        {
          "output_type": "stream",
          "text": [
            "torch.Size([105, 64, 24, 24])\n"
          ],
          "name": "stdout"
        },
        {
          "output_type": "stream",
          "text": [
            "\r 25%|██▌       | 1/4 [00:03<00:11,  3.69s/it]"
          ],
          "name": "stderr"
        },
        {
          "output_type": "stream",
          "text": [
            "torch.Size([32, 64, 24, 24])\n",
            "torch.Size([32, 64, 24, 24])\n",
            "torch.Size([32, 64, 24, 24])\n",
            "torch.Size([26, 64, 24, 24])\n"
          ],
          "name": "stdout"
        },
        {
          "output_type": "stream",
          "text": [
            "\r100%|██████████| 4/4 [00:04<00:00,  1.09s/it]\n"
          ],
          "name": "stderr"
        },
        {
          "output_type": "stream",
          "text": [
            "Computing accuracy\n",
            "Test set accuracy (MAP@2) = 0.4016393442622951\n",
            "epoch: 9\n",
            "torch.Size([128, 64, 24, 24])\n",
            "Epoch 9 Iteration 0: Loss = 0.10819286853075027, Number of mined triplets = 50422\n",
            "torch.Size([128, 64, 24, 24])\n",
            "torch.Size([128, 64, 24, 24])\n"
          ],
          "name": "stdout"
        },
        {
          "output_type": "stream",
          "text": [
            "\r  0%|          | 0/4 [00:00<?, ?it/s]"
          ],
          "name": "stderr"
        },
        {
          "output_type": "stream",
          "text": [
            "torch.Size([105, 64, 24, 24])\n"
          ],
          "name": "stdout"
        },
        {
          "output_type": "stream",
          "text": [
            "\r 25%|██▌       | 1/4 [00:03<00:10,  3.64s/it]"
          ],
          "name": "stderr"
        },
        {
          "output_type": "stream",
          "text": [
            "torch.Size([32, 64, 24, 24])\n",
            "torch.Size([32, 64, 24, 24])\n",
            "torch.Size([32, 64, 24, 24])\n",
            "torch.Size([26, 64, 24, 24])\n"
          ],
          "name": "stdout"
        },
        {
          "output_type": "stream",
          "text": [
            "\r100%|██████████| 4/4 [00:04<00:00,  1.09s/it]\n"
          ],
          "name": "stderr"
        },
        {
          "output_type": "stream",
          "text": [
            "Computing accuracy\n",
            "Test set accuracy (MAP@2) = 0.4487704918032787\n",
            "epoch: 10\n",
            "torch.Size([128, 64, 24, 24])\n",
            "Epoch 10 Iteration 0: Loss = 0.10838405787944794, Number of mined triplets = 47212\n",
            "torch.Size([128, 64, 24, 24])\n",
            "torch.Size([128, 64, 24, 24])\n"
          ],
          "name": "stdout"
        },
        {
          "output_type": "stream",
          "text": [
            "\r  0%|          | 0/4 [00:00<?, ?it/s]"
          ],
          "name": "stderr"
        },
        {
          "output_type": "stream",
          "text": [
            "torch.Size([105, 64, 24, 24])\n"
          ],
          "name": "stdout"
        },
        {
          "output_type": "stream",
          "text": [
            " 50%|█████     | 2/4 [00:03<00:05,  2.54s/it]"
          ],
          "name": "stderr"
        },
        {
          "output_type": "stream",
          "text": [
            "torch.Size([32, 64, 24, 24])\n",
            "torch.Size([32, 64, 24, 24])\n",
            "torch.Size([32, 64, 24, 24])\n",
            "torch.Size([26, 64, 24, 24])\n"
          ],
          "name": "stdout"
        },
        {
          "output_type": "stream",
          "text": [
            "\r100%|██████████| 4/4 [00:04<00:00,  1.10s/it]\n"
          ],
          "name": "stderr"
        },
        {
          "output_type": "stream",
          "text": [
            "Computing accuracy\n",
            "Test set accuracy (MAP@2) = 0.45901639344262296\n",
            "epoch: 11\n",
            "torch.Size([128, 64, 24, 24])\n",
            "Epoch 11 Iteration 0: Loss = 0.10830064862966537, Number of mined triplets = 51162\n",
            "torch.Size([128, 64, 24, 24])\n",
            "torch.Size([128, 64, 24, 24])\n"
          ],
          "name": "stdout"
        },
        {
          "output_type": "stream",
          "text": [
            "\r  0%|          | 0/4 [00:00<?, ?it/s]"
          ],
          "name": "stderr"
        },
        {
          "output_type": "stream",
          "text": [
            "torch.Size([105, 64, 24, 24])\n"
          ],
          "name": "stdout"
        },
        {
          "output_type": "stream",
          "text": [
            " 50%|█████     | 2/4 [00:03<00:04,  2.48s/it]"
          ],
          "name": "stderr"
        },
        {
          "output_type": "stream",
          "text": [
            "torch.Size([32, 64, 24, 24])\n",
            "torch.Size([32, 64, 24, 24])\n",
            "torch.Size([32, 64, 24, 24])\n",
            "torch.Size([26, 64, 24, 24])\n"
          ],
          "name": "stdout"
        },
        {
          "output_type": "stream",
          "text": [
            "\r100%|██████████| 4/4 [00:04<00:00,  1.10s/it]\n"
          ],
          "name": "stderr"
        },
        {
          "output_type": "stream",
          "text": [
            "Computing accuracy\n",
            "Test set accuracy (MAP@2) = 0.33811475409836067\n",
            "epoch: 12\n",
            "torch.Size([128, 64, 24, 24])\n",
            "Epoch 12 Iteration 0: Loss = 0.10581548511981964, Number of mined triplets = 50028\n",
            "torch.Size([128, 64, 24, 24])\n",
            "torch.Size([128, 64, 24, 24])\n"
          ],
          "name": "stdout"
        },
        {
          "output_type": "stream",
          "text": [
            "\r  0%|          | 0/4 [00:00<?, ?it/s]"
          ],
          "name": "stderr"
        },
        {
          "output_type": "stream",
          "text": [
            "torch.Size([105, 64, 24, 24])\n"
          ],
          "name": "stdout"
        },
        {
          "output_type": "stream",
          "text": [
            "\r 25%|██▌       | 1/4 [00:03<00:10,  3.61s/it]"
          ],
          "name": "stderr"
        },
        {
          "output_type": "stream",
          "text": [
            "torch.Size([32, 64, 24, 24])\n",
            "torch.Size([32, 64, 24, 24])\n",
            "torch.Size([32, 64, 24, 24])\n",
            "torch.Size([26, 64, 24, 24])\n"
          ],
          "name": "stdout"
        },
        {
          "output_type": "stream",
          "text": [
            "\r100%|██████████| 4/4 [00:04<00:00,  1.09s/it]\n"
          ],
          "name": "stderr"
        },
        {
          "output_type": "stream",
          "text": [
            "Computing accuracy\n",
            "Test set accuracy (MAP@2) = 0.42827868852459017\n",
            "epoch: 13\n",
            "torch.Size([128, 64, 24, 24])\n",
            "Epoch 13 Iteration 0: Loss = 0.10524822771549225, Number of mined triplets = 51256\n",
            "torch.Size([128, 64, 24, 24])\n",
            "torch.Size([128, 64, 24, 24])\n"
          ],
          "name": "stdout"
        },
        {
          "output_type": "stream",
          "text": [
            "\r  0%|          | 0/4 [00:00<?, ?it/s]"
          ],
          "name": "stderr"
        },
        {
          "output_type": "stream",
          "text": [
            "torch.Size([105, 64, 24, 24])\n"
          ],
          "name": "stdout"
        },
        {
          "output_type": "stream",
          "text": [
            "\r 25%|██▌       | 1/4 [00:03<00:10,  3.66s/it]"
          ],
          "name": "stderr"
        },
        {
          "output_type": "stream",
          "text": [
            "torch.Size([32, 64, 24, 24])\n",
            "torch.Size([32, 64, 24, 24])\n",
            "torch.Size([32, 64, 24, 24])\n",
            "torch.Size([26, 64, 24, 24])\n"
          ],
          "name": "stdout"
        },
        {
          "output_type": "stream",
          "text": [
            "\r100%|██████████| 4/4 [00:04<00:00,  1.10s/it]\n"
          ],
          "name": "stderr"
        },
        {
          "output_type": "stream",
          "text": [
            "Computing accuracy\n",
            "Test set accuracy (MAP@2) = 0.3790983606557377\n",
            "epoch: 14\n",
            "torch.Size([128, 64, 24, 24])\n",
            "Epoch 14 Iteration 0: Loss = 0.10541608929634094, Number of mined triplets = 52013\n",
            "torch.Size([128, 64, 24, 24])\n"
          ],
          "name": "stdout"
        }
      ]
    },
    {
      "cell_type": "code",
      "metadata": {
        "colab": {
          "base_uri": "https://localhost:8080/"
        },
        "id": "eCltmsD6zorY",
        "outputId": "5c1fc56e-cd7d-498c-a5a1-7cdd9f2a5ff1"
      },
      "source": [
        "! /opt/bin/nvidia-smi"
      ],
      "execution_count": 18,
      "outputs": [
        {
          "output_type": "stream",
          "text": [
            "Thu Dec  3 10:37:57 2020       \n",
            "+-----------------------------------------------------------------------------+\n",
            "| NVIDIA-SMI 418.67       Driver Version: 418.67       CUDA Version: 10.1     |\n",
            "|-------------------------------+----------------------+----------------------+\n",
            "| GPU  Name        Persistence-M| Bus-Id        Disp.A | Volatile Uncorr. ECC |\n",
            "| Fan  Temp  Perf  Pwr:Usage/Cap|         Memory-Usage | GPU-Util  Compute M. |\n",
            "|===============================+======================+======================|\n",
            "|   0  Tesla T4            Off  | 00000000:00:04.0 Off |                    0 |\n",
            "| N/A   75C    P0    34W /  70W |   1659MiB / 15079MiB |      0%      Default |\n",
            "+-------------------------------+----------------------+----------------------+\n",
            "                                                                               \n",
            "+-----------------------------------------------------------------------------+\n",
            "| Processes:                                                       GPU Memory |\n",
            "|  GPU       PID   Type   Process name                             Usage      |\n",
            "|=============================================================================|\n",
            "+-----------------------------------------------------------------------------+\n"
          ],
          "name": "stdout"
        }
      ]
    }
  ]
}