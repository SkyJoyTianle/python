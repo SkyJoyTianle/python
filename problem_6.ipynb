{
  "nbformat": 4,
  "nbformat_minor": 0,
  "metadata": {
    "kernelspec": {
      "name": "pycharm-1b16585a",
      "language": "python",
      "display_name": "PyCharm (daikin-DML)"
    },
    "language_info": {
      "codemirror_mode": {
        "name": "ipython",
        "version": 2
      },
      "file_extension": ".py",
      "mimetype": "text/x-python",
      "name": "python",
      "nbconvert_exporter": "python",
      "pygments_lexer": "ipython2",
      "version": "2.7.6"
    },
    "colab": {
      "name": "problem_6.ipynb",
      "provenance": [],
      "include_colab_link": true
    }
  },
  "cells": [
    {
      "cell_type": "markdown",
      "metadata": {
        "id": "view-in-github",
        "colab_type": "text"
      },
      "source": [
        "<a href=\"https://colab.research.google.com/github/SkyJoyTianle/python/blob/master/problem_6.ipynb\" target=\"_parent\"><img src=\"https://colab.research.google.com/assets/colab-badge.svg\" alt=\"Open In Colab\"/></a>"
      ]
    },
    {
      "cell_type": "markdown",
      "metadata": {
        "collapsed": true,
        "pycharm": {
          "name": "#%% md\n"
        },
        "id": "fT9X9Ot3BmfC"
      },
      "source": [
        "## 第六章　問題83~100"
      ]
    },
    {
      "cell_type": "markdown",
      "metadata": {
        "collapsed": false,
        "id": "NERku0A-BmfE"
      },
      "source": [
        "86"
      ]
    },
    {
      "cell_type": "code",
      "metadata": {
        "pycharm": {
          "name": "#%%\n"
        },
        "id": "WgSKPJdRBmfE"
      },
      "source": [
        "def gp_2(x_pred):\n",
        "    h = np.zeros(n)\n",
        "    for i in range(n):\n",
        "        h[i] = k(x_pred, x[i])\n",
        "    L = np.linalg.cholesky(K + sigma_2*np.identity(n))\n",
        "    alpha = np.linalg.solve(L, np.linalg.solve(L.T, (y - mu(x))))\n",
        "    mm = mu(x_pred) + np.sum(np.dot(h.T, alpha))\n",
        "    gamma = np.linalg.solve(L.T, h)\n",
        "    ss = k(x_pred, x_pred) - np.sum(gamma**2)\n",
        "    return {\"mm\":mm, \"ss\":ss}\n"
      ],
      "execution_count": null,
      "outputs": []
    }
  ]
}