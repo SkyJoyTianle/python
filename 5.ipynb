{
  "nbformat": 4,
  "nbformat_minor": 0,
  "metadata": {
    "kernelspec": {
      "name": "pycharm-1b16585a",
      "language": "python",
      "display_name": "PyCharm (daikin-DML)"
    },
    "language_info": {
      "codemirror_mode": {
        "name": "ipython",
        "version": 2
      },
      "file_extension": ".py",
      "mimetype": "text/x-python",
      "name": "python",
      "nbconvert_exporter": "python",
      "pygments_lexer": "ipython2",
      "version": "2.7.6"
    },
    "colab": {
      "name": "5.ipynb",
      "provenance": [],
      "include_colab_link": true
    }
  },
  "cells": [
    {
      "cell_type": "markdown",
      "metadata": {
        "id": "view-in-github",
        "colab_type": "text"
      },
      "source": [
        "<a href=\"https://colab.research.google.com/github/SkyJoyTianle/python/blob/master/5.ipynb\" target=\"_parent\"><img src=\"https://colab.research.google.com/assets/colab-badge.svg\" alt=\"Open In Colab\"/></a>"
      ]
    },
    {
      "cell_type": "markdown",
      "metadata": {
        "collapsed": true,
        "pycharm": {
          "name": "#%% md\n"
        },
        "id": "-7Rd__K8-5HE"
      },
      "source": [
        "## 第五章"
      ]
    },
    {
      "cell_type": "code",
      "metadata": {
        "pycharm": {
          "name": "#%%\n"
        },
        "id": "VlkoNsYm-5HG"
      },
      "source": [
        "import numpy as np\n",
        "from scipy.stats import kde\n",
        "import itertools\n",
        "import math\n",
        "import matplotlib.pyplot as plt\n",
        "from matplotlib import style\n",
        "style.use(\"seaborn-ticks\")"
      ],
      "execution_count": null,
      "outputs": []
    },
    {
      "cell_type": "markdown",
      "metadata": {
        "collapsed": false,
        "id": "64dFDhab-5HH"
      },
      "source": [
        "例 71"
      ]
    },
    {
      "cell_type": "code",
      "metadata": {
        "pycharm": {
          "name": "#%%\n"
        },
        "id": "EwxTa1ek-5HI",
        "outputId": "c74634de-8f90-447d-8d4c-cdc8bda14a0c"
      },
      "source": [
        "sigma = 1\n",
        "def k(x, y):\n",
        "    return np.exp(-(x - y)**2 / sigma**2)\n",
        "# Data generation\n",
        "n = 100\n",
        "xx = np.random.randn(n)\n",
        "yy = np.random.randn(n)      # same distribution\n",
        "#yy = 2 * np.random.randn(n) # different distribution\n",
        "x = xx; y = yy\n",
        "\n",
        "T = []\n",
        "for h in range(100):\n",
        "    index1 = np.random.choice(n, size = int(n/2), replace = False)\n",
        "    index2 = [x for x in range(n) if x not in index1]\n",
        "    x = list(xx[index2]) + list(yy[index1])\n",
        "    y = list(xx[index1]) + list(yy[index2])\n",
        "    S = 0\n",
        "    for i in range(n):\n",
        "        for j in range(n):\n",
        "            if i != j:\n",
        "                S = S + k(x[i], x[j]) + k(y[i], y[j]) \\\n",
        "                    - k(x[i], y[j]) - k(x[j], y[i])\n",
        "    T.append(S / n / (n - 1))\n",
        "v = np.quantile(T, 0.95)\n",
        "\n",
        "S = 0\n",
        "for i in range(n):\n",
        "    for j in range(n):\n",
        "        if i != j:\n",
        "            S = S + k(x[i], x[j]) + k(y[i], y[j]) \\\n",
        "                - k(x[i], y[j]) - k(x[j], y[i])\n",
        "u = S / n / (n - 1)\n",
        "\n",
        "x = np.linspace(min(min(T), u, v), max(max(T), u, v), 200)\n",
        "density = kde.gaussian_kde(T)\n",
        "plt.plot(x, density(x))\n",
        "plt.axvline(x = u, c = \"r\", linestyle = \"--\")\n",
        "plt.axvline(x = v, c = \"b\")"
      ],
      "execution_count": null,
      "outputs": [
        {
          "data": {
            "text/plain": "<matplotlib.lines.Line2D at 0x2017caab550>"
          },
          "execution_count": 2,
          "metadata": {},
          "output_type": "execute_result"
        },
        {
          "data": {
            "text/plain": "<Figure size 432x288 with 1 Axes>",
            "image/png": "[encoded data removed]"
          },
          "metadata": {},
          "output_type": "display_data"
        }
      ]
    },
    {
      "cell_type": "markdown",
      "metadata": {
        "collapsed": false,
        "pycharm": {
          "name": "#%% md\n"
        },
        "id": "hhGOZQBH-5HJ"
      },
      "source": [
        "例 73"
      ]
    },
    {
      "cell_type": "code",
      "metadata": {
        "pycharm": {
          "name": "#%%\n"
        },
        "id": "x3RCJtbp-5HJ",
        "outputId": "a8690964-ed58-47b3-d12f-91d84341e6d1"
      },
      "source": [
        "sigma = 1\n",
        "def k(x, y):\n",
        "    return np.exp(-(x - y)**2 / sigma**2)\n",
        "# Data generation\n",
        "n = 100\n",
        "x = np.random.randn(n)\n",
        "y = np.random.randn(n)      # same distribution\n",
        "#y = 2 * np.random.randn(n) # different distribution\n",
        "\n",
        "K = np.zeros((n, n))\n",
        "for i in range(n):\n",
        "    for j in range(n):\n",
        "            K[i ,j] = k(x[i], x[j]) + k(y[i], y[j]) \\\n",
        "                - k(x[i], y[j]) - k(x[j], y[i])\n",
        "lam, vec = np.linalg.eig(K)\n",
        "lam = lam / n\n",
        "\n",
        "r = 20\n",
        "z = []\n",
        "for h in range(10000):\n",
        "    z.append(np.longdouble(1/n*(np.sum(lam[0:r]\n",
        "    *(np.random.chisquare(df = 1, size = r)-1)))))\n",
        "\n",
        "v = np.quantile(z, 0.95)\n",
        "\n",
        "S = 0\n",
        "for i in range(n - 1):\n",
        "    for j in range(i + 1, n):\n",
        "        S = S + k(x[i], x[j]) + k(y[i], y[j]) \\\n",
        "            - k(x[i], y[j]) - k(x[j], y[i])\n",
        "u = np.longdouble(S / n / (n - 1))\n",
        "\n",
        "x = np.linspace(min(min(z), u, v), max(max(z), u, v), 200)\n",
        "\n",
        "density = kde.gaussian_kde(z)\n",
        "plt.plot(x, density(x))\n",
        "\n",
        "plt.axvline(x = v, c = \"r\", linestyle = \"--\")\n",
        "plt.axvline(x = u, c = \"b\")\n",
        "\n"
      ],
      "execution_count": null,
      "outputs": [
        {
          "name": "stderr",
          "output_type": "stream",
          "text": [
            "<ipython-input-3-808ab27f4eed>:21: ComplexWarning: Casting complex values to real discards the imaginary part\n",
            "  z.append(np.longdouble(1/n*(np.sum(lam[0:r]\n"
          ]
        },
        {
          "data": {
            "text/plain": "<matplotlib.lines.Line2D at 0x2017ec34d00>"
          },
          "execution_count": 3,
          "metadata": {},
          "output_type": "execute_result"
        },
        {
          "data": {
            "text/plain": "<Figure size 432x288 with 1 Axes>",
            "image/png": "[encoded data removed]"
          },
          "metadata": {},
          "output_type": "display_data"
        }
      ]
    },
    {
      "cell_type": "markdown",
      "metadata": {
        "collapsed": false,
        "pycharm": {
          "name": "#%% md\n"
        },
        "id": "_Rgmzy79-5HK"
      },
      "source": [
        "系 2"
      ]
    },
    {
      "cell_type": "code",
      "metadata": {
        "pycharm": {
          "name": "#%%\n"
        },
        "id": "mol-NR3u-5HL"
      },
      "source": [
        "# def HSIC_1(x, y, k_x, k_y):\n",
        "#     n = len(x)\n",
        "#     S = 0\n",
        "#     for i in range(n):\n",
        "#         for j in range(n):\n",
        "#             S = S + k_x(x[i], x[j])*k_y(y[i], y[j])\n",
        "#     T = 0\n",
        "#     for i in range(n):\n",
        "#         T_1 = 0\n",
        "#         for j in range(n):\n",
        "#             T_1 = T_1 + k_x(x[i], x[j])\n",
        "#         T_2 = 0\n",
        "#         for l in range(n):\n",
        "#             T_2 = T_2 + k_y(y[i], y[l])\n",
        "#         T = T + T_1 * T_2\n",
        "#     U = 0\n",
        "#     for i in range(n):\n",
        "#         for j in range(n):\n",
        "#             U = U + k_x(x[i], x[j])\n",
        "#     V = 0\n",
        "#     for i in range(n):\n",
        "#         for j in range(n):\n",
        "#             V = V + k_y(y[i], y[j])\n",
        "#     return S/n**2-2*T/n**3+U*V/n**4"
      ],
      "execution_count": null,
      "outputs": []
    },
    {
      "cell_type": "code",
      "metadata": {
        "pycharm": {
          "name": "#%%\n"
        },
        "id": "y5Zv9nRk-5HM"
      },
      "source": [
        "def HSIC_1(x, y, k_x, k_y):\n",
        "    n = len(x)\n",
        "    K_x = np.zeros((n, n))\n",
        "    for i in range(n):\n",
        "        for j in range(n):\n",
        "            K_x[i, j] = k_x(x[i], x[j])\n",
        "    K_y = np.zeros((n, n))\n",
        "    for i in range(n):\n",
        "        for j in range(n):\n",
        "            K_y[i, j] = k_y(y[i], y[j])\n",
        "    E = np.ones((n, n))\n",
        "    H = np.identity(n) - E/n\n",
        "    return np.sum(np.diag(np.diag(K_x.dot(H).dot(K_y).dot(H)))) / n**2"
      ],
      "execution_count": null,
      "outputs": []
    },
    {
      "cell_type": "markdown",
      "metadata": {
        "collapsed": false,
        "pycharm": {
          "name": "#%% md\n"
        },
        "id": "I9VpF2PF-5HM"
      },
      "source": [
        "例 76"
      ]
    },
    {
      "cell_type": "code",
      "metadata": {
        "pycharm": {
          "name": "#%%\n"
        },
        "id": "P6SAy6x7-5HN",
        "outputId": "77c0d7a9-86bd-407e-969d-ebe3e0c5cd8f"
      },
      "source": [
        "def k_x(x, y):\n",
        "    return np.exp(-np.linalg.norm(x - y)**2/2)\n",
        "k_y = k_x\n",
        "k_z = k_x\n",
        "n = 100\n",
        "for a in [0, 0.1, 0.2, 0.4, 0.6, 0.8]:\n",
        "    x = np.random.randn(n)\n",
        "    z = np.random.randn(n)\n",
        "    y = a * x + np.sqrt(1 - a**2) * z\n",
        "    print(HSIC_1(x, y, k_x, k_y))"
      ],
      "execution_count": null,
      "outputs": [
        {
          "name": "stdout",
          "output_type": "stream",
          "text": [
            "0.0023666294202516203\n",
            "0.0024999468801231717\n",
            "0.000833375824298932\n",
            "0.009921766894672612\n",
            "0.019266740643597513\n",
            "0.034408949042521175\n"
          ]
        }
      ]
    },
    {
      "cell_type": "code",
      "metadata": {
        "pycharm": {
          "name": "#%%\n"
        },
        "id": "bjvuEXVL-5HN"
      },
      "source": [
        "def HSIC_2(x, y, z, k_x, k_y, k_z):\n",
        "    n = len(x)\n",
        "    S = 0\n",
        "    for i in range(n):\n",
        "        for j in range(n):\n",
        "            S = S + k_x(x[i], x[j]) * k_y(y[i], y[j]) \\\n",
        "            * k_z(z[i], z[j])\n",
        "    T = 0\n",
        "    for i in range(n):\n",
        "        T_1 = 0\n",
        "        for j in range(n):\n",
        "            T_1 = T_1 + k_x(x[i], x[j])\n",
        "        T_2 = 0\n",
        "        for l in range(n):\n",
        "            T_2 = T_2 + k_y(y[i], y[l]) * k_z(z[i], z[j])\n",
        "        T = T + T_1 * T_2\n",
        "    U = 0\n",
        "    for i in range(n):\n",
        "        for j in range(n):\n",
        "            U = U + k_x(x[i], x[j])\n",
        "    V = 0\n",
        "    for i in range(n):\n",
        "        for j in range(n):\n",
        "            V = V + k_y(y[i], y[j]) * k_z(z[i], z[j])\n",
        "    return S/n**2-2*T/n**3+U*V/n**4"
      ],
      "execution_count": null,
      "outputs": []
    },
    {
      "cell_type": "markdown",
      "metadata": {
        "collapsed": false,
        "pycharm": {
          "name": "#%% md\n"
        },
        "id": "PoHdLx-2-5HO"
      },
      "source": [
        "例 77"
      ]
    },
    {
      "cell_type": "code",
      "metadata": {
        "pycharm": {
          "name": "#%%\n"
        },
        "id": "16u4fsho-5HO"
      },
      "source": [
        "def cc(x, y):\n",
        "    return np.sum(np.dot(x.T, y)) / len(x)\n",
        "\n",
        "def f(u, v):\n",
        "    return u - cc(u, v)/cc(v, v) * v"
      ],
      "execution_count": null,
      "outputs": []
    },
    {
      "cell_type": "code",
      "metadata": {
        "pycharm": {
          "name": "#%%\n"
        },
        "id": "TmaUk6oM-5HO",
        "outputId": "6874a5e5-a3df-412e-fc5a-c3b9b6bfbc3f"
      },
      "source": [
        "#Data generation\n",
        "n = 30\n",
        "x = np.random.randn(n)**2-np.random.randn(n)**2\n",
        "y = 2 * x + np.random.randn(n)**2 - np.random.randn(n)**2\n",
        "z = x + y +np.random.randn(n)**2 - np.random.randn(n)**2\n",
        "x = x - np.mean(x)\n",
        "y = y - np.mean(y)\n",
        "z = z - np.mean(z)\n",
        "\n",
        "# top\n",
        "def cc(x, y):\n",
        "    return np.sum(np.dot(x.T, y)/len(x))\n",
        "\n",
        "def f(u, v):\n",
        "    return u - cc(u, v)/cc(v, v) * v\n",
        "\n",
        "x_y = f(x, y); y_z = f(y, z); z_x = f(z, x)\n",
        "x_z = f(x, z); z_y = f(z, y); y_x = f(y, x)\n",
        "\n",
        "v1 = HSIC_2(x, y_x, z_x, k_x, k_y, k_z)\n",
        "v2 = HSIC_2(y, z_y, x_y, k_y, k_z, k_x)\n",
        "v3 = HSIC_2(z, x_z, y_z, k_z, k_x, k_y)\n",
        "\n",
        "if v1 < v2:\n",
        "    if v1 < v3:\n",
        "        top = 1\n",
        "    else:\n",
        "        top = 3\n",
        "else:\n",
        "    if v2 < v3:\n",
        "        top = 2\n",
        "    else:\n",
        "        top = 3\n",
        "\n",
        "#bottom\n",
        "x_yz = f(x_y, z_y)\n",
        "y_zx = f(y_z, x_z)\n",
        "z_xy = f(z_x, y_x)\n",
        "\n",
        "if top == 1:\n",
        "    v1 = HSIC_1(y_x, z_xy, k_y, k_z)\n",
        "    v2 = HSIC_1(z_x, y_zx, k_z, k_y)\n",
        "    if v1 < v2:\n",
        "        middle = 2\n",
        "        bottom = 3\n",
        "    else:\n",
        "        middle = 3\n",
        "        bottom = 2\n",
        "if top == 2:\n",
        "    v1 = HSIC_1(z_y, x_yz, k_y, k_z)\n",
        "    v2 = HSIC_1(x_y, z_xy, k_z, k_y)\n",
        "    if v1 < v2:\n",
        "        middle = 3\n",
        "        bottom = 1\n",
        "    else:\n",
        "        middle = 1\n",
        "        bottom = 3\n",
        "\n",
        "if top == 3:\n",
        "    v1 = HSIC_1(z_y, x_yz, k_z, k_x)\n",
        "    v2 = HSIC_1(x_y, z_xy, k_x, k_z)\n",
        "    if v1 < v2:\n",
        "        middle = 1\n",
        "        bottom = 2\n",
        "    else:\n",
        "        middle = 2\n",
        "        bottom = 1\n",
        "#result\n",
        "print(\"top = \", top)\n",
        "print(\"middle = \", middle)\n",
        "print(\"bottom = \", bottom)"
      ],
      "execution_count": null,
      "outputs": [
        {
          "name": "stdout",
          "output_type": "stream",
          "text": [
            "top =  3\n",
            "middle =  2\n",
            "bottom =  1\n"
          ]
        }
      ]
    },
    {
      "cell_type": "markdown",
      "metadata": {
        "collapsed": false,
        "pycharm": {
          "name": "#%% md\n"
        },
        "id": "q6BrKFgH-5HP"
      },
      "source": [
        "例 78"
      ]
    },
    {
      "cell_type": "code",
      "metadata": {
        "pycharm": {
          "name": "#%%\n"
        },
        "id": "54LS-e0P-5HP",
        "outputId": "cd6326a0-3b98-43e5-dffa-af0e88441280"
      },
      "source": [
        "# Data generation\n",
        "x = np.random.randn(n)\n",
        "y = np.random.randn(n)\n",
        "u = HSIC_1(x, y, k_x, k_y)\n",
        "\n",
        "m = 100\n",
        "w = []\n",
        "for i in range(m):\n",
        "    x = x[np.random.choice(n, n, replace = False)]\n",
        "    w.append(HSIC_1(x, y, k_x, k_y))\n",
        "\n",
        "v = np.quantile(w, 0.95)\n",
        "\n",
        "\n",
        "x = np.linspace(min(min(w), u, v), max(max(w), u, v), 200)\n",
        "\n",
        "density = kde.gaussian_kde(w)\n",
        "plt.plot(x, density(x))\n",
        "\n",
        "plt.axvline(x = v, c = \"r\", linestyle = \"--\")\n",
        "plt.axvline(x = u, c = \"b\")\n"
      ],
      "execution_count": null,
      "outputs": [
        {
          "data": {
            "text/plain": "<matplotlib.lines.Line2D at 0x2017ecaafa0>"
          },
          "execution_count": 10,
          "metadata": {},
          "output_type": "execute_result"
        },
        {
          "data": {
            "text/plain": "<Figure size 432x288 with 1 Axes>",
            "image/png": "[encoded data removed]"
          },
          "metadata": {},
          "output_type": "display_data"
        }
      ]
    },
    {
      "cell_type": "code",
      "metadata": {
        "pycharm": {
          "name": "#%%\n"
        },
        "id": "RGeorYwJ-5HP"
      },
      "source": [
        "def h(i, j, q, r, x, y, k_x, k_y):\n",
        "    M = list(itertools.combinations([i, j, q, r], 4))\n",
        "    m = len(M)\n",
        "    S = 0\n",
        "    for j in range(m):\n",
        "        t = M[j][0]\n",
        "        u = M[j][1]\n",
        "        v = M[j][2]\n",
        "        w = M[j][3]\n",
        "        S = S + k_x(x[t], x[u])*k_y(y[t], y[u])\\\n",
        "        + k_x(x[t], x[u])*k_y(y[v], y[w]) \\\n",
        "        - 2 * k_x(x[t], x[u])*k_y(y[t], y[v])\n",
        "    return S / m\n",
        "\n",
        "def HSIC_U(x, y, k_x, k_y):\n",
        "    M = list(itertools.combinations(range(n), 4))\n",
        "    m = len(M)\n",
        "    S = 0\n",
        "    for j in range(m):\n",
        "        S = S + h(M[j][0], M[j][1], M[j][2], M[j][3],\n",
        "                  x, y, k_x, k_y)\n",
        "    return S / math.comb(n, 4)"
      ],
      "execution_count": null,
      "outputs": []
    },
    {
      "cell_type": "code",
      "metadata": {
        "pycharm": {
          "name": "#%%\n"
        },
        "id": "4tH9cGV7-5HQ",
        "outputId": "9b97cbe7-7439-4a1e-c878-d07c9f0e8b86"
      },
      "source": [
        "sigma = 1\n",
        "\n",
        "def k(x, y):\n",
        "    return np.exp(-(x-y)**2/sigma**2)\n",
        "\n",
        "k_x = k; k_y = k\n",
        "\n",
        "n = 100; x = np.random.randn(n)\n",
        "a = 0 ##independent\n",
        "#a = 0.2 ##correlated coefficient 0.2\n",
        "y = a*x + np.sqrt(1 - a**2) * np.random.randn(n)\n",
        "#y = np.random.randn(n)*2 ## different distribution\n",
        "\n",
        "K_x = np.zeros((n, n))\n",
        "for i in range(n):\n",
        "    for j in range(n):\n",
        "        K_x[i ,j] = k_x(x[i], x[j])\n",
        "K_y = np.zeros((n, n))\n",
        "for i in range(n):\n",
        "    for j in range(n):\n",
        "        K_y[i, j] = k_y(y[i], y[j])\n",
        "F = np.zeros(n)\n",
        "for i in range(n):\n",
        "    F[i] = np.sum(K_x[i, :]) / n\n",
        "G = np.zeros((n))\n",
        "for i in range(n):\n",
        "    G[i] = np.sum(K_y[i, :]) / n\n",
        "H = np.sum(F) / n\n",
        "I = np.sum(G) / n\n",
        "K = np.zeros((n, n))\n",
        "for i in range(n):\n",
        "    for j in range(n):\n",
        "        K[i, j] = (K_x[i, j] - F[i] - F[j] + H) \\\n",
        "        * (K_y[i, j] - G[i] - G[j] + I) / 6\n",
        "r = 20\n",
        "lam, vec = np.linalg.eig(K)\n",
        "lam = lam / n\n",
        "print(lam)\n",
        "z = []\n",
        "for s in range(10000):\n",
        "    z.append(1/n*(np.sum(lam[0:r]*(np.random.chisquare(df = 1, size = r)-1))))\n",
        "v = np.quantile(z, 0.95)\n",
        "\n",
        "u = HSIC_U(x, y, k_x, k_y)\n",
        "\n",
        "x = np.linspace(min(min(z), u, v), max(max(z), u, v), 200)\n",
        "\n",
        "density = kde.gaussian_kde(z)\n",
        "plt.plot(x, density(x))\n",
        "\n",
        "plt.axvline(x = v, c = \"r\", linestyle = \"--\")\n",
        "plt.axvline(x = u, c = \"b\")"
      ],
      "execution_count": null,
      "outputs": [
        {
          "name": "stdout",
          "output_type": "stream",
          "text": [
            "[9.43372312e-03 7.60184058e-03 6.84791271e-03 4.71833989e-03\n",
            " 2.91610998e-03 2.58505938e-03 2.57260480e-03 2.14716454e-03\n",
            " 1.52927314e-03 1.40680064e-03 1.30527061e-03 1.03809542e-03\n",
            " 8.17408141e-04 6.63885663e-04 5.98972166e-04 5.18116129e-04\n",
            " 4.66211054e-04 3.33278079e-04 3.08102237e-04 2.52215392e-04\n",
            " 2.08148331e-04 2.01305856e-04 1.61855802e-04 1.24737146e-04\n",
            " 9.77431144e-05 9.05299170e-05 6.74173717e-05 5.94551451e-05\n",
            " 4.79841522e-05 3.68125212e-05 3.47962810e-05 2.59468073e-05\n",
            " 2.27016212e-05 1.75277782e-05 1.44134018e-05 1.34476814e-05\n",
            " 1.07720204e-05 8.32532742e-06 8.02962726e-06 6.61660031e-06\n",
            " 6.03329520e-06 4.82571716e-06 4.39769787e-06 3.07993953e-06\n",
            " 2.92646288e-06 1.93843247e-06 1.43720831e-06 1.32156280e-06\n",
            " 1.21961656e-06 9.39545869e-07 8.74760924e-07 6.82246149e-07\n",
            " 6.17680338e-07 5.35249706e-07 4.13572087e-07 2.89912505e-07\n",
            " 2.63638065e-07 2.13422066e-07 1.43007791e-07 1.39668484e-07\n",
            " 1.11861810e-07 9.06782617e-08 8.18246166e-08 5.59605198e-08\n",
            " 4.96061526e-08 4.03184819e-08 3.74865518e-08 1.94370484e-08\n",
            " 1.55836383e-08 1.28960568e-08 9.98179017e-09 6.29967857e-09\n",
            " 4.60116540e-09 3.71943499e-09 2.78758512e-09 2.47338744e-09\n",
            " 1.54467729e-09 1.31346990e-09 8.12941854e-10 4.71936633e-10\n",
            " 3.62355934e-10 2.28630320e-10 1.71319496e-10 8.99150656e-11\n",
            " 5.81595026e-11 4.02249130e-11 2.95420131e-11 1.60077238e-11\n",
            " 1.00890685e-11 7.29486504e-12 3.89343807e-12 2.24468397e-12\n",
            " 1.62584385e-12 9.95269698e-13 6.98421746e-13 1.93405677e-13\n",
            " 4.44822157e-14 3.34480294e-14 3.34678155e-15 1.12240660e-14]\n"
          ]
        },
        {
          "data": {
            "text/plain": "<matplotlib.lines.Line2D at 0x201164a0f70>"
          },
          "execution_count": 39,
          "metadata": {},
          "output_type": "execute_result"
        },
        {
          "data": {
            "text/plain": "<Figure size 432x288 with 1 Axes>",
            "image/png": "[encoded data removed]"
          },
          "metadata": {},
          "output_type": "display_data"
        }
      ]
    },
    {
      "cell_type": "markdown",
      "metadata": {
        "collapsed": false,
        "pycharm": {
          "name": "#%% md\n"
        },
        "id": "xwwm6MTo-5HQ"
      },
      "source": [
        "例 79"
      ]
    },
    {
      "cell_type": "code",
      "metadata": {
        "pycharm": {
          "name": "#%%\n"
        },
        "id": "ZpUhxTHc-5HQ",
        "outputId": "b7b840bf-7c33-47cf-824b-b1a67ddf77da"
      },
      "source": [
        "sigma = 1\n",
        "\n",
        "def k(x, y):\n",
        "    return np.exp(-(x-y)**2/sigma**2)\n",
        "\n",
        "k_x = k; k_y = k\n",
        "\n",
        "#Data generation\n",
        "n = 100\n",
        "x = np.random.randn(n)\n",
        "a = 0    ## independent\n",
        "#a = 0.2 ## correlated coefficient 0.2\n",
        "y = a*x + np.sqrt(1- a**2)*np.random.randn(n)\n",
        "# y =np.random.randn(n)\n",
        "\n",
        "K_x = np.zeros((n, n))\n",
        "for i in range(n):\n",
        "    for j in range(n):\n",
        "        K_x[i, j] = k_x(x[i], x[j])\n",
        "K_y = np.zeros((n, n))\n",
        "for i in range(n):\n",
        "    for j in range(n):\n",
        "        K_y[i, j] = k_y(y[i], y[j])\n",
        "\n",
        "F = np.zeros(n)\n",
        "for i in range(n):\n",
        "    F[i] = np.sum(K_x[i, :]) / n\n",
        "\n",
        "G = np.zeros(n)\n",
        "for i in range(n):\n",
        "    G[i] = np.sum(K_y[i, :]) / n\n",
        "\n",
        "H = np.sum(F) / n\n",
        "I = np.sum(G) / n\n",
        "K = np.zeros((n, n))\n",
        "for i in range(n):\n",
        "    for j in range(n):\n",
        "        K[i, j] = (K_x[i, j] - F[i] - F[j] + H)\\\n",
        "                  *(K_y[i, j] - G[i] - G[j] + I)/6\n",
        "print(K.shape)\n",
        "r = 20\n",
        "lam, vec = np.linalg.eig(K)\n",
        "lam = lam / n\n",
        "z = []\n",
        "for s in range(10000):\n",
        "    z.append(1/n*(np.sum(lam[0:r]*(np.random.chisquare(df = 1, size = r)-1))))\n",
        "v = np.quantile(z, 0.95)\n",
        "\n",
        "u = HSIC_U(x, y, k_x, k_y)\n",
        "\n",
        "x = np.linspace(min(min(z), u, v), max(max(z), u, v), 200)\n",
        "\n",
        "density = kde.gaussian_kde(z)\n",
        "plt.plot(x, density(x))\n",
        "\n",
        "plt.axvline(x = v, c = \"r\", linestyle = \"--\")\n",
        "plt.axvline(x = u, c = \"b\")\n",
        "\n"
      ],
      "execution_count": null,
      "outputs": [
        {
          "name": "stdout",
          "output_type": "stream",
          "text": [
            "(100, 100)\n"
          ]
        },
        {
          "data": {
            "text/plain": "<matplotlib.lines.Line2D at 0x20116419d00>"
          },
          "execution_count": 40,
          "metadata": {},
          "output_type": "execute_result"
        },
        {
          "data": {
            "text/plain": "<Figure size 432x288 with 1 Axes>",
            "image/png": "[encoded data removed]"
          },
          "metadata": {},
          "output_type": "display_data"
        }
      ]
    }
  ]
}