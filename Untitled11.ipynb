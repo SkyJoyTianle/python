{
  "nbformat": 4,
  "nbformat_minor": 0,
  "metadata": {
    "colab": {
      "name": "Untitled11.ipynb",
      "provenance": [],
      "authorship_tag": "ABX9TyObi5ytAd6Sm5qVa4L6rTNU",
      "include_colab_link": true
    },
    "kernelspec": {
      "name": "python3",
      "display_name": "Python 3"
    },
    "language_info": {
      "name": "python"
    }
  },
  "cells": [
    {
      "cell_type": "markdown",
      "metadata": {
        "id": "view-in-github",
        "colab_type": "text"
      },
      "source": [
        "<a href=\"https://colab.research.google.com/github/SkyJoyTianle/xiaoxixi/blob/master/Untitled11.ipynb\" target=\"_parent\"><img src=\"https://colab.research.google.com/assets/colab-badge.svg\" alt=\"Open In Colab\"/></a>"
      ]
    },
    {
      "cell_type": "code",
      "metadata": {
        "id": "WZByxUVyJNy5",
        "colab": {
          "base_uri": "https://localhost:8080/"
        },
        "outputId": "7a65cd9f-5787-4331-e628-d7c1d9d5f264"
      },
      "source": [
        "import numpy as np\n",
        "import matplotlib.pyplot as plt\n",
        "from matplotlib import style\n",
        "from sklearn.decomposition import PCA\n",
        "from sklearn.preprocessing import scale\n",
        "style.use(\"seaborn-ticks\")\n",
        "pca = PCA()\n",
        "a = np.arange(1,10).reshape(3,3)\n",
        "a = scale(a, with_mean=True, with_std=False)\n",
        "print(a)\n",
        "pca.fit(a)\n",
        "transformed = pca.transform(a)\n",
        "loadings = np.round(pca.components_,4)\n",
        "print(loadings)\n",
        "print(pca.components_.T)\n",
        "print(pca.explained_variance_)\n",
        "c = pca.n_samples_\n",
        "# print(pca.explained_variance_ * (np.sqrt(c))/(np.sqrt(c-1)))\n",
        "pca.singular_values_"
      ],
      "execution_count": 2,
      "outputs": [
        {
          "output_type": "stream",
          "name": "stdout",
          "text": [
            "[[-3. -3. -3.]\n",
            " [ 0.  0.  0.]\n",
            " [ 3.  3.  3.]]\n",
            "[[-0.5774 -0.5774 -0.5774]\n",
            " [ 0.     -0.7071  0.7071]\n",
            " [ 0.8165 -0.4082 -0.4082]]\n",
            "[[-0.57735027  0.          0.81649658]\n",
            " [-0.57735027 -0.70710678 -0.40824829]\n",
            " [-0.57735027  0.70710678 -0.40824829]]\n",
            "[27.  0.  0.]\n"
          ]
        },
        {
          "output_type": "execute_result",
          "data": {
            "text/plain": [
              "array([7.34846923, 0.        , 0.        ])"
            ]
          },
          "metadata": {},
          "execution_count": 2
        }
      ]
    }
  ]
}