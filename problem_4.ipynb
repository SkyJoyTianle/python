{
  "nbformat": 4,
  "nbformat_minor": 0,
  "metadata": {
    "kernelspec": {
      "name": "pycharm-1b16585a",
      "language": "python",
      "display_name": "PyCharm (daikin-DML)"
    },
    "language_info": {
      "codemirror_mode": {
        "name": "ipython",
        "version": 2
      },
      "file_extension": ".py",
      "mimetype": "text/x-python",
      "name": "python",
      "nbconvert_exporter": "python",
      "pygments_lexer": "ipython2",
      "version": "2.7.6"
    },
    "colab": {
      "name": "problem_4.ipynb",
      "provenance": [],
      "include_colab_link": true
    }
  },
  "cells": [
    {
      "cell_type": "markdown",
      "metadata": {
        "id": "view-in-github",
        "colab_type": "text"
      },
      "source": [
        "<a href=\"https://colab.research.google.com/github/SkyJoyTianle/python/blob/master/problem_4.ipynb\" target=\"_parent\"><img src=\"https://colab.research.google.com/assets/colab-badge.svg\" alt=\"Open In Colab\"/></a>"
      ]
    },
    {
      "cell_type": "markdown",
      "metadata": {
        "collapsed": true,
        "pycharm": {
          "name": "#%% md\n"
        },
        "id": "cs8x4MKsBgXV"
      },
      "source": [
        "## 第四章　問題46~64"
      ]
    },
    {
      "cell_type": "code",
      "metadata": {
        "pycharm": {
          "name": "#%%\n"
        },
        "id": "wjXZyND4BgXW"
      },
      "source": [
        "import numpy as np\n",
        "import matplotlib.pyplot as plt"
      ],
      "execution_count": null,
      "outputs": []
    },
    {
      "cell_type": "markdown",
      "metadata": {
        "collapsed": false,
        "id": "QOjy026TBgXY"
      },
      "source": [
        "47"
      ]
    },
    {
      "cell_type": "code",
      "metadata": {
        "pycharm": {
          "name": "#%%\n"
        },
        "id": "ipEFK23gBgXY"
      },
      "source": [
        "def k_p(x, y):\n",
        "    return np.dot(x.T, y)\n",
        "\n",
        "def k_g(x, y):\n",
        "    return np.exp(-(x - y)**2 / 2)"
      ],
      "execution_count": null,
      "outputs": []
    },
    {
      "cell_type": "code",
      "metadata": {
        "pycharm": {
          "name": "#%%\n"
        },
        "id": "C8_MunWXBgXZ"
      },
      "source": [
        "lam = 0.1\n",
        "n = 50; x = np.random.randn(n); y = 1 + x + x**2 + np.random.randn(n)\n",
        "alpha_p = alpha(k_p, x, y)\n",
        "alpha_g = alpha(k_g, x, y)\n",
        "\n",
        "z = np.sort(x); u = []; v = []\n",
        "\n",
        "for j in range(n):\n",
        "    S = 0\n",
        "    for i in range(n):\n",
        "        S = S + alpha_p[i] * k_p(x[i], z[j])\n",
        "    u.append(S)\n",
        "    S = 0\n",
        "    for i in range(n):\n",
        "        S = S + alpha_g[i] * k_g(x[i], z[j])\n",
        "    v.append(S)\n",
        "\n",
        "plt.plot(z, u, c = \"r\", label = \"Linear Kernel\")\n",
        "plt.plot(z, v, c = \"b\", label = \"Gauss Kernel\")\n",
        "plt.xlim(-1, 1)\n",
        "plt.ylim(-1, 5)\n",
        "plt.xlabel(\"x\")\n",
        "plt.ylabel(\"y\")\n",
        "plt.title(\"Kernel Regression\")\n",
        "plt.legend(loc = \"upper left\", frameon = True, prop={'size':14})"
      ],
      "execution_count": null,
      "outputs": []
    },
    {
      "cell_type": "markdown",
      "metadata": {
        "collapsed": false,
        "pycharm": {
          "name": "#%% md\n"
        },
        "id": "AY63iHPuBgXa"
      },
      "source": [
        "49"
      ]
    },
    {
      "cell_type": "code",
      "metadata": {
        "pycharm": {
          "name": "#%%\n"
        },
        "id": "vhLYJTFmBgXa"
      },
      "source": [
        "def kernel_pca_train(x, k):\n",
        "    ## Blank ## to compute data x and Gram matrix k\n",
        "    val, vec = np.linalg.eig(K)\n",
        "    idx = val.argsort()[::-1]  # decreasing order as R\n",
        "    val = val[idx]\n",
        "    vec = vec[:,idx]\n",
        "    alpha = np.zeros((n, n))\n",
        "    for i in range(n):\n",
        "        alpha[:, i] = vec[:, i] / val[i]**0.5\n",
        "    return alpha\n",
        "\n",
        "def kernel_pca_test(x, k, alpha, m, z):\n",
        "    ## Blank ## to solve the pca from scores of x,k,alpha,m,z\n",
        "    return pca"
      ],
      "execution_count": null,
      "outputs": []
    },
    {
      "cell_type": "code",
      "metadata": {
        "pycharm": {
          "name": "#%%\n"
        },
        "id": "507hinm2BgXb"
      },
      "source": [
        "sigma2 = 0.01\n",
        "\n",
        "def k(x, y):\n",
        "    return np.exp(-np.linalg.norm(x - y)**2 / 2 / sigma2)\n",
        "\n",
        "X = pd.read_csv('https://raw.githubusercontent.com/selva86/datasets/master/USArrests.csv')\n",
        "x = X.values[:,:-1]\n",
        "n = x.shape[0]; p = x.shape[1]\n",
        "alpha = kernel_pca_train(x, k)\n",
        "z = np.zeros((n, 2))\n",
        "\n",
        "for i in range(n):\n",
        "    z[i, :] = kernel_pca_test(x, k, alpha, 2, x[i, :])\n",
        "\n",
        "min1 = np.min(z[:, 0]); min2 = np.min(z[:, 1])\n",
        "max1 = np.max(z[:, 0]); max2 = np.max(z[:, 1])\n",
        "\n",
        "plt.xlim(min1, max1)\n",
        "plt.ylim(min2, max2)\n",
        "plt.xlabel(\"First\")\n",
        "plt.ylabel(\"Second\")\n",
        "plt.title(\"Kernel PCA (Gauss 0.01)\")\n",
        "for i in range(n):\n",
        "    if i != 4:\n",
        "        plt.text(x = z[i, 0], y = z[i, 1], s = i)\n",
        "plt.text(z[4, 0], z[4, 1], 5, c = \"r\")"
      ],
      "execution_count": null,
      "outputs": []
    },
    {
      "cell_type": "markdown",
      "metadata": {
        "collapsed": false,
        "id": "_afkLoipBgXc"
      },
      "source": [
        "56"
      ]
    },
    {
      "cell_type": "code",
      "metadata": {
        "pycharm": {
          "name": "#%%\n"
        },
        "id": "juhmFkKdBgXc"
      },
      "source": [
        "sigma = 10; sigma2 = sigma**2\n",
        "\n",
        "def z(x):\n",
        "    return np.sqrt(2 / m) * np.cos(w.dot(x) + b)\n",
        "\n",
        "def zz(x, y):\n",
        "    return np.sum(z(x).dot(z(y)))\n"
      ],
      "execution_count": null,
      "outputs": []
    }
  ]
}