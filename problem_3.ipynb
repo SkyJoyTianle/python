{
  "nbformat": 4,
  "nbformat_minor": 0,
  "metadata": {
    "kernelspec": {
      "name": "pycharm-1b16585a",
      "language": "python",
      "display_name": "PyCharm (daikin-DML)"
    },
    "language_info": {
      "codemirror_mode": {
        "name": "ipython",
        "version": 2
      },
      "file_extension": ".py",
      "mimetype": "text/x-python",
      "name": "python",
      "nbconvert_exporter": "python",
      "pygments_lexer": "ipython2",
      "version": "2.7.6"
    },
    "colab": {
      "name": "problem_3.ipynb",
      "provenance": [],
      "include_colab_link": true
    }
  },
  "cells": [
    {
      "cell_type": "markdown",
      "metadata": {
        "id": "view-in-github",
        "colab_type": "text"
      },
      "source": [
        "<a href=\"https://colab.research.google.com/github/SkyJoyTianle/python/blob/master/problem_3.ipynb\" target=\"_parent\"><img src=\"https://colab.research.google.com/assets/colab-badge.svg\" alt=\"Open In Colab\"/></a>"
      ]
    },
    {
      "cell_type": "markdown",
      "metadata": {
        "collapsed": true,
        "pycharm": {
          "name": "#%% md\n"
        },
        "id": "aTansX3qA3bk"
      },
      "source": [
        "## 第三章　問題31～45"
      ]
    },
    {
      "cell_type": "code",
      "metadata": {
        "pycharm": {
          "name": "#%%\n"
        },
        "id": "tO4gqQEZA3bn"
      },
      "source": [
        "import numpy as np\n",
        "import matplotlib.pyplot as plt\n",
        "from matplotlib import style\n",
        "style.use(\"seaborn-ticks\")"
      ],
      "execution_count": null,
      "outputs": []
    },
    {
      "cell_type": "markdown",
      "metadata": {
        "collapsed": false,
        "pycharm": {
          "name": "#%%　md\n"
        },
        "id": "tAin9nvnA3bp"
      },
      "source": [
        "問題　38"
      ]
    },
    {
      "cell_type": "code",
      "metadata": {
        "pycharm": {
          "name": "#%%\n"
        },
        "id": "Rme-mNyrA3bp"
      },
      "source": [
        "def H(j, x):\n",
        "    if j == 0:\n",
        "        return 1\n",
        "    elif j == 1:\n",
        "        return 2 * x\n",
        "    elif j == 2:\n",
        "        return -2 + 4 * x**2\n",
        "    else:\n",
        "        return 4 * x - 8 * x**3"
      ],
      "execution_count": null,
      "outputs": []
    },
    {
      "cell_type": "code",
      "metadata": {
        "pycharm": {
          "name": "#%%\n"
        },
        "id": "Lz8S4p7IA3bq",
        "colab": {
          "base_uri": "https://localhost:8080/",
          "height": 300
        },
        "outputId": "18898324-686e-4bfc-d13d-0529b2ec0fc4"
      },
      "source": [
        "cc = np.sqrt(5) / 4\n",
        "a = 1/4\n",
        "\n",
        "def phi(j, x):\n",
        "  return np.exp(-(cc - a) * x**2) * H(j, np.sqrt(2 * cc) * x)\n",
        "\n",
        "color = [\"b\", \"g\", \"r\", \"k\"]\n",
        "p = [[] for _ in range(4)]\n",
        "x = np.linspace(-2, 2, 100)\n",
        "for i in range(4):\n",
        "  for k in x:\n",
        "    p[i].append(phi(i, k))\n",
        "  plt.plot(x, p[i], c = color[i], label = \"j = %d\"%i)\n",
        "plt.ylim(-2, 8)\n",
        "plt.ylabel(\"phi\")    \n",
        "plt.title(\"Characteristic function of Gauss Kernel\")"
      ],
      "execution_count": null,
      "outputs": [
        {
          "output_type": "execute_result",
          "data": {
            "text/plain": [
              "Text(0.5, 1.0, 'Characteristic function of Gauss Kernel')"
            ]
          },
          "metadata": {},
          "execution_count": 3
        },
        {
          "output_type": "display_data",
          "data": {
            "image/png": "[encoded data removed]",
            "text/plain": [
              "<Figure size 432x288 with 1 Axes>"
            ]
          },
          "metadata": {
            "needs_background": "light"
          }
        }
      ]
    },
    {
      "cell_type": "markdown",
      "metadata": {
        "collapsed": false,
        "id": "8bBhliXsA3br"
      },
      "source": [
        "問題　42"
      ]
    },
    {
      "cell_type": "code",
      "metadata": {
        "pycharm": {
          "name": "#%%\n"
        },
        "id": "1AupAFBvA3br"
      },
      "source": [
        "K = np.zeros((m, m))\n",
        "for i in range(m):\n",
        "    if i % 50 == 0:\n",
        "        print(\"i\", i)\n",
        "    for j in range(m):\n",
        "        K[i, j] = k(x[i], x[j])\n",
        "values, vectors = np.linalg.eig(K)\n",
        "lam = values / m\n",
        "alpha = np.zeros((m, m))\n",
        "for i in range(m):\n",
        "    alpha[:, i] = vectors[:, i] * np.sqrt(m) / (values[i] + 10e-16)\n",
        "\n",
        "#graph\n",
        "\n",
        "def F(y, i):\n",
        "    S = 0\n",
        "    for j in range(m):\n",
        "        S = S + alpha[j, i] * k(x[j], y)\n",
        "        return S\n"
      ],
      "execution_count": null,
      "outputs": []
    }
  ]
}