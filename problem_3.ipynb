{
  "nbformat": 4,
  "nbformat_minor": 0,
  "metadata": {
    "kernelspec": {
      "name": "pycharm-1b16585a",
      "language": "python",
      "display_name": "PyCharm (daikin-DML)"
    },
    "language_info": {
      "codemirror_mode": {
        "name": "ipython",
        "version": 2
      },
      "file_extension": ".py",
      "mimetype": "text/x-python",
      "name": "python",
      "nbconvert_exporter": "python",
      "pygments_lexer": "ipython2",
      "version": "2.7.6"
    },
    "colab": {
      "name": "problem_3.ipynb",
      "provenance": [],
      "include_colab_link": true
    }
  },
  "cells": [
    {
      "cell_type": "markdown",
      "metadata": {
        "id": "view-in-github",
        "colab_type": "text"
      },
      "source": [
        "<a href=\"https://colab.research.google.com/github/SkyJoyTianle/python/blob/master/problem_3.ipynb\" target=\"_parent\"><img src=\"https://colab.research.google.com/assets/colab-badge.svg\" alt=\"Open In Colab\"/></a>"
      ]
    },
    {
      "cell_type": "markdown",
      "metadata": {
        "collapsed": true,
        "pycharm": {
          "name": "#%% md\n"
        },
        "id": "08B5sUFI-WJa"
      },
      "source": [
        "## 第一章　問題31～45"
      ]
    },
    {
      "cell_type": "code",
      "metadata": {
        "id": "3Y-jHexO-fOe"
      },
      "source": [
        ""
      ],
      "execution_count": null,
      "outputs": []
    },
    {
      "cell_type": "code",
      "metadata": {
        "pycharm": {
          "name": "#%%\n"
        },
        "id": "czmrajWx-WJb"
      },
      "source": [
        "import numpy as np\n",
        "import matplotlib.pyplot as plt\n",
        "from matplotlib import style\n",
        "style.use(\"seaborn-ticks\")"
      ],
      "execution_count": null,
      "outputs": []
    },
    {
      "cell_type": "markdown",
      "metadata": {
        "collapsed": false,
        "pycharm": {
          "name": "#%%　md\n"
        },
        "id": "SZcX-L3E-WJc"
      },
      "source": [
        "問題　38"
      ]
    },
    {
      "cell_type": "code",
      "metadata": {
        "pycharm": {
          "name": "#%%\n"
        },
        "id": "70DGX07h-WJc"
      },
      "source": [
        "def H(j, x):\n",
        "    if j == 0:\n",
        "        return 1\n",
        "    elif j == 1:\n",
        "        return 2 * x\n",
        "    elif j == 2:\n",
        "        return -2 + 4 * x**2\n",
        "    else:\n",
        "        return 4 * x - 8 * x**3"
      ],
      "execution_count": null,
      "outputs": []
    },
    {
      "cell_type": "code",
      "metadata": {
        "pycharm": {
          "name": "#%%\n"
        },
        "id": "FQnxN_iG-WJc",
        "outputId": "d223ceb9-3e99-4bd5-d70a-94b808b7d2c2"
      },
      "source": [
        "cc = np.sqrt(5) / 4\n",
        "a = 1/4\n",
        "\n",
        "def phi(j, x):\n",
        "    return np.exp(-(cc - a) * x**2) * H(j, np.sqrt(2 * cc) * x)\n",
        "\n",
        "color = [\"b\", \"g\", \"r\", \"k\"]\n",
        "\n",
        "x = np.linspace(-2, 2, 100)\n",
        "plt.plot(x, phi(0, x), c = color[0], label = \"j = 0\")\n",
        "plt.ylim(-2, 8)\n",
        "plt.ylabel(\"phi\")\n",
        "for i in range(0, 3):\n",
        "    plt.plot(x, phi(i, x), c = color[i + 1], label = \"j = %d\"%i)\n",
        "plt.title(\"Characteristic function of Gauss Kernel\")"
      ],
      "execution_count": null,
      "outputs": [
        {
          "data": {
            "text/plain": "Text(0.5, 1.0, 'Characteristic function of Gauss Kernel')"
          },
          "execution_count": 8,
          "metadata": {},
          "output_type": "execute_result"
        },
        {
          "data": {
            "text/plain": "<Figure size 432x288 with 1 Axes>",
            "image/png": "[encoded data removed]"
          },
          "metadata": {},
          "output_type": "display_data"
        }
      ]
    },
    {
      "cell_type": "markdown",
      "metadata": {
        "collapsed": false,
        "id": "0OBjtpqQ-WJd"
      },
      "source": [
        "問題　42"
      ]
    },
    {
      "cell_type": "code",
      "metadata": {
        "pycharm": {
          "name": "#%%\n"
        },
        "id": "GSRnJ_dy-WJd"
      },
      "source": [
        "K = np.zeros((m, m))\n",
        "for i in range(m):\n",
        "    if i % 50 == 0:\n",
        "        print(\"i\", i)\n",
        "    for j in range(m):\n",
        "        K[i, j] = k(x[i], x[j])\n",
        "    values, vectors = np.linalg.eig(K)\n",
        "    lam = values / m\n",
        "    alpha = np.zeros((m, m))\n",
        "    for i in range(m):\n",
        "        alpha[:, i] = vectors[:, i] * np.sqrt(m) / (values[i] + 10e-16)\n",
        "\n",
        "#graph\n",
        "\n",
        "def F(y, i):\n",
        "    S = 0\n",
        "    for j in range(m):\n",
        "        S = S + alpha[j, i] * k(x[j], y)\n",
        "        return S\n"
      ],
      "execution_count": null,
      "outputs": []
    }
  ]
}