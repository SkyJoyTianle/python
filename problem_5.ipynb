{
  "nbformat": 4,
  "nbformat_minor": 0,
  "metadata": {
    "kernelspec": {
      "name": "pycharm-1b16585a",
      "language": "python",
      "display_name": "PyCharm (daikin-DML)"
    },
    "language_info": {
      "codemirror_mode": {
        "name": "ipython",
        "version": 2
      },
      "file_extension": ".py",
      "mimetype": "text/x-python",
      "name": "python",
      "nbconvert_exporter": "python",
      "pygments_lexer": "ipython2",
      "version": "2.7.6"
    },
    "colab": {
      "name": "problem_5.ipynb",
      "provenance": [],
      "include_colab_link": true
    }
  },
  "cells": [
    {
      "cell_type": "markdown",
      "metadata": {
        "id": "view-in-github",
        "colab_type": "text"
      },
      "source": [
        "<a href=\"https://colab.research.google.com/github/SkyJoyTianle/python/blob/master/problem_5.ipynb\" target=\"_parent\"><img src=\"https://colab.research.google.com/assets/colab-badge.svg\" alt=\"Open In Colab\"/></a>"
      ]
    },
    {
      "cell_type": "markdown",
      "metadata": {
        "collapsed": true,
        "pycharm": {
          "name": "#%% md\n"
        },
        "id": "Pwsagdpq-VKk"
      },
      "source": [
        "## 第五章　問題 65~83"
      ]
    },
    {
      "cell_type": "code",
      "metadata": {
        "pycharm": {
          "name": "#%%\n"
        },
        "id": "uUxUyDjb-VKm"
      },
      "source": [
        "import numpy as np\n",
        "from scipy.stats import kde\n",
        "import itertools\n",
        "import math\n",
        "import matplotlib.pyplot as plt\n",
        "from matplotlib import style\n",
        "style.use(\"seaborn-ticks\")"
      ],
      "execution_count": null,
      "outputs": []
    },
    {
      "cell_type": "markdown",
      "metadata": {
        "collapsed": false,
        "pycharm": {
          "name": "#%% md\n"
        },
        "id": "3EEpGiGz-VKn"
      },
      "source": [
        "# 問題 76"
      ]
    },
    {
      "cell_type": "code",
      "metadata": {
        "pycharm": {
          "name": "#%%\n"
        },
        "id": "zGi6gJCY-VKo"
      },
      "source": [
        "def cc(x, y):\n",
        "    return np.sum(np.dot(x.T, y)) / len(x)\n",
        "\n",
        "def f(u, v):\n",
        "    return u - cc(u, v)/cc(v, v) * v"
      ],
      "execution_count": null,
      "outputs": []
    },
    {
      "cell_type": "code",
      "metadata": {
        "pycharm": {
          "name": "#%%\n"
        },
        "id": "qiE2tX8P-VKo"
      },
      "source": [
        "#Data generation\n",
        "n = 30\n",
        "x = np.random.randn(n)**2-np.random.randn(n)**2\n",
        "y = 2 * x + np.random.randn(n)**2 - np.random.randn(n)**2\n",
        "z = x + y +np.random.randn(n)**2 - np.random.randn(n)**2\n",
        "x = x - np.mean(x)\n",
        "y = y - np.mean(y)\n",
        "z = z - np.mean(z)\n",
        "\n",
        "# top\n",
        "def cc(x, y):\n",
        "    return np.sum(np.dot(x.T, y)/len(x))\n",
        "\n",
        "def f(u, v):\n",
        "    return u - cc(u, v)/cc(v, v) * v\n",
        "\n",
        "x_y = f(x, y); y_z = f(y, z); z_x = f(z, x)\n",
        "x_z = f(x, z); z_y = f(z, y); y_x = f(y, x)\n",
        "\n",
        "v1 = HSIC_2(x, y_x, z_x, k_x, k_y, k_z)\n",
        "v2 = HSIC_2(y, z_y, x_y, k_y, k_z, k_x)\n",
        "v3 = HSIC_2(z, x_z, y_z, k_z, k_x, k_y)\n",
        "\n",
        "if v1 < v2:\n",
        "    if v1 < v3:\n",
        "        top = 1\n",
        "    else:\n",
        "        top = 3\n",
        "else:\n",
        "    if v2 < v3:\n",
        "        top = 2\n",
        "    else:\n",
        "        top = 3\n",
        "\n",
        "#bottom\n",
        "x_yz = f(x_y, z_y)\n",
        "y_zx = f(y_z, x_z)\n",
        "z_xy = f(z_x, y_x)\n",
        "\n",
        "if top == 1:\n",
        "    v1 = HSIC_1(y_x, z_xy, k_y, k_z)\n",
        "    v2 = HSIC_1(z_x, y_zx, k_z, k_y)\n",
        "    if v1 < v2:\n",
        "        middle = 2\n",
        "        bottom = 3\n",
        "    else:\n",
        "        middle = 3\n",
        "        bottom = 2\n",
        "if top == 2:\n",
        "    v1 = HSIC_1(z_y, x_yz, k_y, k_z)\n",
        "    v2 = HSIC_1(x_y, z_xy, k_z, k_y)\n",
        "    if v1 < v2:\n",
        "        middle = 3\n",
        "        bottom = 1\n",
        "    else:\n",
        "        middle = 1\n",
        "        bottom = 3\n",
        "\n",
        "if top == 3:\n",
        "    v1 = HSIC_1(z_y, x_yz, k_z, k_x)\n",
        "    v2 = HSIC_1(x_y, z_xy, k_x, k_z)\n",
        "    if v1 < v2:\n",
        "        middle = 1\n",
        "        bottom = 2\n",
        "    else:\n",
        "        middle = 2\n",
        "        bottom = 1\n",
        "#result\n",
        "print(\"top = \", top)\n",
        "print(\"middle = \", middle)\n",
        "print(\"bottom = \", bottom)"
      ],
      "execution_count": null,
      "outputs": []
    },
    {
      "cell_type": "markdown",
      "metadata": {
        "collapsed": false,
        "id": "PLkYtF3w-VKp"
      },
      "source": [
        "# 問題 77"
      ]
    },
    {
      "cell_type": "code",
      "metadata": {
        "pycharm": {
          "name": "#%%\n"
        },
        "id": "InzjWmPm-VKp"
      },
      "source": [
        "# Data generation\n",
        "x = np.random.randn(n)\n",
        "y = np.random.randn(n)\n",
        "u = HSIC_1(x, y, k_x, k_y)\n",
        "\n",
        "m = 100\n",
        "w = []\n",
        "for i in range(m):\n",
        "    x = x[np.random.choice(n, n, replace = False)]\n",
        "    w.append(HSIC_1(x, y, k_x, k_y))\n",
        "\n",
        "v = np.quantile(w, 0.95)\n",
        "\n",
        "\n",
        "x = np.linspace(min(min(w), u, v), max(max(w), u, v), 200)\n",
        "\n",
        "density = kde.gaussian_kde(w)\n",
        "plt.plot(x, density(x))\n",
        "\n",
        "plt.axvline(x = v, c = \"r\", linestyle = \"--\")\n",
        "plt.axvline(x = u, c = \"b\")\n"
      ],
      "execution_count": null,
      "outputs": []
    }
  ]
}