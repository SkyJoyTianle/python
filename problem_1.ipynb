{
  "nbformat": 4,
  "nbformat_minor": 0,
  "metadata": {
    "kernelspec": {
      "name": "pycharm-1b16585a",
      "language": "python",
      "display_name": "PyCharm (daikin-DML)"
    },
    "language_info": {
      "codemirror_mode": {
        "name": "ipython",
        "version": 2
      },
      "file_extension": ".py",
      "mimetype": "text/x-python",
      "name": "python",
      "nbconvert_exporter": "python",
      "pygments_lexer": "ipython2",
      "version": "2.7.6"
    },
    "colab": {
      "name": "problem_1.ipynb",
      "provenance": [],
      "include_colab_link": true
    }
  },
  "cells": [
    {
      "cell_type": "markdown",
      "metadata": {
        "id": "view-in-github",
        "colab_type": "text"
      },
      "source": [
        "<a href=\"https://colab.research.google.com/github/SkyJoyTianle/python/blob/master/problem_1.ipynb\" target=\"_parent\"><img src=\"https://colab.research.google.com/assets/colab-badge.svg\" alt=\"Open In Colab\"/></a>"
      ]
    },
    {
      "cell_type": "markdown",
      "metadata": {
        "collapsed": true,
        "pycharm": {
          "name": "#%% md\n"
        },
        "id": "D_hulKOt-XGN"
      },
      "source": [
        "## 第一章　問題１～１５"
      ]
    },
    {
      "cell_type": "markdown",
      "metadata": {
        "collapsed": false,
        "pycharm": {
          "name": "#%%　md\n"
        },
        "id": "LsP-Dpf8-XGO"
      },
      "source": [
        "問題　2"
      ]
    },
    {
      "cell_type": "code",
      "metadata": {
        "pycharm": {
          "name": "#%%\n"
        },
        "id": "v7rayiyB-XGP"
      },
      "source": [
        "def k(x, y, lam):\n",
        "    return D(np.abs((x - y) / lam))"
      ],
      "execution_count": null,
      "outputs": []
    },
    {
      "cell_type": "code",
      "metadata": {
        "pycharm": {
          "name": "#%%\n"
        },
        "id": "n0-cbCFr-XGP"
      },
      "source": [
        "import numpy as np\n",
        "import matplotlib.pyplot as plt\n",
        "from matplotlib import style\n",
        "style.use(\"seaborn-ticks\")\n",
        "\n",
        "n = 250\n",
        "x = 2 * np.random.normal(size = n)\n",
        "y = np.sin(2 * np.pi * x) + np.random.normal(size = n) / 4\n",
        "\n",
        "\n",
        "plt.figure(num=1, figsize=(15, 8),dpi=80)\n",
        "plt.xlim(-3, 3); plt.ylim(-2, 3)\n",
        "plt.xticks(fontsize = 14); plt.yticks(fontsize = 14)\n",
        "\n",
        "plt.scatter(x, y, facecolors='none', edgecolors = \"k\", marker = \"o\")\n",
        "\n",
        "xx = np.arange(-3, 3, 0.1)\n",
        "yy = [[] for _ in range(3)]\n",
        "lam = [0.05, 0.35, 0.50]\n",
        "color = [\"g\", \"b\", \"r\"]\n",
        "for i in range(3):\n",
        "    for zz in xx:\n",
        "        yy[i].append(f(zz, lam[i]))\n",
        "    plt.plot(xx, yy[i], c = color[i], label = lam[i])\n",
        "\n",
        "plt.legend(loc = \"upper left\", frameon = True, prop={'size':14})\n",
        "plt.title(\"Nadaraya-Watson Estimator\", fontsize = 20)"
      ],
      "execution_count": null,
      "outputs": []
    },
    {
      "cell_type": "markdown",
      "metadata": {
        "collapsed": false,
        "id": "pjcRYUas-XGP"
      },
      "source": [
        "問題　8"
      ]
    },
    {
      "cell_type": "code",
      "metadata": {
        "pycharm": {
          "name": "#%%\n"
        },
        "id": "ZQPE3f52-XGQ"
      },
      "source": [
        "def K(x, y, sigma2):\n",
        "    return np.exp(-np.linalg.norm(x - y)**2/2/sigma2)\n",
        "\n",
        "n = 100\n",
        "x = 2 * np.random.normal(size = n)\n",
        "y = np.sin(2 * np.pi * x) + np.random.normal(size = n) / 4\n",
        "\n",
        "plt.figure(num=1, figsize=(15, 8),dpi=80)\n",
        "plt.scatter(x, y, facecolors='none', edgecolors = \"k\", marker = \"o\")\n",
        "plt.xlim(-3, 3)\n",
        "plt.ylim(-2, 3)\n",
        "plt.xticks(fontsize = 14); plt.yticks(fontsize = 14)\n",
        "\n",
        "xx = np.arange(-3, 3, 0.1)\n",
        "yy = [[] for _ in range(2)]\n",
        "sigma2 = [0.001, 0.01]\n",
        "color = [\"g\", \"b\"]\n",
        "\n",
        "for i in range(2):\n",
        "    for zz in xx:\n",
        "        yy[i].append(F(zz, sigma2[i]))\n",
        "    plt.plot(xx, yy[i], c = color[i], label = sigma2[i])\n",
        "plt.legend(loc = \"upper left\", frameon = True, prop={'size':20})\n",
        "plt.title(\"Nadaraya-Watson Estimator\", fontsize = 20)"
      ],
      "execution_count": null,
      "outputs": []
    },
    {
      "cell_type": "markdown",
      "metadata": {
        "collapsed": false,
        "id": "9yjJbUM5-XGQ"
      },
      "source": [
        "問題　12"
      ]
    },
    {
      "cell_type": "code",
      "metadata": {
        "pycharm": {
          "name": "#%%\n"
        },
        "id": "GBEnPL4m-XGQ"
      },
      "source": [
        "def string_kernel(x, y):\n",
        "    m, n = len(x), len(y)\n",
        "    S = 0\n",
        "    for i in range(m):\n",
        "        for j in range(i, m):\n",
        "            for k in range(n):\n",
        "                if x[(i-1):j] == y[(k-1):(k+j-i)]:\n",
        "                    S = S + 1\n",
        "    return S"
      ],
      "execution_count": null,
      "outputs": []
    },
    {
      "cell_type": "raw",
      "metadata": {
        "collapsed": false,
        "id": "2xUwb9xf-XGR"
      },
      "source": [
        "\n",
        "問題　15\n"
      ]
    },
    {
      "cell_type": "code",
      "metadata": {
        "pycharm": {
          "name": "#%%\n"
        },
        "id": "3jlM3b6K-XGR"
      },
      "source": [
        "def k(s, p):\n",
        "    return prob(s, p)/ len(node)\n",
        "\n",
        "def prob(s, p):\n",
        "    if len(node[s[0]]) == 0:\n",
        "        return 0\n",
        "    if len(s) == 1:\n",
        "        return p\n",
        "    m = len(s)\n",
        "    S = (1 - p) / len(node[s[0]]) * prob(s[1:m], p)\n",
        "    return S\n"
      ],
      "execution_count": null,
      "outputs": []
    }
  ]
}