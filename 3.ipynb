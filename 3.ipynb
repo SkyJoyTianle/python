{
  "nbformat": 4,
  "nbformat_minor": 0,
  "metadata": {
    "kernelspec": {
      "name": "pycharm-1b16585a",
      "language": "python",
      "display_name": "PyCharm (daikin-DML)"
    },
    "language_info": {
      "codemirror_mode": {
        "name": "ipython",
        "version": 2
      },
      "file_extension": ".py",
      "mimetype": "text/x-python",
      "name": "python",
      "nbconvert_exporter": "python",
      "pygments_lexer": "ipython2",
      "version": "2.7.6"
    },
    "colab": {
      "name": "3.ipynb",
      "provenance": [],
      "include_colab_link": true
    }
  },
  "cells": [
    {
      "cell_type": "markdown",
      "metadata": {
        "id": "view-in-github",
        "colab_type": "text"
      },
      "source": [
        "<a href=\"https://colab.research.google.com/github/SkyJoyTianle/python/blob/master/3.ipynb\" target=\"_parent\"><img src=\"https://colab.research.google.com/assets/colab-badge.svg\" alt=\"Open In Colab\"/></a>"
      ]
    },
    {
      "cell_type": "markdown",
      "metadata": {
        "collapsed": true,
        "pycharm": {
          "name": "#%% md\n"
        },
        "id": "XYVdIqoE_DGv"
      },
      "source": [
        "## 第三章\n"
      ]
    },
    {
      "cell_type": "markdown",
      "metadata": {
        "collapsed": false,
        "id": "OnMNRjiJ_DGx"
      },
      "source": [
        "例　59"
      ]
    },
    {
      "cell_type": "code",
      "metadata": {
        "pycharm": {
          "name": "#%%\n"
        },
        "id": "86Apg_2O_DGy"
      },
      "source": [
        "import numpy as np\n",
        "import matplotlib.pyplot as plt\n",
        "from matplotlib import style\n",
        "style.use(\"seaborn-ticks\")"
      ],
      "execution_count": null,
      "outputs": []
    },
    {
      "cell_type": "code",
      "metadata": {
        "pycharm": {
          "name": "#%%\n"
        },
        "id": "c7RWqoDL_DGz"
      },
      "source": [
        "def Hermite(j):\n",
        "    if j == 0:\n",
        "        return 1\n",
        "    a = [0] * (j + 2)\n",
        "    b = [0] * (j + 2)\n",
        "    a[0] = 1\n",
        "    for i in range(j):\n",
        "        print(\"i\",i)\n",
        "        b[0] = -a[1]\n",
        "        for k in range(i + 1):\n",
        "            print(\"k\",k)\n",
        "            b[k + 1] = 2 * a[k] - (k + 1) * a[k + 2]\n",
        "            a = b\n",
        "    return b[:(j+1)]"
      ],
      "execution_count": null,
      "outputs": []
    },
    {
      "cell_type": "code",
      "metadata": {
        "pycharm": {
          "name": "#%%\n"
        },
        "id": "MYpQGKxI_DG0",
        "outputId": "22899faf-91f3-4371-bc05-57bef022badc"
      },
      "source": [
        "Hermite(2)"
      ],
      "execution_count": null,
      "outputs": [
        {
          "name": "stdout",
          "output_type": "stream",
          "text": [
            "i 0\n",
            "k 0\n",
            "i 1\n",
            "k 0\n",
            "k 1\n"
          ]
        },
        {
          "data": {
            "text/plain": "[-2, -4, -8]"
          },
          "execution_count": 3,
          "metadata": {},
          "output_type": "execute_result"
        }
      ]
    },
    {
      "cell_type": "code",
      "metadata": {
        "pycharm": {
          "name": "#%%\n"
        },
        "id": "NFIeMaBS_DG1",
        "outputId": "9388531a-181d-49a3-ad83-ef6230e77273"
      },
      "source": [
        "for i in range(1):\n",
        "    print(i)"
      ],
      "execution_count": null,
      "outputs": [
        {
          "name": "stdout",
          "output_type": "stream",
          "text": [
            "0\n"
          ]
        }
      ]
    },
    {
      "cell_type": "code",
      "metadata": {
        "pycharm": {
          "name": "#%%\n"
        },
        "id": "UNJKZ1d3_DG1",
        "outputId": "f0a1882d-c273-466f-8abc-2cd10834e82e"
      },
      "source": [
        "Hermite(3)"
      ],
      "execution_count": null,
      "outputs": [
        {
          "name": "stdout",
          "output_type": "stream",
          "text": [
            "i 0\n",
            "k 0\n",
            "i 1\n",
            "k 0\n",
            "k 1\n",
            "i 2\n",
            "k 0\n",
            "k 1\n",
            "k 2\n"
          ]
        },
        {
          "data": {
            "text/plain": "[4, 16, 32, 64]"
          },
          "execution_count": 5,
          "metadata": {},
          "output_type": "execute_result"
        }
      ]
    },
    {
      "cell_type": "code",
      "metadata": {
        "pycharm": {
          "name": "#%%\n"
        },
        "id": "rOCRKKWD_DG2",
        "outputId": "273b24dd-3afa-444c-abe4-d9f0c64bc9a8"
      },
      "source": [
        "Hermite(4)"
      ],
      "execution_count": null,
      "outputs": [
        {
          "name": "stdout",
          "output_type": "stream",
          "text": [
            "i 0\n",
            "k 0\n",
            "i 1\n",
            "k 0\n",
            "k 1\n",
            "i 2\n",
            "k 0\n",
            "k 1\n",
            "k 2\n",
            "i 3\n",
            "k 0\n",
            "k 1\n",
            "k 2\n",
            "k 3\n"
          ]
        },
        {
          "data": {
            "text/plain": "[-16, -64, -256, -512, -1024]"
          },
          "execution_count": 6,
          "metadata": {},
          "output_type": "execute_result"
        }
      ]
    },
    {
      "cell_type": "code",
      "metadata": {
        "pycharm": {
          "name": "#%%\n"
        },
        "id": "f-5IvSx3_DG3"
      },
      "source": [
        "def H(j, x):\n",
        "    coef = Hermite(j)\n",
        "    print(coef)\n",
        "    S = 0\n",
        "    for i in range(j + 1):\n",
        "        S = S + coef[i] * (x**i)\n",
        "        return S"
      ],
      "execution_count": null,
      "outputs": []
    },
    {
      "cell_type": "code",
      "metadata": {
        "pycharm": {
          "name": "#%%\n"
        },
        "id": "yf_aIzF__DG4",
        "outputId": "19c51608-5452-475e-8b06-c09af089de3d"
      },
      "source": [
        "cc = np.sqrt(5) / 4\n",
        "a = 1/4\n",
        "\n",
        "def phi(j, x):\n",
        "    return np.exp(-(cc - a) * x**2) * H(j, np.sqrt(2 * cc) * x)\n",
        "\n",
        "color = [\"b\", \"g\", \"r\", \"k\"]\n",
        "\n",
        "x = np.linspace(-2, 2, 100)\n",
        "plt.plot(x, phi(0, x), c = color[0], label = \"j = 0\")\n",
        "plt.ylim(-2, 8)\n",
        "plt.ylabel(\"phi\")\n",
        "for i in range(0, 3):\n",
        "    plt.plot(x, phi(i, x), c = color[i + 1], label = \"j = %d\"%i)\n",
        "plt.title(\"Characteristic function of Gauss Kernel\")"
      ],
      "execution_count": null,
      "outputs": [
        {
          "name": "stdout",
          "output_type": "stream",
          "text": [
            "1\n"
          ]
        },
        {
          "ename": "TypeError",
          "evalue": "'int' object is not subscriptable",
          "output_type": "error",
          "traceback": [
            "\u001b[1;31m---------------------------------------------------------------------------\u001b[0m",
            "\u001b[1;31mTypeError\u001b[0m                                 Traceback (most recent call last)",
            "\u001b[1;32m<ipython-input-8-9643d32afd91>\u001b[0m in \u001b[0;36m<module>\u001b[1;34m\u001b[0m\n\u001b[0;32m      8\u001b[0m \u001b[1;33m\u001b[0m\u001b[0m\n\u001b[0;32m      9\u001b[0m \u001b[0mx\u001b[0m \u001b[1;33m=\u001b[0m \u001b[0mnp\u001b[0m\u001b[1;33m.\u001b[0m\u001b[0mlinspace\u001b[0m\u001b[1;33m(\u001b[0m\u001b[1;33m-\u001b[0m\u001b[1;36m2\u001b[0m\u001b[1;33m,\u001b[0m \u001b[1;36m2\u001b[0m\u001b[1;33m,\u001b[0m \u001b[1;36m100\u001b[0m\u001b[1;33m)\u001b[0m\u001b[1;33m\u001b[0m\u001b[1;33m\u001b[0m\u001b[0m\n\u001b[1;32m---> 10\u001b[1;33m \u001b[0mplt\u001b[0m\u001b[1;33m.\u001b[0m\u001b[0mplot\u001b[0m\u001b[1;33m(\u001b[0m\u001b[0mx\u001b[0m\u001b[1;33m,\u001b[0m \u001b[0mphi\u001b[0m\u001b[1;33m(\u001b[0m\u001b[1;36m0\u001b[0m\u001b[1;33m,\u001b[0m \u001b[0mx\u001b[0m\u001b[1;33m)\u001b[0m\u001b[1;33m,\u001b[0m \u001b[0mc\u001b[0m \u001b[1;33m=\u001b[0m \u001b[0mcolor\u001b[0m\u001b[1;33m[\u001b[0m\u001b[1;36m0\u001b[0m\u001b[1;33m]\u001b[0m\u001b[1;33m,\u001b[0m \u001b[0mlabel\u001b[0m \u001b[1;33m=\u001b[0m \u001b[1;34m\"j = 0\"\u001b[0m\u001b[1;33m)\u001b[0m\u001b[1;33m\u001b[0m\u001b[1;33m\u001b[0m\u001b[0m\n\u001b[0m\u001b[0;32m     11\u001b[0m \u001b[0mplt\u001b[0m\u001b[1;33m.\u001b[0m\u001b[0mylim\u001b[0m\u001b[1;33m(\u001b[0m\u001b[1;33m-\u001b[0m\u001b[1;36m2\u001b[0m\u001b[1;33m,\u001b[0m \u001b[1;36m8\u001b[0m\u001b[1;33m)\u001b[0m\u001b[1;33m\u001b[0m\u001b[1;33m\u001b[0m\u001b[0m\n\u001b[0;32m     12\u001b[0m \u001b[0mplt\u001b[0m\u001b[1;33m.\u001b[0m\u001b[0mylabel\u001b[0m\u001b[1;33m(\u001b[0m\u001b[1;34m\"phi\"\u001b[0m\u001b[1;33m)\u001b[0m\u001b[1;33m\u001b[0m\u001b[1;33m\u001b[0m\u001b[0m\n",
            "\u001b[1;32m<ipython-input-8-9643d32afd91>\u001b[0m in \u001b[0;36mphi\u001b[1;34m(j, x)\u001b[0m\n\u001b[0;32m      3\u001b[0m \u001b[1;33m\u001b[0m\u001b[0m\n\u001b[0;32m      4\u001b[0m \u001b[1;32mdef\u001b[0m \u001b[0mphi\u001b[0m\u001b[1;33m(\u001b[0m\u001b[0mj\u001b[0m\u001b[1;33m,\u001b[0m \u001b[0mx\u001b[0m\u001b[1;33m)\u001b[0m\u001b[1;33m:\u001b[0m\u001b[1;33m\u001b[0m\u001b[1;33m\u001b[0m\u001b[0m\n\u001b[1;32m----> 5\u001b[1;33m     \u001b[1;32mreturn\u001b[0m \u001b[0mnp\u001b[0m\u001b[1;33m.\u001b[0m\u001b[0mexp\u001b[0m\u001b[1;33m(\u001b[0m\u001b[1;33m-\u001b[0m\u001b[1;33m(\u001b[0m\u001b[0mcc\u001b[0m \u001b[1;33m-\u001b[0m \u001b[0ma\u001b[0m\u001b[1;33m)\u001b[0m \u001b[1;33m*\u001b[0m \u001b[0mx\u001b[0m\u001b[1;33m**\u001b[0m\u001b[1;36m2\u001b[0m\u001b[1;33m)\u001b[0m \u001b[1;33m*\u001b[0m \u001b[0mH\u001b[0m\u001b[1;33m(\u001b[0m\u001b[0mj\u001b[0m\u001b[1;33m,\u001b[0m \u001b[0mnp\u001b[0m\u001b[1;33m.\u001b[0m\u001b[0msqrt\u001b[0m\u001b[1;33m(\u001b[0m\u001b[1;36m2\u001b[0m \u001b[1;33m*\u001b[0m \u001b[0mcc\u001b[0m\u001b[1;33m)\u001b[0m \u001b[1;33m*\u001b[0m \u001b[0mx\u001b[0m\u001b[1;33m)\u001b[0m\u001b[1;33m\u001b[0m\u001b[1;33m\u001b[0m\u001b[0m\n\u001b[0m\u001b[0;32m      6\u001b[0m \u001b[1;33m\u001b[0m\u001b[0m\n\u001b[0;32m      7\u001b[0m \u001b[0mcolor\u001b[0m \u001b[1;33m=\u001b[0m \u001b[1;33m[\u001b[0m\u001b[1;34m\"b\"\u001b[0m\u001b[1;33m,\u001b[0m \u001b[1;34m\"g\"\u001b[0m\u001b[1;33m,\u001b[0m \u001b[1;34m\"r\"\u001b[0m\u001b[1;33m,\u001b[0m \u001b[1;34m\"k\"\u001b[0m\u001b[1;33m]\u001b[0m\u001b[1;33m\u001b[0m\u001b[1;33m\u001b[0m\u001b[0m\n",
            "\u001b[1;32m<ipython-input-7-29a09c424d13>\u001b[0m in \u001b[0;36mH\u001b[1;34m(j, x)\u001b[0m\n\u001b[0;32m      4\u001b[0m     \u001b[0mS\u001b[0m \u001b[1;33m=\u001b[0m \u001b[1;36m0\u001b[0m\u001b[1;33m\u001b[0m\u001b[1;33m\u001b[0m\u001b[0m\n\u001b[0;32m      5\u001b[0m     \u001b[1;32mfor\u001b[0m \u001b[0mi\u001b[0m \u001b[1;32min\u001b[0m \u001b[0mrange\u001b[0m\u001b[1;33m(\u001b[0m\u001b[0mj\u001b[0m \u001b[1;33m+\u001b[0m \u001b[1;36m1\u001b[0m\u001b[1;33m)\u001b[0m\u001b[1;33m:\u001b[0m\u001b[1;33m\u001b[0m\u001b[1;33m\u001b[0m\u001b[0m\n\u001b[1;32m----> 6\u001b[1;33m         \u001b[0mS\u001b[0m \u001b[1;33m=\u001b[0m \u001b[0mS\u001b[0m \u001b[1;33m+\u001b[0m \u001b[0mcoef\u001b[0m\u001b[1;33m[\u001b[0m\u001b[0mi\u001b[0m\u001b[1;33m]\u001b[0m \u001b[1;33m*\u001b[0m \u001b[1;33m(\u001b[0m\u001b[0mx\u001b[0m\u001b[1;33m**\u001b[0m\u001b[0mi\u001b[0m\u001b[1;33m)\u001b[0m\u001b[1;33m\u001b[0m\u001b[1;33m\u001b[0m\u001b[0m\n\u001b[0m\u001b[0;32m      7\u001b[0m         \u001b[1;32mreturn\u001b[0m \u001b[0mS\u001b[0m\u001b[1;33m\u001b[0m\u001b[1;33m\u001b[0m\u001b[0m\n\u001b[0;32m      8\u001b[0m \u001b[1;33m\u001b[0m\u001b[0m\n",
            "\u001b[1;31mTypeError\u001b[0m: 'int' object is not subscriptable"
          ]
        }
      ]
    },
    {
      "cell_type": "markdown",
      "metadata": {
        "collapsed": false,
        "id": "vT9Af_nF_DG4"
      },
      "source": [
        "例 62"
      ]
    },
    {
      "cell_type": "code",
      "metadata": {
        "pycharm": {
          "name": "#%%\n"
        },
        "id": "U9iHpiX9_DG5",
        "outputId": "b30a44f6-cf7b-475c-a1dc-ef28bc54d6ef"
      },
      "source": [
        "#Definition of kernel\n",
        "\n",
        "sigma = 1\n",
        "def k(x, y):\n",
        "    return np.exp(-(x - y)**2 / sigma**2)\n",
        "\n",
        "# generation of sample and matrix\n",
        "m = 300\n",
        "x = np.random.randn(m) - 2 * np.random.randn(m)**2 + 3 * np.random.randn(m)**3\n",
        "\n",
        "#eigenvalue and eigenvector\n",
        "K = np.zeros((m, m))\n",
        "for i in range(m):\n",
        "    if i % 50 == 0:\n",
        "        print(\"i\", i)\n",
        "    for j in range(m):\n",
        "        K[i, j] = k(x[i], x[j])\n",
        "    values, vectors = np.linalg.eig(K)\n",
        "    lam = values / m\n",
        "    alpha = np.zeros((m, m))\n",
        "    for i in range(m):\n",
        "        alpha[:, i] = vectors[:, i] * np.sqrt(m) / (values[i] + 10e-16)\n",
        "\n",
        "#graph\n",
        "\n",
        "def F(y, i):\n",
        "    S = 0\n",
        "    for j in range(m):\n",
        "        S = S + alpha[j, i] * k(x[j], y)\n",
        "        return S\n",
        "i = 1\n",
        "def G(y):\n",
        "    return F(y,i)\n",
        "\n",
        "w = np.linspace(-2, 2, 100)\n",
        "plt.plot(w, G(w))\n",
        "plt.title(\"Eigen Values and their Eigen Functions\")\n",
        "\n"
      ],
      "execution_count": null,
      "outputs": [
        {
          "name": "stdout",
          "output_type": "stream",
          "text": [
            "i 0\n",
            "i 50\n",
            "i 100\n",
            "i 150\n",
            "i 200\n",
            "i 250\n"
          ]
        },
        {
          "name": "stderr",
          "output_type": "stream",
          "text": [
            "<ipython-input-21-c90c573bc5e0>:22: ComplexWarning: Casting complex values to real discards the imaginary part\n",
            "  alpha[:, i] = vectors[:, i] * np.sqrt(m) / (values[i] + 10e-16)\n"
          ]
        },
        {
          "data": {
            "text/plain": "Text(0.5, 1.0, 'Eigen Values and their Eigen Functions')"
          },
          "execution_count": 21,
          "metadata": {},
          "output_type": "execute_result"
        },
        {
          "data": {
            "text/plain": "<Figure size 432x288 with 1 Axes>",
            "image/png": "[encoded data removed]"
          },
          "metadata": {},
          "output_type": "display_data"
        }
      ]
    }
  ]
}