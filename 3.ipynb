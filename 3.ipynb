{
  "nbformat": 4,
  "nbformat_minor": 0,
  "metadata": {
    "kernelspec": {
      "name": "pycharm-1b16585a",
      "language": "python",
      "display_name": "PyCharm (daikin-DML)"
    },
    "language_info": {
      "codemirror_mode": {
        "name": "ipython",
        "version": 2
      },
      "file_extension": ".py",
      "mimetype": "text/x-python",
      "name": "python",
      "nbconvert_exporter": "python",
      "pygments_lexer": "ipython2",
      "version": "2.7.6"
    },
    "colab": {
      "name": "3.ipynb",
      "provenance": [],
      "include_colab_link": true
    }
  },
  "cells": [
    {
      "cell_type": "markdown",
      "metadata": {
        "id": "view-in-github",
        "colab_type": "text"
      },
      "source": [
        "<a href=\"https://colab.research.google.com/github/SkyJoyTianle/python/blob/master/3.ipynb\" target=\"_parent\"><img src=\"https://colab.research.google.com/assets/colab-badge.svg\" alt=\"Open In Colab\"/></a>"
      ]
    },
    {
      "cell_type": "markdown",
      "metadata": {
        "collapsed": true,
        "pycharm": {
          "name": "#%% md\n"
        },
        "id": "MtcN0VgRO-LU"
      },
      "source": [
        "## 第三章\n"
      ]
    },
    {
      "cell_type": "markdown",
      "metadata": {
        "collapsed": false,
        "id": "AxlPrqsOO-LY"
      },
      "source": [
        "例　59"
      ]
    },
    {
      "cell_type": "code",
      "metadata": {
        "pycharm": {
          "name": "#%%\n"
        },
        "id": "yI7iqOBxO-LZ"
      },
      "source": [
        "import numpy as np\n",
        "import matplotlib.pyplot as plt\n",
        "from matplotlib import style\n",
        "style.use(\"seaborn-ticks\")"
      ],
      "execution_count": 1,
      "outputs": []
    },
    {
      "cell_type": "code",
      "metadata": {
        "pycharm": {
          "name": "#%%\n"
        },
        "id": "JOK6-oWPO-La"
      },
      "source": [
        "def Hermite(j):\n",
        "    if j == 0:\n",
        "      return [1]\n",
        "    a = [0] * (j + 2)\n",
        "    b = [0] * (j + 2)\n",
        "    a[0] = 1\n",
        "    for i in range(1, j + 1):\n",
        "      b[0] = -a[1]\n",
        "      for k in range(i + 1):\n",
        "        b[k] = 2 * a[k - 1] - (k + 1) * a[k + 1]\n",
        "      for h in range(j + 2):\n",
        "          a[h] = b[h]\n",
        "    return b[:(j+1)]"
      ],
      "execution_count": 2,
      "outputs": []
    },
    {
      "cell_type": "code",
      "metadata": {
        "pycharm": {
          "name": "#%%\n"
        },
        "colab": {
          "base_uri": "https://localhost:8080/"
        },
        "id": "B1gDS2N1O-La",
        "outputId": "191f51bf-111a-4caa-e9db-a2031deffad9"
      },
      "source": [
        "Hermite(2)"
      ],
      "execution_count": 3,
      "outputs": [
        {
          "output_type": "execute_result",
          "data": {
            "text/plain": [
              "[-2, 0, 4]"
            ]
          },
          "metadata": {},
          "execution_count": 3
        }
      ]
    },
    {
      "cell_type": "code",
      "metadata": {
        "pycharm": {
          "name": "#%%\n"
        },
        "colab": {
          "base_uri": "https://localhost:8080/"
        },
        "id": "6y0RBrE1O-Lc",
        "outputId": "3bfced1c-44af-409a-e924-94f6404689c1"
      },
      "source": [
        "Hermite(3)"
      ],
      "execution_count": 4,
      "outputs": [
        {
          "output_type": "execute_result",
          "data": {
            "text/plain": [
              "[0, -12, 0, 8]"
            ]
          },
          "metadata": {},
          "execution_count": 4
        }
      ]
    },
    {
      "cell_type": "code",
      "metadata": {
        "pycharm": {
          "name": "#%%\n"
        },
        "colab": {
          "base_uri": "https://localhost:8080/"
        },
        "id": "FkeKof0aO-Lc",
        "outputId": "5a61f9ef-4f1e-4b8b-cd3e-257ec45dcd25"
      },
      "source": [
        "Hermite(4)"
      ],
      "execution_count": 5,
      "outputs": [
        {
          "output_type": "execute_result",
          "data": {
            "text/plain": [
              "[12, 0, -48, 0, 16]"
            ]
          },
          "metadata": {},
          "execution_count": 5
        }
      ]
    },
    {
      "cell_type": "code",
      "metadata": {
        "pycharm": {
          "name": "#%%\n"
        },
        "id": "COEGcf6SO-Ld"
      },
      "source": [
        "def H(j, x):\n",
        "    coef = Hermite(j)\n",
        "    S = 0\n",
        "    for i in range(j + 1):\n",
        "      S = S + np.array(coef[i]) * (x ** i)\n",
        "    return S"
      ],
      "execution_count": 6,
      "outputs": []
    },
    {
      "cell_type": "code",
      "metadata": {
        "pycharm": {
          "name": "#%%\n"
        },
        "colab": {
          "base_uri": "https://localhost:8080/",
          "height": 300
        },
        "id": "Y-CYTZTcO-Le",
        "outputId": "cdc35d90-0dc3-4157-ec7d-dd23605c3fff"
      },
      "source": [
        "cc = np.sqrt(5) / 4\n",
        "a = 1/4\n",
        "\n",
        "def phi(j, x):\n",
        "  return np.exp(-(cc - a) * x**2) * H(j, np.sqrt(2 * cc) * x)\n",
        "\n",
        "color = [\"b\", \"g\", \"r\", \"k\"]\n",
        "p = [[] for _ in range(4)]\n",
        "x = np.linspace(-2, 2, 100)\n",
        "for i in range(4):\n",
        "  for k in x:\n",
        "    p[i].append(phi(i, k))\n",
        "  plt.plot(x, p[i], c = color[i], label = \"j = %d\"%i)\n",
        "plt.ylim(-2, 8)\n",
        "plt.ylabel(\"phi\")    \n",
        "plt.title(\"Characteristic function of Gauss Kernel\")"
      ],
      "execution_count": 7,
      "outputs": [
        {
          "output_type": "execute_result",
          "data": {
            "text/plain": [
              "Text(0.5, 1.0, 'Characteristic function of Gauss Kernel')"
            ]
          },
          "metadata": {},
          "execution_count": 7
        },
        {
          "output_type": "display_data",
          "data": {
            "image/png": "[encoded data removed]",
            "text/plain": [
              "<Figure size 432x288 with 1 Axes>"
            ]
          },
          "metadata": {
            "needs_background": "light"
          }
        }
      ]
    },
    {
      "cell_type": "markdown",
      "metadata": {
        "collapsed": false,
        "id": "hgotK7QzO-Le"
      },
      "source": [
        "例 62"
      ]
    },
    {
      "cell_type": "code",
      "metadata": {
        "pycharm": {
          "name": "#%%\n"
        },
        "colab": {
          "base_uri": "https://localhost:8080/",
          "height": 317
        },
        "id": "mtCfjDedO-Lf",
        "outputId": "57a83c0e-8330-45a8-a0ba-101386db816c"
      },
      "source": [
        "#Definition of kernel\n",
        "\n",
        "sigma = 1\n",
        "def k(x, y):\n",
        "  return np.exp(-(x - y)**2 / sigma**2)\n",
        "\n",
        "# generation of sample and matrix\n",
        "m = 300\n",
        "x = np.random.randn(m) - 2 * np.random.randn(m)**2 + 3 * np.random.randn(m)**3\n",
        "\n",
        "#eigenvalue and eigenvector\n",
        "K = np.zeros((m, m))\n",
        "for i in range(m):\n",
        "    for j in range(m):\n",
        "        K[i, j] = k(x[i], x[j])\n",
        "values, vectors = np.linalg.eig(K)\n",
        "lam = values / m\n",
        "alpha = np.zeros((m, m))\n",
        "for i in range(m):\n",
        "    alpha[:, i] = vectors[i, :] * np.sqrt(m) / (values[i] + 10e-16)\n",
        "\n",
        "#graph\n",
        "\n",
        "def F(y, i):\n",
        "  S = 0\n",
        "  for j in range(m):\n",
        "      S = S + alpha[j, i] * k(x[j], y)\n",
        "  return S\n",
        "i = 1\n",
        "def G(y):\n",
        "    return F(y,i)\n",
        "\n",
        "w = np.linspace(-2, 2, 100)\n",
        "plt.plot(w, G(w))\n",
        "plt.title(\"Eigen Values and their Eigen Functions\")\n",
        "\n"
      ],
      "execution_count": 8,
      "outputs": [
        {
          "output_type": "stream",
          "name": "stderr",
          "text": [
            "/usr/local/lib/python3.7/dist-packages/ipykernel_launcher.py:20: ComplexWarning: Casting complex values to real discards the imaginary part\n"
          ]
        },
        {
          "output_type": "execute_result",
          "data": {
            "text/plain": [
              "Text(0.5, 1.0, 'Eigen Values and their Eigen Functions')"
            ]
          },
          "metadata": {},
          "execution_count": 8
        },
        {
          "output_type": "display_data",
          "data": {
            "image/png": "[encoded data removed]",
            "text/plain": [
              "<Figure size 432x288 with 1 Axes>"
            ]
          },
          "metadata": {
            "needs_background": "light"
          }
        }
      ]
    }
  ]
}